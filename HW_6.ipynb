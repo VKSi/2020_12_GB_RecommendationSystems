{
  "nbformat": 4,
  "nbformat_minor": 0,
  "metadata": {
    "kernelspec": {
      "display_name": "Python 3",
      "language": "python",
      "name": "python3"
    },
    "language_info": {
      "codemirror_mode": {
        "name": "ipython",
        "version": 3
      },
      "file_extension": ".py",
      "mimetype": "text/x-python",
      "name": "python",
      "nbconvert_exporter": "python",
      "pygments_lexer": "ipython3",
      "version": "3.6.5"
    },
    "colab": {
      "name": "hw_webinar_6.ipynb",
      "provenance": [],
      "collapsed_sections": [],
      "include_colab_link": true
    },
    "widgets": {
      "application/vnd.jupyter.widget-state+json": {
        "5450df9e85f8466ca24effa9be5991e9": {
          "model_module": "@jupyter-widgets/controls",
          "model_name": "HBoxModel",
          "state": {
            "_view_name": "HBoxView",
            "_dom_classes": [],
            "_model_name": "HBoxModel",
            "_view_module": "@jupyter-widgets/controls",
            "_model_module_version": "1.5.0",
            "_view_count": null,
            "_view_module_version": "1.5.0",
            "box_style": "",
            "layout": "IPY_MODEL_6f0bf1b60a234ccb96cc0d67a1104c82",
            "_model_module": "@jupyter-widgets/controls",
            "children": [
              "IPY_MODEL_a257f59c1fae4d51a7508d0334c7311f",
              "IPY_MODEL_901804883a1b49f8afe2f478d104cad2"
            ]
          },
          "model_module_version": "1.5.0"
        },
        "6f0bf1b60a234ccb96cc0d67a1104c82": {
          "model_module": "@jupyter-widgets/base",
          "model_name": "LayoutModel",
          "state": {
            "_view_name": "LayoutView",
            "grid_template_rows": null,
            "right": null,
            "justify_content": null,
            "_view_module": "@jupyter-widgets/base",
            "overflow": null,
            "_model_module_version": "1.2.0",
            "_view_count": null,
            "flex_flow": null,
            "width": null,
            "min_width": null,
            "border": null,
            "align_items": null,
            "bottom": null,
            "_model_module": "@jupyter-widgets/base",
            "top": null,
            "grid_column": null,
            "overflow_y": null,
            "overflow_x": null,
            "grid_auto_flow": null,
            "grid_area": null,
            "grid_template_columns": null,
            "flex": null,
            "_model_name": "LayoutModel",
            "justify_items": null,
            "grid_row": null,
            "max_height": null,
            "align_content": null,
            "visibility": null,
            "align_self": null,
            "height": null,
            "min_height": null,
            "padding": null,
            "grid_auto_rows": null,
            "grid_gap": null,
            "max_width": null,
            "order": null,
            "_view_module_version": "1.2.0",
            "grid_template_areas": null,
            "object_position": null,
            "object_fit": null,
            "grid_auto_columns": null,
            "margin": null,
            "display": null,
            "left": null
          },
          "model_module_version": "1.2.0"
        },
        "a257f59c1fae4d51a7508d0334c7311f": {
          "model_module": "@jupyter-widgets/controls",
          "model_name": "FloatProgressModel",
          "state": {
            "_view_name": "ProgressView",
            "style": "IPY_MODEL_091b873bb60c43848458394b02f4c3a3",
            "_dom_classes": [],
            "description": "100%",
            "_model_name": "FloatProgressModel",
            "bar_style": "success",
            "max": 15,
            "_view_module": "@jupyter-widgets/controls",
            "_model_module_version": "1.5.0",
            "value": 15,
            "_view_count": null,
            "_view_module_version": "1.5.0",
            "orientation": "horizontal",
            "min": 0,
            "description_tooltip": null,
            "_model_module": "@jupyter-widgets/controls",
            "layout": "IPY_MODEL_dd4ef68489c24e8f9921afef74d078e9"
          },
          "model_module_version": "1.5.0"
        },
        "901804883a1b49f8afe2f478d104cad2": {
          "model_module": "@jupyter-widgets/controls",
          "model_name": "HTMLModel",
          "state": {
            "_view_name": "HTMLView",
            "style": "IPY_MODEL_5976b52456ce4d61b67011e1f67bd0e0",
            "_dom_classes": [],
            "description": "",
            "_model_name": "HTMLModel",
            "placeholder": "​",
            "_view_module": "@jupyter-widgets/controls",
            "_model_module_version": "1.5.0",
            "value": " 15/15 [06:02&lt;00:00, 24.16s/it]",
            "_view_count": null,
            "_view_module_version": "1.5.0",
            "description_tooltip": null,
            "_model_module": "@jupyter-widgets/controls",
            "layout": "IPY_MODEL_0a8f9622f86748668a84ae3f7e4f8fb1"
          },
          "model_module_version": "1.5.0"
        },
        "091b873bb60c43848458394b02f4c3a3": {
          "model_module": "@jupyter-widgets/controls",
          "model_name": "ProgressStyleModel",
          "state": {
            "_view_name": "StyleView",
            "_model_name": "ProgressStyleModel",
            "description_width": "initial",
            "_view_module": "@jupyter-widgets/base",
            "_model_module_version": "1.5.0",
            "_view_count": null,
            "_view_module_version": "1.2.0",
            "bar_color": null,
            "_model_module": "@jupyter-widgets/controls"
          },
          "model_module_version": "1.5.0"
        },
        "dd4ef68489c24e8f9921afef74d078e9": {
          "model_module": "@jupyter-widgets/base",
          "model_name": "LayoutModel",
          "state": {
            "_view_name": "LayoutView",
            "grid_template_rows": null,
            "right": null,
            "justify_content": null,
            "_view_module": "@jupyter-widgets/base",
            "overflow": null,
            "_model_module_version": "1.2.0",
            "_view_count": null,
            "flex_flow": null,
            "width": null,
            "min_width": null,
            "border": null,
            "align_items": null,
            "bottom": null,
            "_model_module": "@jupyter-widgets/base",
            "top": null,
            "grid_column": null,
            "overflow_y": null,
            "overflow_x": null,
            "grid_auto_flow": null,
            "grid_area": null,
            "grid_template_columns": null,
            "flex": null,
            "_model_name": "LayoutModel",
            "justify_items": null,
            "grid_row": null,
            "max_height": null,
            "align_content": null,
            "visibility": null,
            "align_self": null,
            "height": null,
            "min_height": null,
            "padding": null,
            "grid_auto_rows": null,
            "grid_gap": null,
            "max_width": null,
            "order": null,
            "_view_module_version": "1.2.0",
            "grid_template_areas": null,
            "object_position": null,
            "object_fit": null,
            "grid_auto_columns": null,
            "margin": null,
            "display": null,
            "left": null
          },
          "model_module_version": "1.2.0"
        },
        "5976b52456ce4d61b67011e1f67bd0e0": {
          "model_module": "@jupyter-widgets/controls",
          "model_name": "DescriptionStyleModel",
          "state": {
            "_view_name": "StyleView",
            "_model_name": "DescriptionStyleModel",
            "description_width": "",
            "_view_module": "@jupyter-widgets/base",
            "_model_module_version": "1.5.0",
            "_view_count": null,
            "_view_module_version": "1.2.0",
            "_model_module": "@jupyter-widgets/controls"
          },
          "model_module_version": "1.5.0"
        },
        "0a8f9622f86748668a84ae3f7e4f8fb1": {
          "model_module": "@jupyter-widgets/base",
          "model_name": "LayoutModel",
          "state": {
            "_view_name": "LayoutView",
            "grid_template_rows": null,
            "right": null,
            "justify_content": null,
            "_view_module": "@jupyter-widgets/base",
            "overflow": null,
            "_model_module_version": "1.2.0",
            "_view_count": null,
            "flex_flow": null,
            "width": null,
            "min_width": null,
            "border": null,
            "align_items": null,
            "bottom": null,
            "_model_module": "@jupyter-widgets/base",
            "top": null,
            "grid_column": null,
            "overflow_y": null,
            "overflow_x": null,
            "grid_auto_flow": null,
            "grid_area": null,
            "grid_template_columns": null,
            "flex": null,
            "_model_name": "LayoutModel",
            "justify_items": null,
            "grid_row": null,
            "max_height": null,
            "align_content": null,
            "visibility": null,
            "align_self": null,
            "height": null,
            "min_height": null,
            "padding": null,
            "grid_auto_rows": null,
            "grid_gap": null,
            "max_width": null,
            "order": null,
            "_view_module_version": "1.2.0",
            "grid_template_areas": null,
            "object_position": null,
            "object_fit": null,
            "grid_auto_columns": null,
            "margin": null,
            "display": null,
            "left": null
          },
          "model_module_version": "1.2.0"
        },
        "5b93b72897934cf8b1799d63b4890395": {
          "model_module": "@jupyter-widgets/controls",
          "model_name": "HBoxModel",
          "state": {
            "_view_name": "HBoxView",
            "_dom_classes": [],
            "_model_name": "HBoxModel",
            "_view_module": "@jupyter-widgets/controls",
            "_model_module_version": "1.5.0",
            "_view_count": null,
            "_view_module_version": "1.5.0",
            "box_style": "",
            "layout": "IPY_MODEL_1f64086159b440bfb4afbf850d1765aa",
            "_model_module": "@jupyter-widgets/controls",
            "children": [
              "IPY_MODEL_9ebe358ebf2b4b5b8b9399f506c2a732",
              "IPY_MODEL_53776e3060f64e1596d5664797afab23"
            ]
          },
          "model_module_version": "1.5.0"
        },
        "1f64086159b440bfb4afbf850d1765aa": {
          "model_module": "@jupyter-widgets/base",
          "model_name": "LayoutModel",
          "state": {
            "_view_name": "LayoutView",
            "grid_template_rows": null,
            "right": null,
            "justify_content": null,
            "_view_module": "@jupyter-widgets/base",
            "overflow": null,
            "_model_module_version": "1.2.0",
            "_view_count": null,
            "flex_flow": null,
            "width": null,
            "min_width": null,
            "border": null,
            "align_items": null,
            "bottom": null,
            "_model_module": "@jupyter-widgets/base",
            "top": null,
            "grid_column": null,
            "overflow_y": null,
            "overflow_x": null,
            "grid_auto_flow": null,
            "grid_area": null,
            "grid_template_columns": null,
            "flex": null,
            "_model_name": "LayoutModel",
            "justify_items": null,
            "grid_row": null,
            "max_height": null,
            "align_content": null,
            "visibility": null,
            "align_self": null,
            "height": null,
            "min_height": null,
            "padding": null,
            "grid_auto_rows": null,
            "grid_gap": null,
            "max_width": null,
            "order": null,
            "_view_module_version": "1.2.0",
            "grid_template_areas": null,
            "object_position": null,
            "object_fit": null,
            "grid_auto_columns": null,
            "margin": null,
            "display": null,
            "left": null
          },
          "model_module_version": "1.2.0"
        },
        "9ebe358ebf2b4b5b8b9399f506c2a732": {
          "model_module": "@jupyter-widgets/controls",
          "model_name": "FloatProgressModel",
          "state": {
            "_view_name": "ProgressView",
            "style": "IPY_MODEL_7327e0b65dcf4925a743dddacde7d998",
            "_dom_classes": [],
            "description": "100%",
            "_model_name": "FloatProgressModel",
            "bar_style": "success",
            "max": 5001,
            "_view_module": "@jupyter-widgets/controls",
            "_model_module_version": "1.5.0",
            "value": 5001,
            "_view_count": null,
            "_view_module_version": "1.5.0",
            "orientation": "horizontal",
            "min": 0,
            "description_tooltip": null,
            "_model_module": "@jupyter-widgets/controls",
            "layout": "IPY_MODEL_de24c019dfc64ca1867d67658928c547"
          },
          "model_module_version": "1.5.0"
        },
        "53776e3060f64e1596d5664797afab23": {
          "model_module": "@jupyter-widgets/controls",
          "model_name": "HTMLModel",
          "state": {
            "_view_name": "HTMLView",
            "style": "IPY_MODEL_d4c9797aa7d441a28c2861e71aa4d210",
            "_dom_classes": [],
            "description": "",
            "_model_name": "HTMLModel",
            "placeholder": "​",
            "_view_module": "@jupyter-widgets/controls",
            "_model_module_version": "1.5.0",
            "value": " 5001/5001 [00:00&lt;00:00, 5383.01it/s]",
            "_view_count": null,
            "_view_module_version": "1.5.0",
            "description_tooltip": null,
            "_model_module": "@jupyter-widgets/controls",
            "layout": "IPY_MODEL_78b692da34c146e3acee4ab27f461a7b"
          },
          "model_module_version": "1.5.0"
        },
        "7327e0b65dcf4925a743dddacde7d998": {
          "model_module": "@jupyter-widgets/controls",
          "model_name": "ProgressStyleModel",
          "state": {
            "_view_name": "StyleView",
            "_model_name": "ProgressStyleModel",
            "description_width": "initial",
            "_view_module": "@jupyter-widgets/base",
            "_model_module_version": "1.5.0",
            "_view_count": null,
            "_view_module_version": "1.2.0",
            "bar_color": null,
            "_model_module": "@jupyter-widgets/controls"
          },
          "model_module_version": "1.5.0"
        },
        "de24c019dfc64ca1867d67658928c547": {
          "model_module": "@jupyter-widgets/base",
          "model_name": "LayoutModel",
          "state": {
            "_view_name": "LayoutView",
            "grid_template_rows": null,
            "right": null,
            "justify_content": null,
            "_view_module": "@jupyter-widgets/base",
            "overflow": null,
            "_model_module_version": "1.2.0",
            "_view_count": null,
            "flex_flow": null,
            "width": null,
            "min_width": null,
            "border": null,
            "align_items": null,
            "bottom": null,
            "_model_module": "@jupyter-widgets/base",
            "top": null,
            "grid_column": null,
            "overflow_y": null,
            "overflow_x": null,
            "grid_auto_flow": null,
            "grid_area": null,
            "grid_template_columns": null,
            "flex": null,
            "_model_name": "LayoutModel",
            "justify_items": null,
            "grid_row": null,
            "max_height": null,
            "align_content": null,
            "visibility": null,
            "align_self": null,
            "height": null,
            "min_height": null,
            "padding": null,
            "grid_auto_rows": null,
            "grid_gap": null,
            "max_width": null,
            "order": null,
            "_view_module_version": "1.2.0",
            "grid_template_areas": null,
            "object_position": null,
            "object_fit": null,
            "grid_auto_columns": null,
            "margin": null,
            "display": null,
            "left": null
          },
          "model_module_version": "1.2.0"
        },
        "d4c9797aa7d441a28c2861e71aa4d210": {
          "model_module": "@jupyter-widgets/controls",
          "model_name": "DescriptionStyleModel",
          "state": {
            "_view_name": "StyleView",
            "_model_name": "DescriptionStyleModel",
            "description_width": "",
            "_view_module": "@jupyter-widgets/base",
            "_model_module_version": "1.5.0",
            "_view_count": null,
            "_view_module_version": "1.2.0",
            "_model_module": "@jupyter-widgets/controls"
          },
          "model_module_version": "1.5.0"
        },
        "78b692da34c146e3acee4ab27f461a7b": {
          "model_module": "@jupyter-widgets/base",
          "model_name": "LayoutModel",
          "state": {
            "_view_name": "LayoutView",
            "grid_template_rows": null,
            "right": null,
            "justify_content": null,
            "_view_module": "@jupyter-widgets/base",
            "overflow": null,
            "_model_module_version": "1.2.0",
            "_view_count": null,
            "flex_flow": null,
            "width": null,
            "min_width": null,
            "border": null,
            "align_items": null,
            "bottom": null,
            "_model_module": "@jupyter-widgets/base",
            "top": null,
            "grid_column": null,
            "overflow_y": null,
            "overflow_x": null,
            "grid_auto_flow": null,
            "grid_area": null,
            "grid_template_columns": null,
            "flex": null,
            "_model_name": "LayoutModel",
            "justify_items": null,
            "grid_row": null,
            "max_height": null,
            "align_content": null,
            "visibility": null,
            "align_self": null,
            "height": null,
            "min_height": null,
            "padding": null,
            "grid_auto_rows": null,
            "grid_gap": null,
            "max_width": null,
            "order": null,
            "_view_module_version": "1.2.0",
            "grid_template_areas": null,
            "object_position": null,
            "object_fit": null,
            "grid_auto_columns": null,
            "margin": null,
            "display": null,
            "left": null
          },
          "model_module_version": "1.2.0"
        }
      }
    }
  },
  "cells": [
    {
      "cell_type": "markdown",
      "metadata": {
        "id": "view-in-github",
        "colab_type": "text"
      },
      "source": [
        "<a href=\"https://colab.research.google.com/github/VKSi/2020_12_GB_RecommendationSystems/blob/main/HW_6.ipynb\" target=\"_parent\"><img src=\"https://colab.research.google.com/assets/colab-badge.svg\" alt=\"Open In Colab\"/></a>"
      ]
    },
    {
      "cell_type": "code",
      "metadata": {
        "colab": {
          "base_uri": "https://localhost:8080/"
        },
        "id": "WbQWLW2pFO31",
        "outputId": "0c025880-f8a9-4f01-d62c-03c6f0616873"
      },
      "source": [
        "from google.colab import drive\n",
        "drive.mount('/content/gdrive')"
      ],
      "execution_count": null,
      "outputs": [
        {
          "output_type": "stream",
          "text": [
            "Mounted at /content/gdrive\n"
          ],
          "name": "stdout"
        }
      ]
    },
    {
      "cell_type": "code",
      "metadata": {
        "id": "EjMN8jk-FT5n"
      },
      "source": [
        "PATH = 'gdrive/My Drive/AI/GB/RecSys/'"
      ],
      "execution_count": null,
      "outputs": []
    },
    {
      "cell_type": "code",
      "metadata": {
        "colab": {
          "base_uri": "https://localhost:8080/"
        },
        "id": "IRuC63--F7sy",
        "outputId": "dfa968e2-065b-4e16-ac55-b8ca3c463893"
      },
      "source": [
        "!pip install implicit"
      ],
      "execution_count": null,
      "outputs": [
        {
          "output_type": "stream",
          "text": [
            "Collecting implicit\n",
            "\u001b[?25l  Downloading https://files.pythonhosted.org/packages/bc/07/c0121884722d16e2c5beeb815f6b84b41cbf22e738e4075f1475be2791bc/implicit-0.4.4.tar.gz (1.1MB)\n",
            "\r\u001b[K     |▎                               | 10kB 16.1MB/s eta 0:00:01\r\u001b[K     |▋                               | 20kB 22.8MB/s eta 0:00:01\r\u001b[K     |▉                               | 30kB 20.7MB/s eta 0:00:01\r\u001b[K     |█▏                              | 40kB 16.3MB/s eta 0:00:01\r\u001b[K     |█▌                              | 51kB 15.2MB/s eta 0:00:01\r\u001b[K     |█▊                              | 61kB 15.2MB/s eta 0:00:01\r\u001b[K     |██                              | 71kB 12.4MB/s eta 0:00:01\r\u001b[K     |██▍                             | 81kB 13.7MB/s eta 0:00:01\r\u001b[K     |██▋                             | 92kB 12.4MB/s eta 0:00:01\r\u001b[K     |███                             | 102kB 12.5MB/s eta 0:00:01\r\u001b[K     |███▎                            | 112kB 12.5MB/s eta 0:00:01\r\u001b[K     |███▌                            | 122kB 12.5MB/s eta 0:00:01\r\u001b[K     |███▉                            | 133kB 12.5MB/s eta 0:00:01\r\u001b[K     |████▏                           | 143kB 12.5MB/s eta 0:00:01\r\u001b[K     |████▍                           | 153kB 12.5MB/s eta 0:00:01\r\u001b[K     |████▊                           | 163kB 12.5MB/s eta 0:00:01\r\u001b[K     |█████                           | 174kB 12.5MB/s eta 0:00:01\r\u001b[K     |█████▎                          | 184kB 12.5MB/s eta 0:00:01\r\u001b[K     |█████▋                          | 194kB 12.5MB/s eta 0:00:01\r\u001b[K     |██████                          | 204kB 12.5MB/s eta 0:00:01\r\u001b[K     |██████▏                         | 215kB 12.5MB/s eta 0:00:01\r\u001b[K     |██████▌                         | 225kB 12.5MB/s eta 0:00:01\r\u001b[K     |██████▉                         | 235kB 12.5MB/s eta 0:00:01\r\u001b[K     |███████                         | 245kB 12.5MB/s eta 0:00:01\r\u001b[K     |███████▍                        | 256kB 12.5MB/s eta 0:00:01\r\u001b[K     |███████▊                        | 266kB 12.5MB/s eta 0:00:01\r\u001b[K     |████████                        | 276kB 12.5MB/s eta 0:00:01\r\u001b[K     |████████▎                       | 286kB 12.5MB/s eta 0:00:01\r\u001b[K     |████████▋                       | 296kB 12.5MB/s eta 0:00:01\r\u001b[K     |████████▉                       | 307kB 12.5MB/s eta 0:00:01\r\u001b[K     |█████████▏                      | 317kB 12.5MB/s eta 0:00:01\r\u001b[K     |█████████▌                      | 327kB 12.5MB/s eta 0:00:01\r\u001b[K     |█████████▊                      | 337kB 12.5MB/s eta 0:00:01\r\u001b[K     |██████████                      | 348kB 12.5MB/s eta 0:00:01\r\u001b[K     |██████████▍                     | 358kB 12.5MB/s eta 0:00:01\r\u001b[K     |██████████▋                     | 368kB 12.5MB/s eta 0:00:01\r\u001b[K     |███████████                     | 378kB 12.5MB/s eta 0:00:01\r\u001b[K     |███████████▏                    | 389kB 12.5MB/s eta 0:00:01\r\u001b[K     |███████████▌                    | 399kB 12.5MB/s eta 0:00:01\r\u001b[K     |███████████▉                    | 409kB 12.5MB/s eta 0:00:01\r\u001b[K     |████████████                    | 419kB 12.5MB/s eta 0:00:01\r\u001b[K     |████████████▍                   | 430kB 12.5MB/s eta 0:00:01\r\u001b[K     |████████████▊                   | 440kB 12.5MB/s eta 0:00:01\r\u001b[K     |█████████████                   | 450kB 12.5MB/s eta 0:00:01\r\u001b[K     |█████████████▎                  | 460kB 12.5MB/s eta 0:00:01\r\u001b[K     |█████████████▋                  | 471kB 12.5MB/s eta 0:00:01\r\u001b[K     |█████████████▉                  | 481kB 12.5MB/s eta 0:00:01\r\u001b[K     |██████████████▏                 | 491kB 12.5MB/s eta 0:00:01\r\u001b[K     |██████████████▌                 | 501kB 12.5MB/s eta 0:00:01\r\u001b[K     |██████████████▊                 | 512kB 12.5MB/s eta 0:00:01\r\u001b[K     |███████████████                 | 522kB 12.5MB/s eta 0:00:01\r\u001b[K     |███████████████▍                | 532kB 12.5MB/s eta 0:00:01\r\u001b[K     |███████████████▋                | 542kB 12.5MB/s eta 0:00:01\r\u001b[K     |████████████████                | 552kB 12.5MB/s eta 0:00:01\r\u001b[K     |████████████████▎               | 563kB 12.5MB/s eta 0:00:01\r\u001b[K     |████████████████▌               | 573kB 12.5MB/s eta 0:00:01\r\u001b[K     |████████████████▉               | 583kB 12.5MB/s eta 0:00:01\r\u001b[K     |█████████████████▏              | 593kB 12.5MB/s eta 0:00:01\r\u001b[K     |█████████████████▍              | 604kB 12.5MB/s eta 0:00:01\r\u001b[K     |█████████████████▊              | 614kB 12.5MB/s eta 0:00:01\r\u001b[K     |██████████████████              | 624kB 12.5MB/s eta 0:00:01\r\u001b[K     |██████████████████▎             | 634kB 12.5MB/s eta 0:00:01\r\u001b[K     |██████████████████▋             | 645kB 12.5MB/s eta 0:00:01\r\u001b[K     |███████████████████             | 655kB 12.5MB/s eta 0:00:01\r\u001b[K     |███████████████████▏            | 665kB 12.5MB/s eta 0:00:01\r\u001b[K     |███████████████████▌            | 675kB 12.5MB/s eta 0:00:01\r\u001b[K     |███████████████████▉            | 686kB 12.5MB/s eta 0:00:01\r\u001b[K     |████████████████████            | 696kB 12.5MB/s eta 0:00:01\r\u001b[K     |████████████████████▍           | 706kB 12.5MB/s eta 0:00:01\r\u001b[K     |████████████████████▊           | 716kB 12.5MB/s eta 0:00:01\r\u001b[K     |█████████████████████           | 727kB 12.5MB/s eta 0:00:01\r\u001b[K     |█████████████████████▎          | 737kB 12.5MB/s eta 0:00:01\r\u001b[K     |█████████████████████▋          | 747kB 12.5MB/s eta 0:00:01\r\u001b[K     |█████████████████████▉          | 757kB 12.5MB/s eta 0:00:01\r\u001b[K     |██████████████████████▏         | 768kB 12.5MB/s eta 0:00:01\r\u001b[K     |██████████████████████▍         | 778kB 12.5MB/s eta 0:00:01\r\u001b[K     |██████████████████████▊         | 788kB 12.5MB/s eta 0:00:01\r\u001b[K     |███████████████████████         | 798kB 12.5MB/s eta 0:00:01\r\u001b[K     |███████████████████████▎        | 808kB 12.5MB/s eta 0:00:01\r\u001b[K     |███████████████████████▋        | 819kB 12.5MB/s eta 0:00:01\r\u001b[K     |████████████████████████        | 829kB 12.5MB/s eta 0:00:01\r\u001b[K     |████████████████████████▏       | 839kB 12.5MB/s eta 0:00:01\r\u001b[K     |████████████████████████▌       | 849kB 12.5MB/s eta 0:00:01\r\u001b[K     |████████████████████████▉       | 860kB 12.5MB/s eta 0:00:01\r\u001b[K     |█████████████████████████       | 870kB 12.5MB/s eta 0:00:01\r\u001b[K     |█████████████████████████▍      | 880kB 12.5MB/s eta 0:00:01\r\u001b[K     |█████████████████████████▊      | 890kB 12.5MB/s eta 0:00:01\r\u001b[K     |██████████████████████████      | 901kB 12.5MB/s eta 0:00:01\r\u001b[K     |██████████████████████████▎     | 911kB 12.5MB/s eta 0:00:01\r\u001b[K     |██████████████████████████▋     | 921kB 12.5MB/s eta 0:00:01\r\u001b[K     |██████████████████████████▉     | 931kB 12.5MB/s eta 0:00:01\r\u001b[K     |███████████████████████████▏    | 942kB 12.5MB/s eta 0:00:01\r\u001b[K     |███████████████████████████▌    | 952kB 12.5MB/s eta 0:00:01\r\u001b[K     |███████████████████████████▊    | 962kB 12.5MB/s eta 0:00:01\r\u001b[K     |████████████████████████████    | 972kB 12.5MB/s eta 0:00:01\r\u001b[K     |████████████████████████████▍   | 983kB 12.5MB/s eta 0:00:01\r\u001b[K     |████████████████████████████▋   | 993kB 12.5MB/s eta 0:00:01\r\u001b[K     |█████████████████████████████   | 1.0MB 12.5MB/s eta 0:00:01\r\u001b[K     |█████████████████████████████▎  | 1.0MB 12.5MB/s eta 0:00:01\r\u001b[K     |█████████████████████████████▌  | 1.0MB 12.5MB/s eta 0:00:01\r\u001b[K     |█████████████████████████████▉  | 1.0MB 12.5MB/s eta 0:00:01\r\u001b[K     |██████████████████████████████▏ | 1.0MB 12.5MB/s eta 0:00:01\r\u001b[K     |██████████████████████████████▍ | 1.1MB 12.5MB/s eta 0:00:01\r\u001b[K     |██████████████████████████████▊ | 1.1MB 12.5MB/s eta 0:00:01\r\u001b[K     |███████████████████████████████ | 1.1MB 12.5MB/s eta 0:00:01\r\u001b[K     |███████████████████████████████▎| 1.1MB 12.5MB/s eta 0:00:01\r\u001b[K     |███████████████████████████████▋| 1.1MB 12.5MB/s eta 0:00:01\r\u001b[K     |████████████████████████████████| 1.1MB 12.5MB/s eta 0:00:01\r\u001b[K     |████████████████████████████████| 1.1MB 12.5MB/s \n",
            "\u001b[?25hRequirement already satisfied: numpy in /usr/local/lib/python3.6/dist-packages (from implicit) (1.19.4)\n",
            "Requirement already satisfied: scipy>=0.16 in /usr/local/lib/python3.6/dist-packages (from implicit) (1.4.1)\n",
            "Requirement already satisfied: tqdm>=4.27 in /usr/local/lib/python3.6/dist-packages (from implicit) (4.41.1)\n",
            "Building wheels for collected packages: implicit\n",
            "  Building wheel for implicit (setup.py) ... \u001b[?25l\u001b[?25hdone\n",
            "  Created wheel for implicit: filename=implicit-0.4.4-cp36-cp36m-linux_x86_64.whl size=3419406 sha256=70782ad3c89bc129999bed2f2dd69f8fc8b590f7fdef87df04e78ac2c27056dc\n",
            "  Stored in directory: /root/.cache/pip/wheels/bf/d4/ec/fd4f622fcbefb7521f149905295b2c26adecb23af38aa28217\n",
            "Successfully built implicit\n",
            "Installing collected packages: implicit\n",
            "Successfully installed implicit-0.4.4\n"
          ],
          "name": "stdout"
        }
      ]
    },
    {
      "cell_type": "markdown",
      "metadata": {
        "id": "5frr4PSfFAP4"
      },
      "source": [
        "# Вебинар 6. Двухуровневые модели рекомендаций\n"
      ]
    },
    {
      "cell_type": "markdown",
      "metadata": {
        "id": "7C6iYRzNFAP5"
      },
      "source": [
        "Код для src, utils, metrics вы можете скачать из [этого](https://github.com/geangohn/recsys-tutorial) github репозитория"
      ]
    },
    {
      "cell_type": "code",
      "metadata": {
        "id": "FpMxjHRJFAP5"
      },
      "source": [
        "import pandas as pd\n",
        "import numpy as np\n",
        "import matplotlib.pyplot as plt\n",
        "%matplotlib inline\n",
        "\n",
        "# Для работы с матрицами\n",
        "from scipy.sparse import csr_matrix\n",
        "\n",
        "# Матричная факторизация\n",
        "from implicit import als\n",
        "\n",
        "# Модель второго уровня\n",
        "from lightgbm import LGBMClassifier\n",
        "\n",
        "import os, sys\n",
        "module_path = os.path.abspath(os.path.join(os.pardir))\n",
        "if module_path not in sys.path:\n",
        "    sys.path.append(module_path)\n"
      ],
      "execution_count": null,
      "outputs": []
    },
    {
      "cell_type": "code",
      "metadata": {
        "id": "DyIDwND2GGCM"
      },
      "source": [
        "# Функции из модуля metrics\n",
        "def precision(recommended_list, bought_list):\n",
        "    bought_list = np.array(bought_list)\n",
        "    recommended_list = np.array(recommended_list)\n",
        "\n",
        "    flags = np.isin(bought_list, recommended_list)\n",
        "\n",
        "    precision = flags.sum() / len(recommended_list)\n",
        "\n",
        "    return precision\n",
        "\n",
        "\n",
        "def precision_at_k(recommended_list, bought_list, k=5):\n",
        "    bought_list = np.array(bought_list)\n",
        "    recommended_list = np.array(recommended_list)\n",
        "    \n",
        "\n",
        "    bought_list = bought_list  # Тут нет [:k] !!\n",
        "    \n",
        "    if k < len(recommended_list):\n",
        "        recommended_list = recommended_list[:k]\n",
        "\n",
        "    flags = np.isin(bought_list, recommended_list)\n",
        "\n",
        "    precision = flags.sum() / len(recommended_list)\n",
        "\n",
        "    return precision\n",
        "\n",
        "\n",
        "def money_precision_at_k(recommended_list, bought_list, prices_recommended, k=5):\n",
        "    # your_code\n",
        "    # Лучше считать через скалярное произведение, а не цикл\n",
        "\n",
        "    return precision\n",
        "\n",
        "\n",
        "def recall(recommended_list, bought_list):\n",
        "    bought_list = np.array(bought_list)\n",
        "    recommended_list = np.array(recommended_list)\n",
        "\n",
        "    flags = np.isin(bought_list, recommended_list)\n",
        "\n",
        "    recall = flags.sum() / len(bought_list)\n",
        "\n",
        "    return recall\n",
        "\n",
        "\n",
        "def recall_at_k(recommended_list, bought_list, k=5):\n",
        "\n",
        "    bought_list = np.array(bought_list)\n",
        "    recommended_list = np.array(recommended_list)\n",
        "\n",
        "    if k < len(recommended_list):\n",
        "        recommended_list = recommended_list[:k]\n",
        "\n",
        "    flags = np.isin(bought_list, recommended_list)\n",
        "    recall = flags.sum() / len(bought_list)\n",
        "\n",
        "    return recall\n",
        "\n",
        "\n",
        "def money_recall_at_k(recommended_list, bought_list, prices_recommended, prices_bought, k=5):\n",
        "    # your_code\n",
        "\n",
        "    return recall"
      ],
      "execution_count": null,
      "outputs": []
    },
    {
      "cell_type": "code",
      "metadata": {
        "id": "LBDGYSkZG9V6"
      },
      "source": [
        "# Функции из модуля utils\n",
        "\n",
        "def prefilter_items(data, take_n_popular=5000, item_features=None):\n",
        "    # Уберем самые популярные товары (их и так купят)\n",
        "    popularity = data.groupby('item_id')['user_id'].nunique().reset_index() / data['user_id'].nunique()\n",
        "    popularity.rename(columns={'user_id': 'share_unique_users'}, inplace=True)\n",
        "\n",
        "    top_popular = popularity[popularity['share_unique_users'] > 0.2].item_id.tolist()\n",
        "    data = data[~data['item_id'].isin(top_popular)]\n",
        "\n",
        "    # Уберем самые НЕ популярные товары (их и так НЕ купят)\n",
        "    top_notpopular = popularity[popularity['share_unique_users'] < 0.02].item_id.tolist()\n",
        "    data = data[~data['item_id'].isin(top_notpopular)]\n",
        "\n",
        "    # Уберем товары, которые не продавались за последние 12 месяцев\n",
        "\n",
        "    # Уберем не интересные для рекоммендаций категории (department)\n",
        "    if item_features is not None:\n",
        "        department_size = pd.DataFrame(item_features.\\\n",
        "                                        groupby('department')['item_id'].nunique().\\\n",
        "                                        sort_values(ascending=False)).reset_index()\n",
        "\n",
        "        department_size.columns = ['department', 'n_items']\n",
        "        rare_departments = department_size[department_size['n_items'] < 150].department.tolist()\n",
        "        items_in_rare_departments = item_features[item_features['department'].isin(rare_departments)].item_id.unique().tolist()\n",
        "\n",
        "        data = data[~data['item_id'].isin(items_in_rare_departments)]\n",
        "\n",
        "\n",
        "    # Уберем слишком дешевые товары (на них не заработаем). 1 покупка из рассылок стоит 60 руб.\n",
        "    data['price'] = data['sales_value'] / (np.maximum(data['quantity'], 1))\n",
        "    data = data[data['price'] > 2]\n",
        "\n",
        "    # Уберем слишком дорогие товарыs\n",
        "    data = data[data['price'] < 50]\n",
        "\n",
        "    # Возбмем топ по популярности\n",
        "    popularity = data.groupby('item_id')['quantity'].sum().reset_index()\n",
        "    popularity.rename(columns={'quantity': 'n_sold'}, inplace=True)\n",
        "\n",
        "    top = popularity.sort_values('n_sold', ascending=False).head(take_n_popular).item_id.tolist()\n",
        "    \n",
        "    # Заведем фиктивный item_id (если юзер покупал товары из топ-5000, то он \"купил\" такой товар)\n",
        "    data.loc[~data['item_id'].isin(top), 'item_id'] = 999999\n",
        "    \n",
        "    # ...\n",
        "\n",
        "    return data\n",
        "\n",
        "\n",
        "def postfilter_items(user_id, recommednations):\n",
        "    pass"
      ],
      "execution_count": null,
      "outputs": []
    },
    {
      "cell_type": "code",
      "metadata": {
        "id": "5P5fHMMuHVmJ"
      },
      "source": [
        "# Функции из модуля recommenders\n",
        "\n",
        "import pandas as pd\n",
        "import numpy as np\n",
        "\n",
        "# Для работы с матрицами\n",
        "from scipy.sparse import csr_matrix\n",
        "\n",
        "# Матричная факторизация\n",
        "from implicit.als import AlternatingLeastSquares\n",
        "from implicit.nearest_neighbours import ItemItemRecommender  # нужен для одного трюка\n",
        "from implicit.nearest_neighbours import bm25_weight, tfidf_weight\n",
        "\n",
        "class MainRecommender:\n",
        "    \"\"\"Рекоммендации, которые можно получить из ALS\n",
        "\n",
        "    Input\n",
        "    -----\n",
        "    user_item_matrix: pd.DataFrame\n",
        "        Матрица взаимодействий user-item\n",
        "    \"\"\"\n",
        "\n",
        "    def __init__(self, data, weighting=True):\n",
        "\n",
        "        # Топ покупок каждого юзера\n",
        "        self.top_purchases = data.groupby(['user_id', 'item_id'])['quantity'].count().reset_index()\n",
        "        self.top_purchases.sort_values('quantity', ascending=False, inplace=True)\n",
        "        self.top_purchases = self.top_purchases[self.top_purchases['item_id'] != 999999]\n",
        "\n",
        "        # Топ покупок по всему датасету\n",
        "        self.overall_top_purchases = data.groupby('item_id')['quantity'].count().reset_index()\n",
        "        self.overall_top_purchases.sort_values('quantity', ascending=False, inplace=True)\n",
        "        self.overall_top_purchases = self.overall_top_purchases[self.overall_top_purchases['item_id'] != 999999]\n",
        "        self.overall_top_purchases = self.overall_top_purchases.item_id.tolist()\n",
        "\n",
        "        self.user_item_matrix = self._prepare_matrix(data)  # pd.DataFrame\n",
        "        self.id_to_itemid, self.id_to_userid, \\\n",
        "            self.itemid_to_id, self.userid_to_id = self._prepare_dicts(self.user_item_matrix)\n",
        "\n",
        "        if weighting:\n",
        "            self.user_item_matrix = bm25_weight(self.user_item_matrix.T).T\n",
        "\n",
        "        self.model = self.fit(self.user_item_matrix)\n",
        "        self.own_recommender = self.fit_own_recommender(self.user_item_matrix)\n",
        "\n",
        "    @staticmethod\n",
        "    def _prepare_matrix(data):\n",
        "        \"\"\"Готовит user-item матрицу\"\"\"\n",
        "        user_item_matrix = pd.pivot_table(data,\n",
        "                                          index='user_id', columns='item_id',\n",
        "                                          values='quantity',  # Можно пробовать другие варианты\n",
        "                                          aggfunc='count',\n",
        "                                          fill_value=0\n",
        "                                          )\n",
        "\n",
        "        user_item_matrix = user_item_matrix.astype(float)  # необходимый тип матрицы для implicit\n",
        "\n",
        "        return user_item_matrix\n",
        "\n",
        "    @staticmethod\n",
        "    def _prepare_dicts(user_item_matrix):\n",
        "        \"\"\"Подготавливает вспомогательные словари\"\"\"\n",
        "\n",
        "        userids = user_item_matrix.index.values\n",
        "        itemids = user_item_matrix.columns.values\n",
        "\n",
        "        matrix_userids = np.arange(len(userids))\n",
        "        matrix_itemids = np.arange(len(itemids))\n",
        "\n",
        "        id_to_itemid = dict(zip(matrix_itemids, itemids))\n",
        "        id_to_userid = dict(zip(matrix_userids, userids))\n",
        "\n",
        "        itemid_to_id = dict(zip(itemids, matrix_itemids))\n",
        "        userid_to_id = dict(zip(userids, matrix_userids))\n",
        "\n",
        "        return id_to_itemid, id_to_userid, itemid_to_id, userid_to_id\n",
        "\n",
        "    @staticmethod\n",
        "    def fit_own_recommender(user_item_matrix):\n",
        "        \"\"\"Обучает модель, которая рекомендует товары, среди товаров, купленных юзером\"\"\"\n",
        "\n",
        "        own_recommender = ItemItemRecommender(K=1, num_threads=4)\n",
        "        own_recommender.fit(csr_matrix(user_item_matrix).T.tocsr())\n",
        "\n",
        "        return own_recommender\n",
        "\n",
        "    @staticmethod\n",
        "    def fit(user_item_matrix, n_factors=20, regularization=0.001, iterations=15, num_threads=4):\n",
        "        \"\"\"Обучает ALS\"\"\"\n",
        "\n",
        "        model = AlternatingLeastSquares(factors=n_factors,\n",
        "                                        regularization=regularization,\n",
        "                                        iterations=iterations,\n",
        "                                        num_threads=num_threads,\n",
        "                                        use_gpu=False)  # Добавлено, чтобы избежать ошибки с CUDA\n",
        "        model.fit(csr_matrix(user_item_matrix).T.tocsr())\n",
        "\n",
        "        return model\n",
        "\n",
        "    def _update_dict(self, user_id):\n",
        "        \"\"\"Если появился новыю user / item, то нужно обновить словари\"\"\"\n",
        "\n",
        "        if user_id not in self.userid_to_id.keys():\n",
        "\n",
        "            max_id = max(list(self.userid_to_id.values()))\n",
        "            max_id += 1\n",
        "\n",
        "            self.userid_to_id.update({user_id: max_id})\n",
        "            self.id_to_userid.update({max_id: user_id})\n",
        "\n",
        "    def _get_similar_item(self, item_id):\n",
        "        \"\"\"Находит товар, похожий на item_id\"\"\"\n",
        "        recs = self.model.similar_items(self.itemid_to_id[item_id], N=2)  # Товар похож на себя -> рекомендуем 2 товара\n",
        "        top_rec = recs[1][0]  # И берем второй (не товар из аргумента метода)\n",
        "        return self.id_to_itemid[top_rec]\n",
        "\n",
        "    def _extend_with_top_popular(self, recommendations, N=5):\n",
        "        \"\"\"Если кол-во рекоммендаций < N, то дополняем их топ-популярными\"\"\"\n",
        "\n",
        "        if len(recommendations) < N:\n",
        "            recommendations.extend(self.overall_top_purchases[:N])\n",
        "            recommendations = recommendations[:N]\n",
        "\n",
        "        return recommendations\n",
        "\n",
        "    def _get_recommendations(self, user, model, N=5):\n",
        "        \"\"\"Рекомендации через стардартные библиотеки implicit\"\"\"\n",
        "\n",
        "        self._update_dict(user_id=user)\n",
        "        res = [self.id_to_itemid[rec[0]] for rec in model.recommend(userid=self.userid_to_id[user],\n",
        "                                        user_items=csr_matrix(self.user_item_matrix).tocsr(),\n",
        "                                        N=N,\n",
        "                                        filter_already_liked_items=False,\n",
        "                                        filter_items=[self.itemid_to_id[999999]],\n",
        "                                        recalculate_user=True)]\n",
        "\n",
        "        res = self._extend_with_top_popular(res, N=N)\n",
        "\n",
        "        assert len(res) == N, 'Количество рекомендаций != {}'.format(N)\n",
        "        return res\n",
        "\n",
        "    def get_als_recommendations(self, user, N=5):\n",
        "        \"\"\"Рекомендации через стардартные библиотеки implicit\"\"\"\n",
        "\n",
        "        self._update_dict(user_id=user)\n",
        "        return self._get_recommendations(user, model=self.model, N=N)\n",
        "\n",
        "    def get_own_recommendations(self, user, N=5):\n",
        "        \"\"\"Рекомендуем товары среди тех, которые юзер уже купил\"\"\"\n",
        "\n",
        "        self._update_dict(user_id=user)\n",
        "        return self._get_recommendations(user, model=self.own_recommender, N=N)\n",
        "\n",
        "    def get_similar_items_recommendations(self, user, N=5):\n",
        "        \"\"\"Рекомендуем товары, похожие на топ-N купленных юзером товаров\"\"\"\n",
        "\n",
        "        top_users_purchases = self.top_purchases[self.top_purchases['user_id'] == user].head(N)\n",
        "\n",
        "        res = top_users_purchases['item_id'].apply(lambda x: self._get_similar_item(x)).tolist()\n",
        "        res = self._extend_with_top_popular(res, N=N)\n",
        "\n",
        "        assert len(res) == N, 'Количество рекомендаций != {}'.format(N)\n",
        "        return res\n",
        "\n",
        "    def get_similar_users_recommendations(self, user, N=5):\n",
        "        \"\"\"Рекомендуем топ-N товаров, среди купленных похожими юзерами\"\"\"\n",
        "\n",
        "        res = []\n",
        "\n",
        "        # Находим топ-N похожих пользователей\n",
        "        similar_users = self.model.similar_users(self.userid_to_id[user], N=N+1)\n",
        "        similar_users = [rec[0] for rec in similar_users]\n",
        "        similar_users = similar_users[1:]   # удалим юзера из запроса\n",
        "\n",
        "        for user in similar_users:\n",
        "            res.extend(self.get_own_recommendations(user, N=1))\n",
        "\n",
        "        res = self._extend_with_top_popular(res, N=N)\n",
        "\n",
        "        assert len(res) == N, 'Количество рекомендаций != {}'.format(N)\n",
        "        return res"
      ],
      "execution_count": null,
      "outputs": []
    },
    {
      "cell_type": "code",
      "metadata": {
        "colab": {
          "base_uri": "https://localhost:8080/",
          "height": 106
        },
        "id": "EHgW62xXFAP6",
        "outputId": "41111312-9bc0-497b-acad-508b09f21f5c"
      },
      "source": [
        "data = pd.read_csv(PATH + 'retail_train.csv')\n",
        "item_features = pd.read_csv(PATH + 'product.csv')\n",
        "user_features = pd.read_csv(PATH + 'hh_demographic.csv')\n",
        "\n",
        "# column processing\n",
        "item_features.columns = [col.lower() for col in item_features.columns]\n",
        "user_features.columns = [col.lower() for col in user_features.columns]\n",
        "\n",
        "item_features.rename(columns={'product_id': 'item_id'}, inplace=True)\n",
        "user_features.rename(columns={'household_key': 'user_id'}, inplace=True)\n",
        "\n",
        "\n",
        "# Важна схема обучения и валидации!\n",
        "# -- давние покупки -- | -- 6 недель -- | -- 3 недель -- \n",
        "# подобрать размер 2-ого датасета (6 недель) --> learning curve (зависимость метрики recall@k от размера датасета)\n",
        "val_lvl_1_size_weeks = 6\n",
        "val_lvl_2_size_weeks = 3\n",
        "\n",
        "data_train_lvl_1 = data[data['week_no'] < data['week_no'].max() - (val_lvl_1_size_weeks + val_lvl_2_size_weeks)]\n",
        "data_val_lvl_1 = data[(data['week_no'] >= data['week_no'].max() - (val_lvl_1_size_weeks + val_lvl_2_size_weeks)) &\n",
        "                      (data['week_no'] < data['week_no'].max() - (val_lvl_2_size_weeks))]\n",
        "\n",
        "data_train_lvl_2 = data_val_lvl_1.copy()  # Для наглядности. Далее мы добавим изменения, и они будут отличаться\n",
        "data_val_lvl_2 = data[data['week_no'] >= data['week_no'].max() - val_lvl_2_size_weeks]\n",
        "\n",
        "data_train_lvl_1.head(2)"
      ],
      "execution_count": null,
      "outputs": [
        {
          "output_type": "execute_result",
          "data": {
            "text/html": [
              "<div>\n",
              "<style scoped>\n",
              "    .dataframe tbody tr th:only-of-type {\n",
              "        vertical-align: middle;\n",
              "    }\n",
              "\n",
              "    .dataframe tbody tr th {\n",
              "        vertical-align: top;\n",
              "    }\n",
              "\n",
              "    .dataframe thead th {\n",
              "        text-align: right;\n",
              "    }\n",
              "</style>\n",
              "<table border=\"1\" class=\"dataframe\">\n",
              "  <thead>\n",
              "    <tr style=\"text-align: right;\">\n",
              "      <th></th>\n",
              "      <th>user_id</th>\n",
              "      <th>basket_id</th>\n",
              "      <th>day</th>\n",
              "      <th>item_id</th>\n",
              "      <th>quantity</th>\n",
              "      <th>sales_value</th>\n",
              "      <th>store_id</th>\n",
              "      <th>retail_disc</th>\n",
              "      <th>trans_time</th>\n",
              "      <th>week_no</th>\n",
              "      <th>coupon_disc</th>\n",
              "      <th>coupon_match_disc</th>\n",
              "    </tr>\n",
              "  </thead>\n",
              "  <tbody>\n",
              "    <tr>\n",
              "      <th>0</th>\n",
              "      <td>2375</td>\n",
              "      <td>26984851472</td>\n",
              "      <td>1</td>\n",
              "      <td>1004906</td>\n",
              "      <td>1</td>\n",
              "      <td>1.39</td>\n",
              "      <td>364</td>\n",
              "      <td>-0.6</td>\n",
              "      <td>1631</td>\n",
              "      <td>1</td>\n",
              "      <td>0.0</td>\n",
              "      <td>0.0</td>\n",
              "    </tr>\n",
              "    <tr>\n",
              "      <th>1</th>\n",
              "      <td>2375</td>\n",
              "      <td>26984851472</td>\n",
              "      <td>1</td>\n",
              "      <td>1033142</td>\n",
              "      <td>1</td>\n",
              "      <td>0.82</td>\n",
              "      <td>364</td>\n",
              "      <td>0.0</td>\n",
              "      <td>1631</td>\n",
              "      <td>1</td>\n",
              "      <td>0.0</td>\n",
              "      <td>0.0</td>\n",
              "    </tr>\n",
              "  </tbody>\n",
              "</table>\n",
              "</div>"
            ],
            "text/plain": [
              "   user_id    basket_id  day  ...  week_no  coupon_disc  coupon_match_disc\n",
              "0     2375  26984851472    1  ...        1          0.0                0.0\n",
              "1     2375  26984851472    1  ...        1          0.0                0.0\n",
              "\n",
              "[2 rows x 12 columns]"
            ]
          },
          "metadata": {
            "tags": []
          },
          "execution_count": 117
        }
      ]
    },
    {
      "cell_type": "code",
      "metadata": {
        "colab": {
          "base_uri": "https://localhost:8080/"
        },
        "id": "Cf_H65Z5FAP7",
        "outputId": "52075d5f-1365-4eec-e3d7-3d40ad77e2b7"
      },
      "source": [
        "n_items_before = data_train_lvl_1['item_id'].nunique()\n",
        "\n",
        "data_train_lvl_1 = prefilter_items(data_train_lvl_1, item_features=item_features, take_n_popular=5000)\n",
        "\n",
        "n_items_after = data_train_lvl_1['item_id'].nunique()\n",
        "print('Decreased # items from {} to {}'.format(n_items_before, n_items_after))"
      ],
      "execution_count": null,
      "outputs": [
        {
          "output_type": "stream",
          "text": [
            "Decreased # items from 83685 to 5001\n"
          ],
          "name": "stdout"
        }
      ]
    },
    {
      "cell_type": "code",
      "metadata": {
        "colab": {
          "base_uri": "https://localhost:8080/",
          "height": 114,
          "referenced_widgets": [
            "5450df9e85f8466ca24effa9be5991e9",
            "6f0bf1b60a234ccb96cc0d67a1104c82",
            "a257f59c1fae4d51a7508d0334c7311f",
            "901804883a1b49f8afe2f478d104cad2",
            "091b873bb60c43848458394b02f4c3a3",
            "dd4ef68489c24e8f9921afef74d078e9",
            "5976b52456ce4d61b67011e1f67bd0e0",
            "0a8f9622f86748668a84ae3f7e4f8fb1",
            "5b93b72897934cf8b1799d63b4890395",
            "1f64086159b440bfb4afbf850d1765aa",
            "9ebe358ebf2b4b5b8b9399f506c2a732",
            "53776e3060f64e1596d5664797afab23",
            "7327e0b65dcf4925a743dddacde7d998",
            "de24c019dfc64ca1867d67658928c547",
            "d4c9797aa7d441a28c2861e71aa4d210",
            "78b692da34c146e3acee4ab27f461a7b"
          ]
        },
        "id": "5G2GPsc0FAP7",
        "outputId": "72a23ab6-4531-41aa-c021-61fcd0d06877"
      },
      "source": [
        "recommender = MainRecommender(data_train_lvl_1)"
      ],
      "execution_count": null,
      "outputs": [
        {
          "output_type": "display_data",
          "data": {
            "application/vnd.jupyter.widget-view+json": {
              "model_id": "5450df9e85f8466ca24effa9be5991e9",
              "version_minor": 0,
              "version_major": 2
            },
            "text/plain": [
              "HBox(children=(FloatProgress(value=0.0, max=15.0), HTML(value='')))"
            ]
          },
          "metadata": {
            "tags": []
          }
        },
        {
          "output_type": "stream",
          "text": [
            "\n"
          ],
          "name": "stdout"
        },
        {
          "output_type": "display_data",
          "data": {
            "application/vnd.jupyter.widget-view+json": {
              "model_id": "5b93b72897934cf8b1799d63b4890395",
              "version_minor": 0,
              "version_major": 2
            },
            "text/plain": [
              "HBox(children=(FloatProgress(value=0.0, max=5001.0), HTML(value='')))"
            ]
          },
          "metadata": {
            "tags": []
          }
        },
        {
          "output_type": "stream",
          "text": [
            "\n"
          ],
          "name": "stdout"
        }
      ]
    },
    {
      "cell_type": "code",
      "metadata": {
        "colab": {
          "base_uri": "https://localhost:8080/"
        },
        "id": "Lgol__wiFAP7",
        "outputId": "7c9b1449-9226-47ab-fa38-ba390fe789f4"
      },
      "source": [
        "recommender.get_als_recommendations(2375, N=5)"
      ],
      "execution_count": null,
      "outputs": [
        {
          "output_type": "execute_result",
          "data": {
            "text/plain": [
              "[899624, 1044078, 871756, 1092937, 1106523]"
            ]
          },
          "metadata": {
            "tags": []
          },
          "execution_count": 120
        }
      ]
    },
    {
      "cell_type": "code",
      "metadata": {
        "colab": {
          "base_uri": "https://localhost:8080/"
        },
        "id": "vP9jC7pDFAP8",
        "outputId": "0a0c07c3-4079-4ac4-a57a-5edb4d439061"
      },
      "source": [
        "recommender.get_own_recommendations(2375, N=5)"
      ],
      "execution_count": null,
      "outputs": [
        {
          "output_type": "execute_result",
          "data": {
            "text/plain": [
              "[948640, 918046, 847962, 907099, 873980]"
            ]
          },
          "metadata": {
            "tags": []
          },
          "execution_count": 121
        }
      ]
    },
    {
      "cell_type": "code",
      "metadata": {
        "colab": {
          "base_uri": "https://localhost:8080/"
        },
        "id": "pk8pd-Z8FAP8",
        "outputId": "8d72d16a-408e-4682-cc7a-7146038b6217"
      },
      "source": [
        "recommender.get_similar_items_recommendations(2375, N=5)"
      ],
      "execution_count": null,
      "outputs": [
        {
          "output_type": "execute_result",
          "data": {
            "text/plain": [
              "[1046545, 1044078, 1042907, 878285, 15778319]"
            ]
          },
          "metadata": {
            "tags": []
          },
          "execution_count": 122
        }
      ]
    },
    {
      "cell_type": "code",
      "metadata": {
        "colab": {
          "base_uri": "https://localhost:8080/"
        },
        "id": "WBT7-jU1FAP8",
        "outputId": "3e6d42b1-94e1-431a-a5ec-87e6f8fad87a"
      },
      "source": [
        "recommender.get_similar_users_recommendations(2375, N=5)"
      ],
      "execution_count": null,
      "outputs": [
        {
          "output_type": "execute_result",
          "data": {
            "text/plain": [
              "[1012801, 9245108, 10457044, 1012801, 820612]"
            ]
          },
          "metadata": {
            "tags": []
          },
          "execution_count": 123
        }
      ]
    },
    {
      "cell_type": "markdown",
      "metadata": {
        "id": "Lebqs2VgFAP9"
      },
      "source": [
        "### Задание 1\n",
        "\n",
        "A) Попробуйте различные варианты генерации кандидатов. Какие из них дают наибольший recall@k ?\n",
        "- Пока пробуем отобрать 50 кандидатов (k=50)\n",
        "- Качество измеряем на data_val_lvl_1: следующие 6 недель после трейна\n",
        "\n",
        "Дают ли own recommendtions + top-popular лучший recall?  \n",
        "\n",
        "B)* Как зависит recall@k от k? Постройте для одной схемы генерации кандидатов эту зависимость для k = {20, 50, 100, 200, 500}  \n",
        "C)* Исходя из прошлого вопроса, как вы думаете, какое значение k является наиболее разумным?\n"
      ]
    },
    {
      "cell_type": "code",
      "metadata": {
        "colab": {
          "base_uri": "https://localhost:8080/",
          "height": 106
        },
        "id": "DZbiTaM0FAP9",
        "outputId": "204c4479-9801-49ac-a2ab-3f3b704c8a88"
      },
      "source": [
        "result_lvl_1 = data_val_lvl_1.groupby('user_id')['item_id'].unique().reset_index()\n",
        "result_lvl_1.columns=['user_id', 'actual']\n",
        "result_lvl_1.head(2)"
      ],
      "execution_count": null,
      "outputs": [
        {
          "output_type": "execute_result",
          "data": {
            "text/html": [
              "<div>\n",
              "<style scoped>\n",
              "    .dataframe tbody tr th:only-of-type {\n",
              "        vertical-align: middle;\n",
              "    }\n",
              "\n",
              "    .dataframe tbody tr th {\n",
              "        vertical-align: top;\n",
              "    }\n",
              "\n",
              "    .dataframe thead th {\n",
              "        text-align: right;\n",
              "    }\n",
              "</style>\n",
              "<table border=\"1\" class=\"dataframe\">\n",
              "  <thead>\n",
              "    <tr style=\"text-align: right;\">\n",
              "      <th></th>\n",
              "      <th>user_id</th>\n",
              "      <th>actual</th>\n",
              "    </tr>\n",
              "  </thead>\n",
              "  <tbody>\n",
              "    <tr>\n",
              "      <th>0</th>\n",
              "      <td>1</td>\n",
              "      <td>[853529, 865456, 867607, 872137, 874905, 87524...</td>\n",
              "    </tr>\n",
              "    <tr>\n",
              "      <th>1</th>\n",
              "      <td>2</td>\n",
              "      <td>[15830248, 838136, 839656, 861272, 866211, 870...</td>\n",
              "    </tr>\n",
              "  </tbody>\n",
              "</table>\n",
              "</div>"
            ],
            "text/plain": [
              "   user_id                                             actual\n",
              "0        1  [853529, 865456, 867607, 872137, 874905, 87524...\n",
              "1        2  [15830248, 838136, 839656, 861272, 866211, 870..."
            ]
          },
          "metadata": {
            "tags": []
          },
          "execution_count": 124
        }
      ]
    },
    {
      "cell_type": "code",
      "metadata": {
        "id": "HM5D58w1aQNl"
      },
      "source": [
        "k = 50"
      ],
      "execution_count": null,
      "outputs": []
    },
    {
      "cell_type": "markdown",
      "metadata": {
        "id": "hfdsvTnj-6lm"
      },
      "source": [
        "Напишем полезные функции для автоматизации дальнейшей работы"
      ]
    },
    {
      "cell_type": "code",
      "metadata": {
        "id": "fc9y-nrzV3pd"
      },
      "source": [
        "def get_bought_list(actual_data, user_id):\n",
        "  return actual_data.loc[actual_data['user_id'] == user_id, 'actual'].values[0]\n",
        "\n",
        "def get_recommended_list(func_name: str, user_id, N):\n",
        "  return eval(f'recommender.get_{func_name}_recommendations({user_id}, {N})')\n",
        "\n",
        "def total_recall_at_k(actual_data, k, N, func_name: str):\n",
        "  rc = []\n",
        "  for uid in set(recommender.id_to_userid.values()):\n",
        "    if uid not in actual_data['user_id'].values:\n",
        "      continue\n",
        "    rl = get_recommended_list(func_name=func_name, user_id=uid, N=N)\n",
        "    bl = get_bought_list(actual_data=actual_data, user_id=uid)\n",
        "    rc.append(recall_at_k(rl, bl, k))\n",
        "  return np.mean(rc), np.std(rc)"
      ],
      "execution_count": null,
      "outputs": []
    },
    {
      "cell_type": "code",
      "metadata": {
        "id": "0tVSRptld4o0"
      },
      "source": [
        "actual_users = set(result_lvl_1)"
      ],
      "execution_count": null,
      "outputs": []
    },
    {
      "cell_type": "code",
      "metadata": {
        "colab": {
          "base_uri": "https://localhost:8080/"
        },
        "id": "GAN_ah0deIGP",
        "outputId": "f8a45725-2ddb-492b-f651-ec307ab8b30f"
      },
      "source": [
        "actual_users = set(result_lvl_1['user_id'].unique())\n",
        "len(actual_users)"
      ],
      "execution_count": null,
      "outputs": [
        {
          "output_type": "execute_result",
          "data": {
            "text/plain": [
              "2154"
            ]
          },
          "metadata": {
            "tags": []
          },
          "execution_count": 163
        }
      ]
    },
    {
      "cell_type": "code",
      "metadata": {
        "colab": {
          "base_uri": "https://localhost:8080/"
        },
        "id": "bPVq70jbeIGR",
        "outputId": "33c36c79-4c10-401d-eb70-5c05392c50c9"
      },
      "source": [
        "predicted_users = set(data_train_lvl_1['user_id'].unique())\n",
        "len(predicted_users)"
      ],
      "execution_count": null,
      "outputs": [
        {
          "output_type": "execute_result",
          "data": {
            "text/plain": [
              "2495"
            ]
          },
          "metadata": {
            "tags": []
          },
          "execution_count": 164
        }
      ]
    },
    {
      "cell_type": "code",
      "metadata": {
        "colab": {
          "base_uri": "https://localhost:8080/"
        },
        "id": "n4JDNNJ9eIGR",
        "outputId": "d66a52cc-2a1f-43d0-91e1-e29243941fb3"
      },
      "source": [
        "diff = actual_users - predicted_users\n",
        "diff"
      ],
      "execution_count": null,
      "outputs": [
        {
          "output_type": "execute_result",
          "data": {
            "text/plain": [
              "{296, 1813, 1984}"
            ]
          },
          "metadata": {
            "tags": []
          },
          "execution_count": 165
        }
      ]
    },
    {
      "cell_type": "code",
      "metadata": {
        "id": "42BML0sfefg8"
      },
      "source": [
        "to_count = result_lvl_1['user_id'].isin(predicted_users)"
      ],
      "execution_count": null,
      "outputs": []
    },
    {
      "cell_type": "code",
      "metadata": {
        "colab": {
          "base_uri": "https://localhost:8080/"
        },
        "id": "zd2DECMsgkL9",
        "outputId": "8d0825df-e7b4-4af4-af2b-2eba05644dd5"
      },
      "source": [
        "pu = set(recommender.id_to_userid.values())\n",
        "len(pu)"
      ],
      "execution_count": null,
      "outputs": [
        {
          "output_type": "execute_result",
          "data": {
            "text/plain": [
              "2497"
            ]
          },
          "metadata": {
            "tags": []
          },
          "execution_count": 167
        }
      ]
    },
    {
      "cell_type": "code",
      "metadata": {
        "colab": {
          "base_uri": "https://localhost:8080/"
        },
        "id": "J_3L-2cqhmYO",
        "outputId": "edd4dfc7-6e97-4ec7-a57f-57e7bb3991bd"
      },
      "source": [
        "actual_users - pu"
      ],
      "execution_count": null,
      "outputs": [
        {
          "output_type": "execute_result",
          "data": {
            "text/plain": [
              "{1984}"
            ]
          },
          "metadata": {
            "tags": []
          },
          "execution_count": 168
        }
      ]
    },
    {
      "cell_type": "code",
      "metadata": {
        "colab": {
          "base_uri": "https://localhost:8080/"
        },
        "id": "VMUhFr3DZ_Vd",
        "outputId": "7c199353-a96e-422a-f027-2b0826abe47e"
      },
      "source": [
        "print(f'Среднее значение метрики recall_at_k для k = {k}: ')\n",
        "print(f'Рекомендация \\t Среднее значение \\t Стандартное отклонени')\n",
        "for fn in ['als', 'own', 'similar_items']:  # , 'similar_users'\n",
        "  m, s = total_recall_at_k(actual_data=result_lvl_1[to_count], k=k, N=k, func_name=fn)\n",
        "  print(f'{fn} \\t\\t\\t {m:.3f} \\t\\t\\t {s:.5f}')"
      ],
      "execution_count": null,
      "outputs": [
        {
          "output_type": "stream",
          "text": [
            "Среднее значение метрики recall_at_k для k = 50: \n",
            "Рекомендация \t Среднее значение \t Стандартное отклонени\n",
            "als \t\t\t 0.048 \t\t\t 0.07106\n",
            "own \t\t\t 0.065 \t\t\t 0.09257\n",
            "similar_items \t\t\t 0.033 \t\t\t 0.06328\n"
          ],
          "name": "stdout"
        }
      ]
    },
    {
      "cell_type": "code",
      "metadata": {
        "colab": {
          "base_uri": "https://localhost:8080/"
        },
        "id": "wFUTAte6pXQi",
        "outputId": "74174d1c-036e-400f-f305-5c033446bb36"
      },
      "source": [
        "methods = ['als', 'own', 'similar_items']  # , 'similar_users'\n",
        "df = pd.DataFrame(columns=methods)\n",
        "for k in [20, 50, 100, 200]:\n",
        "  print(f'k: {k}')\n",
        "  for fn in methods:\n",
        "    m, s = total_recall_at_k(actual_data=result_lvl_1[to_count], k=k, N=k, func_name=fn)\n",
        "    df.loc[k, fn] = m\n",
        "    print(f'\\t method: {fn}, metric: {m:.3f}')\n",
        "  print(df.tail(1))\n",
        "  print('='*50)\n",
        "  df.to_csv(PATH + 'total_recall.csv')"
      ],
      "execution_count": null,
      "outputs": [
        {
          "output_type": "stream",
          "text": [
            "k: 20\n",
            "\t method: als, metric: 0.029\n",
            "\t method: own, metric: 0.039\n",
            "\t method: similar_items, metric: 0.018\n",
            "          als        own similar_items\n",
            "20  0.0290958  0.0392843     0.0175594\n",
            "==================================================\n",
            "k: 50\n",
            "\t method: als, metric: 0.048\n",
            "\t method: own, metric: 0.065\n",
            "\t method: similar_items, metric: 0.033\n",
            "          als        own similar_items\n",
            "50  0.0482734  0.0652566     0.0330639\n",
            "==================================================\n",
            "k: 100\n",
            "\t method: als, metric: 0.070\n",
            "\t method: own, metric: 0.096\n",
            "\t method: similar_items, metric: 0.053\n",
            "          als        own similar_items\n",
            "100  0.069917  0.0960449     0.0530717\n",
            "==================================================\n",
            "k: 200\n",
            "\t method: als, metric: 0.097\n",
            "\t method: own, metric: 0.135\n",
            "\t method: similar_items, metric: 0.086\n",
            "           als       own similar_items\n",
            "200  0.0973095  0.135373     0.0856481\n",
            "==================================================\n"
          ],
          "name": "stdout"
        }
      ]
    },
    {
      "cell_type": "code",
      "metadata": {
        "colab": {
          "base_uri": "https://localhost:8080/",
          "height": 166
        },
        "id": "eSJYrAf4qyod",
        "outputId": "62f40b45-1196-4f2f-8ab7-a5413ac67589"
      },
      "source": [
        "df.to_csv(PATH + 'total_recall.csv')\n",
        "df"
      ],
      "execution_count": null,
      "outputs": [
        {
          "output_type": "execute_result",
          "data": {
            "text/html": [
              "<div>\n",
              "<style scoped>\n",
              "    .dataframe tbody tr th:only-of-type {\n",
              "        vertical-align: middle;\n",
              "    }\n",
              "\n",
              "    .dataframe tbody tr th {\n",
              "        vertical-align: top;\n",
              "    }\n",
              "\n",
              "    .dataframe thead th {\n",
              "        text-align: right;\n",
              "    }\n",
              "</style>\n",
              "<table border=\"1\" class=\"dataframe\">\n",
              "  <thead>\n",
              "    <tr style=\"text-align: right;\">\n",
              "      <th></th>\n",
              "      <th>als</th>\n",
              "      <th>own</th>\n",
              "      <th>similar_items</th>\n",
              "    </tr>\n",
              "  </thead>\n",
              "  <tbody>\n",
              "    <tr>\n",
              "      <th>20</th>\n",
              "      <td>0.0290958</td>\n",
              "      <td>0.0392843</td>\n",
              "      <td>0.0175594</td>\n",
              "    </tr>\n",
              "    <tr>\n",
              "      <th>50</th>\n",
              "      <td>0.0482734</td>\n",
              "      <td>0.0652566</td>\n",
              "      <td>0.0330639</td>\n",
              "    </tr>\n",
              "    <tr>\n",
              "      <th>100</th>\n",
              "      <td>0.069917</td>\n",
              "      <td>0.0960449</td>\n",
              "      <td>0.0530717</td>\n",
              "    </tr>\n",
              "    <tr>\n",
              "      <th>200</th>\n",
              "      <td>0.0973095</td>\n",
              "      <td>0.135373</td>\n",
              "      <td>0.0856481</td>\n",
              "    </tr>\n",
              "  </tbody>\n",
              "</table>\n",
              "</div>"
            ],
            "text/plain": [
              "           als        own similar_items\n",
              "20   0.0290958  0.0392843     0.0175594\n",
              "50   0.0482734  0.0652566     0.0330639\n",
              "100   0.069917  0.0960449     0.0530717\n",
              "200  0.0973095   0.135373     0.0856481"
            ]
          },
          "metadata": {
            "tags": []
          },
          "execution_count": 172
        }
      ]
    },
    {
      "cell_type": "code",
      "metadata": {
        "colab": {
          "base_uri": "https://localhost:8080/",
          "height": 267
        },
        "id": "pJ6iu6zjq8Y5",
        "outputId": "fbefa15b-e457-41e2-f9c1-82ef9464aab7"
      },
      "source": [
        "df.plot()\n",
        "plt.show()"
      ],
      "execution_count": null,
      "outputs": [
        {
          "output_type": "display_data",
          "data": {
            "image/png": "[encoded data removed]",
            "text/plain": [
              "<Figure size 432x288 with 1 Axes>"
            ]
          },
          "metadata": {
            "tags": [],
            "needs_background": "light"
          }
        }
      ]
    },
    {
      "cell_type": "markdown",
      "metadata": {
        "id": "KV1_P1aQ_ryy"
      },
      "source": [
        "Видно, что лучше всех показали себя als и own. Модель similar_items на больших k тоже к ним приблизилась.     \n",
        "\n",
        "Модель similar_users считалась очень долго и я ее выкинул, так как смымл - сосчитать быстро. Если честно, я не понимаю почему модель реализована в таком виде, что берутся 500 юзеров и по каждому отбирается \"лучший\" товар. Мне кажется, что модель в которой берется 5 ближайших юзеров и отбирается 100 товаров по каждому, показала бы себя лучше. Можно попробовать в курсовике."
      ]
    },
    {
      "cell_type": "markdown",
      "metadata": {
        "id": "Im0t_xNeBJzM"
      },
      "source": [
        "Посмотрим, что будет дальше для \"выживших\" моделей:"
      ]
    },
    {
      "cell_type": "code",
      "metadata": {
        "colab": {
          "base_uri": "https://localhost:8080/"
        },
        "id": "jmMPqAfcAyMs",
        "outputId": "00113905-1a09-44b9-b2dc-a1a48ed7073f"
      },
      "source": [
        "methods = ['als', 'own', 'similar_items']\n",
        "# df = pd.DataFrame(columns=methods)\n",
        "for k in [500, 1000, 2000, 5000]:\n",
        "  print(f'k: {k}')\n",
        "  for fn in methods:\n",
        "    m, s = total_recall_at_k(actual_data=result_lvl_1[to_count], k=k, N=k, func_name=fn)\n",
        "    df.loc[k, fn] = m\n",
        "    print(f'\\t method: {fn}, metric: {m:.3f}')\n",
        "  print(df.tail(1))\n",
        "  print('='*50)\n",
        "  df.to_csv(PATH + 'total_recall_2.csv')"
      ],
      "execution_count": null,
      "outputs": [
        {
          "output_type": "stream",
          "text": [
            "k: 500\n",
            "\t method: als, metric: 0.146\n",
            "\t method: own, metric: 0.182\n",
            "\t method: similar_items, metric: 0.137\n",
            "          als       own similar_items\n",
            "500  0.146204  0.182053      0.136558\n",
            "==================================================\n",
            "k: 1000\n",
            "\t method: als, metric: 0.195\n",
            "\t method: own, metric: 0.217\n",
            "\t method: similar_items, metric: 0.182\n",
            "           als       own similar_items\n",
            "1000  0.195461  0.216791       0.18203\n",
            "==================================================\n",
            "k: 2000\n",
            "\t method: als, metric: 0.252\n",
            "\t method: own, metric: 0.254\n",
            "\t method: similar_items, metric: 0.233\n",
            "           als       own similar_items\n",
            "2000  0.251804  0.254054      0.233097\n",
            "==================================================\n",
            "k: 5000\n",
            "\t method: als, metric: 0.327\n",
            "\t method: own, metric: 0.325\n",
            "\t method: similar_items, metric: 0.324\n",
            "           als       own similar_items\n",
            "5000  0.326996  0.325125      0.324268\n",
            "==================================================\n"
          ],
          "name": "stdout"
        }
      ]
    },
    {
      "cell_type": "code",
      "metadata": {
        "colab": {
          "base_uri": "https://localhost:8080/",
          "height": 284
        },
        "id": "mX2XmarZBRe9",
        "outputId": "a420e916-d99f-4843-b943-179597933d1c"
      },
      "source": [
        "df.to_csv(PATH + 'total_recall_2.csv')\n",
        "df"
      ],
      "execution_count": null,
      "outputs": [
        {
          "output_type": "execute_result",
          "data": {
            "text/html": [
              "<div>\n",
              "<style scoped>\n",
              "    .dataframe tbody tr th:only-of-type {\n",
              "        vertical-align: middle;\n",
              "    }\n",
              "\n",
              "    .dataframe tbody tr th {\n",
              "        vertical-align: top;\n",
              "    }\n",
              "\n",
              "    .dataframe thead th {\n",
              "        text-align: right;\n",
              "    }\n",
              "</style>\n",
              "<table border=\"1\" class=\"dataframe\">\n",
              "  <thead>\n",
              "    <tr style=\"text-align: right;\">\n",
              "      <th></th>\n",
              "      <th>als</th>\n",
              "      <th>own</th>\n",
              "      <th>similar_items</th>\n",
              "    </tr>\n",
              "  </thead>\n",
              "  <tbody>\n",
              "    <tr>\n",
              "      <th>20</th>\n",
              "      <td>0.0290958</td>\n",
              "      <td>0.0392843</td>\n",
              "      <td>0.0175594</td>\n",
              "    </tr>\n",
              "    <tr>\n",
              "      <th>50</th>\n",
              "      <td>0.0482734</td>\n",
              "      <td>0.0652566</td>\n",
              "      <td>0.0330639</td>\n",
              "    </tr>\n",
              "    <tr>\n",
              "      <th>100</th>\n",
              "      <td>0.069917</td>\n",
              "      <td>0.0960449</td>\n",
              "      <td>0.0530717</td>\n",
              "    </tr>\n",
              "    <tr>\n",
              "      <th>200</th>\n",
              "      <td>0.0973095</td>\n",
              "      <td>0.135373</td>\n",
              "      <td>0.0856481</td>\n",
              "    </tr>\n",
              "    <tr>\n",
              "      <th>500</th>\n",
              "      <td>0.146204</td>\n",
              "      <td>0.182053</td>\n",
              "      <td>0.136558</td>\n",
              "    </tr>\n",
              "    <tr>\n",
              "      <th>1000</th>\n",
              "      <td>0.195461</td>\n",
              "      <td>0.216791</td>\n",
              "      <td>0.18203</td>\n",
              "    </tr>\n",
              "    <tr>\n",
              "      <th>2000</th>\n",
              "      <td>0.251804</td>\n",
              "      <td>0.254054</td>\n",
              "      <td>0.233097</td>\n",
              "    </tr>\n",
              "    <tr>\n",
              "      <th>5000</th>\n",
              "      <td>0.326996</td>\n",
              "      <td>0.325125</td>\n",
              "      <td>0.324268</td>\n",
              "    </tr>\n",
              "  </tbody>\n",
              "</table>\n",
              "</div>"
            ],
            "text/plain": [
              "            als        own similar_items\n",
              "20    0.0290958  0.0392843     0.0175594\n",
              "50    0.0482734  0.0652566     0.0330639\n",
              "100    0.069917  0.0960449     0.0530717\n",
              "200   0.0973095   0.135373     0.0856481\n",
              "500    0.146204   0.182053      0.136558\n",
              "1000   0.195461   0.216791       0.18203\n",
              "2000   0.251804   0.254054      0.233097\n",
              "5000   0.326996   0.325125      0.324268"
            ]
          },
          "metadata": {
            "tags": []
          },
          "execution_count": 175
        }
      ]
    },
    {
      "cell_type": "code",
      "metadata": {
        "colab": {
          "base_uri": "https://localhost:8080/",
          "height": 265
        },
        "id": "TCOQrFNGB6KC",
        "outputId": "503712a7-d84d-4482-ea14-cad51ec1e82d"
      },
      "source": [
        "df.plot()\n",
        "plt.show()"
      ],
      "execution_count": null,
      "outputs": [
        {
          "output_type": "display_data",
          "data": {
            "image/png": "[encoded data removed]",
            "text/plain": [
              "<Figure size 432x288 with 1 Axes>"
            ]
          },
          "metadata": {
            "tags": [],
            "needs_background": "light"
          }
        }
      ]
    },
    {
      "cell_type": "markdown",
      "metadata": {
        "id": "XrfflWb3CyRV"
      },
      "source": [
        "В конце метрики сравнялись, что и не удивительно: наша префильтрация оставила 5000 товаров.\n",
        "Судя по графику, разумно остановиться в окрестности 500"
      ]
    },
    {
      "cell_type": "markdown",
      "metadata": {
        "id": "bmRDHTrIFAP9"
      },
      "source": [
        "### Задание 2.\n",
        "\n",
        "Обучите модель 2-ого уровня, при этом:\n",
        "    - Добавьте минимум по 2 фичи для юзера, товара и пары юзер-товар\n",
        "    - Измерьте отдельно precision@5 модели 1-ого уровня и двухуровневой модели на data_val_lvl_2\n",
        "    - Вырос ли precision@5 при использовании двухуровневой модели?"
      ]
    },
    {
      "cell_type": "code",
      "metadata": {
        "id": "iVd4DX9PBC6B"
      },
      "source": [
        "# Определим функцию для получения рекоммендаций первого уровня из смеси als, own, similar_items и top. Заодно решим проблемму холодного старта\n",
        "\n",
        "def get_lvl_1_recommendations(recommender, user_id, N):\n",
        "  als_rec = []\n",
        "  own_rec = []\n",
        "  similar_items_rec = []\n",
        "\n",
        "  try:\n",
        "    als_rec = recommender.get_als_recommendations(user_id, N)\n",
        "  except:\n",
        "    print(f'Cannot apply als to user {user_id}')\n",
        "  \n",
        "  try:\n",
        "    own_rec = recommender.get_own_recommendations(user_id, N)\n",
        "  except:\n",
        "    print(f'Cannot apply own to user {user_id}')\n",
        "\n",
        "  try:\n",
        "    similar_items_rec = recommender.get_similar_items_recommendations(user_id, N)\n",
        "  except:\n",
        "    print(f'Cannot apply similar_items to user {user_id}')\n",
        "\n",
        "  top_rec = recommender.overall_top_purchases\n",
        "\n",
        "  als_rec_d = {itm: als_rec.index(itm) for itm in als_rec}\n",
        "  own_rec_d = {itm: own_rec.index(itm) for itm in own_rec}\n",
        "  similar_items_rec_d = {itm: similar_items_rec.index(itm) for itm in similar_items_rec}\n",
        "  top_rec_d = {itm: top_rec.index(itm) for itm in top_rec}\n",
        "\n",
        "  total_rec_d = dict()\n",
        "  for itm in set(als_rec + own_rec + similar_items_rec + top_rec):\n",
        "    total_rec_d[itm] = 0\n",
        "    for rec in ['als_rec', 'own_rec', 'similar_items_rec', 'top_rec']:\n",
        "      if itm in eval(rec):\n",
        "        total_rec_d[itm] += eval(f'{rec}_d[itm]')\n",
        "      else:\n",
        "        total_rec_d[itm] += N + 1\n",
        "\n",
        "  res = list({k: v for k, v in sorted(total_rec_d.items(), key=lambda item: item[1])}.keys())[:N]\n",
        "  print(user_id)\n",
        "\n",
        "  return res"
      ],
      "execution_count": null,
      "outputs": []
    },
    {
      "cell_type": "markdown",
      "metadata": {
        "id": "4xJ-Md1lUBEX"
      },
      "source": [
        "!!! Сделано абсолютно по-дурацки !!! Зачем считать сначала рекоммендации для train второго уровня, а затем для valid второго уровня, если большинство юзеров одни и те же и предсказания будут одинаковыми. Нужно будет переделать для курсовика: считать рекоммендации первого уровня для всего, что не попало в первый уровень, а уже пото бить второй уровень на train и valid"
      ]
    },
    {
      "cell_type": "code",
      "metadata": {
        "colab": {
          "base_uri": "https://localhost:8080/"
        },
        "id": "dFsiojsnJ5vp",
        "outputId": "e9a8ccce-2c7f-43b4-f8ff-49ae1f3292b1"
      },
      "source": [
        "users_lvl_2 = pd.DataFrame(data_train_lvl_2['user_id'].unique())\n",
        "users_lvl_2.columns = ['user_id']\n",
        "users_lvl_2['candidates'] = users_lvl_2['user_id'].apply(lambda x: get_lvl_1_recommendations(recommender=recommender, user_id=x, N=200))"
      ],
      "execution_count": null,
      "outputs": [
        {
          "output_type": "stream",
          "text": [
            "2070\n",
            "2021\n",
            "1753\n",
            "2120\n",
            "1346\n",
            "2324\n",
            "2430\n",
            "1434\n",
            "2181\n",
            "1011\n",
            "119\n",
            "1550\n",
            "400\n",
            "2310\n",
            "1458\n",
            "2095\n",
            "2375\n",
            "2101\n",
            "1226\n",
            "1300\n",
            "2307\n",
            "97\n",
            "1566\n",
            "1277\n",
            "735\n",
            "2397\n",
            "1740\n",
            "290\n",
            "883\n",
            "853\n",
            "1174\n",
            "2204\n",
            "1084\n",
            "548\n",
            "1260\n",
            "309\n",
            "1997\n",
            "287\n",
            "2449\n",
            "468\n",
            "654\n",
            "731\n",
            "2129\n",
            "2117\n",
            "1570\n",
            "1243\n",
            "1795\n",
            "882\n",
            "526\n",
            "1245\n",
            "1081\n",
            "1430\n",
            "68\n",
            "1947\n",
            "1633\n",
            "846\n",
            "1546\n",
            "2498\n",
            "517\n",
            "957\n",
            "1132\n",
            "360\n",
            "1804\n",
            "804\n",
            "1659\n",
            "1817\n",
            "454\n",
            "945\n",
            "101\n",
            "1602\n",
            "1567\n",
            "1510\n",
            "442\n",
            "67\n",
            "950\n",
            "1240\n",
            "110\n",
            "1103\n",
            "69\n",
            "947\n",
            "466\n",
            "2270\n",
            "263\n",
            "1540\n",
            "670\n",
            "1067\n",
            "2260\n",
            "1460\n",
            "2217\n",
            "661\n",
            "1216\n",
            "1349\n",
            "1379\n",
            "900\n",
            "1592\n",
            "1051\n",
            "223\n",
            "534\n",
            "2312\n",
            "895\n",
            "1461\n",
            "618\n",
            "20\n",
            "1528\n",
            "2234\n",
            "1609\n",
            "1470\n",
            "409\n",
            "768\n",
            "2360\n",
            "125\n",
            "2252\n",
            "2190\n",
            "1369\n",
            "1694\n",
            "2262\n",
            "1151\n",
            "2041\n",
            "1850\n",
            "1023\n",
            "2237\n",
            "718\n",
            "189\n",
            "2156\n",
            "1070\n",
            "1406\n",
            "1579\n",
            "239\n",
            "1175\n",
            "1473\n",
            "1616\n",
            "138\n",
            "641\n",
            "1777\n",
            "825\n",
            "288\n",
            "2162\n",
            "1762\n",
            "2264\n",
            "404\n",
            "1297\n",
            "1944\n",
            "463\n",
            "638\n",
            "2148\n",
            "1102\n",
            "1879\n",
            "2083\n",
            "235\n",
            "922\n",
            "1228\n",
            "2328\n",
            "523\n",
            "1536\n",
            "1883\n",
            "1291\n",
            "431\n",
            "1248\n",
            "553\n",
            "930\n",
            "451\n",
            "1920\n",
            "2215\n",
            "540\n",
            "597\n",
            "2230\n",
            "434\n",
            "1306\n",
            "623\n",
            "2299\n",
            "2475\n",
            "660\n",
            "2141\n",
            "2018\n",
            "396\n",
            "1389\n",
            "2236\n",
            "1508\n",
            "1642\n",
            "567\n",
            "975\n",
            "161\n",
            "1769\n",
            "2386\n",
            "305\n",
            "23\n",
            "1982\n",
            "1113\n",
            "1039\n",
            "578\n",
            "952\n",
            "52\n",
            "1807\n",
            "972\n",
            "1624\n",
            "2459\n",
            "1367\n",
            "757\n",
            "1849\n",
            "2173\n",
            "411\n",
            "1347\n",
            "1900\n",
            "115\n",
            "728\n",
            "1534\n",
            "1557\n",
            "751\n",
            "541\n",
            "1545\n",
            "249\n",
            "1700\n",
            "942\n",
            "19\n",
            "2263\n",
            "1449\n",
            "595\n",
            "209\n",
            "2366\n",
            "498\n",
            "2086\n",
            "1383\n",
            "1668\n",
            "582\n",
            "2172\n",
            "1256\n",
            "1820\n",
            "2278\n",
            "358\n",
            "1696\n",
            "976\n",
            "88\n",
            "802\n",
            "1326\n",
            "1445\n",
            "842\n",
            "1730\n",
            "644\n",
            "1142\n",
            "1877\n",
            "2112\n",
            "1428\n",
            "2023\n",
            "397\n",
            "1109\n",
            "562\n",
            "628\n",
            "983\n",
            "1631\n",
            "334\n",
            "1234\n",
            "848\n",
            "2361\n",
            "2464\n",
            "988\n",
            "1145\n",
            "1535\n",
            "664\n",
            "680\n",
            "800\n",
            "1159\n",
            "2447\n",
            "123\n",
            "2038\n",
            "580\n",
            "1318\n",
            "27\n",
            "2239\n",
            "1998\n",
            "1604\n",
            "672\n",
            "914\n",
            "602\n",
            "2053\n",
            "1514\n",
            "936\n",
            "722\n",
            "165\n",
            "633\n",
            "127\n",
            "493\n",
            "536\n",
            "2047\n",
            "998\n",
            "1689\n",
            "1391\n",
            "2392\n",
            "2069\n",
            "840\n",
            "1005\n",
            "730\n",
            "938\n",
            "273\n",
            "539\n",
            "1211\n",
            "98\n",
            "1702\n",
            "361\n",
            "787\n",
            "1665\n",
            "2283\n",
            "1856\n",
            "280\n",
            "956\n",
            "624\n",
            "869\n",
            "2460\n",
            "2233\n",
            "1055\n",
            "712\n",
            "489\n",
            "1942\n",
            "2036\n",
            "329\n",
            "607\n",
            "1595\n",
            "1713\n",
            "742\n",
            "1312\n",
            "834\n",
            "1467\n",
            "36\n",
            "2390\n",
            "919\n",
            "1089\n",
            "2405\n",
            "690\n",
            "1148\n",
            "1801\n",
            "656\n",
            "1812\n",
            "643\n",
            "744\n",
            "1042\n",
            "116\n",
            "1591\n",
            "1136\n",
            "971\n",
            "178\n",
            "2470\n",
            "685\n",
            "415\n",
            "2064\n",
            "1499\n",
            "77\n",
            "1778\n",
            "1271\n",
            "2272\n",
            "1705\n",
            "2338\n",
            "926\n",
            "2170\n",
            "2406\n",
            "2291\n",
            "2068\n",
            "2492\n",
            "1901\n",
            "2137\n",
            "2364\n",
            "514\n",
            "824\n",
            "1407\n",
            "510\n",
            "1453\n",
            "65\n",
            "335\n",
            "2211\n",
            "253\n",
            "1328\n",
            "676\n",
            "1118\n",
            "989\n",
            "1733\n",
            "1179\n",
            "2133\n",
            "276\n",
            "1332\n",
            "1393\n",
            "1865\n",
            "2203\n",
            "1443\n",
            "2381\n",
            "1788\n",
            "1781\n",
            "1366\n",
            "2379\n",
            "106\n",
            "663\n",
            "745\n",
            "1612\n",
            "422\n",
            "1001\n",
            "79\n",
            "99\n",
            "1683\n",
            "2004\n",
            "385\n",
            "1614\n",
            "2194\n",
            "1749\n",
            "1651\n",
            "1325\n",
            "1167\n",
            "1073\n",
            "1293\n",
            "64\n",
            "2071\n",
            "2484\n",
            "1423\n",
            "1417\n",
            "1166\n",
            "1939\n",
            "841\n",
            "1285\n",
            "1505\n",
            "810\n",
            "1525\n",
            "1482\n",
            "2034\n",
            "1524\n",
            "1742\n",
            "1726\n",
            "348\n",
            "382\n",
            "2135\n",
            "1077\n",
            "1041\n",
            "1829\n",
            "316\n",
            "1481\n",
            "1943\n",
            "1394\n",
            "2171\n",
            "13\n",
            "1303\n",
            "820\n",
            "401\n",
            "878\n",
            "568\n",
            "2225\n",
            "639\n",
            "1314\n",
            "2407\n",
            "281\n",
            "1708\n",
            "951\n",
            "1764\n",
            "109\n",
            "1258\n",
            "1451\n",
            "1501\n",
            "2140\n",
            "430\n",
            "871\n",
            "301\n",
            "2020\n",
            "2343\n",
            "2075\n",
            "1475\n",
            "1065\n",
            "955\n",
            "2115\n",
            "40\n",
            "426\n",
            "1246\n",
            "984\n",
            "156\n",
            "289\n",
            "1653\n",
            "1397\n",
            "1058\n",
            "1927\n",
            "856\n",
            "121\n",
            "2055\n",
            "1267\n",
            "1004\n",
            "1146\n",
            "432\n",
            "1995\n",
            "2466\n",
            "1224\n",
            "1353\n",
            "1690\n",
            "1712\n",
            "2483\n",
            "589\n",
            "1492\n",
            "1229\n",
            "1919\n",
            "786\n",
            "982\n",
            "2012\n",
            "2451\n",
            "2235\n",
            "2149\n",
            "491\n",
            "378\n",
            "603\n",
            "1388\n",
            "708\n",
            "1138\n",
            "1672\n",
            "1358\n",
            "2109\n",
            "1334\n",
            "230\n",
            "1620\n",
            "1424\n",
            "118\n",
            "691\n",
            "1981\n",
            "429\n",
            "747\n",
            "516\n",
            "1537\n",
            "864\n",
            "2183\n",
            "2085\n",
            "1097\n",
            "2077\n",
            "1123\n",
            "353\n",
            "2003\n",
            "817\n",
            "1991\n",
            "26\n",
            "51\n",
            "925\n",
            "1732\n",
            "1693\n",
            "1317\n",
            "1985\n",
            "1014\n",
            "687\n",
            "2287\n",
            "648\n",
            "703\n",
            "2486\n",
            "1619\n",
            "1010\n",
            "2391\n",
            "1110\n",
            "337\n",
            "279\n",
            "2481\n",
            "725\n",
            "709\n",
            "889\n",
            "928\n",
            "1779\n",
            "658\n",
            "104\n",
            "681\n",
            "2333\n",
            "103\n",
            "1483\n",
            "1401\n",
            "503\n",
            "867\n",
            "531\n",
            "2168\n",
            "1799\n",
            "1593\n",
            "2296\n",
            "1955\n",
            "816\n",
            "2243\n",
            "849\n",
            "1198\n",
            "1707\n",
            "424\n",
            "227\n",
            "376\n",
            "2087\n",
            "1338\n",
            "2124\n",
            "1666\n",
            "1797\n",
            "1158\n",
            "1664\n",
            "631\n",
            "1420\n",
            "621\n",
            "2088\n",
            "1171\n",
            "448\n",
            "1154\n",
            "1765\n",
            "2033\n",
            "151\n",
            "2245\n",
            "1898\n",
            "2229\n",
            "1832\n",
            "1191\n",
            "148\n",
            "2154\n",
            "1078\n",
            "705\n",
            "1823\n",
            "1040\n",
            "1071\n",
            "587\n",
            "303\n",
            "1989\n",
            "1754\n",
            "324\n",
            "190\n",
            "1165\n",
            "1512\n",
            "916\n",
            "1922\n",
            "1843\n",
            "1903\n",
            "1775\n",
            "2322\n",
            "929\n",
            "764\n",
            "818\n",
            "129\n",
            "55\n",
            "1333\n",
            "1517\n",
            "695\n",
            "576\n",
            "1854\n",
            "1632\n",
            "937\n",
            "219\n",
            "1289\n",
            "392\n",
            "1364\n",
            "696\n",
            "1917\n",
            "2437\n",
            "528\n",
            "1345\n",
            "464\n",
            "1924\n",
            "1160\n",
            "1599\n",
            "1045\n",
            "1017\n",
            "2363\n",
            "113\n",
            "1128\n",
            "18\n",
            "2317\n",
            "1662\n",
            "1627\n",
            "41\n",
            "1436\n",
            "1259\n",
            "1421\n",
            "1440\n",
            "336\n",
            "847\n",
            "753\n",
            "1372\n",
            "1906\n",
            "1965\n",
            "2206\n",
            "707\n",
            "160\n",
            "473\n",
            "1265\n",
            "898\n",
            "1613\n",
            "1996\n",
            "427\n",
            "1489\n",
            "844\n",
            "736\n",
            "507\n",
            "1497\n",
            "31\n",
            "328\n",
            "91\n",
            "1208\n",
            "224\n",
            "351\n",
            "1650\n",
            "1649\n",
            "306\n",
            "2370\n",
            "389\n",
            "2351\n",
            "2011\n",
            "513\n",
            "594\n",
            "1660\n",
            "83\n",
            "891\n",
            "831\n",
            "321\n",
            "367\n",
            "1384\n",
            "726\n",
            "2123\n",
            "653\n",
            "1747\n",
            "755\n",
            "593\n",
            "560\n",
            "1527\n",
            "2371\n",
            "1872\n",
            "666\n",
            "2127\n",
            "2467\n",
            "2394\n",
            "563\n",
            "2302\n",
            "2432\n",
            "78\n",
            "1206\n",
            "807\n",
            "194\n",
            "2269\n",
            "2334\n",
            "1860\n",
            "215\n",
            "46\n",
            "Cannot apply als to user 1813\n",
            "Cannot apply own to user 1813\n",
            "1813\n",
            "1529\n",
            "1163\n",
            "443\n",
            "184\n",
            "2336\n",
            "771\n",
            "1382\n",
            "614\n",
            "105\n",
            "1186\n",
            "311\n",
            "879\n",
            "2426\n",
            "2446\n",
            "458\n",
            "1549\n",
            "412\n",
            "275\n",
            "1594\n",
            "247\n",
            "673\n",
            "520\n",
            "2057\n",
            "1975\n",
            "1324\n",
            "384\n",
            "1511\n",
            "1273\n",
            "2019\n",
            "198\n",
            "1839\n",
            "410\n",
            "2358\n",
            "1427\n",
            "133\n",
            "2258\n",
            "2436\n",
            "1717\n",
            "1311\n",
            "977\n",
            "2418\n",
            "1648\n",
            "1621\n",
            "210\n",
            "781\n",
            "1209\n",
            "1296\n",
            "1680\n",
            "2037\n",
            "302\n",
            "2110\n",
            "1418\n",
            "1835\n",
            "896\n",
            "1526\n",
            "1559\n",
            "985\n",
            "388\n",
            "518\n",
            "1716\n",
            "1098\n",
            "158\n",
            "2114\n",
            "761\n",
            "314\n",
            "763\n",
            "117\n",
            "1056\n",
            "1979\n",
            "72\n",
            "1703\n",
            "1374\n",
            "1861\n",
            "1066\n",
            "545\n",
            "2125\n",
            "1337\n",
            "575\n",
            "564\n",
            "2284\n",
            "1270\n",
            "1862\n",
            "583\n",
            "371\n",
            "1409\n",
            "1808\n",
            "790\n",
            "1205\n",
            "251\n",
            "1491\n",
            "710\n",
            "2497\n",
            "1485\n",
            "435\n",
            "1178\n",
            "481\n",
            "1130\n",
            "1710\n",
            "748\n",
            "403\n",
            "1302\n",
            "2288\n",
            "734\n",
            "915\n",
            "667\n",
            "1634\n",
            "172\n",
            "1623\n",
            "1837\n",
            "2080\n",
            "2244\n",
            "2200\n",
            "511\n",
            "1431\n",
            "2076\n",
            "208\n",
            "799\n",
            "470\n",
            "617\n",
            "1715\n",
            "1287\n",
            "538\n",
            "1596\n",
            "2196\n",
            "808\n",
            "238\n",
            "741\n",
            "1848\n",
            "1585\n",
            "2369\n",
            "307\n",
            "2102\n",
            "797\n",
            "2427\n",
            "153\n",
            "754\n",
            "1020\n",
            "2090\n",
            "2089\n",
            "2198\n",
            "1050\n",
            "1870\n",
            "84\n",
            "1873\n",
            "886\n",
            "58\n",
            "228\n",
            "395\n",
            "2468\n",
            "636\n",
            "1149\n",
            "933\n",
            "1\n",
            "1748\n",
            "1676\n",
            "2199\n",
            "752\n",
            "1687\n",
            "164\n",
            "22\n",
            "1164\n",
            "1479\n",
            "300\n",
            "692\n",
            "1520\n",
            "2006\n",
            "2045\n",
            "1841\n",
            "579\n",
            "1182\n",
            "784\n",
            "1261\n",
            "437\n",
            "1686\n",
            "135\n",
            "1484\n",
            "377\n",
            "1399\n",
            "357\n",
            "2143\n",
            "211\n",
            "2017\n",
            "8\n",
            "1578\n",
            "2380\n",
            "612\n",
            "1960\n",
            "2376\n",
            "932\n",
            "924\n",
            "1272\n",
            "1502\n",
            "6\n",
            "1498\n",
            "715\n",
            "124\n",
            "1678\n",
            "1190\n",
            "2209\n",
            "2161\n",
            "1794\n",
            "997\n",
            "1021\n",
            "2188\n",
            "95\n",
            "2340\n",
            "866\n",
            "1736\n",
            "2400\n",
            "346\n",
            "1692\n",
            "2084\n",
            "171\n",
            "979\n",
            "2282\n",
            "57\n",
            "1131\n",
            "698\n",
            "354\n",
            "2029\n",
            "42\n",
            "1083\n",
            "1892\n",
            "2022\n",
            "1408\n",
            "2332\n",
            "2453\n",
            "418\n",
            "131\n",
            "650\n",
            "729\n",
            "683\n",
            "2488\n",
            "2374\n",
            "720\n",
            "1180\n",
            "2180\n",
            "14\n",
            "776\n",
            "999\n",
            "1126\n",
            "196\n",
            "2024\n",
            "394\n",
            "2281\n",
            "2231\n",
            "724\n",
            "1292\n",
            "1826\n",
            "1909\n",
            "380\n",
            "216\n",
            "1415\n",
            "1956\n",
            "383\n",
            "1746\n",
            "1684\n",
            "2015\n",
            "1548\n",
            "993\n",
            "1203\n",
            "338\n",
            "1770\n",
            "1038\n",
            "1940\n",
            "1279\n",
            "1024\n",
            "1752\n",
            "248\n",
            "1137\n",
            "675\n",
            "485\n",
            "257\n",
            "292\n",
            "939\n",
            "1476\n",
            "243\n",
            "157\n",
            "1720\n",
            "2185\n",
            "1847\n",
            "1247\n",
            "1513\n",
            "92\n",
            "1643\n",
            "1936\n",
            "2100\n",
            "1573\n",
            "1663\n",
            "1802\n",
            "2393\n",
            "743\n",
            "608\n",
            "1088\n",
            "2345\n",
            "2314\n",
            "1630\n",
            "1763\n",
            "214\n",
            "1197\n",
            "195\n",
            "2266\n",
            "1452\n",
            "1954\n",
            "855\n",
            "2274\n",
            "959\n",
            "2062\n",
            "1607\n",
            "740\n",
            "1767\n",
            "2438\n",
            "586\n",
            "923\n",
            "1002\n",
            "2341\n",
            "2142\n",
            "139\n",
            "1053\n",
            "1390\n",
            "2116\n",
            "285\n",
            "2342\n",
            "530\n",
            "484\n",
            "212\n",
            "2007\n",
            "2267\n",
            "192\n",
            "221\n",
            "934\n",
            "823\n",
            "1911\n",
            "2157\n",
            "750\n",
            "1494\n",
            "598\n",
            "2421\n",
            "1803\n",
            "1419\n",
            "2060\n",
            "1082\n",
            "805\n",
            "2300\n",
            "480\n",
            "960\n",
            "2275\n",
            "1625\n",
            "85\n",
            "622\n",
            "375\n",
            "1299\n",
            "1225\n",
            "1027\n",
            "1156\n",
            "283\n",
            "462\n",
            "2347\n",
            "611\n",
            "647\n",
            "1220\n",
            "2126\n",
            "1661\n",
            "1274\n",
            "1859\n",
            "1658\n",
            "1061\n",
            "330\n",
            "2448\n",
            "505\n",
            "1723\n",
            "1935\n",
            "134\n",
            "1948\n",
            "1962\n",
            "1352\n",
            "2424\n",
            "1269\n",
            "362\n",
            "1495\n",
            "699\n",
            "245\n",
            "34\n",
            "107\n",
            "2079\n",
            "627\n",
            "1836\n",
            "450\n",
            "222\n",
            "1284\n",
            "402\n",
            "944\n",
            "920\n",
            "773\n",
            "1816\n",
            "1541\n",
            "826\n",
            "1019\n",
            "232\n",
            "1598\n",
            "1845\n",
            "1354\n",
            "398\n",
            "162\n",
            "1810\n",
            "1266\n",
            "596\n",
            "1187\n",
            "1457\n",
            "2305\n",
            "413\n",
            "1236\n",
            "1914\n",
            "941\n",
            "1887\n",
            "467\n",
            "1185\n",
            "1864\n",
            "1600\n",
            "1809\n",
            "2197\n",
            "492\n",
            "2455\n",
            "1295\n",
            "2450\n",
            "1506\n",
            "1304\n",
            "558\n",
            "2359\n",
            "114\n",
            "1978\n",
            "1590\n",
            "2496\n",
            "21\n",
            "2240\n",
            "474\n",
            "909\n",
            "1969\n",
            "543\n",
            "1294\n",
            "2094\n",
            "1744\n",
            "1147\n",
            "350\n",
            "76\n",
            "1833\n",
            "759\n",
            "1319\n",
            "714\n",
            "1486\n",
            "218\n",
            "992\n",
            "1587\n",
            "1188\n",
            "2119\n",
            "1124\n",
            "2385\n",
            "686\n",
            "2005\n",
            "2289\n",
            "1222\n",
            "1405\n",
            "508\n",
            "2139\n",
            "322\n",
            "2222\n",
            "262\n",
            "1477\n",
            "294\n",
            "2442\n",
            "2074\n",
            "2226\n",
            "711\n",
            "601\n",
            "702\n",
            "862\n",
            "2290\n",
            "770\n",
            "521\n",
            "873\n",
            "1357\n",
            "2082\n",
            "2189\n",
            "1819\n",
            "1463\n",
            "2280\n",
            "910\n",
            "15\n",
            "1153\n",
            "1432\n",
            "1107\n",
            "2111\n",
            "630\n",
            "877\n",
            "1125\n",
            "2474\n",
            "591\n",
            "946\n",
            "182\n",
            "1568\n",
            "1961\n",
            "843\n",
            "2247\n",
            "637\n",
            "1827\n",
            "1735\n",
            "1490\n",
            "544\n",
            "2058\n",
            "2207\n",
            "1057\n",
            "2285\n",
            "1881\n",
            "490\n",
            "574\n",
            "393\n",
            "1398\n",
            "1305\n",
            "1899\n",
            "1950\n",
            "908\n",
            "2216\n",
            "1099\n",
            "1412\n",
            "1677\n",
            "519\n",
            "859\n",
            "1509\n",
            "439\n",
            "81\n",
            "2452\n",
            "1976\n",
            "1085\n",
            "1238\n",
            "1169\n",
            "573\n",
            "837\n",
            "1219\n",
            "606\n",
            "2414\n",
            "546\n",
            "2050\n",
            "2354\n",
            "1129\n",
            "2377\n",
            "2261\n",
            "2335\n",
            "1574\n",
            "2224\n",
            "2257\n",
            "2410\n",
            "600\n",
            "2479\n",
            "390\n",
            "269\n",
            "1068\n",
            "669\n",
            "1580\n",
            "581\n",
            "906\n",
            "1547\n",
            "1681\n",
            "381\n",
            "37\n",
            "2344\n",
            "256\n",
            "2456\n",
            "414\n",
            "684\n",
            "2352\n",
            "2213\n",
            "2030\n",
            "901\n",
            "2419\n",
            "2147\n",
            "1751\n",
            "2279\n",
            "785\n",
            "1875\n",
            "1413\n",
            "1737\n",
            "1912\n",
            "1531\n",
            "28\n",
            "2367\n",
            "1376\n",
            "887\n",
            "863\n",
            "1474\n",
            "1471\n",
            "495\n",
            "1331\n",
            "1217\n",
            "250\n",
            "1923\n",
            "1488\n",
            "830\n",
            "1252\n",
            "609\n",
            "438\n",
            "552\n",
            "1111\n",
            "1370\n",
            "2248\n",
            "128\n",
            "304\n",
            "2153\n",
            "1831\n",
            "968\n",
            "1963\n",
            "953\n",
            "2113\n",
            "2320\n",
            "2078\n",
            "2144\n",
            "1675\n",
            "1698\n",
            "762\n",
            "1462\n",
            "996\n",
            "2416\n",
            "1321\n",
            "1133\n",
            "2193\n",
            "282\n",
            "201\n",
            "1069\n",
            "2395\n",
            "1018\n",
            "555\n",
            "1268\n",
            "527\n",
            "197\n",
            "1282\n",
            "2208\n",
            "1993\n",
            "1385\n",
            "1792\n",
            "1000\n",
            "80\n",
            "270\n",
            "1622\n",
            "876\n",
            "868\n",
            "2130\n",
            "149\n",
            "1487\n",
            "1805\n",
            "17\n",
            "2500\n",
            "2223\n",
            "2401\n",
            "1970\n",
            "2378\n",
            "888\n",
            "1378\n",
            "1741\n",
            "973\n",
            "801\n",
            "497\n",
            "2232\n",
            "1986\n",
            "1556\n",
            "913\n",
            "56\n",
            "1049\n",
            "2478\n",
            "332\n",
            "1874\n",
            "342\n",
            "1685\n",
            "260\n",
            "2221\n",
            "1007\n",
            "1395\n",
            "1990\n",
            "632\n",
            "1244\n",
            "244\n",
            "1925\n",
            "1946\n",
            "1957\n",
            "1953\n",
            "1336\n",
            "2174\n",
            "605\n",
            "1783\n",
            "1316\n",
            "2294\n",
            "1611\n",
            "2387\n",
            "202\n",
            "1824\n",
            "1639\n",
            "980\n",
            "897\n",
            "1210\n",
            "1074\n",
            "2121\n",
            "772\n",
            "1988\n",
            "1522\n",
            "2131\n",
            "1916\n",
            "2403\n",
            "1724\n",
            "308\n",
            "326\n",
            "177\n",
            "325\n",
            "2138\n",
            "1972\n",
            "1582\n",
            "737\n",
            "1200\n",
            "2043\n",
            "1695\n",
            "143\n",
            "2250\n",
            "47\n",
            "1192\n",
            "1699\n",
            "1951\n",
            "2218\n",
            "2413\n",
            "1283\n",
            "1172\n",
            "63\n",
            "1046\n",
            "365\n",
            "2146\n",
            "921\n",
            "469\n",
            "850\n",
            "267\n",
            "456\n",
            "1738\n",
            "453\n",
            "2382\n",
            "2152\n",
            "386\n",
            "2441\n",
            "1218\n",
            "1798\n",
            "2408\n",
            "1558\n",
            "1121\n",
            "1691\n",
            "1941\n",
            "2056\n",
            "1971\n",
            "1743\n",
            "659\n",
            "1437\n",
            "277\n",
            "1719\n",
            "854\n",
            "2186\n",
            "1896\n",
            "838\n",
            "2462\n",
            "931\n",
            "1029\n",
            "2477\n",
            "155\n",
            "1584\n",
            "706\n",
            "1822\n",
            "1637\n",
            "205\n",
            "2158\n",
            "2108\n",
            "1264\n",
            "615\n",
            "475\n",
            "655\n",
            "496\n",
            "1815\n",
            "2292\n",
            "2473\n",
            "515\n",
            "2372\n",
            "1846\n",
            "1597\n",
            "986\n",
            "207\n",
            "2440\n",
            "542\n",
            "487\n",
            "732\n",
            "806\n",
            "1933\n",
            "2028\n",
            "1758\n",
            "1577\n",
            "2346\n",
            "2286\n",
            "2134\n",
            "1966\n",
            "1139\n",
            "1062\n",
            "1114\n",
            "159\n",
            "2337\n",
            "1076\n",
            "1298\n",
            "547\n",
            "1673\n",
            "1987\n",
            "2251\n",
            "2465\n",
            "312\n",
            "905\n",
            "1181\n",
            "345\n",
            "2388\n",
            "2457\n",
            "1926\n",
            "893\n",
            "569\n",
            "1454\n",
            "2297\n",
            "1320\n",
            "588\n",
            "166\n",
            "525\n",
            "2425\n",
            "2273\n",
            "1588\n",
            "907\n",
            "2293\n",
            "1410\n",
            "1119\n",
            "476\n",
            "1774\n",
            "2063\n",
            "369\n",
            "1806\n",
            "241\n",
            "1359\n",
            "144\n",
            "1606\n",
            "2298\n",
            "551\n",
            "2485\n",
            "777\n",
            "1116\n",
            "2104\n",
            "1894\n",
            "1459\n",
            "991\n",
            "1396\n",
            "880\n",
            "75\n",
            "1054\n",
            "2151\n",
            "892\n",
            "1821\n",
            "1560\n",
            "2241\n",
            "793\n",
            "1213\n",
            "1047\n",
            "286\n",
            "2326\n",
            "1921\n",
            "885\n",
            "918\n",
            "1117\n",
            "1173\n",
            "616\n",
            "1120\n",
            "1329\n",
            "1667\n",
            "2323\n",
            "1194\n",
            "1231\n",
            "449\n",
            "1992\n",
            "1928\n",
            "2008\n",
            "679\n",
            "2412\n",
            "1949\n",
            "966\n",
            "1918\n",
            "374\n",
            "577\n",
            "1075\n",
            "142\n",
            "2160\n",
            "331\n",
            "1086\n",
            "1134\n",
            "25\n",
            "2429\n",
            "1844\n",
            "619\n",
            "2065\n",
            "265\n",
            "571\n",
            "1196\n",
            "146\n",
            "187\n",
            "4\n",
            "2355\n",
            "229\n",
            "1858\n",
            "1902\n",
            "2002\n",
            "317\n",
            "833\n",
            "1759\n",
            "858\n",
            "2205\n",
            "1555\n",
            "407\n",
            "1635\n",
            "1857\n",
            "1571\n",
            "100\n",
            "2107\n",
            "1937\n",
            "1207\n",
            "2195\n",
            "1722\n",
            "408\n",
            "180\n",
            "225\n",
            "140\n",
            "902\n",
            "433\n",
            "1967\n",
            "1355\n",
            "1618\n",
            "949\n",
            "1739\n",
            "1416\n",
            "2318\n",
            "1202\n",
            "1786\n",
            "1891\n",
            "668\n",
            "782\n",
            "557\n",
            "2253\n",
            "1500\n",
            "183\n",
            "766\n",
            "561\n",
            "82\n",
            "7\n",
            "1507\n",
            "1519\n",
            "1968\n",
            "193\n",
            "1542\n",
            "1931\n",
            "1563\n",
            "813\n",
            "765\n",
            "387\n",
            "1572\n",
            "39\n",
            "1155\n",
            "798\n",
            "1263\n",
            "2179\n",
            "1141\n",
            "1980\n",
            "1983\n",
            "152\n",
            "2404\n",
            "62\n",
            "2182\n",
            "293\n",
            "727\n",
            "126\n",
            "2184\n",
            "1838\n",
            "829\n",
            "1227\n",
            "1351\n",
            "2431\n",
            "2238\n",
            "319\n",
            "1330\n",
            "2040\n",
            "1929\n",
            "1161\n",
            "2027\n",
            "175\n",
            "1335\n",
            "1669\n",
            "2471\n",
            "2445\n",
            "441\n",
            "217\n",
            "2499\n",
            "2301\n",
            "1780\n",
            "421\n",
            "405\n",
            "1387\n",
            "94\n",
            "1679\n",
            "169\n",
            "132\n",
            "1281\n",
            "425\n",
            "965\n",
            "1015\n",
            "857\n",
            "391\n",
            "911\n",
            "1539\n",
            "428\n",
            "1465\n",
            "167\n",
            "33\n",
            "1363\n",
            "1866\n",
            "200\n",
            "1404\n",
            "1776\n",
            "9\n",
            "2178\n",
            "954\n",
            "1447\n",
            "1640\n",
            "483\n",
            "2014\n",
            "1576\n",
            "1426\n",
            "1704\n",
            "1350\n",
            "1800\n",
            "150\n",
            "694\n",
            "1286\n",
            "86\n",
            "2420\n",
            "1760\n",
            "1008\n",
            "2\n",
            "1852\n",
            "1785\n",
            "297\n",
            "349\n",
            "1964\n",
            "733\n",
            "199\n",
            "788\n",
            "1215\n",
            "2321\n",
            "2177\n",
            "2396\n",
            "137\n",
            "865\n",
            "2353\n",
            "2048\n",
            "2331\n",
            "291\n",
            "501\n",
            "1503\n",
            "585\n",
            "1140\n",
            "236\n",
            "2472\n",
            "962\n",
            "1339\n",
            "1072\n",
            "1952\n",
            "1728\n",
            "1168\n",
            "1362\n",
            "2349\n",
            "671\n",
            "2461\n",
            "1016\n",
            "53\n",
            "1094\n",
            "274\n",
            "943\n",
            "1193\n",
            "1375\n",
            "1100\n",
            "912\n",
            "1429\n",
            "1012\n",
            "1092\n",
            "1589\n",
            "2132\n",
            "220\n",
            "1032\n",
            "1313\n",
            "738\n",
            "769\n",
            "2356\n",
            "1108\n",
            "1768\n",
            "264\n",
            "2169\n",
            "674\n",
            "2191\n",
            "524\n",
            "1373\n",
            "1112\n",
            "343\n",
            "417\n",
            "2303\n",
            "1561\n",
            "2311\n",
            "1945\n",
            "32\n",
            "1575\n",
            "1530\n",
            "2276\n",
            "457\n",
            "625\n",
            "537\n",
            "1533\n",
            "1425\n",
            "112\n",
            "778\n",
            "87\n",
            "964\n",
            "1064\n",
            "554\n",
            "875\n",
            "1093\n",
            "24\n",
            "246\n",
            "533\n",
            "1605\n",
            "1721\n",
            "1250\n",
            "2227\n",
            "662\n",
            "2482\n",
            "961\n",
            "1195\n",
            "66\n",
            "723\n",
            "2313\n",
            "1904\n",
            "1885\n",
            "122\n",
            "894\n",
            "204\n",
            "969\n",
            "176\n",
            "1189\n",
            "59\n",
            "1718\n",
            "1380\n",
            "604\n",
            "1629\n",
            "2093\n",
            "890\n",
            "49\n",
            "1204\n",
            "1368\n",
            "30\n",
            "70\n",
            "779\n",
            "1288\n",
            "356\n",
            "1080\n",
            "1880\n",
            "1552\n",
            "1450\n",
            "259\n",
            "2489\n",
            "2319\n",
            "1657\n",
            "16\n",
            "981\n",
            "Cannot apply als to user 1984\n",
            "Cannot apply own to user 1984\n",
            "1984\n",
            "811\n",
            "1638\n",
            "701\n",
            "1310\n",
            "1869\n",
            "2295\n",
            "254\n",
            "713\n",
            "406\n",
            "2098\n",
            "1515\n",
            "940\n",
            "1422\n",
            "1230\n",
            "821\n",
            "1177\n",
            "590\n",
            "1766\n",
            "2000\n",
            "803\n",
            "71\n",
            "145\n",
            "1910\n",
            "1435\n",
            "1096\n",
            "1938\n",
            "1402\n",
            "756\n",
            "2049\n",
            "1782\n",
            "1565\n",
            "1037\n",
            "978\n",
            "665\n",
            "1890\n",
            "1834\n",
            "1106\n",
            "1157\n",
            "1755\n",
            "1340\n",
            "461\n",
            "2097\n",
            "147\n",
            "191\n",
            "796\n",
            "1796\n",
            "2415\n",
            "721\n",
            "460\n",
            "2013\n",
            "2010\n",
            "1480\n",
            "2256\n",
            "2309\n",
            "1255\n",
            "1930\n",
            "1790\n",
            "2398\n",
            "700\n",
            "592\n",
            "1867\n",
            "1581\n",
            "1143\n",
            "2165\n",
            "271\n",
            "170\n",
            "1761\n",
            "1444\n",
            "74\n",
            "1818\n",
            "1290\n",
            "2214\n",
            "2433\n",
            "1791\n",
            "1652\n",
            "697\n",
            "2159\n",
            "1087\n",
            "111\n",
            "136\n",
            "717\n",
            "852\n",
            "2357\n",
            "626\n",
            "419\n",
            "266\n",
            "719\n",
            "1772\n",
            "1104\n",
            "2192\n",
            "242\n",
            "1734\n",
            "1239\n",
            "1356\n",
            "339\n",
            "278\n",
            "1493\n",
            "188\n",
            "1063\n",
            "1237\n",
            "2435\n",
            "1905\n",
            "1644\n",
            "904\n",
            "1553\n",
            "459\n",
            "1882\n",
            "504\n",
            "646\n",
            "1003\n",
            "1152\n",
            "845\n",
            "1671\n",
            "233\n",
            "1201\n",
            "1853\n",
            "366\n",
            "2389\n",
            "1893\n",
            "2454\n",
            "2202\n",
            "1344\n",
            "1251\n",
            "791\n",
            "203\n",
            "1223\n",
            "789\n",
            "1729\n",
            "693\n",
            "318\n",
            "368\n",
            "1253\n",
            "1518\n",
            "1647\n",
            "2490\n",
            "1400\n",
            "2423\n",
            "2122\n",
            "1307\n",
            "478\n",
            "43\n",
            "1895\n",
            "2242\n",
            "1907\n",
            "1654\n",
            "2163\n",
            "1341\n",
            "1670\n",
            "Cannot apply als to user 296\n",
            "Cannot apply own to user 296\n",
            "296\n",
            "1060\n",
            "2458\n",
            "1315\n",
            "1414\n",
            "108\n",
            "1958\n",
            "35\n",
            "2136\n",
            "1773\n",
            "506\n",
            "970\n",
            "2439\n",
            "635\n",
            "29\n",
            "1025\n",
            "1464\n",
            "794\n",
            "1884\n",
            "2035\n",
            "445\n",
            "549\n",
            "258\n",
            "1999\n",
            "2046\n",
            "1348\n",
            "1731\n",
            "1091\n",
            "315\n",
            "1564\n",
            "758\n",
            "652\n",
            "340\n",
            "2327\n",
            "767\n",
            "688\n",
            "1221\n",
            "1044\n",
            "1706\n",
            "1127\n",
            "1994\n",
            "1135\n",
            "809\n",
            "716\n",
            "987\n",
            "1586\n",
            "44\n",
            "2001\n",
            "486\n",
            "344\n",
            "1456\n",
            "1871\n",
            "2428\n",
            "814\n",
            "836\n",
            "1811\n",
            "2330\n",
            "629\n",
            "1855\n",
            "2348\n",
            "1656\n",
            "2434\n",
            "1709\n",
            "2187\n",
            "2469\n",
            "447\n",
            "1392\n",
            "479\n",
            "465\n",
            "1814\n",
            "1381\n",
            "535\n",
            "1544\n",
            "2402\n",
            "2025\n",
            "1090\n",
            "502\n",
            "352\n",
            "2277\n",
            "927\n",
            "1033\n",
            "255\n",
            "185\n",
            "2494\n",
            "1006\n",
            "1441\n",
            "1543\n",
            "812\n",
            "320\n",
            "1377\n",
            "268\n",
            "226\n",
            "1433\n",
            "1532\n",
            "1249\n",
            "1257\n",
            "1789\n",
            "1446\n",
            "1784\n",
            "436\n",
            "1697\n",
            "1745\n"
          ],
          "name": "stdout"
        }
      ]
    },
    {
      "cell_type": "code",
      "metadata": {
        "colab": {
          "base_uri": "https://localhost:8080/",
          "height": 195
        },
        "id": "do6XMSNNMnNE",
        "outputId": "19e1e218-a0b0-49ca-ab11-b013b39edfe8"
      },
      "source": [
        "users_lvl_2.head()"
      ],
      "execution_count": null,
      "outputs": [
        {
          "output_type": "execute_result",
          "data": {
            "text/html": [
              "<div>\n",
              "<style scoped>\n",
              "    .dataframe tbody tr th:only-of-type {\n",
              "        vertical-align: middle;\n",
              "    }\n",
              "\n",
              "    .dataframe tbody tr th {\n",
              "        vertical-align: top;\n",
              "    }\n",
              "\n",
              "    .dataframe thead th {\n",
              "        text-align: right;\n",
              "    }\n",
              "</style>\n",
              "<table border=\"1\" class=\"dataframe\">\n",
              "  <thead>\n",
              "    <tr style=\"text-align: right;\">\n",
              "      <th></th>\n",
              "      <th>user_id</th>\n",
              "      <th>candidates</th>\n",
              "    </tr>\n",
              "  </thead>\n",
              "  <tbody>\n",
              "    <tr>\n",
              "      <th>0</th>\n",
              "      <td>2070</td>\n",
              "      <td>[899624, 1044078, 1016800, 1029743, 5569374, 8...</td>\n",
              "    </tr>\n",
              "    <tr>\n",
              "      <th>1</th>\n",
              "      <td>2021</td>\n",
              "      <td>[999270, 844179, 1044078, 5569230, 1013928, 89...</td>\n",
              "    </tr>\n",
              "    <tr>\n",
              "      <th>2</th>\n",
              "      <td>1753</td>\n",
              "      <td>[1044078, 1029743, 5569230, 1106523, 986912, 8...</td>\n",
              "    </tr>\n",
              "    <tr>\n",
              "      <th>3</th>\n",
              "      <td>2120</td>\n",
              "      <td>[1106523, 1029743, 8090537, 1044078, 878996, 5...</td>\n",
              "    </tr>\n",
              "    <tr>\n",
              "      <th>4</th>\n",
              "      <td>1346</td>\n",
              "      <td>[5569471, 854852, 965267, 866211, 1105488, 102...</td>\n",
              "    </tr>\n",
              "  </tbody>\n",
              "</table>\n",
              "</div>"
            ],
            "text/plain": [
              "   user_id                                         candidates\n",
              "0     2070  [899624, 1044078, 1016800, 1029743, 5569374, 8...\n",
              "1     2021  [999270, 844179, 1044078, 5569230, 1013928, 89...\n",
              "2     1753  [1044078, 1029743, 5569230, 1106523, 986912, 8...\n",
              "3     2120  [1106523, 1029743, 8090537, 1044078, 878996, 5...\n",
              "4     1346  [5569471, 854852, 965267, 866211, 1105488, 102..."
            ]
          },
          "metadata": {
            "tags": []
          },
          "execution_count": 231
        }
      ]
    },
    {
      "cell_type": "code",
      "metadata": {
        "colab": {
          "base_uri": "https://localhost:8080/",
          "height": 136
        },
        "id": "QZRdx1_hNJEo",
        "outputId": "685b8ab4-d7e1-4493-c6cd-b4e19df9d55d"
      },
      "source": [
        "users_lvl_2[users_lvl_2.user_id.isin([1813, 1984, 296])]"
      ],
      "execution_count": null,
      "outputs": [
        {
          "output_type": "execute_result",
          "data": {
            "text/html": [
              "<div>\n",
              "<style scoped>\n",
              "    .dataframe tbody tr th:only-of-type {\n",
              "        vertical-align: middle;\n",
              "    }\n",
              "\n",
              "    .dataframe tbody tr th {\n",
              "        vertical-align: top;\n",
              "    }\n",
              "\n",
              "    .dataframe thead th {\n",
              "        text-align: right;\n",
              "    }\n",
              "</style>\n",
              "<table border=\"1\" class=\"dataframe\">\n",
              "  <thead>\n",
              "    <tr style=\"text-align: right;\">\n",
              "      <th></th>\n",
              "      <th>user_id</th>\n",
              "      <th>candidates</th>\n",
              "    </tr>\n",
              "  </thead>\n",
              "  <tbody>\n",
              "    <tr>\n",
              "      <th>724</th>\n",
              "      <td>1813</td>\n",
              "      <td>[1029743, 1106523, 5569230, 916122, 844179, 10...</td>\n",
              "    </tr>\n",
              "    <tr>\n",
              "      <th>1903</th>\n",
              "      <td>1984</td>\n",
              "      <td>[1029743, 1106523, 5569230, 916122, 844179, 10...</td>\n",
              "    </tr>\n",
              "    <tr>\n",
              "      <th>2052</th>\n",
              "      <td>296</td>\n",
              "      <td>[1029743, 1106523, 5569230, 916122, 844179, 10...</td>\n",
              "    </tr>\n",
              "  </tbody>\n",
              "</table>\n",
              "</div>"
            ],
            "text/plain": [
              "      user_id                                         candidates\n",
              "724      1813  [1029743, 1106523, 5569230, 916122, 844179, 10...\n",
              "1903     1984  [1029743, 1106523, 5569230, 916122, 844179, 10...\n",
              "2052      296  [1029743, 1106523, 5569230, 916122, 844179, 10..."
            ]
          },
          "metadata": {
            "tags": []
          },
          "execution_count": 232
        }
      ]
    },
    {
      "cell_type": "code",
      "metadata": {
        "colab": {
          "base_uri": "https://localhost:8080/"
        },
        "id": "eyaPK8x_X6fy",
        "outputId": "e0f9ec32-a52d-4978-e090-85241af69114"
      },
      "source": [
        "actual_users = set(result_lvl_1['user_id'].unique())\n",
        "len(actual_users)"
      ],
      "execution_count": null,
      "outputs": [
        {
          "output_type": "execute_result",
          "data": {
            "text/plain": [
              "2154"
            ]
          },
          "metadata": {
            "tags": []
          },
          "execution_count": 233
        }
      ]
    },
    {
      "cell_type": "code",
      "metadata": {
        "colab": {
          "base_uri": "https://localhost:8080/"
        },
        "id": "vzI_hhZ_YMgS",
        "outputId": "a5f81355-3491-4826-ad0f-570f57e2cd72"
      },
      "source": [
        "predicted_users = set(users_lvl_2['user_id'].unique())\n",
        "len(predicted_users)"
      ],
      "execution_count": null,
      "outputs": [
        {
          "output_type": "execute_result",
          "data": {
            "text/plain": [
              "2154"
            ]
          },
          "metadata": {
            "tags": []
          },
          "execution_count": 234
        }
      ]
    },
    {
      "cell_type": "code",
      "metadata": {
        "colab": {
          "base_uri": "https://localhost:8080/"
        },
        "id": "Nzg8eWe4Ya2-",
        "outputId": "92e89cd3-111e-486b-bdf1-7f21b6b89ece"
      },
      "source": [
        "actual_users - predicted_users"
      ],
      "execution_count": null,
      "outputs": [
        {
          "output_type": "execute_result",
          "data": {
            "text/plain": [
              "set()"
            ]
          },
          "metadata": {
            "tags": []
          },
          "execution_count": 235
        }
      ]
    },
    {
      "cell_type": "markdown",
      "metadata": {
        "id": "SYMH2bm3NzGl"
      },
      "source": [
        "Видно, что \"холодные\" юзеры тоже заполнились"
      ]
    },
    {
      "cell_type": "code",
      "metadata": {
        "id": "WHsViYyNPmE3"
      },
      "source": [
        "# Определим функцию для расчета precision_at_k по готовому предсказанию\n",
        "def total_precision_at_k_pre(actual_data, k, recommendations_table):\n",
        "  pr = []\n",
        "  for uid in actual_data['user_id'].values:\n",
        "    rl = recommendations_table.loc[recommendations_table.user_id == uid, 'candidates'].values[0]\n",
        "    bl = get_bought_list(actual_data, user_id=uid)\n",
        "    pr.append(precision_at_k(recommended_list=rl, bought_list=bl, k=k))\n",
        "  return np.mean(pr), np.std(pr)\n",
        "\n",
        "# Определим функцию для расчета recall_at_k по готовому предсказанию\n",
        "def total_recall_at_k_pre(actual_data, k, recommendations_table):\n",
        "  pr = []\n",
        "  for uid in actual_data['user_id'].values:\n",
        "    rl = recommendations_table.loc[recommendations_table.user_id == uid, 'candidates'].values[0]\n",
        "    bl = get_bought_list(actual_data, user_id=uid)\n",
        "    pr.append(recall_at_k(recommended_list=rl, bought_list=bl, k=k))\n",
        "  return np.mean(pr), np.std(pr)"
      ],
      "execution_count": null,
      "outputs": []
    },
    {
      "cell_type": "code",
      "metadata": {
        "colab": {
          "base_uri": "https://localhost:8080/"
        },
        "id": "nOb1CzX21rBS",
        "outputId": "9028248f-9120-4d11-9cf9-585fee97e81d"
      },
      "source": [
        "mean, std = total_recall_at_k_pre(actual_data = result_lvl_1, k=200, recommendations_table=users_lvl_2)\n",
        "print(mean, ' +- ', std)"
      ],
      "execution_count": null,
      "outputs": [
        {
          "output_type": "stream",
          "text": [
            "0.10217199193592466  +-  0.08989412303329791\n"
          ],
          "name": "stdout"
        }
      ]
    },
    {
      "cell_type": "markdown",
      "metadata": {
        "id": "mMAPaFpNNiNM"
      },
      "source": [
        "Recall маловат. Для курсовика нужно поднимать, например, отказаться от префильтрации. Но вс-таки больше 10% что теоретически достаточно."
      ]
    },
    {
      "cell_type": "code",
      "metadata": {
        "colab": {
          "base_uri": "https://localhost:8080/"
        },
        "id": "kBnfS9ElQDdf",
        "outputId": "21cb9bd0-6657-4b51-c4ac-ad9d9f9abbe2"
      },
      "source": [
        "mean, std = total_precision_at_k_pre(actual_data = result_lvl_1, k=5, recommendations_table=users_lvl_2)\n",
        "print(mean, ' +- ', std)"
      ],
      "execution_count": null,
      "outputs": [
        {
          "output_type": "stream",
          "text": [
            "0.14763231197771587  +-  0.1819283440611575\n"
          ],
          "name": "stdout"
        }
      ]
    },
    {
      "cell_type": "markdown",
      "metadata": {
        "id": "pVKnQqT3Nv6B"
      },
      "source": [
        "Precision на первом уровне для train второго уровня 15%. Посмотрим, что будет дальше."
      ]
    },
    {
      "cell_type": "code",
      "metadata": {
        "id": "YHh0GrvQNHQH"
      },
      "source": [
        "df=pd.DataFrame({'user_id':users_lvl_2.user_id.values.repeat(len(users_lvl_2.candidates[0])),\n",
        "                 'item_id':np.concatenate(users_lvl_2.candidates.values)})"
      ],
      "execution_count": null,
      "outputs": []
    },
    {
      "cell_type": "code",
      "metadata": {
        "colab": {
          "base_uri": "https://localhost:8080/",
          "height": 195
        },
        "id": "di47Ok2-NmAT",
        "outputId": "ba3c64fe-0655-4eab-b206-05ed91ca68b4"
      },
      "source": [
        "df.head()"
      ],
      "execution_count": null,
      "outputs": [
        {
          "output_type": "execute_result",
          "data": {
            "text/html": [
              "<div>\n",
              "<style scoped>\n",
              "    .dataframe tbody tr th:only-of-type {\n",
              "        vertical-align: middle;\n",
              "    }\n",
              "\n",
              "    .dataframe tbody tr th {\n",
              "        vertical-align: top;\n",
              "    }\n",
              "\n",
              "    .dataframe thead th {\n",
              "        text-align: right;\n",
              "    }\n",
              "</style>\n",
              "<table border=\"1\" class=\"dataframe\">\n",
              "  <thead>\n",
              "    <tr style=\"text-align: right;\">\n",
              "      <th></th>\n",
              "      <th>user_id</th>\n",
              "      <th>item_id</th>\n",
              "    </tr>\n",
              "  </thead>\n",
              "  <tbody>\n",
              "    <tr>\n",
              "      <th>0</th>\n",
              "      <td>2070</td>\n",
              "      <td>899624</td>\n",
              "    </tr>\n",
              "    <tr>\n",
              "      <th>1</th>\n",
              "      <td>2070</td>\n",
              "      <td>1044078</td>\n",
              "    </tr>\n",
              "    <tr>\n",
              "      <th>2</th>\n",
              "      <td>2070</td>\n",
              "      <td>1016800</td>\n",
              "    </tr>\n",
              "    <tr>\n",
              "      <th>3</th>\n",
              "      <td>2070</td>\n",
              "      <td>1029743</td>\n",
              "    </tr>\n",
              "    <tr>\n",
              "      <th>4</th>\n",
              "      <td>2070</td>\n",
              "      <td>5569374</td>\n",
              "    </tr>\n",
              "  </tbody>\n",
              "</table>\n",
              "</div>"
            ],
            "text/plain": [
              "   user_id  item_id\n",
              "0     2070   899624\n",
              "1     2070  1044078\n",
              "2     2070  1016800\n",
              "3     2070  1029743\n",
              "4     2070  5569374"
            ]
          },
          "metadata": {
            "tags": []
          },
          "execution_count": 242
        }
      ]
    },
    {
      "cell_type": "code",
      "metadata": {
        "colab": {
          "base_uri": "https://localhost:8080/",
          "height": 195
        },
        "id": "IeFIT9mNNl6J",
        "outputId": "02a5e105-e948-4bf5-a72e-eb8fd7d4841c"
      },
      "source": [
        "data_train_lvl_2.head()"
      ],
      "execution_count": null,
      "outputs": [
        {
          "output_type": "execute_result",
          "data": {
            "text/html": [
              "<div>\n",
              "<style scoped>\n",
              "    .dataframe tbody tr th:only-of-type {\n",
              "        vertical-align: middle;\n",
              "    }\n",
              "\n",
              "    .dataframe tbody tr th {\n",
              "        vertical-align: top;\n",
              "    }\n",
              "\n",
              "    .dataframe thead th {\n",
              "        text-align: right;\n",
              "    }\n",
              "</style>\n",
              "<table border=\"1\" class=\"dataframe\">\n",
              "  <thead>\n",
              "    <tr style=\"text-align: right;\">\n",
              "      <th></th>\n",
              "      <th>user_id</th>\n",
              "      <th>basket_id</th>\n",
              "      <th>day</th>\n",
              "      <th>item_id</th>\n",
              "      <th>quantity</th>\n",
              "      <th>sales_value</th>\n",
              "      <th>store_id</th>\n",
              "      <th>retail_disc</th>\n",
              "      <th>trans_time</th>\n",
              "      <th>week_no</th>\n",
              "      <th>coupon_disc</th>\n",
              "      <th>coupon_match_disc</th>\n",
              "    </tr>\n",
              "  </thead>\n",
              "  <tbody>\n",
              "    <tr>\n",
              "      <th>2104867</th>\n",
              "      <td>2070</td>\n",
              "      <td>40618492260</td>\n",
              "      <td>594</td>\n",
              "      <td>1019940</td>\n",
              "      <td>1</td>\n",
              "      <td>1.00</td>\n",
              "      <td>311</td>\n",
              "      <td>-0.29</td>\n",
              "      <td>40</td>\n",
              "      <td>86</td>\n",
              "      <td>0.0</td>\n",
              "      <td>0.0</td>\n",
              "    </tr>\n",
              "    <tr>\n",
              "      <th>2107468</th>\n",
              "      <td>2021</td>\n",
              "      <td>40618753059</td>\n",
              "      <td>594</td>\n",
              "      <td>840361</td>\n",
              "      <td>1</td>\n",
              "      <td>0.99</td>\n",
              "      <td>443</td>\n",
              "      <td>0.00</td>\n",
              "      <td>101</td>\n",
              "      <td>86</td>\n",
              "      <td>0.0</td>\n",
              "      <td>0.0</td>\n",
              "    </tr>\n",
              "    <tr>\n",
              "      <th>2107469</th>\n",
              "      <td>2021</td>\n",
              "      <td>40618753059</td>\n",
              "      <td>594</td>\n",
              "      <td>856060</td>\n",
              "      <td>1</td>\n",
              "      <td>1.77</td>\n",
              "      <td>443</td>\n",
              "      <td>-0.09</td>\n",
              "      <td>101</td>\n",
              "      <td>86</td>\n",
              "      <td>0.0</td>\n",
              "      <td>0.0</td>\n",
              "    </tr>\n",
              "    <tr>\n",
              "      <th>2107470</th>\n",
              "      <td>2021</td>\n",
              "      <td>40618753059</td>\n",
              "      <td>594</td>\n",
              "      <td>869344</td>\n",
              "      <td>1</td>\n",
              "      <td>1.67</td>\n",
              "      <td>443</td>\n",
              "      <td>-0.22</td>\n",
              "      <td>101</td>\n",
              "      <td>86</td>\n",
              "      <td>0.0</td>\n",
              "      <td>0.0</td>\n",
              "    </tr>\n",
              "    <tr>\n",
              "      <th>2107471</th>\n",
              "      <td>2021</td>\n",
              "      <td>40618753059</td>\n",
              "      <td>594</td>\n",
              "      <td>896862</td>\n",
              "      <td>2</td>\n",
              "      <td>5.00</td>\n",
              "      <td>443</td>\n",
              "      <td>-2.98</td>\n",
              "      <td>101</td>\n",
              "      <td>86</td>\n",
              "      <td>0.0</td>\n",
              "      <td>0.0</td>\n",
              "    </tr>\n",
              "  </tbody>\n",
              "</table>\n",
              "</div>"
            ],
            "text/plain": [
              "         user_id    basket_id  day  ...  week_no  coupon_disc  coupon_match_disc\n",
              "2104867     2070  40618492260  594  ...       86          0.0                0.0\n",
              "2107468     2021  40618753059  594  ...       86          0.0                0.0\n",
              "2107469     2021  40618753059  594  ...       86          0.0                0.0\n",
              "2107470     2021  40618753059  594  ...       86          0.0                0.0\n",
              "2107471     2021  40618753059  594  ...       86          0.0                0.0\n",
              "\n",
              "[5 rows x 12 columns]"
            ]
          },
          "metadata": {
            "tags": []
          },
          "execution_count": 243
        }
      ]
    },
    {
      "cell_type": "code",
      "metadata": {
        "id": "B1cWlhwZNl9A"
      },
      "source": [
        "targets_lvl_2 = data_train_lvl_2[['user_id', 'item_id']].copy()\n",
        "targets_lvl_2['target'] = 1  # тут только покупки \n",
        "\n",
        "targets_lvl_2 = df.merge(targets_lvl_2, on=['user_id', 'item_id'], how='left')\n",
        "\n",
        "targets_lvl_2['target'].fillna(0, inplace= True)"
      ],
      "execution_count": null,
      "outputs": []
    },
    {
      "cell_type": "code",
      "metadata": {
        "colab": {
          "base_uri": "https://localhost:8080/",
          "height": 195
        },
        "id": "BR48eQ4SNl3o",
        "outputId": "94bbfaf7-4927-4e1c-9b62-35b353d17f25"
      },
      "source": [
        "targets_lvl_2.head()"
      ],
      "execution_count": null,
      "outputs": [
        {
          "output_type": "execute_result",
          "data": {
            "text/html": [
              "<div>\n",
              "<style scoped>\n",
              "    .dataframe tbody tr th:only-of-type {\n",
              "        vertical-align: middle;\n",
              "    }\n",
              "\n",
              "    .dataframe tbody tr th {\n",
              "        vertical-align: top;\n",
              "    }\n",
              "\n",
              "    .dataframe thead th {\n",
              "        text-align: right;\n",
              "    }\n",
              "</style>\n",
              "<table border=\"1\" class=\"dataframe\">\n",
              "  <thead>\n",
              "    <tr style=\"text-align: right;\">\n",
              "      <th></th>\n",
              "      <th>user_id</th>\n",
              "      <th>item_id</th>\n",
              "      <th>target</th>\n",
              "    </tr>\n",
              "  </thead>\n",
              "  <tbody>\n",
              "    <tr>\n",
              "      <th>0</th>\n",
              "      <td>2070</td>\n",
              "      <td>899624</td>\n",
              "      <td>1.0</td>\n",
              "    </tr>\n",
              "    <tr>\n",
              "      <th>1</th>\n",
              "      <td>2070</td>\n",
              "      <td>1044078</td>\n",
              "      <td>0.0</td>\n",
              "    </tr>\n",
              "    <tr>\n",
              "      <th>2</th>\n",
              "      <td>2070</td>\n",
              "      <td>1016800</td>\n",
              "      <td>0.0</td>\n",
              "    </tr>\n",
              "    <tr>\n",
              "      <th>3</th>\n",
              "      <td>2070</td>\n",
              "      <td>1029743</td>\n",
              "      <td>0.0</td>\n",
              "    </tr>\n",
              "    <tr>\n",
              "      <th>4</th>\n",
              "      <td>2070</td>\n",
              "      <td>5569374</td>\n",
              "      <td>0.0</td>\n",
              "    </tr>\n",
              "  </tbody>\n",
              "</table>\n",
              "</div>"
            ],
            "text/plain": [
              "   user_id  item_id  target\n",
              "0     2070   899624     1.0\n",
              "1     2070  1044078     0.0\n",
              "2     2070  1016800     0.0\n",
              "3     2070  1029743     0.0\n",
              "4     2070  5569374     0.0"
            ]
          },
          "metadata": {
            "tags": []
          },
          "execution_count": 245
        }
      ]
    },
    {
      "cell_type": "code",
      "metadata": {
        "colab": {
          "base_uri": "https://localhost:8080/"
        },
        "id": "P8THBupyNlpB",
        "outputId": "404dadea-0660-428f-8812-1e64940bc433"
      },
      "source": [
        "targets_lvl_2['target'].mean()"
      ],
      "execution_count": null,
      "outputs": [
        {
          "output_type": "execute_result",
          "data": {
            "text/plain": [
              "0.04434200668543844"
            ]
          },
          "metadata": {
            "tags": []
          },
          "execution_count": 246
        }
      ]
    },
    {
      "cell_type": "markdown",
      "metadata": {
        "id": "LMlyJksaOyTO"
      },
      "source": [
        "Таблица, полученная из первого уровня, готова. Теперь нужно добавить фитчи. Пока без генерации"
      ]
    },
    {
      "cell_type": "code",
      "metadata": {
        "colab": {
          "base_uri": "https://localhost:8080/",
          "height": 106
        },
        "id": "a5CMMMX2OqPS",
        "outputId": "c24bdf5d-af4f-4c52-ae14-dad829337d17"
      },
      "source": [
        "item_features.head(2)"
      ],
      "execution_count": null,
      "outputs": [
        {
          "output_type": "execute_result",
          "data": {
            "text/html": [
              "<div>\n",
              "<style scoped>\n",
              "    .dataframe tbody tr th:only-of-type {\n",
              "        vertical-align: middle;\n",
              "    }\n",
              "\n",
              "    .dataframe tbody tr th {\n",
              "        vertical-align: top;\n",
              "    }\n",
              "\n",
              "    .dataframe thead th {\n",
              "        text-align: right;\n",
              "    }\n",
              "</style>\n",
              "<table border=\"1\" class=\"dataframe\">\n",
              "  <thead>\n",
              "    <tr style=\"text-align: right;\">\n",
              "      <th></th>\n",
              "      <th>item_id</th>\n",
              "      <th>manufacturer</th>\n",
              "      <th>department</th>\n",
              "      <th>brand</th>\n",
              "      <th>commodity_desc</th>\n",
              "      <th>sub_commodity_desc</th>\n",
              "      <th>curr_size_of_product</th>\n",
              "    </tr>\n",
              "  </thead>\n",
              "  <tbody>\n",
              "    <tr>\n",
              "      <th>0</th>\n",
              "      <td>25671</td>\n",
              "      <td>2</td>\n",
              "      <td>GROCERY</td>\n",
              "      <td>National</td>\n",
              "      <td>FRZN ICE</td>\n",
              "      <td>ICE - CRUSHED/CUBED</td>\n",
              "      <td>22 LB</td>\n",
              "    </tr>\n",
              "    <tr>\n",
              "      <th>1</th>\n",
              "      <td>26081</td>\n",
              "      <td>2</td>\n",
              "      <td>MISC. TRANS.</td>\n",
              "      <td>National</td>\n",
              "      <td>NO COMMODITY DESCRIPTION</td>\n",
              "      <td>NO SUBCOMMODITY DESCRIPTION</td>\n",
              "      <td></td>\n",
              "    </tr>\n",
              "  </tbody>\n",
              "</table>\n",
              "</div>"
            ],
            "text/plain": [
              "   item_id  manufacturer  ...           sub_commodity_desc curr_size_of_product\n",
              "0    25671             2  ...          ICE - CRUSHED/CUBED                22 LB\n",
              "1    26081             2  ...  NO SUBCOMMODITY DESCRIPTION                     \n",
              "\n",
              "[2 rows x 7 columns]"
            ]
          },
          "metadata": {
            "tags": []
          },
          "execution_count": 247
        }
      ]
    },
    {
      "cell_type": "code",
      "metadata": {
        "colab": {
          "base_uri": "https://localhost:8080/",
          "height": 106
        },
        "id": "Wu4IP4pZOqL5",
        "outputId": "801498fa-fbae-4db7-a74a-795ec66d4cee"
      },
      "source": [
        "user_features.head(2)"
      ],
      "execution_count": null,
      "outputs": [
        {
          "output_type": "execute_result",
          "data": {
            "text/html": [
              "<div>\n",
              "<style scoped>\n",
              "    .dataframe tbody tr th:only-of-type {\n",
              "        vertical-align: middle;\n",
              "    }\n",
              "\n",
              "    .dataframe tbody tr th {\n",
              "        vertical-align: top;\n",
              "    }\n",
              "\n",
              "    .dataframe thead th {\n",
              "        text-align: right;\n",
              "    }\n",
              "</style>\n",
              "<table border=\"1\" class=\"dataframe\">\n",
              "  <thead>\n",
              "    <tr style=\"text-align: right;\">\n",
              "      <th></th>\n",
              "      <th>age_desc</th>\n",
              "      <th>marital_status_code</th>\n",
              "      <th>income_desc</th>\n",
              "      <th>homeowner_desc</th>\n",
              "      <th>hh_comp_desc</th>\n",
              "      <th>household_size_desc</th>\n",
              "      <th>kid_category_desc</th>\n",
              "      <th>user_id</th>\n",
              "    </tr>\n",
              "  </thead>\n",
              "  <tbody>\n",
              "    <tr>\n",
              "      <th>0</th>\n",
              "      <td>65+</td>\n",
              "      <td>A</td>\n",
              "      <td>35-49K</td>\n",
              "      <td>Homeowner</td>\n",
              "      <td>2 Adults No Kids</td>\n",
              "      <td>2</td>\n",
              "      <td>None/Unknown</td>\n",
              "      <td>1</td>\n",
              "    </tr>\n",
              "    <tr>\n",
              "      <th>1</th>\n",
              "      <td>45-54</td>\n",
              "      <td>A</td>\n",
              "      <td>50-74K</td>\n",
              "      <td>Homeowner</td>\n",
              "      <td>2 Adults No Kids</td>\n",
              "      <td>2</td>\n",
              "      <td>None/Unknown</td>\n",
              "      <td>7</td>\n",
              "    </tr>\n",
              "  </tbody>\n",
              "</table>\n",
              "</div>"
            ],
            "text/plain": [
              "  age_desc marital_status_code  ... kid_category_desc user_id\n",
              "0      65+                   A  ...      None/Unknown       1\n",
              "1    45-54                   A  ...      None/Unknown       7\n",
              "\n",
              "[2 rows x 8 columns]"
            ]
          },
          "metadata": {
            "tags": []
          },
          "execution_count": 248
        }
      ]
    },
    {
      "cell_type": "code",
      "metadata": {
        "colab": {
          "base_uri": "https://localhost:8080/",
          "height": 143
        },
        "id": "UuSN3gQLOqKA",
        "outputId": "7ea3ba89-d54f-425b-adfe-434568c2230d"
      },
      "source": [
        "targets_lvl_2 = targets_lvl_2.merge(item_features, on='item_id', how='left')\n",
        "targets_lvl_2 = targets_lvl_2.merge(user_features, on='user_id', how='left')\n",
        "\n",
        "targets_lvl_2.head(2)"
      ],
      "execution_count": null,
      "outputs": [
        {
          "output_type": "execute_result",
          "data": {
            "text/html": [
              "<div>\n",
              "<style scoped>\n",
              "    .dataframe tbody tr th:only-of-type {\n",
              "        vertical-align: middle;\n",
              "    }\n",
              "\n",
              "    .dataframe tbody tr th {\n",
              "        vertical-align: top;\n",
              "    }\n",
              "\n",
              "    .dataframe thead th {\n",
              "        text-align: right;\n",
              "    }\n",
              "</style>\n",
              "<table border=\"1\" class=\"dataframe\">\n",
              "  <thead>\n",
              "    <tr style=\"text-align: right;\">\n",
              "      <th></th>\n",
              "      <th>user_id</th>\n",
              "      <th>item_id</th>\n",
              "      <th>target</th>\n",
              "      <th>manufacturer</th>\n",
              "      <th>department</th>\n",
              "      <th>brand</th>\n",
              "      <th>commodity_desc</th>\n",
              "      <th>sub_commodity_desc</th>\n",
              "      <th>curr_size_of_product</th>\n",
              "      <th>age_desc</th>\n",
              "      <th>marital_status_code</th>\n",
              "      <th>income_desc</th>\n",
              "      <th>homeowner_desc</th>\n",
              "      <th>hh_comp_desc</th>\n",
              "      <th>household_size_desc</th>\n",
              "      <th>kid_category_desc</th>\n",
              "    </tr>\n",
              "  </thead>\n",
              "  <tbody>\n",
              "    <tr>\n",
              "      <th>0</th>\n",
              "      <td>2070</td>\n",
              "      <td>899624</td>\n",
              "      <td>1.0</td>\n",
              "      <td>69.0</td>\n",
              "      <td>PRODUCE</td>\n",
              "      <td>Private</td>\n",
              "      <td>POTATOES</td>\n",
              "      <td>POTATOES RUSSET (BULK&amp;BAG)</td>\n",
              "      <td>10 LB</td>\n",
              "      <td>45-54</td>\n",
              "      <td>U</td>\n",
              "      <td>50-74K</td>\n",
              "      <td>Unknown</td>\n",
              "      <td>Unknown</td>\n",
              "      <td>1</td>\n",
              "      <td>None/Unknown</td>\n",
              "    </tr>\n",
              "    <tr>\n",
              "      <th>1</th>\n",
              "      <td>2070</td>\n",
              "      <td>1044078</td>\n",
              "      <td>0.0</td>\n",
              "      <td>2845.0</td>\n",
              "      <td>MEAT</td>\n",
              "      <td>National</td>\n",
              "      <td>BEEF</td>\n",
              "      <td>LEAN</td>\n",
              "      <td></td>\n",
              "      <td>45-54</td>\n",
              "      <td>U</td>\n",
              "      <td>50-74K</td>\n",
              "      <td>Unknown</td>\n",
              "      <td>Unknown</td>\n",
              "      <td>1</td>\n",
              "      <td>None/Unknown</td>\n",
              "    </tr>\n",
              "  </tbody>\n",
              "</table>\n",
              "</div>"
            ],
            "text/plain": [
              "   user_id  item_id  target  ...  hh_comp_desc household_size_desc kid_category_desc\n",
              "0     2070   899624     1.0  ...       Unknown                   1      None/Unknown\n",
              "1     2070  1044078     0.0  ...       Unknown                   1      None/Unknown\n",
              "\n",
              "[2 rows x 16 columns]"
            ]
          },
          "metadata": {
            "tags": []
          },
          "execution_count": 249
        }
      ]
    },
    {
      "cell_type": "code",
      "metadata": {
        "id": "7oDfpQfiOqH6"
      },
      "source": [
        "X_train = targets_lvl_2.drop('target', axis=1)\n",
        "y_train = targets_lvl_2[['target']]"
      ],
      "execution_count": null,
      "outputs": []
    },
    {
      "cell_type": "code",
      "metadata": {
        "colab": {
          "base_uri": "https://localhost:8080/"
        },
        "id": "d699OYbsOqFz",
        "outputId": "37a52a3a-7acc-4014-d58e-5bda290b1a50"
      },
      "source": [
        "cat_feats = X_train.columns[2:].tolist()\n",
        "X_train[cat_feats] = X_train[cat_feats].astype('category')\n",
        "\n",
        "cat_feats"
      ],
      "execution_count": null,
      "outputs": [
        {
          "output_type": "execute_result",
          "data": {
            "text/plain": [
              "['manufacturer',\n",
              " 'department',\n",
              " 'brand',\n",
              " 'commodity_desc',\n",
              " 'sub_commodity_desc',\n",
              " 'curr_size_of_product',\n",
              " 'age_desc',\n",
              " 'marital_status_code',\n",
              " 'income_desc',\n",
              " 'homeowner_desc',\n",
              " 'hh_comp_desc',\n",
              " 'household_size_desc',\n",
              " 'kid_category_desc']"
            ]
          },
          "metadata": {
            "tags": []
          },
          "execution_count": 251
        }
      ]
    },
    {
      "cell_type": "code",
      "metadata": {
        "colab": {
          "base_uri": "https://localhost:8080/"
        },
        "id": "Nq5IZ0hMOqDp",
        "outputId": "536bddd3-71b1-4955-b7ad-b26b63acdcef"
      },
      "source": [
        "y_train.mean()"
      ],
      "execution_count": null,
      "outputs": [
        {
          "output_type": "execute_result",
          "data": {
            "text/plain": [
              "target    0.044342\n",
              "dtype: float64"
            ]
          },
          "metadata": {
            "tags": []
          },
          "execution_count": 252
        }
      ]
    },
    {
      "cell_type": "code",
      "metadata": {
        "colab": {
          "base_uri": "https://localhost:8080/"
        },
        "id": "XzfvZQqf2uhH",
        "outputId": "4c5961bc-1f3e-483e-f97c-f1875fd5aad7"
      },
      "source": [
        "from lightgbm import LGBMClassifier\n",
        "\n",
        "lgb = LGBMClassifier(objective='binary', max_depth=7, categorical_column=cat_feats, )\n",
        "lgb.fit(X_train, y_train)\n",
        "\n",
        "train_preds = lgb.predict_proba(X_train)[:, 1]"
      ],
      "execution_count": null,
      "outputs": [
        {
          "output_type": "stream",
          "text": [
            "/usr/local/lib/python3.6/dist-packages/sklearn/preprocessing/_label.py:235: DataConversionWarning: A column-vector y was passed when a 1d array was expected. Please change the shape of y to (n_samples, ), for example using ravel().\n",
            "  y = column_or_1d(y, warn=True)\n",
            "/usr/local/lib/python3.6/dist-packages/sklearn/preprocessing/_label.py:268: DataConversionWarning: A column-vector y was passed when a 1d array was expected. Please change the shape of y to (n_samples, ), for example using ravel().\n",
            "  y = column_or_1d(y, warn=True)\n",
            "/usr/local/lib/python3.6/dist-packages/lightgbm/basic.py:762: UserWarning: categorical_feature in param dict is overridden.\n",
            "  warnings.warn('categorical_feature in param dict is overridden.')\n"
          ],
          "name": "stderr"
        }
      ]
    },
    {
      "cell_type": "code",
      "metadata": {
        "colab": {
          "base_uri": "https://localhost:8080/"
        },
        "id": "yXnfjaeIO2P3",
        "outputId": "4ffd4138-570a-495d-8735-2e2fb4e929c0"
      },
      "source": [
        "train_preds"
      ],
      "execution_count": null,
      "outputs": [
        {
          "output_type": "execute_result",
          "data": {
            "text/plain": [
              "array([0.13343508, 0.1842162 , 0.0263475 , ..., 0.01290043, 0.0810779 ,\n",
              "       0.02439657])"
            ]
          },
          "metadata": {
            "tags": []
          },
          "execution_count": 283
        }
      ]
    },
    {
      "cell_type": "code",
      "metadata": {
        "id": "FRI3mW2f2ud5"
      },
      "source": [
        "k = 5\n",
        "targets_lvl_2_pred = targets_lvl_2.copy(deep=True)\n",
        "targets_lvl_2_pred['predict_proba'] = train_preds\n",
        "targets_lvl_2_pred = targets_lvl_2_pred[['user_id', 'item_id', 'predict_proba']]\n",
        "users = targets_lvl_2_pred['user_id'].unique()\n",
        "lvl_2_recommendations = pd.DataFrame(data = {'user_id': users})\n",
        "lvl_2_recommendations['candidates'] = 0\n",
        "\n",
        "def get_lvl_2_reccomendations(user_id, targets_lvl_2_pred):\n",
        "  tdf = targets_lvl_2_pred[targets_lvl_2_pred['user_id']==user]\n",
        "  tdf = tdf.sort_values(by='predict_proba', ascending=False)\n",
        "  tdf = tdf.head(k)['item_id'].values\n",
        "  return tdf\n",
        "\n",
        "get_lvl_2_reccomendations(2027, targets_lvl_2_pred)\n",
        "lvl_2_recommendations['candidates'] = lvl_2_recommendations['user_id'].apply(lambda x: get_lvl_2_reccomendations(x, targets_lvl_2_pred))"
      ],
      "execution_count": null,
      "outputs": []
    },
    {
      "cell_type": "markdown",
      "metadata": {
        "id": "_ZwAsAPIJQ6t"
      },
      "source": [
        "Результат на трейне 2-го уровня:"
      ]
    },
    {
      "cell_type": "code",
      "metadata": {
        "colab": {
          "base_uri": "https://localhost:8080/"
        },
        "id": "YcZn8uQe2uZI",
        "outputId": "bb7e2a62-fec6-43ee-d16e-997b86bbe61f"
      },
      "source": [
        "mean, std = total_precision_at_k_pre(actual_data = result_lvl_1, k=5, recommendations_table=lvl_2_recommendations)\n",
        "print(mean, ' +- ', std)"
      ],
      "execution_count": null,
      "outputs": [
        {
          "output_type": "stream",
          "text": [
            "0.19090064995357475  +-  0.18592743857131694\n"
          ],
          "name": "stdout"
        }
      ]
    },
    {
      "cell_type": "markdown",
      "metadata": {
        "id": "w1j4z6weK_Wr"
      },
      "source": [
        "Посмотрим на валидационный сет"
      ]
    },
    {
      "cell_type": "code",
      "metadata": {
        "colab": {
          "base_uri": "https://localhost:8080/",
          "height": 106
        },
        "id": "L_ijJOvA2uWn",
        "outputId": "13e258c4-4733-4c31-8d58-952cb084d433"
      },
      "source": [
        "result_lvl_2 = data_val_lvl_2.groupby('user_id')['item_id'].unique().reset_index()\n",
        "result_lvl_2.columns=['user_id', 'actual']\n",
        "result_lvl_2.head(2)"
      ],
      "execution_count": null,
      "outputs": [
        {
          "output_type": "execute_result",
          "data": {
            "text/html": [
              "<div>\n",
              "<style scoped>\n",
              "    .dataframe tbody tr th:only-of-type {\n",
              "        vertical-align: middle;\n",
              "    }\n",
              "\n",
              "    .dataframe tbody tr th {\n",
              "        vertical-align: top;\n",
              "    }\n",
              "\n",
              "    .dataframe thead th {\n",
              "        text-align: right;\n",
              "    }\n",
              "</style>\n",
              "<table border=\"1\" class=\"dataframe\">\n",
              "  <thead>\n",
              "    <tr style=\"text-align: right;\">\n",
              "      <th></th>\n",
              "      <th>user_id</th>\n",
              "      <th>actual</th>\n",
              "    </tr>\n",
              "  </thead>\n",
              "  <tbody>\n",
              "    <tr>\n",
              "      <th>0</th>\n",
              "      <td>1</td>\n",
              "      <td>[821867, 834484, 856942, 865456, 889248, 90795...</td>\n",
              "    </tr>\n",
              "    <tr>\n",
              "      <th>1</th>\n",
              "      <td>3</td>\n",
              "      <td>[835476, 851057, 872021, 878302, 879948, 90963...</td>\n",
              "    </tr>\n",
              "  </tbody>\n",
              "</table>\n",
              "</div>"
            ],
            "text/plain": [
              "   user_id                                             actual\n",
              "0        1  [821867, 834484, 856942, 865456, 889248, 90795...\n",
              "1        3  [835476, 851057, 872021, 878302, 879948, 90963..."
            ]
          },
          "metadata": {
            "tags": []
          },
          "execution_count": 286
        }
      ]
    },
    {
      "cell_type": "markdown",
      "metadata": {
        "id": "QjONoiGXLHdH"
      },
      "source": [
        "Результаты для предсказания первого уровня на валидационном сете второго уровня     \n",
        "\n",
        "!!! То, о чем писал выше !!! Приходится делать финт ушами, чтобы не считать предсказания для большинства из тех, для кого они уже сосчитаны."
      ]
    },
    {
      "cell_type": "code",
      "metadata": {
        "colab": {
          "base_uri": "https://localhost:8080/"
        },
        "id": "WF1iwbCEU3gS",
        "outputId": "828c6903-bed8-49f3-f305-a96cbd6b43bc"
      },
      "source": [
        "users_val_lvl_2 = pd.DataFrame(data_val_lvl_2['user_id'].unique())\n",
        "users_val_lvl_2.columns = ['user_id']\n",
        "counted = set(users_lvl_2.user_id.unique()).intersection(set(users_val_lvl_2.user_id.unique()))\n",
        "print(len(counted))\n",
        "to_count = set(users_val_lvl_2.user_id.unique()) - counted\n",
        "print(len(to_count))\n",
        "users_val_lvl_2 = users_val_lvl_2.merge(users_lvl_2, on='user_id', how='left')"
      ],
      "execution_count": null,
      "outputs": [
        {
          "output_type": "stream",
          "text": [
            "1916\n",
            "126\n"
          ],
          "name": "stdout"
        }
      ]
    },
    {
      "cell_type": "code",
      "metadata": {
        "colab": {
          "base_uri": "https://localhost:8080/"
        },
        "id": "Mb7kVToDZj3g",
        "outputId": "80d4fd14-d795-490d-be8b-3fe88b4f24b4"
      },
      "source": [
        "(users_val_lvl_2.isna()).sum()"
      ],
      "execution_count": null,
      "outputs": [
        {
          "output_type": "execute_result",
          "data": {
            "text/plain": [
              "user_id         0\n",
              "candidates    126\n",
              "dtype: int64"
            ]
          },
          "metadata": {
            "tags": []
          },
          "execution_count": 308
        }
      ]
    },
    {
      "cell_type": "code",
      "metadata": {
        "colab": {
          "base_uri": "https://localhost:8080/"
        },
        "id": "vMR3-KJr2uOC",
        "outputId": "663756f3-6b92-42a8-b66a-ae29286f2028"
      },
      "source": [
        "users_val_lvl_2.loc[users_val_lvl_2.user_id.isin(to_count), 'candidates'] = users_val_lvl_2.loc[users_val_lvl_2.user_id.isin(to_count), 'user_id'].apply(lambda x: get_lvl_1_recommendations(recommender=recommender, user_id=x, N=200))"
      ],
      "execution_count": null,
      "outputs": [
        {
          "output_type": "stream",
          "text": [
            "1360\n",
            "860\n",
            "1851\n",
            "899\n",
            "1048\n",
            "2099\n",
            "48\n",
            "1278\n",
            "2042\n",
            "795\n",
            "341\n",
            "570\n",
            "1342\n",
            "154\n",
            "1439\n",
            "2368\n",
            "1889\n",
            "1254\n",
            "1932\n",
            "1521\n",
            "89\n",
            "1688\n",
            "477\n",
            "471\n",
            "3\n",
            "550\n",
            "1636\n",
            "1977\n",
            "1101\n",
            "482\n",
            "1030\n",
            "822\n",
            "2175\n",
            "1438\n",
            "364\n",
            "792\n",
            "1868\n",
            "1701\n",
            "774\n",
            "1615\n",
            "935\n",
            "903\n",
            "1276\n",
            "1608\n",
            "488\n",
            "2495\n",
            "1095\n",
            "446\n",
            "1034\n",
            "2220\n",
            "1241\n",
            "2044\n",
            "839\n",
            "1711\n",
            "599\n",
            "1036\n",
            "2061\n",
            "1569\n",
            "60\n",
            "2026\n",
            "994\n",
            "2032\n",
            "347\n",
            "532\n",
            "2383\n",
            "1170\n",
            "2016\n",
            "2362\n",
            "1771\n",
            "2255\n",
            "1750\n",
            "420\n",
            "261\n",
            "1617\n",
            "1641\n",
            "73\n",
            "2210\n",
            "2039\n",
            "1448\n",
            "1714\n",
            "1242\n",
            "2339\n",
            "120\n",
            "1280\n",
            "1235\n",
            "163\n",
            "1361\n",
            "237\n",
            "677\n",
            "206\n",
            "1842\n",
            "2145\n",
            "2350\n",
            "780\n",
            "1959\n",
            "1886\n",
            "2399\n",
            "884\n",
            "881\n",
            "1403\n",
            "1793\n",
            "1496\n",
            "2031\n",
            "452\n",
            "2268\n",
            "1105\n",
            "610\n",
            "240\n",
            "1583\n",
            "974\n",
            "640\n",
            "1466\n",
            "512\n",
            "2487\n",
            "2308\n",
            "1079\n",
            "851\n",
            "2059\n",
            "399\n",
            "Cannot apply als to user 2259\n",
            "Cannot apply own to user 2259\n",
            "2259\n",
            "861\n",
            "2373\n",
            "1386\n",
            "472\n",
            "90\n",
            "832\n"
          ],
          "name": "stdout"
        }
      ]
    },
    {
      "cell_type": "code",
      "metadata": {
        "colab": {
          "base_uri": "https://localhost:8080/"
        },
        "id": "vVFcx-jcYrR1",
        "outputId": "8fba5381-2f17-41b7-eb4b-7fb3f1d4028e"
      },
      "source": [
        "actual_users = set(result_lvl_2['user_id'].unique())\n",
        "len(actual_users)"
      ],
      "execution_count": null,
      "outputs": [
        {
          "output_type": "execute_result",
          "data": {
            "text/plain": [
              "2042"
            ]
          },
          "metadata": {
            "tags": []
          },
          "execution_count": 310
        }
      ]
    },
    {
      "cell_type": "code",
      "metadata": {
        "colab": {
          "base_uri": "https://localhost:8080/"
        },
        "id": "mlysOPBhYrR3",
        "outputId": "e4544530-1652-436c-9e72-e99a03771874"
      },
      "source": [
        "predicted_users = set(users_val_lvl_2['user_id'].unique())\n",
        "len(predicted_users)"
      ],
      "execution_count": null,
      "outputs": [
        {
          "output_type": "execute_result",
          "data": {
            "text/plain": [
              "2042"
            ]
          },
          "metadata": {
            "tags": []
          },
          "execution_count": 311
        }
      ]
    },
    {
      "cell_type": "code",
      "metadata": {
        "colab": {
          "base_uri": "https://localhost:8080/"
        },
        "id": "WjB9LqgVYrR4",
        "outputId": "9ff04225-5ba7-43a8-d422-b61e0bda2ac1"
      },
      "source": [
        "actual_users - predicted_users"
      ],
      "execution_count": null,
      "outputs": [
        {
          "output_type": "execute_result",
          "data": {
            "text/plain": [
              "set()"
            ]
          },
          "metadata": {
            "tags": []
          },
          "execution_count": 312
        }
      ]
    },
    {
      "cell_type": "code",
      "metadata": {
        "colab": {
          "base_uri": "https://localhost:8080/"
        },
        "id": "89-BV8RKZGBN",
        "outputId": "7629f828-4878-459a-88d9-d535b79d4345"
      },
      "source": [
        "(users_val_lvl_2.isna()).sum()"
      ],
      "execution_count": null,
      "outputs": [
        {
          "output_type": "execute_result",
          "data": {
            "text/plain": [
              "user_id       0\n",
              "candidates    0\n",
              "dtype: int64"
            ]
          },
          "metadata": {
            "tags": []
          },
          "execution_count": 313
        }
      ]
    },
    {
      "cell_type": "code",
      "metadata": {
        "colab": {
          "base_uri": "https://localhost:8080/"
        },
        "id": "Y-wG8KpjOp9Q",
        "outputId": "05830e6d-732f-4d87-ad70-19da93db7331"
      },
      "source": [
        "mean, std = total_recall_at_k_pre(actual_data = result_lvl_2, k=200, recommendations_table=users_val_lvl_2)\n",
        "print(mean, ' +- ', std)"
      ],
      "execution_count": null,
      "outputs": [
        {
          "output_type": "stream",
          "text": [
            "0.10959589589941948  +-  0.09047783788261561\n"
          ],
          "name": "stdout"
        }
      ]
    },
    {
      "cell_type": "code",
      "metadata": {
        "colab": {
          "base_uri": "https://localhost:8080/"
        },
        "id": "3nHbFxDRI8Ae",
        "outputId": "9f5e215c-4128-41e7-d46f-74a0e2140b7d"
      },
      "source": [
        "mean, std = total_precision_at_k_pre(actual_data = result_lvl_2, k=5, recommendations_table=users_val_lvl_2)\n",
        "print(mean, ' +- ', std)"
      ],
      "execution_count": null,
      "outputs": [
        {
          "output_type": "stream",
          "text": [
            "0.12360430950048971  +-  0.1742512627980559\n"
          ],
          "name": "stdout"
        }
      ]
    },
    {
      "cell_type": "markdown",
      "metadata": {
        "id": "KfCc7A1BbHIC"
      },
      "source": [
        "Разброс шикарный!!!"
      ]
    },
    {
      "cell_type": "markdown",
      "metadata": {
        "id": "5s45ZlCqLToG"
      },
      "source": [
        "Расчитаем рекоммендации второго уровня для валидационного набора данных"
      ]
    },
    {
      "cell_type": "code",
      "metadata": {
        "id": "FRw3Xe7QIyoA"
      },
      "source": [
        "df=pd.DataFrame({'user_id':users_val_lvl_2.user_id.values.repeat(len(users_val_lvl_2.candidates[0])),\n",
        "                 'item_id':np.concatenate(users_val_lvl_2.candidates.values)})\n",
        "\n",
        "targets_val_lvl_2 = data_val_lvl_2[['user_id', 'item_id']].copy()\n",
        "targets_val_lvl_2['target'] = 1  # тут только покупки \n",
        "targets_val_lvl_2 = df.merge(targets_val_lvl_2, on=['user_id', 'item_id'], how='left')\n",
        "targets_val_lvl_2['target'].fillna(0, inplace= True)\n",
        "\n",
        "targets_val_lvl_2 = targets_val_lvl_2.merge(item_features, on='item_id', how='left')\n",
        "targets_val_lvl_2 = targets_val_lvl_2.merge(user_features, on='user_id', how='left')\n",
        "\n",
        "X_val = targets_val_lvl_2.drop('target', axis=1)\n",
        "X_val[cat_feats] = X_val[cat_feats].astype('category')\n",
        "\n",
        "val_preds = lgb.predict_proba(X_val)[:, 1]"
      ],
      "execution_count": null,
      "outputs": []
    },
    {
      "cell_type": "code",
      "metadata": {
        "id": "nH3H1CqrKnjQ"
      },
      "source": [
        "k = 5\n",
        "targets_lvl_2_pred = targets_val_lvl_2.copy(deep=True)\n",
        "targets_lvl_2_pred['predict_proba'] = val_preds\n",
        "targets_lvl_2_pred = targets_lvl_2_pred[['user_id', 'item_id', 'predict_proba']]\n",
        "users = targets_lvl_2_pred['user_id'].unique()\n",
        "lvl_2_recommendations = pd.DataFrame(data = {'user_id': users})\n",
        "lvl_2_recommendations['candidates'] = 0\n",
        "\n",
        "def get_lvl_2_reccomendations(user_id, targets_lvl_2_pred):\n",
        "  tdf = targets_lvl_2_pred[targets_lvl_2_pred['user_id']==user]\n",
        "  tdf = tdf.sort_values(by='predict_proba', ascending=False)\n",
        "  tdf = tdf.head(k)['item_id'].values\n",
        "  return tdf\n",
        "\n",
        "lvl_2_recommendations['candidates'] = lvl_2_recommendations['user_id'].apply(lambda x: get_lvl_2_reccomendations(x, targets_lvl_2_pred))"
      ],
      "execution_count": null,
      "outputs": []
    },
    {
      "cell_type": "code",
      "metadata": {
        "colab": {
          "base_uri": "https://localhost:8080/"
        },
        "id": "bcUN3C2uK59P",
        "outputId": "1b972344-62f6-487e-d53a-f9dfde96e22f"
      },
      "source": [
        "mean, std = total_precision_at_k_pre(actual_data = result_lvl_2, k=5, recommendations_table=lvl_2_recommendations)\n",
        "print(mean, ' +- ', std)"
      ],
      "execution_count": null,
      "outputs": [
        {
          "output_type": "stream",
          "text": [
            "0.14985308521057786  +-  0.16557997071517672\n"
          ],
          "name": "stdout"
        }
      ]
    },
    {
      "cell_type": "markdown",
      "metadata": {
        "id": "CgyOxu0db0nE"
      },
      "source": [
        "Качество несколько лучше, чем для модели первого уровня. Чтобы увеличить качество, нужно поработать с фитчами"
      ]
    },
    {
      "cell_type": "markdown",
      "metadata": {
        "id": "-fZifow0FAP-"
      },
      "source": [
        "### Финальный проект\n",
        "\n",
        "Мы уже прошли всю необходимуб теорию для финального проекта. Проект осуществляется на данных из вебинара (данные считаны в начале ДЗ).\n",
        "Рекомендуем вам **начать делать проект сразу после этого домашнего задания**\n",
        "- Целевая метрика - precision@5. Порог для уcпешной сдачи проекта precision@5 > 0.27%\n",
        "- Будет public тестовый датасет, на котором вы сможете измерять метрику\n",
        "- Также будет private тестовый датасет для измерения финального качества\n",
        "- НЕ обязательно, но крайне желательно использовать 2-ух уровневые рекоммендательные системы в проекте\n",
        "- Вы сдаете код проекта в виде github репозитория и csv файл с рекомендациями "
      ]
    },
    {
      "cell_type": "code",
      "metadata": {
        "id": "ezSkuVpDbzxJ"
      },
      "source": [
        ""
      ],
      "execution_count": null,
      "outputs": []
    }
  ]
}