{
  "nbformat": 4,
  "nbformat_minor": 0,
  "metadata": {
    "kernelspec": {
      "display_name": "Python 3",
      "language": "python",
      "name": "python3"
    },
    "language_info": {
      "codemirror_mode": {
        "name": "ipython",
        "version": 3
      },
      "file_extension": ".py",
      "mimetype": "text/x-python",
      "name": "python",
      "nbconvert_exporter": "python",
      "pygments_lexer": "ipython3",
      "version": "3.6.5"
    },
    "colab": {
      "name": "capstone.ipynb",
      "provenance": [],
      "collapsed_sections": [],
      "include_colab_link": true
    },
    "widgets": {
      "application/vnd.jupyter.widget-state+json": {
        "52d297e2de954fedba4d775228008478": {
          "model_module": "@jupyter-widgets/controls",
          "model_name": "HBoxModel",
          "state": {
            "_view_name": "HBoxView",
            "_dom_classes": [],
            "_model_name": "HBoxModel",
            "_view_module": "@jupyter-widgets/controls",
            "_model_module_version": "1.5.0",
            "_view_count": null,
            "_view_module_version": "1.5.0",
            "box_style": "",
            "layout": "IPY_MODEL_1694f71bb7394a2baf7516f46b0feb66",
            "_model_module": "@jupyter-widgets/controls",
            "children": [
              "IPY_MODEL_d131f7c676f54d6ebccac16b869777a2",
              "IPY_MODEL_879e0518b5014a019ac879473ca20660"
            ]
          },
          "model_module_version": "1.5.0"
        },
        "1694f71bb7394a2baf7516f46b0feb66": {
          "model_module": "@jupyter-widgets/base",
          "model_name": "LayoutModel",
          "state": {
            "_view_name": "LayoutView",
            "grid_template_rows": null,
            "right": null,
            "justify_content": null,
            "_view_module": "@jupyter-widgets/base",
            "overflow": null,
            "_model_module_version": "1.2.0",
            "_view_count": null,
            "flex_flow": null,
            "width": null,
            "min_width": null,
            "border": null,
            "align_items": null,
            "bottom": null,
            "_model_module": "@jupyter-widgets/base",
            "top": null,
            "grid_column": null,
            "overflow_y": null,
            "overflow_x": null,
            "grid_auto_flow": null,
            "grid_area": null,
            "grid_template_columns": null,
            "flex": null,
            "_model_name": "LayoutModel",
            "justify_items": null,
            "grid_row": null,
            "max_height": null,
            "align_content": null,
            "visibility": null,
            "align_self": null,
            "height": null,
            "min_height": null,
            "padding": null,
            "grid_auto_rows": null,
            "grid_gap": null,
            "max_width": null,
            "order": null,
            "_view_module_version": "1.2.0",
            "grid_template_areas": null,
            "object_position": null,
            "object_fit": null,
            "grid_auto_columns": null,
            "margin": null,
            "display": null,
            "left": null
          },
          "model_module_version": "1.2.0"
        },
        "d131f7c676f54d6ebccac16b869777a2": {
          "model_module": "@jupyter-widgets/controls",
          "model_name": "FloatProgressModel",
          "state": {
            "_view_name": "ProgressView",
            "style": "IPY_MODEL_56580a7612854d6f8849c7070d9d48d0",
            "_dom_classes": [],
            "description": "100%",
            "_model_name": "FloatProgressModel",
            "bar_style": "success",
            "max": 15,
            "_view_module": "@jupyter-widgets/controls",
            "_model_module_version": "1.5.0",
            "value": 15,
            "_view_count": null,
            "_view_module_version": "1.5.0",
            "orientation": "horizontal",
            "min": 0,
            "description_tooltip": null,
            "_model_module": "@jupyter-widgets/controls",
            "layout": "IPY_MODEL_b591eb1b39d640b2aa80055ca29f896e"
          },
          "model_module_version": "1.5.0"
        },
        "879e0518b5014a019ac879473ca20660": {
          "model_module": "@jupyter-widgets/controls",
          "model_name": "HTMLModel",
          "state": {
            "_view_name": "HTMLView",
            "style": "IPY_MODEL_ba3a58725ca4422cb9d047bfc294f085",
            "_dom_classes": [],
            "description": "",
            "_model_name": "HTMLModel",
            "placeholder": "​",
            "_view_module": "@jupyter-widgets/controls",
            "_model_module_version": "1.5.0",
            "value": " 15/15 [23:42&lt;00:00, 94.85s/it]",
            "_view_count": null,
            "_view_module_version": "1.5.0",
            "description_tooltip": null,
            "_model_module": "@jupyter-widgets/controls",
            "layout": "IPY_MODEL_cb9e686584f74fb9b40db93470980bcf"
          },
          "model_module_version": "1.5.0"
        },
        "56580a7612854d6f8849c7070d9d48d0": {
          "model_module": "@jupyter-widgets/controls",
          "model_name": "ProgressStyleModel",
          "state": {
            "_view_name": "StyleView",
            "_model_name": "ProgressStyleModel",
            "description_width": "initial",
            "_view_module": "@jupyter-widgets/base",
            "_model_module_version": "1.5.0",
            "_view_count": null,
            "_view_module_version": "1.2.0",
            "bar_color": null,
            "_model_module": "@jupyter-widgets/controls"
          },
          "model_module_version": "1.5.0"
        },
        "b591eb1b39d640b2aa80055ca29f896e": {
          "model_module": "@jupyter-widgets/base",
          "model_name": "LayoutModel",
          "state": {
            "_view_name": "LayoutView",
            "grid_template_rows": null,
            "right": null,
            "justify_content": null,
            "_view_module": "@jupyter-widgets/base",
            "overflow": null,
            "_model_module_version": "1.2.0",
            "_view_count": null,
            "flex_flow": null,
            "width": null,
            "min_width": null,
            "border": null,
            "align_items": null,
            "bottom": null,
            "_model_module": "@jupyter-widgets/base",
            "top": null,
            "grid_column": null,
            "overflow_y": null,
            "overflow_x": null,
            "grid_auto_flow": null,
            "grid_area": null,
            "grid_template_columns": null,
            "flex": null,
            "_model_name": "LayoutModel",
            "justify_items": null,
            "grid_row": null,
            "max_height": null,
            "align_content": null,
            "visibility": null,
            "align_self": null,
            "height": null,
            "min_height": null,
            "padding": null,
            "grid_auto_rows": null,
            "grid_gap": null,
            "max_width": null,
            "order": null,
            "_view_module_version": "1.2.0",
            "grid_template_areas": null,
            "object_position": null,
            "object_fit": null,
            "grid_auto_columns": null,
            "margin": null,
            "display": null,
            "left": null
          },
          "model_module_version": "1.2.0"
        },
        "ba3a58725ca4422cb9d047bfc294f085": {
          "model_module": "@jupyter-widgets/controls",
          "model_name": "DescriptionStyleModel",
          "state": {
            "_view_name": "StyleView",
            "_model_name": "DescriptionStyleModel",
            "description_width": "",
            "_view_module": "@jupyter-widgets/base",
            "_model_module_version": "1.5.0",
            "_view_count": null,
            "_view_module_version": "1.2.0",
            "_model_module": "@jupyter-widgets/controls"
          },
          "model_module_version": "1.5.0"
        },
        "cb9e686584f74fb9b40db93470980bcf": {
          "model_module": "@jupyter-widgets/base",
          "model_name": "LayoutModel",
          "state": {
            "_view_name": "LayoutView",
            "grid_template_rows": null,
            "right": null,
            "justify_content": null,
            "_view_module": "@jupyter-widgets/base",
            "overflow": null,
            "_model_module_version": "1.2.0",
            "_view_count": null,
            "flex_flow": null,
            "width": null,
            "min_width": null,
            "border": null,
            "align_items": null,
            "bottom": null,
            "_model_module": "@jupyter-widgets/base",
            "top": null,
            "grid_column": null,
            "overflow_y": null,
            "overflow_x": null,
            "grid_auto_flow": null,
            "grid_area": null,
            "grid_template_columns": null,
            "flex": null,
            "_model_name": "LayoutModel",
            "justify_items": null,
            "grid_row": null,
            "max_height": null,
            "align_content": null,
            "visibility": null,
            "align_self": null,
            "height": null,
            "min_height": null,
            "padding": null,
            "grid_auto_rows": null,
            "grid_gap": null,
            "max_width": null,
            "order": null,
            "_view_module_version": "1.2.0",
            "grid_template_areas": null,
            "object_position": null,
            "object_fit": null,
            "grid_auto_columns": null,
            "margin": null,
            "display": null,
            "left": null
          },
          "model_module_version": "1.2.0"
        },
        "a976d73743084ec2a984ca5342a45a19": {
          "model_module": "@jupyter-widgets/controls",
          "model_name": "HBoxModel",
          "state": {
            "_view_name": "HBoxView",
            "_dom_classes": [],
            "_model_name": "HBoxModel",
            "_view_module": "@jupyter-widgets/controls",
            "_model_module_version": "1.5.0",
            "_view_count": null,
            "_view_module_version": "1.5.0",
            "box_style": "",
            "layout": "IPY_MODEL_b9aa5697b9b34bebb4fb7ad9f413d1fe",
            "_model_module": "@jupyter-widgets/controls",
            "children": [
              "IPY_MODEL_9da601f3d1f140b0936ad673f8317419",
              "IPY_MODEL_4a99799ded3b4cbbaa300d9e30f6c4af"
            ]
          },
          "model_module_version": "1.5.0"
        },
        "b9aa5697b9b34bebb4fb7ad9f413d1fe": {
          "model_module": "@jupyter-widgets/base",
          "model_name": "LayoutModel",
          "state": {
            "_view_name": "LayoutView",
            "grid_template_rows": null,
            "right": null,
            "justify_content": null,
            "_view_module": "@jupyter-widgets/base",
            "overflow": null,
            "_model_module_version": "1.2.0",
            "_view_count": null,
            "flex_flow": null,
            "width": null,
            "min_width": null,
            "border": null,
            "align_items": null,
            "bottom": null,
            "_model_module": "@jupyter-widgets/base",
            "top": null,
            "grid_column": null,
            "overflow_y": null,
            "overflow_x": null,
            "grid_auto_flow": null,
            "grid_area": null,
            "grid_template_columns": null,
            "flex": null,
            "_model_name": "LayoutModel",
            "justify_items": null,
            "grid_row": null,
            "max_height": null,
            "align_content": null,
            "visibility": null,
            "align_self": null,
            "height": null,
            "min_height": null,
            "padding": null,
            "grid_auto_rows": null,
            "grid_gap": null,
            "max_width": null,
            "order": null,
            "_view_module_version": "1.2.0",
            "grid_template_areas": null,
            "object_position": null,
            "object_fit": null,
            "grid_auto_columns": null,
            "margin": null,
            "display": null,
            "left": null
          },
          "model_module_version": "1.2.0"
        },
        "9da601f3d1f140b0936ad673f8317419": {
          "model_module": "@jupyter-widgets/controls",
          "model_name": "FloatProgressModel",
          "state": {
            "_view_name": "ProgressView",
            "style": "IPY_MODEL_d2a8f17ec5c94f4199a48ae1ff0e20a8",
            "_dom_classes": [],
            "description": "100%",
            "_model_name": "FloatProgressModel",
            "bar_style": "success",
            "max": 30001,
            "_view_module": "@jupyter-widgets/controls",
            "_model_module_version": "1.5.0",
            "value": 30001,
            "_view_count": null,
            "_view_module_version": "1.5.0",
            "orientation": "horizontal",
            "min": 0,
            "description_tooltip": null,
            "_model_module": "@jupyter-widgets/controls",
            "layout": "IPY_MODEL_b1c8f8cffe5443c9bea03975f7681065"
          },
          "model_module_version": "1.5.0"
        },
        "4a99799ded3b4cbbaa300d9e30f6c4af": {
          "model_module": "@jupyter-widgets/controls",
          "model_name": "HTMLModel",
          "state": {
            "_view_name": "HTMLView",
            "style": "IPY_MODEL_7b02173ab83d4f9f8da5c53a7213d0cb",
            "_dom_classes": [],
            "description": "",
            "_model_name": "HTMLModel",
            "placeholder": "​",
            "_view_module": "@jupyter-widgets/controls",
            "_model_module_version": "1.5.0",
            "value": " 30001/30001 [00:07&lt;00:00, 3820.97it/s]",
            "_view_count": null,
            "_view_module_version": "1.5.0",
            "description_tooltip": null,
            "_model_module": "@jupyter-widgets/controls",
            "layout": "IPY_MODEL_0f59c5cb4879412bbf5ab6bd3e4cb0f4"
          },
          "model_module_version": "1.5.0"
        },
        "d2a8f17ec5c94f4199a48ae1ff0e20a8": {
          "model_module": "@jupyter-widgets/controls",
          "model_name": "ProgressStyleModel",
          "state": {
            "_view_name": "StyleView",
            "_model_name": "ProgressStyleModel",
            "description_width": "initial",
            "_view_module": "@jupyter-widgets/base",
            "_model_module_version": "1.5.0",
            "_view_count": null,
            "_view_module_version": "1.2.0",
            "bar_color": null,
            "_model_module": "@jupyter-widgets/controls"
          },
          "model_module_version": "1.5.0"
        },
        "b1c8f8cffe5443c9bea03975f7681065": {
          "model_module": "@jupyter-widgets/base",
          "model_name": "LayoutModel",
          "state": {
            "_view_name": "LayoutView",
            "grid_template_rows": null,
            "right": null,
            "justify_content": null,
            "_view_module": "@jupyter-widgets/base",
            "overflow": null,
            "_model_module_version": "1.2.0",
            "_view_count": null,
            "flex_flow": null,
            "width": null,
            "min_width": null,
            "border": null,
            "align_items": null,
            "bottom": null,
            "_model_module": "@jupyter-widgets/base",
            "top": null,
            "grid_column": null,
            "overflow_y": null,
            "overflow_x": null,
            "grid_auto_flow": null,
            "grid_area": null,
            "grid_template_columns": null,
            "flex": null,
            "_model_name": "LayoutModel",
            "justify_items": null,
            "grid_row": null,
            "max_height": null,
            "align_content": null,
            "visibility": null,
            "align_self": null,
            "height": null,
            "min_height": null,
            "padding": null,
            "grid_auto_rows": null,
            "grid_gap": null,
            "max_width": null,
            "order": null,
            "_view_module_version": "1.2.0",
            "grid_template_areas": null,
            "object_position": null,
            "object_fit": null,
            "grid_auto_columns": null,
            "margin": null,
            "display": null,
            "left": null
          },
          "model_module_version": "1.2.0"
        },
        "7b02173ab83d4f9f8da5c53a7213d0cb": {
          "model_module": "@jupyter-widgets/controls",
          "model_name": "DescriptionStyleModel",
          "state": {
            "_view_name": "StyleView",
            "_model_name": "DescriptionStyleModel",
            "description_width": "",
            "_view_module": "@jupyter-widgets/base",
            "_model_module_version": "1.5.0",
            "_view_count": null,
            "_view_module_version": "1.2.0",
            "_model_module": "@jupyter-widgets/controls"
          },
          "model_module_version": "1.5.0"
        },
        "0f59c5cb4879412bbf5ab6bd3e4cb0f4": {
          "model_module": "@jupyter-widgets/base",
          "model_name": "LayoutModel",
          "state": {
            "_view_name": "LayoutView",
            "grid_template_rows": null,
            "right": null,
            "justify_content": null,
            "_view_module": "@jupyter-widgets/base",
            "overflow": null,
            "_model_module_version": "1.2.0",
            "_view_count": null,
            "flex_flow": null,
            "width": null,
            "min_width": null,
            "border": null,
            "align_items": null,
            "bottom": null,
            "_model_module": "@jupyter-widgets/base",
            "top": null,
            "grid_column": null,
            "overflow_y": null,
            "overflow_x": null,
            "grid_auto_flow": null,
            "grid_area": null,
            "grid_template_columns": null,
            "flex": null,
            "_model_name": "LayoutModel",
            "justify_items": null,
            "grid_row": null,
            "max_height": null,
            "align_content": null,
            "visibility": null,
            "align_self": null,
            "height": null,
            "min_height": null,
            "padding": null,
            "grid_auto_rows": null,
            "grid_gap": null,
            "max_width": null,
            "order": null,
            "_view_module_version": "1.2.0",
            "grid_template_areas": null,
            "object_position": null,
            "object_fit": null,
            "grid_auto_columns": null,
            "margin": null,
            "display": null,
            "left": null
          },
          "model_module_version": "1.2.0"
        }
      }
    }
  },
  "cells": [
    {
      "cell_type": "markdown",
      "metadata": {
        "id": "view-in-github",
        "colab_type": "text"
      },
      "source": [
        "<a href=\"https://colab.research.google.com/github/VKSi/2020_12_GB_RecommendationSystems/blob/main/capstone.ipynb\" target=\"_parent\"><img src=\"https://colab.research.google.com/assets/colab-badge.svg\" alt=\"Open In Colab\"/></a>"
      ]
    },
    {
      "cell_type": "code",
      "metadata": {
        "colab": {
          "base_uri": "https://localhost:8080/"
        },
        "id": "IRuC63--F7sy",
        "outputId": "ceef2fda-50c9-46a4-a118-f8873fd05b45"
      },
      "source": [
        "!pip install implicit"
      ],
      "execution_count": null,
      "outputs": [
        {
          "output_type": "stream",
          "text": [
            "Requirement already satisfied: implicit in /usr/local/lib/python3.6/dist-packages (0.4.4)\n",
            "Requirement already satisfied: numpy in /usr/local/lib/python3.6/dist-packages (from implicit) (1.19.4)\n",
            "Requirement already satisfied: tqdm>=4.27 in /usr/local/lib/python3.6/dist-packages (from implicit) (4.41.1)\n",
            "Requirement already satisfied: scipy>=0.16 in /usr/local/lib/python3.6/dist-packages (from implicit) (1.4.1)\n"
          ],
          "name": "stdout"
        }
      ]
    },
    {
      "cell_type": "code",
      "metadata": {
        "id": "FpMxjHRJFAP5"
      },
      "source": [
        "import pandas as pd\n",
        "import numpy as np\n",
        "import pickle\n",
        "import matplotlib.pyplot as plt\n",
        "%matplotlib inline\n",
        "\n",
        "# Для работы с матрицами\n",
        "from scipy.sparse import csr_matrix\n",
        "\n",
        "# Матричная факторизация\n",
        "from implicit import als\n",
        "\n",
        "# Модель второго уровня\n",
        "from lightgbm import LGBMClassifier\n"
      ],
      "execution_count": null,
      "outputs": []
    },
    {
      "cell_type": "code",
      "metadata": {
        "colab": {
          "base_uri": "https://localhost:8080/"
        },
        "id": "WbQWLW2pFO31",
        "outputId": "c44ed6bf-8073-41e3-f874-46abbe5a76a2"
      },
      "source": [
        "from google.colab import drive\n",
        "drive.mount('/content/gdrive')"
      ],
      "execution_count": null,
      "outputs": [
        {
          "output_type": "stream",
          "text": [
            "Mounted at /content/gdrive\n"
          ],
          "name": "stdout"
        }
      ]
    },
    {
      "cell_type": "code",
      "metadata": {
        "id": "EjMN8jk-FT5n"
      },
      "source": [
        "PATH = 'gdrive/My Drive/AI/GB/RecSys/capstone/'\n",
        "OBJECTS_PATH = PATH + 'objects/'\n",
        "DATA_PATH = PATH + 'raw_data/'"
      ],
      "execution_count": null,
      "outputs": []
    },
    {
      "cell_type": "code",
      "metadata": {
        "id": "ambws3oGxzHp"
      },
      "source": [
        "def save_obj(obj, name: str):\n",
        "    path = OBJECTS_PATH + name + '.pkl'\n",
        "    with open(path, 'wb') as f:\n",
        "        pickle.dump(obj, f, pickle.HIGHEST_PROTOCOL)\n",
        "    return path\n",
        "\n",
        "def load_obj(name: str):\n",
        "    with open(OBJECTS_PATH + name + '.pkl', 'rb') as f:\n",
        "        return pickle.load(f)"
      ],
      "execution_count": null,
      "outputs": []
    },
    {
      "cell_type": "code",
      "metadata": {
        "id": "DyIDwND2GGCM"
      },
      "source": [
        "# Функции из модуля metrics\n",
        "def precision(recommended_list, bought_list):\n",
        "    bought_list = np.array(bought_list)\n",
        "    recommended_list = np.array(recommended_list)\n",
        "\n",
        "    flags = np.isin(bought_list, recommended_list)\n",
        "\n",
        "    precision = flags.sum() / len(recommended_list)\n",
        "\n",
        "    return precision\n",
        "\n",
        "\n",
        "def precision_at_k(recommended_list, bought_list, k=5):\n",
        "    bought_list = np.array(bought_list)\n",
        "    recommended_list = np.array(recommended_list)\n",
        "    \n",
        "\n",
        "    bought_list = bought_list  # Тут нет [:k] !!\n",
        "    \n",
        "    if k < len(recommended_list):\n",
        "        recommended_list = recommended_list[:k]\n",
        "\n",
        "    flags = np.isin(bought_list, recommended_list)\n",
        "\n",
        "    precision = flags.sum() / len(recommended_list)\n",
        "\n",
        "    return precision\n",
        "\n",
        "\n",
        "def money_precision_at_k(recommended_list, bought_list, prices_recommended, k=5):\n",
        "    # your_code\n",
        "    # Лучше считать через скалярное произведение, а не цикл\n",
        "\n",
        "    return precision\n",
        "\n",
        "\n",
        "def recall(recommended_list, bought_list):\n",
        "    bought_list = np.array(bought_list)\n",
        "    recommended_list = np.array(recommended_list)\n",
        "\n",
        "    flags = np.isin(bought_list, recommended_list)\n",
        "\n",
        "    recall = flags.sum() / len(bought_list)\n",
        "\n",
        "    return recall\n",
        "\n",
        "\n",
        "def recall_at_k(recommended_list, bought_list, k=5):\n",
        "\n",
        "    bought_list = np.array(bought_list)\n",
        "    recommended_list = np.array(recommended_list)\n",
        "\n",
        "    if k < len(recommended_list):\n",
        "        recommended_list = recommended_list[:k]\n",
        "\n",
        "    flags = np.isin(bought_list, recommended_list)\n",
        "    recall = flags.sum() / len(bought_list)\n",
        "\n",
        "    return recall\n",
        "\n",
        "\n",
        "def money_recall_at_k(recommended_list, bought_list, prices_recommended, prices_bought, k=5):\n",
        "    # your_code\n",
        "\n",
        "    return recall"
      ],
      "execution_count": null,
      "outputs": []
    },
    {
      "cell_type": "code",
      "metadata": {
        "id": "LBDGYSkZG9V6"
      },
      "source": [
        "# Функции из модуля utils\n",
        "\n",
        "def prefilter_items(data, take_n_popular=5000, item_features=None):\n",
        "    # Уберем самые популярные товары (их и так купят)\n",
        "    popularity = data.groupby('item_id')['user_id'].nunique().reset_index() / data['user_id'].nunique()\n",
        "    popularity.rename(columns={'user_id': 'share_unique_users'}, inplace=True)\n",
        "\n",
        "    top_popular = popularity[popularity['share_unique_users'] > 0.2].item_id.tolist()\n",
        "    # data = data[~data['item_id'].isin(top_popular)]                                                 # !!! НЕ ДЕЛАЕМ !!! \n",
        "\n",
        "    # Уберем самые НЕ популярные товары (их и так НЕ купят)\n",
        "    top_notpopular = popularity[popularity['share_unique_users'] < 0.02].item_id.tolist()\n",
        "    # data = data[~data['item_id'].isin(top_notpopular)]                                                 # !!! НЕ ДЕЛАЕМ !!!\n",
        "\n",
        "    # Уберем товары, которые не продавались за последние 12 месяцев\n",
        "\n",
        "    # Уберем не интересные для рекоммендаций категории (department)\n",
        "    if item_features is not None:\n",
        "        department_size = pd.DataFrame(item_features.\\\n",
        "                                        groupby('department')['item_id'].nunique().\\\n",
        "                                        sort_values(ascending=False)).reset_index()\n",
        "\n",
        "        department_size.columns = ['department', 'n_items']\n",
        "        rare_departments = department_size[department_size['n_items'] < 150].department.tolist()\n",
        "        items_in_rare_departments = item_features[item_features['department'].isin(rare_departments)].item_id.unique().tolist()\n",
        "\n",
        "        # data = data[~data['item_id'].isin(items_in_rare_departments)]                                                 # !!! НЕ ДЕЛАЕМ !!!\n",
        "\n",
        "\n",
        "    # Уберем слишком дешевые товары (на них не заработаем). 1 покупка из рассылок стоит 60 руб.\n",
        "    data['price'] = data['sales_value'] / (np.maximum(data['quantity'], 1))\n",
        "    # data = data[data['price'] > 2]                                                 # !!! НЕ ДЕЛАЕМ !!!\n",
        "\n",
        "    # Уберем слишком дорогие товарыs\n",
        "    data = data[data['price'] < 50]\n",
        "\n",
        "    # Возбмем топ по популярности\n",
        "    popularity = data.groupby('item_id')['quantity'].sum().reset_index()\n",
        "    popularity.rename(columns={'quantity': 'n_sold'}, inplace=True)\n",
        "\n",
        "    top = popularity.sort_values('n_sold', ascending=False).head(take_n_popular).item_id.tolist()\n",
        "    \n",
        "    # Заведем фиктивный item_id (если юзер не покупал товары из топ-5000, то он \"купил\" такой товар)\n",
        "    data.loc[~data['item_id'].isin(top), 'item_id'] = 999999\n",
        "    \n",
        "    # ...\n",
        "\n",
        "    return data\n",
        "\n",
        "\n",
        "def postfilter_items(user_id, recommednations):\n",
        "    pass"
      ],
      "execution_count": null,
      "outputs": []
    },
    {
      "cell_type": "code",
      "metadata": {
        "id": "5P5fHMMuHVmJ"
      },
      "source": [
        "# Функции из модуля recommenders\n",
        "\n",
        "import pandas as pd\n",
        "import numpy as np\n",
        "\n",
        "# Для работы с матрицами\n",
        "from scipy.sparse import csr_matrix\n",
        "\n",
        "# Матричная факторизация\n",
        "from implicit.als import AlternatingLeastSquares\n",
        "from implicit.nearest_neighbours import ItemItemRecommender  # нужен для одного трюка\n",
        "from implicit.nearest_neighbours import bm25_weight, tfidf_weight\n",
        "\n",
        "class MainRecommender:\n",
        "    \"\"\"Рекоммендации, которые можно получить из ALS\n",
        "\n",
        "    Input\n",
        "    -----\n",
        "    user_item_matrix: pd.DataFrame\n",
        "        Матрица взаимодействий user-item\n",
        "    \"\"\"\n",
        "\n",
        "    def __init__(self, data, weighting=True):\n",
        "\n",
        "        # Топ покупок каждого юзера\n",
        "        self.top_purchases = data.groupby(['user_id', 'item_id'])['quantity'].count().reset_index()\n",
        "        self.top_purchases.sort_values('quantity', ascending=False, inplace=True)\n",
        "        self.top_purchases = self.top_purchases[self.top_purchases['item_id'] != 999999]\n",
        "\n",
        "        # Топ покупок по всему датасету\n",
        "        self.overall_top_purchases = data.groupby('item_id')['quantity'].count().reset_index()\n",
        "        self.overall_top_purchases.sort_values('quantity', ascending=False, inplace=True)\n",
        "        self.overall_top_purchases = self.overall_top_purchases[self.overall_top_purchases['item_id'] != 999999]\n",
        "        self.overall_top_purchases = self.overall_top_purchases.item_id.tolist()\n",
        "\n",
        "        self.user_item_matrix = self._prepare_matrix(data)  # pd.DataFrame\n",
        "        self.id_to_itemid, self.id_to_userid, \\\n",
        "            self.itemid_to_id, self.userid_to_id = self._prepare_dicts(self.user_item_matrix)\n",
        "\n",
        "        if weighting:\n",
        "            self.user_item_matrix = bm25_weight(self.user_item_matrix.T).T\n",
        "\n",
        "        self.model = self.fit(self.user_item_matrix)\n",
        "        self.own_recommender = self.fit_own_recommender(self.user_item_matrix)\n",
        "\n",
        "    @staticmethod\n",
        "    def _prepare_matrix(data):\n",
        "        \"\"\"Готовит user-item матрицу\"\"\"\n",
        "        user_item_matrix = pd.pivot_table(data,\n",
        "                                          index='user_id', columns='item_id',\n",
        "                                          values='quantity',  # Можно пробовать другие варианты\n",
        "                                          aggfunc='count',\n",
        "                                          fill_value=0\n",
        "                                          )\n",
        "\n",
        "        user_item_matrix = user_item_matrix.astype(float)  # необходимый тип матрицы для implicit\n",
        "\n",
        "        return user_item_matrix\n",
        "\n",
        "    @staticmethod\n",
        "    def _prepare_dicts(user_item_matrix):\n",
        "        \"\"\"Подготавливает вспомогательные словари\"\"\"\n",
        "\n",
        "        userids = user_item_matrix.index.values\n",
        "        itemids = user_item_matrix.columns.values\n",
        "\n",
        "        matrix_userids = np.arange(len(userids))\n",
        "        matrix_itemids = np.arange(len(itemids))\n",
        "\n",
        "        id_to_itemid = dict(zip(matrix_itemids, itemids))\n",
        "        id_to_userid = dict(zip(matrix_userids, userids))\n",
        "\n",
        "        itemid_to_id = dict(zip(itemids, matrix_itemids))\n",
        "        userid_to_id = dict(zip(userids, matrix_userids))\n",
        "\n",
        "        return id_to_itemid, id_to_userid, itemid_to_id, userid_to_id\n",
        "\n",
        "    @staticmethod\n",
        "    def fit_own_recommender(user_item_matrix):\n",
        "        \"\"\"Обучает модель, которая рекомендует товары, среди товаров, купленных юзером\"\"\"\n",
        "\n",
        "        own_recommender = ItemItemRecommender(K=1, num_threads=4)\n",
        "        own_recommender.fit(csr_matrix(user_item_matrix).T.tocsr())\n",
        "\n",
        "        return own_recommender\n",
        "\n",
        "    @staticmethod\n",
        "    def fit(user_item_matrix, n_factors=20, regularization=0.001, iterations=15, num_threads=4):\n",
        "        \"\"\"Обучает ALS\"\"\"\n",
        "\n",
        "        model = AlternatingLeastSquares(factors=n_factors,\n",
        "                                        regularization=regularization,\n",
        "                                        iterations=iterations,\n",
        "                                        num_threads=num_threads,\n",
        "                                        use_gpu=False)  # Добавлено, чтобы избежать ошибки с CUDA\n",
        "        model.fit(csr_matrix(user_item_matrix).T.tocsr())\n",
        "\n",
        "        return model\n",
        "\n",
        "    def _update_dict(self, user_id):\n",
        "        \"\"\"Если появился новыю user / item, то нужно обновить словари\"\"\"\n",
        "\n",
        "        if user_id not in self.userid_to_id.keys():\n",
        "\n",
        "            max_id = max(list(self.userid_to_id.values()))\n",
        "            max_id += 1\n",
        "\n",
        "            self.userid_to_id.update({user_id: max_id})\n",
        "            self.id_to_userid.update({max_id: user_id})\n",
        "\n",
        "    def _get_similar_item(self, item_id):\n",
        "        \"\"\"Находит товар, похожий на item_id\"\"\"\n",
        "        recs = self.model.similar_items(self.itemid_to_id[item_id], N=2)  # Товар похож на себя -> рекомендуем 2 товара\n",
        "        top_rec = recs[1][0]  # И берем второй (не товар из аргумента метода)\n",
        "        return self.id_to_itemid[top_rec]\n",
        "\n",
        "    def _extend_with_top_popular(self, recommendations, N=5):\n",
        "        \"\"\"Если кол-во рекоммендаций < N, то дополняем их топ-популярными\"\"\"\n",
        "\n",
        "        if len(recommendations) < N:\n",
        "            recommendations.extend(self.overall_top_purchases[:N])\n",
        "            recommendations = recommendations[:N]\n",
        "\n",
        "        return recommendations\n",
        "\n",
        "    def _get_recommendations(self, user, model, N=5):\n",
        "        \"\"\"Рекомендации через стардартные библиотеки implicit\"\"\"\n",
        "\n",
        "        self._update_dict(user_id=user)\n",
        "        res = [self.id_to_itemid[rec[0]] for rec in model.recommend(userid=self.userid_to_id[user],\n",
        "                                        user_items=csr_matrix(self.user_item_matrix).tocsr(),\n",
        "                                        N=N,\n",
        "                                        filter_already_liked_items=False,\n",
        "                                        filter_items=[self.itemid_to_id[999999]],\n",
        "                                        recalculate_user=True)]\n",
        "\n",
        "        res = self._extend_with_top_popular(res, N=N)\n",
        "\n",
        "        assert len(res) == N, 'Количество рекомендаций != {}'.format(N)\n",
        "        return res\n",
        "\n",
        "    def get_als_recommendations(self, user, N=5):\n",
        "        \"\"\"Рекомендации через стардартные библиотеки implicit\"\"\"\n",
        "\n",
        "        self._update_dict(user_id=user)\n",
        "        return self._get_recommendations(user, model=self.model, N=N)\n",
        "\n",
        "    def get_own_recommendations(self, user, N=5):\n",
        "        \"\"\"Рекомендуем товары среди тех, которые юзер уже купил\"\"\"\n",
        "\n",
        "        self._update_dict(user_id=user)\n",
        "        return self._get_recommendations(user, model=self.own_recommender, N=N)\n",
        "\n",
        "    def get_similar_items_recommendations(self, user, N=5):\n",
        "        \"\"\"Рекомендуем товары, похожие на топ-N купленных юзером товаров\"\"\"\n",
        "\n",
        "        top_users_purchases = self.top_purchases[self.top_purchases['user_id'] == user].head(N)\n",
        "\n",
        "        res = top_users_purchases['item_id'].apply(lambda x: self._get_similar_item(x)).tolist()\n",
        "        res = self._extend_with_top_popular(res, N=N)\n",
        "\n",
        "        assert len(res) == N, 'Количество рекомендаций != {}'.format(N)\n",
        "        return res\n",
        "\n",
        "    def get_similar_users_recommendations(self, user, N=5):\n",
        "        \"\"\"Рекомендуем топ-N товаров, среди купленных похожими юзерами\"\"\"\n",
        "\n",
        "        res = []\n",
        "\n",
        "        # Находим топ-N похожих пользователей\n",
        "        similar_users = self.model.similar_users(self.userid_to_id[user], N=N+1)\n",
        "        similar_users = [rec[0] for rec in similar_users]\n",
        "        similar_users = similar_users[1:]   # удалим юзера из запроса\n",
        "\n",
        "        for user in similar_users:\n",
        "            res.extend(self.get_own_recommendations(user, N=1))\n",
        "\n",
        "        res = self._extend_with_top_popular(res, N=N)\n",
        "\n",
        "        assert len(res) == N, 'Количество рекомендаций != {}'.format(N)\n",
        "        return res"
      ],
      "execution_count": null,
      "outputs": []
    },
    {
      "cell_type": "code",
      "metadata": {
        "id": "EHgW62xXFAP6"
      },
      "source": [
        "data = pd.read_csv(DATA_PATH + 'retail_train.csv')\n",
        "item_features = pd.read_csv(DATA_PATH + 'product.csv')\n",
        "user_features = pd.read_csv(DATA_PATH + 'hh_demographic.csv')\n",
        "\n",
        "# column processing\n",
        "item_features.columns = [col.lower() for col in item_features.columns]\n",
        "user_features.columns = [col.lower() for col in user_features.columns]\n",
        "\n",
        "item_features.rename(columns={'product_id': 'item_id'}, inplace=True)\n",
        "user_features.rename(columns={'household_key': 'user_id'}, inplace=True)\n"
      ],
      "execution_count": null,
      "outputs": []
    },
    {
      "cell_type": "code",
      "metadata": {
        "colab": {
          "base_uri": "https://localhost:8080/",
          "height": 106
        },
        "id": "cEwO2QmBzVPt",
        "outputId": "ee666acb-3c5d-49a7-a236-66a006795536"
      },
      "source": [
        "# !!! Разбивка сделана не так как в методичке !!! В части data_val_lvl_1 взят весь остаток, data_train_lvl_2 считается отдельно\n",
        "\n",
        "val_lvl_1_size_weeks = 6\n",
        "val_lvl_2_size_weeks = 3\n",
        "\n",
        "data_train_lvl_1 = data[data['week_no'] < data['week_no'].max() - (val_lvl_1_size_weeks + val_lvl_2_size_weeks)]\n",
        "data_val_lvl_1 = data[data['week_no'] >= data['week_no'].max() - (val_lvl_1_size_weeks + val_lvl_2_size_weeks)]\n",
        "\n",
        "data_train_lvl_2 = data[(data['week_no'] >= data['week_no'].max() - (val_lvl_1_size_weeks + val_lvl_2_size_weeks)) &\n",
        "                      (data['week_no'] < data['week_no'].max() - (val_lvl_2_size_weeks))]\n",
        "data_val_lvl_2 = data[data['week_no'] >= data['week_no'].max() - val_lvl_2_size_weeks]\n",
        "\n",
        "data_train_lvl_1.head(2)\n"
      ],
      "execution_count": null,
      "outputs": [
        {
          "output_type": "execute_result",
          "data": {
            "text/html": [
              "<div>\n",
              "<style scoped>\n",
              "    .dataframe tbody tr th:only-of-type {\n",
              "        vertical-align: middle;\n",
              "    }\n",
              "\n",
              "    .dataframe tbody tr th {\n",
              "        vertical-align: top;\n",
              "    }\n",
              "\n",
              "    .dataframe thead th {\n",
              "        text-align: right;\n",
              "    }\n",
              "</style>\n",
              "<table border=\"1\" class=\"dataframe\">\n",
              "  <thead>\n",
              "    <tr style=\"text-align: right;\">\n",
              "      <th></th>\n",
              "      <th>user_id</th>\n",
              "      <th>basket_id</th>\n",
              "      <th>day</th>\n",
              "      <th>item_id</th>\n",
              "      <th>quantity</th>\n",
              "      <th>sales_value</th>\n",
              "      <th>store_id</th>\n",
              "      <th>retail_disc</th>\n",
              "      <th>trans_time</th>\n",
              "      <th>week_no</th>\n",
              "      <th>coupon_disc</th>\n",
              "      <th>coupon_match_disc</th>\n",
              "    </tr>\n",
              "  </thead>\n",
              "  <tbody>\n",
              "    <tr>\n",
              "      <th>0</th>\n",
              "      <td>2375</td>\n",
              "      <td>26984851472</td>\n",
              "      <td>1</td>\n",
              "      <td>1004906</td>\n",
              "      <td>1</td>\n",
              "      <td>1.39</td>\n",
              "      <td>364</td>\n",
              "      <td>-0.6</td>\n",
              "      <td>1631</td>\n",
              "      <td>1</td>\n",
              "      <td>0.0</td>\n",
              "      <td>0.0</td>\n",
              "    </tr>\n",
              "    <tr>\n",
              "      <th>1</th>\n",
              "      <td>2375</td>\n",
              "      <td>26984851472</td>\n",
              "      <td>1</td>\n",
              "      <td>1033142</td>\n",
              "      <td>1</td>\n",
              "      <td>0.82</td>\n",
              "      <td>364</td>\n",
              "      <td>0.0</td>\n",
              "      <td>1631</td>\n",
              "      <td>1</td>\n",
              "      <td>0.0</td>\n",
              "      <td>0.0</td>\n",
              "    </tr>\n",
              "  </tbody>\n",
              "</table>\n",
              "</div>"
            ],
            "text/plain": [
              "   user_id    basket_id  day  ...  week_no  coupon_disc  coupon_match_disc\n",
              "0     2375  26984851472    1  ...        1          0.0                0.0\n",
              "1     2375  26984851472    1  ...        1          0.0                0.0\n",
              "\n",
              "[2 rows x 12 columns]"
            ]
          },
          "metadata": {
            "tags": []
          },
          "execution_count": 108
        }
      ]
    },
    {
      "cell_type": "markdown",
      "metadata": {
        "id": "MP6xEyEuzPBO"
      },
      "source": [
        "Сделаем модель минимальным предварительным фильтром (см код фильтра в классе)"
      ]
    },
    {
      "cell_type": "code",
      "metadata": {
        "colab": {
          "base_uri": "https://localhost:8080/"
        },
        "id": "dfBX4J71BwmH",
        "outputId": "07f780dd-bcad-4b73-8983-64041d0f9f4e"
      },
      "source": [
        "train_users = set(data_train_lvl_1['user_id'].unique())\n",
        "val_users = set(data_val_lvl_1['user_id'].unique())\n",
        "new_users = val_users - train_users\n",
        "print(f'train_users: {len(train_users)}')\n",
        "print(f'val_users: {len(val_users)}')\n",
        "print(f'new_users: {len(new_users)}')"
      ],
      "execution_count": null,
      "outputs": [
        {
          "output_type": "stream",
          "text": [
            "train_users: 2498\n",
            "val_users: 2280\n",
            "new_users: 1\n"
          ],
          "name": "stdout"
        }
      ]
    },
    {
      "cell_type": "code",
      "metadata": {
        "colab": {
          "base_uri": "https://localhost:8080/"
        },
        "id": "Cf_H65Z5FAP7",
        "outputId": "35ee30c4-9316-4b3e-822f-8ff711540568"
      },
      "source": [
        "n_items_before = data_train_lvl_1['item_id'].nunique()\n",
        "\n",
        "data_train_lvl_1 = prefilter_items(data_train_lvl_1, item_features=item_features, take_n_popular=30000)\n",
        "\n",
        "n_items_after = data_train_lvl_1['item_id'].nunique()\n",
        "print('Decreased # items from {} to {}'.format(n_items_before, n_items_after))"
      ],
      "execution_count": null,
      "outputs": [
        {
          "output_type": "stream",
          "text": [
            "/usr/local/lib/python3.6/dist-packages/ipykernel_launcher.py:29: SettingWithCopyWarning: \n",
            "A value is trying to be set on a copy of a slice from a DataFrame.\n",
            "Try using .loc[row_indexer,col_indexer] = value instead\n",
            "\n",
            "See the caveats in the documentation: https://pandas.pydata.org/pandas-docs/stable/user_guide/indexing.html#returning-a-view-versus-a-copy\n"
          ],
          "name": "stderr"
        },
        {
          "output_type": "stream",
          "text": [
            "Decreased # items from 83685 to 30001\n"
          ],
          "name": "stdout"
        },
        {
          "output_type": "stream",
          "text": [
            "/usr/local/lib/python3.6/dist-packages/pandas/core/indexing.py:1763: SettingWithCopyWarning: \n",
            "A value is trying to be set on a copy of a slice from a DataFrame.\n",
            "Try using .loc[row_indexer,col_indexer] = value instead\n",
            "\n",
            "See the caveats in the documentation: https://pandas.pydata.org/pandas-docs/stable/user_guide/indexing.html#returning-a-view-versus-a-copy\n",
            "  isetter(loc, value)\n"
          ],
          "name": "stderr"
        }
      ]
    },
    {
      "cell_type": "code",
      "metadata": {
        "colab": {
          "base_uri": "https://localhost:8080/"
        },
        "id": "lU14CRu0CvhM",
        "outputId": "4b1bc529-9be3-4173-c76e-f74dfaf8f6b3"
      },
      "source": [
        "train_users = set(data_train_lvl_1['user_id'].unique())\n",
        "val_users = set(data_val_lvl_1['user_id'].unique())\n",
        "new_users = val_users - train_users\n",
        "print(f'train_users: {len(train_users)}')\n",
        "print(f'val_users: {len(val_users)}')\n",
        "print(f'new_users: {len(new_users)}')"
      ],
      "execution_count": null,
      "outputs": [
        {
          "output_type": "stream",
          "text": [
            "train_users: 2498\n",
            "val_users: 2280\n",
            "new_users: 1\n"
          ],
          "name": "stdout"
        }
      ]
    },
    {
      "cell_type": "code",
      "metadata": {
        "colab": {
          "base_uri": "https://localhost:8080/",
          "height": 131,
          "referenced_widgets": [
            "52d297e2de954fedba4d775228008478",
            "1694f71bb7394a2baf7516f46b0feb66",
            "d131f7c676f54d6ebccac16b869777a2",
            "879e0518b5014a019ac879473ca20660",
            "56580a7612854d6f8849c7070d9d48d0",
            "b591eb1b39d640b2aa80055ca29f896e",
            "ba3a58725ca4422cb9d047bfc294f085",
            "cb9e686584f74fb9b40db93470980bcf",
            "a976d73743084ec2a984ca5342a45a19",
            "b9aa5697b9b34bebb4fb7ad9f413d1fe",
            "9da601f3d1f140b0936ad673f8317419",
            "4a99799ded3b4cbbaa300d9e30f6c4af",
            "d2a8f17ec5c94f4199a48ae1ff0e20a8",
            "b1c8f8cffe5443c9bea03975f7681065",
            "7b02173ab83d4f9f8da5c53a7213d0cb",
            "0f59c5cb4879412bbf5ab6bd3e4cb0f4"
          ]
        },
        "id": "5G2GPsc0FAP7",
        "outputId": "b062aa60-bd24-401e-9031-dad0d3f5deb0"
      },
      "source": [
        "# recommender = MainRecommender(data_train_lvl_1)"
      ],
      "execution_count": null,
      "outputs": [
        {
          "output_type": "stream",
          "text": [
            "WARNING:root:OpenBLAS detected. Its highly recommend to set the environment variable 'export OPENBLAS_NUM_THREADS=1' to disable its internal multithreading\n"
          ],
          "name": "stderr"
        },
        {
          "output_type": "display_data",
          "data": {
            "application/vnd.jupyter.widget-view+json": {
              "model_id": "52d297e2de954fedba4d775228008478",
              "version_minor": 0,
              "version_major": 2
            },
            "text/plain": [
              "HBox(children=(FloatProgress(value=0.0, max=15.0), HTML(value='')))"
            ]
          },
          "metadata": {
            "tags": []
          }
        },
        {
          "output_type": "stream",
          "text": [
            "\n"
          ],
          "name": "stdout"
        },
        {
          "output_type": "display_data",
          "data": {
            "application/vnd.jupyter.widget-view+json": {
              "model_id": "a976d73743084ec2a984ca5342a45a19",
              "version_minor": 0,
              "version_major": 2
            },
            "text/plain": [
              "HBox(children=(FloatProgress(value=0.0, max=30001.0), HTML(value='')))"
            ]
          },
          "metadata": {
            "tags": []
          }
        },
        {
          "output_type": "stream",
          "text": [
            "\n"
          ],
          "name": "stdout"
        }
      ]
    },
    {
      "cell_type": "code",
      "metadata": {
        "colab": {
          "base_uri": "https://localhost:8080/",
          "height": 35
        },
        "id": "XgWLdwwMvi38",
        "outputId": "05dac942-3615-4602-88f6-0165378d3972"
      },
      "source": [
        "# save_obj(recommender, 'recommender_min_prefilter_30000')"
      ],
      "execution_count": null,
      "outputs": [
        {
          "output_type": "execute_result",
          "data": {
            "application/vnd.google.colaboratory.intrinsic+json": {
              "type": "string"
            },
            "text/plain": [
              "'gdrive/My Drive/AI/GB/RecSys/capstone/objects/recommender_min_prefilter_30000.pkl'"
            ]
          },
          "metadata": {
            "tags": []
          },
          "execution_count": 15
        }
      ]
    },
    {
      "cell_type": "code",
      "metadata": {
        "id": "wEanQV8A1tMW"
      },
      "source": [
        "recommender = load_obj('recommender_min_prefilter_30000')"
      ],
      "execution_count": null,
      "outputs": []
    },
    {
      "cell_type": "code",
      "metadata": {
        "colab": {
          "base_uri": "https://localhost:8080/"
        },
        "id": "Lgol__wiFAP7",
        "outputId": "ad0dcc2e-b573-47a1-86fd-9ed1d010502b"
      },
      "source": [
        "recommender.get_als_recommendations(2375, N=5)"
      ],
      "execution_count": null,
      "outputs": [
        {
          "output_type": "execute_result",
          "data": {
            "text/plain": [
              "[981760, 1082185, 923746, 1098066, 1037863]"
            ]
          },
          "metadata": {
            "tags": []
          },
          "execution_count": 113
        }
      ]
    },
    {
      "cell_type": "code",
      "metadata": {
        "colab": {
          "base_uri": "https://localhost:8080/"
        },
        "id": "vP9jC7pDFAP8",
        "outputId": "cbd6dde4-d73a-415e-efe1-468bf24e861d"
      },
      "source": [
        "recommender.get_own_recommendations(2375, N=5)"
      ],
      "execution_count": null,
      "outputs": [
        {
          "output_type": "execute_result",
          "data": {
            "text/plain": [
              "[948640, 5565086, 1069256, 824738, 1335640]"
            ]
          },
          "metadata": {
            "tags": []
          },
          "execution_count": 114
        }
      ]
    },
    {
      "cell_type": "code",
      "metadata": {
        "colab": {
          "base_uri": "https://localhost:8080/"
        },
        "id": "pk8pd-Z8FAP8",
        "outputId": "12e33d04-2d27-46c3-ec76-dd696cd8db92"
      },
      "source": [
        "recommender.get_similar_items_recommendations(2375, N=5)"
      ],
      "execution_count": null,
      "outputs": [
        {
          "output_type": "execute_result",
          "data": {
            "text/plain": [
              "[820352, 889731, 1046545, 1055646, 9527160]"
            ]
          },
          "metadata": {
            "tags": []
          },
          "execution_count": 115
        }
      ]
    },
    {
      "cell_type": "code",
      "metadata": {
        "colab": {
          "base_uri": "https://localhost:8080/"
        },
        "id": "WBT7-jU1FAP8",
        "outputId": "28d77683-9cb3-4e05-89d6-1fc3e2b2e112"
      },
      "source": [
        "recommender.get_similar_users_recommendations(2375, N=5)"
      ],
      "execution_count": null,
      "outputs": [
        {
          "output_type": "execute_result",
          "data": {
            "text/plain": [
              "[1093490, 909618, 985605, 5585068, 979674]"
            ]
          },
          "metadata": {
            "tags": []
          },
          "execution_count": 116
        }
      ]
    },
    {
      "cell_type": "markdown",
      "metadata": {
        "id": "Lebqs2VgFAP9"
      },
      "source": [
        "# Отбор первого уровня\n"
      ]
    },
    {
      "cell_type": "code",
      "metadata": {
        "colab": {
          "base_uri": "https://localhost:8080/",
          "height": 106
        },
        "id": "DZbiTaM0FAP9",
        "outputId": "8768ff60-6391-4e11-a8aa-92c469ab24b3"
      },
      "source": [
        "result_lvl_1 = data_val_lvl_1.groupby('user_id')['item_id'].unique().reset_index()\n",
        "result_lvl_1.columns=['user_id', 'actual']\n",
        "result_lvl_1.head(2)"
      ],
      "execution_count": null,
      "outputs": [
        {
          "output_type": "execute_result",
          "data": {
            "text/html": [
              "<div>\n",
              "<style scoped>\n",
              "    .dataframe tbody tr th:only-of-type {\n",
              "        vertical-align: middle;\n",
              "    }\n",
              "\n",
              "    .dataframe tbody tr th {\n",
              "        vertical-align: top;\n",
              "    }\n",
              "\n",
              "    .dataframe thead th {\n",
              "        text-align: right;\n",
              "    }\n",
              "</style>\n",
              "<table border=\"1\" class=\"dataframe\">\n",
              "  <thead>\n",
              "    <tr style=\"text-align: right;\">\n",
              "      <th></th>\n",
              "      <th>user_id</th>\n",
              "      <th>actual</th>\n",
              "    </tr>\n",
              "  </thead>\n",
              "  <tbody>\n",
              "    <tr>\n",
              "      <th>0</th>\n",
              "      <td>1</td>\n",
              "      <td>[853529, 865456, 867607, 872137, 874905, 87524...</td>\n",
              "    </tr>\n",
              "    <tr>\n",
              "      <th>1</th>\n",
              "      <td>2</td>\n",
              "      <td>[15830248, 838136, 839656, 861272, 866211, 870...</td>\n",
              "    </tr>\n",
              "  </tbody>\n",
              "</table>\n",
              "</div>"
            ],
            "text/plain": [
              "   user_id                                             actual\n",
              "0        1  [853529, 865456, 867607, 872137, 874905, 87524...\n",
              "1        2  [15830248, 838136, 839656, 861272, 866211, 870..."
            ]
          },
          "metadata": {
            "tags": []
          },
          "execution_count": 117
        }
      ]
    },
    {
      "cell_type": "code",
      "metadata": {
        "colab": {
          "base_uri": "https://localhost:8080/"
        },
        "id": "gj_4KdRQDCmn",
        "outputId": "75d4c5b1-63d6-4c60-f5c2-25d89f3ef5ed"
      },
      "source": [
        "actual_users = set(result_lvl_1['user_id'].unique())\n",
        "predicted_users = set(data_train_lvl_1['user_id'].unique())\n",
        "new_users_1 = actual_users - predicted_users\n",
        "print(f'actual_users: {len(actual_users)}')\n",
        "print(f'predicted_users: {len(predicted_users)}')\n",
        "print(f'new_users_1: {len(new_users_1)}')"
      ],
      "execution_count": null,
      "outputs": [
        {
          "output_type": "stream",
          "text": [
            "actual_users: 2280\n",
            "predicted_users: 2498\n",
            "new_users_1: 1\n"
          ],
          "name": "stdout"
        }
      ]
    },
    {
      "cell_type": "code",
      "metadata": {
        "id": "HM5D58w1aQNl"
      },
      "source": [
        "k = 50"
      ],
      "execution_count": null,
      "outputs": []
    },
    {
      "cell_type": "markdown",
      "metadata": {
        "id": "hfdsvTnj-6lm"
      },
      "source": [
        "Напишем полезные функции для автоматизации дальнейшей работы"
      ]
    },
    {
      "cell_type": "code",
      "metadata": {
        "id": "fc9y-nrzV3pd"
      },
      "source": [
        "def get_bought_list(actual_data, user_id):\n",
        "  return actual_data.loc[actual_data['user_id'] == user_id, 'actual'].values[0]\n",
        "\n",
        "def get_recommended_list(func_name: str, user_id, N):\n",
        "  return eval(f'recommender.get_{func_name}_recommendations({user_id}, {N})')\n",
        "\n",
        "def total_recall_at_k(actual_data, k, N, func_name: str):\n",
        "  rc = []\n",
        "  for uid in set(recommender.id_to_userid.values()):\n",
        "    if uid not in actual_data['user_id'].values:\n",
        "      continue\n",
        "    rl = get_recommended_list(func_name=func_name, user_id=uid, N=N)\n",
        "    bl = get_bought_list(actual_data=actual_data, user_id=uid)\n",
        "    rc.append(recall_at_k(rl, bl, k))\n",
        "  return np.mean(rc), np.std(rc)"
      ],
      "execution_count": null,
      "outputs": []
    },
    {
      "cell_type": "code",
      "metadata": {
        "id": "42BML0sfefg8"
      },
      "source": [
        "to_count = result_lvl_1['user_id'].isin(predicted_users)"
      ],
      "execution_count": null,
      "outputs": []
    },
    {
      "cell_type": "code",
      "metadata": {
        "colab": {
          "base_uri": "https://localhost:8080/"
        },
        "id": "VMUhFr3DZ_Vd",
        "outputId": "de923cf4-1317-4ec3-b156-81873b40c1e4"
      },
      "source": [
        "print(f'Среднее значение метрики recall_at_k для k = {k}: ')\n",
        "print(f'Рекомендация \\t Среднее значение \\t Стандартное отклонение')\n",
        "for fn in ['als', 'own', 'similar_items']:  # , 'similar_users'\n",
        "  m, s = total_recall_at_k(actual_data=result_lvl_1[to_count], k=k, N=k, func_name=fn)\n",
        "  print(f'{fn} \\t\\t\\t {m:.3f} \\t\\t\\t {s:.5f}')"
      ],
      "execution_count": null,
      "outputs": [
        {
          "output_type": "stream",
          "text": [
            "Среднее значение метрики recall_at_k для k = 50: \n",
            "Рекомендация \t Среднее значение \t Стандартное отклонени\n",
            "als \t\t\t 0.070 \t\t\t 0.06630\n",
            "own \t\t\t 0.045 \t\t\t 0.06956\n",
            "similar_items \t\t\t 0.040 \t\t\t 0.05338\n"
          ],
          "name": "stdout"
        }
      ]
    },
    {
      "cell_type": "code",
      "metadata": {
        "colab": {
          "base_uri": "https://localhost:8080/"
        },
        "id": "wFUTAte6pXQi",
        "outputId": "55b8cda3-c653-47f2-a1fc-b3a6d14f3803"
      },
      "source": [
        "methods = ['als', 'own', 'similar_items']  # , 'similar_users'\n",
        "df = pd.DataFrame(columns=methods)\n",
        "for k in [20, 50, 100, 200, 1000, 2000, 5000]:\n",
        "  print(f'k: {k}')\n",
        "  for fn in methods:\n",
        "    m, s = total_recall_at_k(actual_data=result_lvl_1[to_count], k=k, N=k, func_name=fn)\n",
        "    df.loc[k, fn] = m\n",
        "    print(f'\\t method: {fn}, metric: {m:.3f}')\n",
        "  print(df.tail(1))\n",
        "  print('='*50)\n",
        "  df.to_csv(OBJECTS_PATH + 'total_recall.csv')"
      ],
      "execution_count": null,
      "outputs": [
        {
          "output_type": "stream",
          "text": [
            "k: 20\n",
            "\t method: als, metric: 0.043\n",
            "\t method: own, metric: 0.026\n",
            "\t method: similar_items, metric: 0.020\n",
            "          als        own similar_items\n",
            "20  0.0430812  0.0261389      0.019969\n",
            "==================================================\n",
            "k: 50\n",
            "\t method: als, metric: 0.070\n",
            "\t method: own, metric: 0.045\n",
            "\t method: similar_items, metric: 0.040\n",
            "          als        own similar_items\n",
            "50  0.0701462  0.0447899     0.0399609\n",
            "==================================================\n",
            "k: 100\n",
            "\t method: als, metric: 0.100\n",
            "\t method: own, metric: 0.072\n",
            "\t method: similar_items, metric: 0.064\n",
            "           als        own similar_items\n",
            "100  0.0998128  0.0717059     0.0638613\n",
            "==================================================\n",
            "k: 200\n",
            "\t method: als, metric: 0.139\n",
            "\t method: own, metric: 0.122\n",
            "\t method: similar_items, metric: 0.105\n",
            "          als       own similar_items\n",
            "200  0.139412  0.122365      0.105033\n",
            "==================================================\n",
            "k: 1000\n",
            "\t method: als, metric: 0.300\n",
            "\t method: own, metric: 0.371\n",
            "\t method: similar_items, metric: 0.298\n",
            "           als       own similar_items\n",
            "1000  0.300083  0.371381      0.298406\n",
            "==================================================\n",
            "k: 2000\n",
            "\t method: als, metric: 0.401\n",
            "\t method: own, metric: 0.474\n",
            "\t method: similar_items, metric: 0.406\n",
            "           als       own similar_items\n",
            "2000  0.400627  0.473847      0.406168\n",
            "==================================================\n",
            "k: 5000\n",
            "\t method: als, metric: 0.566\n",
            "\t method: own, metric: 0.620\n",
            "\t method: similar_items, metric: 0.577\n",
            "           als       own similar_items\n",
            "5000  0.565785  0.620462      0.576508\n",
            "==================================================\n"
          ],
          "name": "stdout"
        }
      ]
    },
    {
      "cell_type": "code",
      "metadata": {
        "colab": {
          "base_uri": "https://localhost:8080/",
          "height": 254
        },
        "id": "eSJYrAf4qyod",
        "outputId": "02f37989-d30f-4f0c-8c77-225852b4ce6d"
      },
      "source": [
        "df.to_csv(PATH + 'total_recall.csv')\n",
        "df"
      ],
      "execution_count": null,
      "outputs": [
        {
          "output_type": "execute_result",
          "data": {
            "text/html": [
              "<div>\n",
              "<style scoped>\n",
              "    .dataframe tbody tr th:only-of-type {\n",
              "        vertical-align: middle;\n",
              "    }\n",
              "\n",
              "    .dataframe tbody tr th {\n",
              "        vertical-align: top;\n",
              "    }\n",
              "\n",
              "    .dataframe thead th {\n",
              "        text-align: right;\n",
              "    }\n",
              "</style>\n",
              "<table border=\"1\" class=\"dataframe\">\n",
              "  <thead>\n",
              "    <tr style=\"text-align: right;\">\n",
              "      <th></th>\n",
              "      <th>als</th>\n",
              "      <th>own</th>\n",
              "      <th>similar_items</th>\n",
              "    </tr>\n",
              "  </thead>\n",
              "  <tbody>\n",
              "    <tr>\n",
              "      <th>20</th>\n",
              "      <td>0.0430812</td>\n",
              "      <td>0.0261389</td>\n",
              "      <td>0.019969</td>\n",
              "    </tr>\n",
              "    <tr>\n",
              "      <th>50</th>\n",
              "      <td>0.0701462</td>\n",
              "      <td>0.0447899</td>\n",
              "      <td>0.0399609</td>\n",
              "    </tr>\n",
              "    <tr>\n",
              "      <th>100</th>\n",
              "      <td>0.0998128</td>\n",
              "      <td>0.0717059</td>\n",
              "      <td>0.0638613</td>\n",
              "    </tr>\n",
              "    <tr>\n",
              "      <th>200</th>\n",
              "      <td>0.139412</td>\n",
              "      <td>0.122365</td>\n",
              "      <td>0.105033</td>\n",
              "    </tr>\n",
              "    <tr>\n",
              "      <th>1000</th>\n",
              "      <td>0.300083</td>\n",
              "      <td>0.371381</td>\n",
              "      <td>0.298406</td>\n",
              "    </tr>\n",
              "    <tr>\n",
              "      <th>2000</th>\n",
              "      <td>0.400627</td>\n",
              "      <td>0.473847</td>\n",
              "      <td>0.406168</td>\n",
              "    </tr>\n",
              "    <tr>\n",
              "      <th>5000</th>\n",
              "      <td>0.565785</td>\n",
              "      <td>0.620462</td>\n",
              "      <td>0.576508</td>\n",
              "    </tr>\n",
              "  </tbody>\n",
              "</table>\n",
              "</div>"
            ],
            "text/plain": [
              "            als        own similar_items\n",
              "20    0.0430812  0.0261389      0.019969\n",
              "50    0.0701462  0.0447899     0.0399609\n",
              "100   0.0998128  0.0717059     0.0638613\n",
              "200    0.139412   0.122365      0.105033\n",
              "1000   0.300083   0.371381      0.298406\n",
              "2000   0.400627   0.473847      0.406168\n",
              "5000   0.565785   0.620462      0.576508"
            ]
          },
          "metadata": {
            "tags": []
          },
          "execution_count": 391
        }
      ]
    },
    {
      "cell_type": "code",
      "metadata": {
        "colab": {
          "base_uri": "https://localhost:8080/",
          "height": 265
        },
        "id": "pJ6iu6zjq8Y5",
        "outputId": "7b6e32ea-6971-4f36-c2ae-a29becd2ece4"
      },
      "source": [
        "df.plot()\n",
        "plt.show()"
      ],
      "execution_count": null,
      "outputs": [
        {
          "output_type": "display_data",
          "data": {
            "image/png": "[encoded data removed]",
            "text/plain": [
              "<Figure size 432x288 with 1 Axes>"
            ]
          },
          "metadata": {
            "tags": [],
            "needs_background": "light"
          }
        }
      ]
    },
    {
      "cell_type": "code",
      "metadata": {
        "id": "jA33VNpswTKO"
      },
      "source": [
        "def prepare_lvl_1_candidates_table(recommender, actual_data, N, candidates_table_name):\n",
        "  candidates = pd.DataFrame(actual_data['user_id'].unique())\n",
        "  candidates.columns = ['user_id']\n",
        "  candidates = candidates.sort_values(by='user_id', ascending=True)\n",
        "  users = candidates.user_id.values\n",
        "  \n",
        "  top_rec = recommender.overall_top_purchases\n",
        "  candidates[f'top_{N}'] = candidates['user_id'].apply(lambda x: recommender.overall_top_purchases[:N])\n",
        "\n",
        "  for func_name in ['als', 'own', 'similar_items']:\n",
        "    i = 0\n",
        "    for uid in users:\n",
        "      i += 1\n",
        "      try:\n",
        "        candidates.loc[candidates.user_id == uid, f'{func_name}_{N}'] = \\\n",
        "              candidates.loc[candidates.user_id == uid, 'user_id'].apply(lambda x: get_recommended_list(func_name=func_name, user_id=x, N=N))\n",
        "      except:\n",
        "        candidates.loc[candidates.user_id == uid, f'{func_name}_{N}'] = np.nan\n",
        "      if i % 300 == 0:\n",
        "        print(i)\n",
        "    # candidates.to_csv(OBJECTS_PATH + f'candidates_{candidates_table_name}.csv')\n",
        "    save_obj(candidates, f'candidates_{candidates_table_name}_obj')\n",
        "    print(f'{func_name} сохранено')\n",
        "  \n",
        "  return candidates\n"
      ],
      "execution_count": null,
      "outputs": []
    },
    {
      "cell_type": "code",
      "metadata": {
        "colab": {
          "base_uri": "https://localhost:8080/"
        },
        "id": "E6OMQify061h",
        "outputId": "e93cc021-d526-4aa2-9cc9-c3277c997806"
      },
      "source": [
        "candidates_df = prepare_lvl_1_candidates_table(recommender=recommender, actual_data=data_val_lvl_1, N=1000, candidates_table_name='model_0_step_0')"
      ],
      "execution_count": null,
      "outputs": [
        {
          "output_type": "stream",
          "text": [
            "300\n",
            "600\n",
            "900\n",
            "1200\n",
            "1500\n",
            "1800\n",
            "2100\n",
            "als сохранено\n",
            "300\n",
            "600\n",
            "900\n",
            "1200\n",
            "1500\n",
            "1800\n",
            "2100\n",
            "own сохранено\n",
            "300\n",
            "600\n",
            "900\n",
            "1200\n",
            "1500\n",
            "1800\n",
            "2100\n",
            "similar_items сохранено\n"
          ],
          "name": "stdout"
        }
      ]
    },
    {
      "cell_type": "code",
      "metadata": {
        "colab": {
          "base_uri": "https://localhost:8080/"
        },
        "id": "vfOwlpos06yB",
        "outputId": "26b3a170-bdb3-47f0-d80f-9f59ec158520"
      },
      "source": [
        "candidates_df.isna().sum()"
      ],
      "execution_count": null,
      "outputs": [
        {
          "output_type": "execute_result",
          "data": {
            "text/plain": [
              "user_id               0\n",
              "top_1000              0\n",
              "als_1000              1\n",
              "own_1000              1\n",
              "similar_items_1000    0\n",
              "dtype: int64"
            ]
          },
          "metadata": {
            "tags": []
          },
          "execution_count": 126
        }
      ]
    },
    {
      "cell_type": "code",
      "metadata": {
        "colab": {
          "base_uri": "https://localhost:8080/",
          "height": 77
        },
        "id": "lqwZlhn12Et4",
        "outputId": "74a679d2-ee61-47bb-bfe0-6fe3e580b585"
      },
      "source": [
        "candidates_df[candidates_df['als_1000'].isna()]"
      ],
      "execution_count": null,
      "outputs": [
        {
          "output_type": "execute_result",
          "data": {
            "text/html": [
              "<div>\n",
              "<style scoped>\n",
              "    .dataframe tbody tr th:only-of-type {\n",
              "        vertical-align: middle;\n",
              "    }\n",
              "\n",
              "    .dataframe tbody tr th {\n",
              "        vertical-align: top;\n",
              "    }\n",
              "\n",
              "    .dataframe thead th {\n",
              "        text-align: right;\n",
              "    }\n",
              "</style>\n",
              "<table border=\"1\" class=\"dataframe\">\n",
              "  <thead>\n",
              "    <tr style=\"text-align: right;\">\n",
              "      <th></th>\n",
              "      <th>user_id</th>\n",
              "      <th>top_1000</th>\n",
              "      <th>als_1000</th>\n",
              "      <th>own_1000</th>\n",
              "      <th>similar_items_1000</th>\n",
              "    </tr>\n",
              "  </thead>\n",
              "  <tbody>\n",
              "    <tr>\n",
              "      <th>1903</th>\n",
              "      <td>1984</td>\n",
              "      <td>[1082185, 6534178, 1029743, 995242, 1106523, 9...</td>\n",
              "      <td>NaN</td>\n",
              "      <td>NaN</td>\n",
              "      <td>[1082185, 6534178, 1029743, 995242, 1106523, 9...</td>\n",
              "    </tr>\n",
              "  </tbody>\n",
              "</table>\n",
              "</div>"
            ],
            "text/plain": [
              "      user_id  ...                                 similar_items_1000\n",
              "1903     1984  ...  [1082185, 6534178, 1029743, 995242, 1106523, 9...\n",
              "\n",
              "[1 rows x 5 columns]"
            ]
          },
          "metadata": {
            "tags": []
          },
          "execution_count": 150
        }
      ]
    },
    {
      "cell_type": "code",
      "metadata": {
        "id": "egQkMstn06vl",
        "colab": {
          "base_uri": "https://localhost:8080/",
          "height": 279
        },
        "outputId": "4adaa534-5d98-46e8-bc86-ebd78cb26f9f"
      },
      "source": [
        "candidates_df.head()"
      ],
      "execution_count": null,
      "outputs": [
        {
          "output_type": "execute_result",
          "data": {
            "text/html": [
              "<div>\n",
              "<style scoped>\n",
              "    .dataframe tbody tr th:only-of-type {\n",
              "        vertical-align: middle;\n",
              "    }\n",
              "\n",
              "    .dataframe tbody tr th {\n",
              "        vertical-align: top;\n",
              "    }\n",
              "\n",
              "    .dataframe thead th {\n",
              "        text-align: right;\n",
              "    }\n",
              "</style>\n",
              "<table border=\"1\" class=\"dataframe\">\n",
              "  <thead>\n",
              "    <tr style=\"text-align: right;\">\n",
              "      <th></th>\n",
              "      <th>user_id</th>\n",
              "      <th>top_1000</th>\n",
              "      <th>als_1000</th>\n",
              "      <th>own_1000</th>\n",
              "      <th>similar_items_1000</th>\n",
              "    </tr>\n",
              "  </thead>\n",
              "  <tbody>\n",
              "    <tr>\n",
              "      <th>877</th>\n",
              "      <td>1</td>\n",
              "      <td>[1082185, 6534178, 1029743, 995242, 1106523, 9...</td>\n",
              "      <td>[1082185, 1006546, 1075074, 5577022, 9858900, ...</td>\n",
              "      <td>[1049998, 852662, 896666, 1087895, 900875, 938...</td>\n",
              "      <td>[941313, 840361, 1077555, 844179, 1006414, 557...</td>\n",
              "    </tr>\n",
              "    <tr>\n",
              "      <th>1769</th>\n",
              "      <td>2</td>\n",
              "      <td>[1082185, 6534178, 1029743, 995242, 1106523, 9...</td>\n",
              "      <td>[1082185, 1098066, 951590, 981760, 1127831, 82...</td>\n",
              "      <td>[242044, 9651582, 73207, 1107760, 7463018, 238...</td>\n",
              "      <td>[8090509, 979098, 5592931, 7025275, 985999, 93...</td>\n",
              "    </tr>\n",
              "    <tr>\n",
              "      <th>2178</th>\n",
              "      <td>3</td>\n",
              "      <td>[1082185, 6534178, 1029743, 995242, 1106523, 9...</td>\n",
              "      <td>[826249, 1098066, 883404, 5568378, 1044078, 98...</td>\n",
              "      <td>[7443137, 835476, 6632283, 1011504, 10285454, ...</td>\n",
              "      <td>[1053690, 1092026, 960318, 892008, 925178, 979...</td>\n",
              "    </tr>\n",
              "    <tr>\n",
              "      <th>1629</th>\n",
              "      <td>4</td>\n",
              "      <td>[1082185, 6534178, 1029743, 995242, 1106523, 9...</td>\n",
              "      <td>[951590, 883932, 826249, 8090521, 1137346, 109...</td>\n",
              "      <td>[6391541, 1013868, 943030, 979674, 891423, 104...</td>\n",
              "      <td>[835530, 6391551, 8019276, 7138817, 8069350, 1...</td>\n",
              "    </tr>\n",
              "    <tr>\n",
              "      <th>917</th>\n",
              "      <td>6</td>\n",
              "      <td>[1082185, 6534178, 1029743, 995242, 1106523, 9...</td>\n",
              "      <td>[1082185, 878996, 1037863, 863632, 981760, 102...</td>\n",
              "      <td>[1405491, 876626, 998519, 849618, 919815, 1126...</td>\n",
              "      <td>[840361, 874149, 882138, 845208, 948650, 70252...</td>\n",
              "    </tr>\n",
              "  </tbody>\n",
              "</table>\n",
              "</div>"
            ],
            "text/plain": [
              "      user_id  ...                                 similar_items_1000\n",
              "877         1  ...  [941313, 840361, 1077555, 844179, 1006414, 557...\n",
              "1769        2  ...  [8090509, 979098, 5592931, 7025275, 985999, 93...\n",
              "2178        3  ...  [1053690, 1092026, 960318, 892008, 925178, 979...\n",
              "1629        4  ...  [835530, 6391551, 8019276, 7138817, 8069350, 1...\n",
              "917         6  ...  [840361, 874149, 882138, 845208, 948650, 70252...\n",
              "\n",
              "[5 rows x 5 columns]"
            ]
          },
          "metadata": {
            "tags": []
          },
          "execution_count": 127
        }
      ]
    },
    {
      "cell_type": "code",
      "metadata": {
        "id": "_09aw6dXDdR4"
      },
      "source": [
        "def get_ind(itms, x, N):\n",
        "  if x in itms:\n",
        "    return itms.index(x)\n",
        "  else:\n",
        "    return N*1.5\n",
        "\n",
        "\n",
        "def mix_values(candidates, user_id, N_used, N_return):\n",
        "  cr = candidates[candidates.user_id == user_id]\n",
        "  items = set()\n",
        "  cols = cr.columns[1:]\n",
        "  for col in cr.columns[1:]:\n",
        "    if type(cr[col].values[0]) == type(np.nan):\n",
        "      continue\n",
        "    else:\n",
        "      val = cr[col].values[0]\n",
        "      items = items.union(set(val))\n",
        "\n",
        "  mix_table = pd.DataFrame(columns = cr.columns[1:])\n",
        "  mix_table['item_id'] = list(items)\n",
        "\n",
        "  for col in cr.columns[1:]:\n",
        "    if type(cr[col].values[0]) == type(np.nan):\n",
        "      val = []\n",
        "    else:\n",
        "      val = cr[col].values[0]\n",
        "    \n",
        "    mix_table[col] = mix_table['item_id'].apply(lambda x: get_ind(val, x, N_used))\n",
        "\n",
        "  a =  mix_table.drop(columns='item_id').sum(axis='columns')\n",
        "  mix_table['mix'] = a\n",
        "\n",
        "  mix_table = mix_table[['item_id', 'mix']].sort_values(by='mix', ascending=True).head(N_return)\n",
        "\n",
        "  return mix_table.item_id.values\n",
        "\n",
        "\n",
        "def get_mix(candidates, N_used, N_return):\n",
        "  cand = candidates.sort_values(by='user_id', ascending=True).copy(deep=True)\n",
        "  users = cand.user_id.values\n",
        "  cand['mix'] = 0\n",
        "\n",
        "  i = 0\n",
        "  for uid in users:\n",
        "    i += 1\n",
        "    cand.loc[cand.user_id == uid, 'mix'] = \\\n",
        "            cand.loc[cand.user_id == uid, 'user_id'].apply(lambda x: mix_values(cand.drop(columns=['mix']), x, N_used, N_return))\n",
        "    if i % 100 == 0:\n",
        "      print(i)\n",
        "\n",
        "  return cand "
      ],
      "execution_count": null,
      "outputs": []
    },
    {
      "cell_type": "code",
      "metadata": {
        "colab": {
          "base_uri": "https://localhost:8080/",
          "height": 405
        },
        "id": "FqE3LDl1IB-x",
        "outputId": "4d411992-fdf0-45d1-d925-2d7a0246723b"
      },
      "source": [
        "candidates_df_mix = get_mix(candidates_df, 1000, 500)\n",
        "save_obj(candidates_df_mix, f'candidates_model_0_mix_obj')"
      ],
      "execution_count": null,
      "outputs": [
        {
          "output_type": "stream",
          "text": [
            "100\n",
            "200\n",
            "300\n",
            "400\n",
            "500\n",
            "600\n",
            "700\n",
            "800\n",
            "900\n",
            "1000\n",
            "1100\n",
            "1200\n",
            "1300\n",
            "1400\n",
            "1500\n",
            "1600\n",
            "1700\n",
            "1800\n",
            "1900\n",
            "2000\n",
            "2100\n",
            "2200\n"
          ],
          "name": "stdout"
        },
        {
          "output_type": "execute_result",
          "data": {
            "application/vnd.google.colaboratory.intrinsic+json": {
              "type": "string"
            },
            "text/plain": [
              "'gdrive/My Drive/AI/GB/RecSys/capstone/objects/candidates_model_0_mix_obj.pkl'"
            ]
          },
          "metadata": {
            "tags": []
          },
          "execution_count": 187
        }
      ]
    },
    {
      "cell_type": "code",
      "metadata": {
        "colab": {
          "base_uri": "https://localhost:8080/"
        },
        "id": "vzI_hhZ_YMgS",
        "outputId": "ee00c9db-ef9e-4cb4-c1e7-2f0e15313737"
      },
      "source": [
        "predicted_users_mix = set(candidates_df_mix['user_id'].unique())\n",
        "len(predicted_users_mix)"
      ],
      "execution_count": null,
      "outputs": [
        {
          "output_type": "execute_result",
          "data": {
            "text/plain": [
              "2280"
            ]
          },
          "metadata": {
            "tags": []
          },
          "execution_count": 188
        }
      ]
    },
    {
      "cell_type": "code",
      "metadata": {
        "colab": {
          "base_uri": "https://localhost:8080/"
        },
        "id": "Nzg8eWe4Ya2-",
        "outputId": "ce3ddca9-f012-4505-efb2-a5979f128b0d"
      },
      "source": [
        "actual_users - predicted_users_mix"
      ],
      "execution_count": null,
      "outputs": [
        {
          "output_type": "execute_result",
          "data": {
            "text/plain": [
              "set()"
            ]
          },
          "metadata": {
            "tags": []
          },
          "execution_count": 189
        }
      ]
    },
    {
      "cell_type": "markdown",
      "metadata": {
        "id": "SYMH2bm3NzGl"
      },
      "source": [
        "Видно, что \"холодные\" юзеры тоже заполнились"
      ]
    },
    {
      "cell_type": "code",
      "metadata": {
        "id": "WHsViYyNPmE3"
      },
      "source": [
        "# Определим функцию для расчета precision_at_k по готовому предсказанию\n",
        "def total_precision_at_k_pre(actual_data, k, recommendations_table):\n",
        "  pr = []\n",
        "  for uid in actual_data['user_id'].values:\n",
        "    if uid == 1984:\n",
        "      continue\n",
        "    rl = recommendations_table.loc[recommendations_table.user_id == uid, 'candidates'].values[0]\n",
        "    bl = get_bought_list(actual_data, user_id=uid)\n",
        "    pr.append(precision_at_k(recommended_list=rl, bought_list=bl, k=k))\n",
        "  return np.mean(pr), np.std(pr)\n",
        "\n",
        "# Определим функцию для расчета recall_at_k по готовому предсказанию\n",
        "def total_recall_at_k_pre(actual_data, k, recommendations_table):\n",
        "  pr = []\n",
        "  for uid in actual_data['user_id'].values:\n",
        "    if uid == 1984:\n",
        "      continue\n",
        "    rl = recommendations_table.loc[recommendations_table.user_id == uid, 'candidates'].values[0]\n",
        "    bl = get_bought_list(actual_data, user_id=uid)\n",
        "    pr.append(recall_at_k(recommended_list=rl, bought_list=bl, k=k))\n",
        "  return np.mean(pr), np.std(pr)"
      ],
      "execution_count": null,
      "outputs": []
    },
    {
      "cell_type": "code",
      "metadata": {
        "colab": {
          "base_uri": "https://localhost:8080/"
        },
        "id": "nOb1CzX21rBS",
        "outputId": "0a87bf87-aef3-488c-da37-591c5e3defcf"
      },
      "source": [
        "for col in candidates_df_mix.columns[1:]:\n",
        "  data = candidates_df_mix[['user_id', col]].rename(columns={col:'candidates'})\n",
        "  mean, std = total_recall_at_k_pre(actual_data = result_lvl_1, k=500, recommendations_table=data)\n",
        "  print(col, mean, ' +- ', std)"
      ],
      "execution_count": null,
      "outputs": [
        {
          "output_type": "stream",
          "text": [
            "top_1000 0.2320115957245607  +-  0.12833677432302826\n",
            "als_1000 0.2196147059647217  +-  0.12790176594062908\n",
            "own_1000 0.2521933612200731  +-  0.14294008193338748\n",
            "similar_items_1000 0.19989117417736563  +-  0.1270595684190121\n",
            "mix 0.28974401692444834  +-  0.1334389227740078\n"
          ],
          "name": "stdout"
        }
      ]
    },
    {
      "cell_type": "markdown",
      "metadata": {
        "id": "mMAPaFpNNiNM"
      },
      "source": [
        "Recall хороший, но для этого оставлено много товаров"
      ]
    },
    {
      "cell_type": "code",
      "metadata": {
        "colab": {
          "base_uri": "https://localhost:8080/"
        },
        "id": "kBnfS9ElQDdf",
        "outputId": "88fa5b87-0f68-480f-f0cc-731bc20191d9"
      },
      "source": [
        "for col in candidates_df_mix.columns[1:]:\n",
        "  data = candidates_df_mix[['user_id', col]].rename(columns={col:'candidates'})\n",
        "  mean, std = total_precision_at_k_pre(actual_data = result_lvl_1, k=5, recommendations_table=data)\n",
        "  print(col, mean, ' +- ', std)"
      ],
      "execution_count": null,
      "outputs": [
        {
          "output_type": "stream",
          "text": [
            "top_1000 0.2840719613865731  +-  0.24005613300552042\n",
            "als_1000 0.25730583589293554  +-  0.2551065628654374\n",
            "own_1000 0.1601579640193067  +-  0.2074335359680525\n",
            "similar_items_1000 0.10978499341816587  +-  0.1619481477680439\n",
            "mix 0.2268538832821413  +-  0.2311014342269853\n"
          ],
          "name": "stdout"
        }
      ]
    },
    {
      "cell_type": "markdown",
      "metadata": {
        "id": "pVKnQqT3Nv6B"
      },
      "source": [
        "При этом precision не намного лучше, чем для модели со 100 товарами"
      ]
    },
    {
      "cell_type": "code",
      "metadata": {
        "id": "WvguwPOFwMfa",
        "colab": {
          "base_uri": "https://localhost:8080/",
          "height": 35
        },
        "outputId": "0ba09218-9ac4-462d-975e-73a941b7aa1a"
      },
      "source": [
        "users_lvl_2 = candidates_df_mix[['user_id', 'mix']].rename(columns={'mix':'candidates'})\n",
        "save_obj(users_lvl_2, 'users_lvl_2_obj')"
      ],
      "execution_count": null,
      "outputs": [
        {
          "output_type": "execute_result",
          "data": {
            "application/vnd.google.colaboratory.intrinsic+json": {
              "type": "string"
            },
            "text/plain": [
              "'gdrive/My Drive/AI/GB/RecSys/capstone/objects/users_lvl_2_obj.pkl'"
            ]
          },
          "metadata": {
            "tags": []
          },
          "execution_count": 194
        }
      ]
    },
    {
      "cell_type": "markdown",
      "metadata": {
        "id": "Vk6t-8m5yaZa"
      },
      "source": [
        "# Второй уровень"
      ]
    },
    {
      "cell_type": "code",
      "metadata": {
        "id": "YHh0GrvQNHQH"
      },
      "source": [
        "df=pd.DataFrame({'user_id':users_lvl_2.user_id.values.repeat(len(users_lvl_2.candidates[0])),\n",
        "                 'item_id':np.concatenate(users_lvl_2.candidates.values)})"
      ],
      "execution_count": null,
      "outputs": []
    },
    {
      "cell_type": "code",
      "metadata": {
        "colab": {
          "base_uri": "https://localhost:8080/",
          "height": 195
        },
        "id": "di47Ok2-NmAT",
        "outputId": "726941fb-3759-4ba4-f7c2-ed5dd0b6044b"
      },
      "source": [
        "df.head()"
      ],
      "execution_count": null,
      "outputs": [
        {
          "output_type": "execute_result",
          "data": {
            "text/html": [
              "<div>\n",
              "<style scoped>\n",
              "    .dataframe tbody tr th:only-of-type {\n",
              "        vertical-align: middle;\n",
              "    }\n",
              "\n",
              "    .dataframe tbody tr th {\n",
              "        vertical-align: top;\n",
              "    }\n",
              "\n",
              "    .dataframe thead th {\n",
              "        text-align: right;\n",
              "    }\n",
              "</style>\n",
              "<table border=\"1\" class=\"dataframe\">\n",
              "  <thead>\n",
              "    <tr style=\"text-align: right;\">\n",
              "      <th></th>\n",
              "      <th>user_id</th>\n",
              "      <th>item_id</th>\n",
              "    </tr>\n",
              "  </thead>\n",
              "  <tbody>\n",
              "    <tr>\n",
              "      <th>0</th>\n",
              "      <td>1</td>\n",
              "      <td>1127831</td>\n",
              "    </tr>\n",
              "    <tr>\n",
              "      <th>1</th>\n",
              "      <td>1</td>\n",
              "      <td>878996</td>\n",
              "    </tr>\n",
              "    <tr>\n",
              "      <th>2</th>\n",
              "      <td>1</td>\n",
              "      <td>1082185</td>\n",
              "    </tr>\n",
              "    <tr>\n",
              "      <th>3</th>\n",
              "      <td>1</td>\n",
              "      <td>860776</td>\n",
              "    </tr>\n",
              "    <tr>\n",
              "      <th>4</th>\n",
              "      <td>1</td>\n",
              "      <td>981760</td>\n",
              "    </tr>\n",
              "  </tbody>\n",
              "</table>\n",
              "</div>"
            ],
            "text/plain": [
              "   user_id  item_id\n",
              "0        1  1127831\n",
              "1        1   878996\n",
              "2        1  1082185\n",
              "3        1   860776\n",
              "4        1   981760"
            ]
          },
          "metadata": {
            "tags": []
          },
          "execution_count": 196
        }
      ]
    },
    {
      "cell_type": "code",
      "metadata": {
        "colab": {
          "base_uri": "https://localhost:8080/"
        },
        "id": "2f-iMHk9CvUe",
        "outputId": "dac1b70c-8d5d-4396-e00b-6e525816ab8a"
      },
      "source": [
        "df.user_id.nunique()"
      ],
      "execution_count": null,
      "outputs": [
        {
          "output_type": "execute_result",
          "data": {
            "text/plain": [
              "2280"
            ]
          },
          "metadata": {
            "tags": []
          },
          "execution_count": 197
        }
      ]
    },
    {
      "cell_type": "code",
      "metadata": {
        "id": "regfdmOfCeAp"
      },
      "source": [
        "df_train = df[df.user_id.isin(data_train_lvl_2.user_id.values)]"
      ],
      "execution_count": null,
      "outputs": []
    },
    {
      "cell_type": "code",
      "metadata": {
        "colab": {
          "base_uri": "https://localhost:8080/"
        },
        "id": "hr4NRQ-wDDuE",
        "outputId": "c4329b76-6456-49bb-fd35-3b091f7dd56b"
      },
      "source": [
        "df_train.user_id.nunique()"
      ],
      "execution_count": null,
      "outputs": [
        {
          "output_type": "execute_result",
          "data": {
            "text/plain": [
              "2154"
            ]
          },
          "metadata": {
            "tags": []
          },
          "execution_count": 199
        }
      ]
    },
    {
      "cell_type": "code",
      "metadata": {
        "colab": {
          "base_uri": "https://localhost:8080/",
          "height": 195
        },
        "id": "IeFIT9mNNl6J",
        "outputId": "858444fe-55ec-41b9-8fad-cc0ba1430cdf"
      },
      "source": [
        "data_train_lvl_2.head()"
      ],
      "execution_count": null,
      "outputs": [
        {
          "output_type": "execute_result",
          "data": {
            "text/html": [
              "<div>\n",
              "<style scoped>\n",
              "    .dataframe tbody tr th:only-of-type {\n",
              "        vertical-align: middle;\n",
              "    }\n",
              "\n",
              "    .dataframe tbody tr th {\n",
              "        vertical-align: top;\n",
              "    }\n",
              "\n",
              "    .dataframe thead th {\n",
              "        text-align: right;\n",
              "    }\n",
              "</style>\n",
              "<table border=\"1\" class=\"dataframe\">\n",
              "  <thead>\n",
              "    <tr style=\"text-align: right;\">\n",
              "      <th></th>\n",
              "      <th>user_id</th>\n",
              "      <th>basket_id</th>\n",
              "      <th>day</th>\n",
              "      <th>item_id</th>\n",
              "      <th>quantity</th>\n",
              "      <th>sales_value</th>\n",
              "      <th>store_id</th>\n",
              "      <th>retail_disc</th>\n",
              "      <th>trans_time</th>\n",
              "      <th>week_no</th>\n",
              "      <th>coupon_disc</th>\n",
              "      <th>coupon_match_disc</th>\n",
              "    </tr>\n",
              "  </thead>\n",
              "  <tbody>\n",
              "    <tr>\n",
              "      <th>2104867</th>\n",
              "      <td>2070</td>\n",
              "      <td>40618492260</td>\n",
              "      <td>594</td>\n",
              "      <td>1019940</td>\n",
              "      <td>1</td>\n",
              "      <td>1.00</td>\n",
              "      <td>311</td>\n",
              "      <td>-0.29</td>\n",
              "      <td>40</td>\n",
              "      <td>86</td>\n",
              "      <td>0.0</td>\n",
              "      <td>0.0</td>\n",
              "    </tr>\n",
              "    <tr>\n",
              "      <th>2107468</th>\n",
              "      <td>2021</td>\n",
              "      <td>40618753059</td>\n",
              "      <td>594</td>\n",
              "      <td>840361</td>\n",
              "      <td>1</td>\n",
              "      <td>0.99</td>\n",
              "      <td>443</td>\n",
              "      <td>0.00</td>\n",
              "      <td>101</td>\n",
              "      <td>86</td>\n",
              "      <td>0.0</td>\n",
              "      <td>0.0</td>\n",
              "    </tr>\n",
              "    <tr>\n",
              "      <th>2107469</th>\n",
              "      <td>2021</td>\n",
              "      <td>40618753059</td>\n",
              "      <td>594</td>\n",
              "      <td>856060</td>\n",
              "      <td>1</td>\n",
              "      <td>1.77</td>\n",
              "      <td>443</td>\n",
              "      <td>-0.09</td>\n",
              "      <td>101</td>\n",
              "      <td>86</td>\n",
              "      <td>0.0</td>\n",
              "      <td>0.0</td>\n",
              "    </tr>\n",
              "    <tr>\n",
              "      <th>2107470</th>\n",
              "      <td>2021</td>\n",
              "      <td>40618753059</td>\n",
              "      <td>594</td>\n",
              "      <td>869344</td>\n",
              "      <td>1</td>\n",
              "      <td>1.67</td>\n",
              "      <td>443</td>\n",
              "      <td>-0.22</td>\n",
              "      <td>101</td>\n",
              "      <td>86</td>\n",
              "      <td>0.0</td>\n",
              "      <td>0.0</td>\n",
              "    </tr>\n",
              "    <tr>\n",
              "      <th>2107471</th>\n",
              "      <td>2021</td>\n",
              "      <td>40618753059</td>\n",
              "      <td>594</td>\n",
              "      <td>896862</td>\n",
              "      <td>2</td>\n",
              "      <td>5.00</td>\n",
              "      <td>443</td>\n",
              "      <td>-2.98</td>\n",
              "      <td>101</td>\n",
              "      <td>86</td>\n",
              "      <td>0.0</td>\n",
              "      <td>0.0</td>\n",
              "    </tr>\n",
              "  </tbody>\n",
              "</table>\n",
              "</div>"
            ],
            "text/plain": [
              "         user_id    basket_id  day  ...  week_no  coupon_disc  coupon_match_disc\n",
              "2104867     2070  40618492260  594  ...       86          0.0                0.0\n",
              "2107468     2021  40618753059  594  ...       86          0.0                0.0\n",
              "2107469     2021  40618753059  594  ...       86          0.0                0.0\n",
              "2107470     2021  40618753059  594  ...       86          0.0                0.0\n",
              "2107471     2021  40618753059  594  ...       86          0.0                0.0\n",
              "\n",
              "[5 rows x 12 columns]"
            ]
          },
          "metadata": {
            "tags": []
          },
          "execution_count": 200
        }
      ]
    },
    {
      "cell_type": "code",
      "metadata": {
        "id": "B1cWlhwZNl9A"
      },
      "source": [
        "targets_lvl_2 = data_train_lvl_2[['user_id', 'item_id']].copy()\n",
        "targets_lvl_2['target'] = 1  # тут только покупки \n",
        "\n",
        "targets_lvl_2 = df_train.merge(targets_lvl_2, on=['user_id', 'item_id'], how='left')\n",
        "\n",
        "targets_lvl_2['target'].fillna(0, inplace= True)"
      ],
      "execution_count": null,
      "outputs": []
    },
    {
      "cell_type": "code",
      "metadata": {
        "colab": {
          "base_uri": "https://localhost:8080/",
          "height": 195
        },
        "id": "BR48eQ4SNl3o",
        "outputId": "3258e93d-17b5-47b1-bd99-b5e5539892b0"
      },
      "source": [
        "targets_lvl_2.head()"
      ],
      "execution_count": null,
      "outputs": [
        {
          "output_type": "execute_result",
          "data": {
            "text/html": [
              "<div>\n",
              "<style scoped>\n",
              "    .dataframe tbody tr th:only-of-type {\n",
              "        vertical-align: middle;\n",
              "    }\n",
              "\n",
              "    .dataframe tbody tr th {\n",
              "        vertical-align: top;\n",
              "    }\n",
              "\n",
              "    .dataframe thead th {\n",
              "        text-align: right;\n",
              "    }\n",
              "</style>\n",
              "<table border=\"1\" class=\"dataframe\">\n",
              "  <thead>\n",
              "    <tr style=\"text-align: right;\">\n",
              "      <th></th>\n",
              "      <th>user_id</th>\n",
              "      <th>item_id</th>\n",
              "      <th>target</th>\n",
              "    </tr>\n",
              "  </thead>\n",
              "  <tbody>\n",
              "    <tr>\n",
              "      <th>0</th>\n",
              "      <td>1</td>\n",
              "      <td>1127831</td>\n",
              "      <td>0.0</td>\n",
              "    </tr>\n",
              "    <tr>\n",
              "      <th>1</th>\n",
              "      <td>1</td>\n",
              "      <td>878996</td>\n",
              "      <td>0.0</td>\n",
              "    </tr>\n",
              "    <tr>\n",
              "      <th>2</th>\n",
              "      <td>1</td>\n",
              "      <td>1082185</td>\n",
              "      <td>1.0</td>\n",
              "    </tr>\n",
              "    <tr>\n",
              "      <th>3</th>\n",
              "      <td>1</td>\n",
              "      <td>1082185</td>\n",
              "      <td>1.0</td>\n",
              "    </tr>\n",
              "    <tr>\n",
              "      <th>4</th>\n",
              "      <td>1</td>\n",
              "      <td>1082185</td>\n",
              "      <td>1.0</td>\n",
              "    </tr>\n",
              "  </tbody>\n",
              "</table>\n",
              "</div>"
            ],
            "text/plain": [
              "   user_id  item_id  target\n",
              "0        1  1127831     0.0\n",
              "1        1   878996     0.0\n",
              "2        1  1082185     1.0\n",
              "3        1  1082185     1.0\n",
              "4        1  1082185     1.0"
            ]
          },
          "metadata": {
            "tags": []
          },
          "execution_count": 202
        }
      ]
    },
    {
      "cell_type": "code",
      "metadata": {
        "colab": {
          "base_uri": "https://localhost:8080/"
        },
        "id": "P8THBupyNlpB",
        "outputId": "854b2b15-aa44-4489-b406-6caa3053a43d"
      },
      "source": [
        "targets_lvl_2['target'].mean()"
      ],
      "execution_count": null,
      "outputs": [
        {
          "output_type": "execute_result",
          "data": {
            "text/plain": [
              "0.054643270921125246"
            ]
          },
          "metadata": {
            "tags": []
          },
          "execution_count": 203
        }
      ]
    },
    {
      "cell_type": "markdown",
      "metadata": {
        "id": "LMlyJksaOyTO"
      },
      "source": [
        "Таблица, полученная из первого уровня, готова. Теперь нужно добавить фитчи. Пока без генерации"
      ]
    },
    {
      "cell_type": "code",
      "metadata": {
        "colab": {
          "base_uri": "https://localhost:8080/",
          "height": 106
        },
        "id": "a5CMMMX2OqPS",
        "outputId": "deec824e-95f8-4f4c-cb29-4e58467d1579"
      },
      "source": [
        "item_features.head(2)"
      ],
      "execution_count": null,
      "outputs": [
        {
          "output_type": "execute_result",
          "data": {
            "text/html": [
              "<div>\n",
              "<style scoped>\n",
              "    .dataframe tbody tr th:only-of-type {\n",
              "        vertical-align: middle;\n",
              "    }\n",
              "\n",
              "    .dataframe tbody tr th {\n",
              "        vertical-align: top;\n",
              "    }\n",
              "\n",
              "    .dataframe thead th {\n",
              "        text-align: right;\n",
              "    }\n",
              "</style>\n",
              "<table border=\"1\" class=\"dataframe\">\n",
              "  <thead>\n",
              "    <tr style=\"text-align: right;\">\n",
              "      <th></th>\n",
              "      <th>item_id</th>\n",
              "      <th>manufacturer</th>\n",
              "      <th>department</th>\n",
              "      <th>brand</th>\n",
              "      <th>commodity_desc</th>\n",
              "      <th>sub_commodity_desc</th>\n",
              "      <th>curr_size_of_product</th>\n",
              "    </tr>\n",
              "  </thead>\n",
              "  <tbody>\n",
              "    <tr>\n",
              "      <th>0</th>\n",
              "      <td>25671</td>\n",
              "      <td>2</td>\n",
              "      <td>GROCERY</td>\n",
              "      <td>National</td>\n",
              "      <td>FRZN ICE</td>\n",
              "      <td>ICE - CRUSHED/CUBED</td>\n",
              "      <td>22 LB</td>\n",
              "    </tr>\n",
              "    <tr>\n",
              "      <th>1</th>\n",
              "      <td>26081</td>\n",
              "      <td>2</td>\n",
              "      <td>MISC. TRANS.</td>\n",
              "      <td>National</td>\n",
              "      <td>NO COMMODITY DESCRIPTION</td>\n",
              "      <td>NO SUBCOMMODITY DESCRIPTION</td>\n",
              "      <td></td>\n",
              "    </tr>\n",
              "  </tbody>\n",
              "</table>\n",
              "</div>"
            ],
            "text/plain": [
              "   item_id  manufacturer  ...           sub_commodity_desc curr_size_of_product\n",
              "0    25671             2  ...          ICE - CRUSHED/CUBED                22 LB\n",
              "1    26081             2  ...  NO SUBCOMMODITY DESCRIPTION                     \n",
              "\n",
              "[2 rows x 7 columns]"
            ]
          },
          "metadata": {
            "tags": []
          },
          "execution_count": 204
        }
      ]
    },
    {
      "cell_type": "code",
      "metadata": {
        "colab": {
          "base_uri": "https://localhost:8080/",
          "height": 106
        },
        "id": "Wu4IP4pZOqL5",
        "outputId": "a57eb47f-dae3-4c9a-e7e3-af09fe868c39"
      },
      "source": [
        "user_features.head(2)"
      ],
      "execution_count": null,
      "outputs": [
        {
          "output_type": "execute_result",
          "data": {
            "text/html": [
              "<div>\n",
              "<style scoped>\n",
              "    .dataframe tbody tr th:only-of-type {\n",
              "        vertical-align: middle;\n",
              "    }\n",
              "\n",
              "    .dataframe tbody tr th {\n",
              "        vertical-align: top;\n",
              "    }\n",
              "\n",
              "    .dataframe thead th {\n",
              "        text-align: right;\n",
              "    }\n",
              "</style>\n",
              "<table border=\"1\" class=\"dataframe\">\n",
              "  <thead>\n",
              "    <tr style=\"text-align: right;\">\n",
              "      <th></th>\n",
              "      <th>age_desc</th>\n",
              "      <th>marital_status_code</th>\n",
              "      <th>income_desc</th>\n",
              "      <th>homeowner_desc</th>\n",
              "      <th>hh_comp_desc</th>\n",
              "      <th>household_size_desc</th>\n",
              "      <th>kid_category_desc</th>\n",
              "      <th>user_id</th>\n",
              "    </tr>\n",
              "  </thead>\n",
              "  <tbody>\n",
              "    <tr>\n",
              "      <th>0</th>\n",
              "      <td>65+</td>\n",
              "      <td>A</td>\n",
              "      <td>35-49K</td>\n",
              "      <td>Homeowner</td>\n",
              "      <td>2 Adults No Kids</td>\n",
              "      <td>2</td>\n",
              "      <td>None/Unknown</td>\n",
              "      <td>1</td>\n",
              "    </tr>\n",
              "    <tr>\n",
              "      <th>1</th>\n",
              "      <td>45-54</td>\n",
              "      <td>A</td>\n",
              "      <td>50-74K</td>\n",
              "      <td>Homeowner</td>\n",
              "      <td>2 Adults No Kids</td>\n",
              "      <td>2</td>\n",
              "      <td>None/Unknown</td>\n",
              "      <td>7</td>\n",
              "    </tr>\n",
              "  </tbody>\n",
              "</table>\n",
              "</div>"
            ],
            "text/plain": [
              "  age_desc marital_status_code  ... kid_category_desc user_id\n",
              "0      65+                   A  ...      None/Unknown       1\n",
              "1    45-54                   A  ...      None/Unknown       7\n",
              "\n",
              "[2 rows x 8 columns]"
            ]
          },
          "metadata": {
            "tags": []
          },
          "execution_count": 205
        }
      ]
    },
    {
      "cell_type": "code",
      "metadata": {
        "colab": {
          "base_uri": "https://localhost:8080/",
          "height": 160
        },
        "id": "UuSN3gQLOqKA",
        "outputId": "9e4c8db5-604e-4bc4-b5a2-6f3d2f23e638"
      },
      "source": [
        "targets_lvl_2 = targets_lvl_2.merge(item_features, on='item_id', how='left')\n",
        "targets_lvl_2 = targets_lvl_2.merge(user_features, on='user_id', how='left')\n",
        "\n",
        "targets_lvl_2.head(2)"
      ],
      "execution_count": null,
      "outputs": [
        {
          "output_type": "execute_result",
          "data": {
            "text/html": [
              "<div>\n",
              "<style scoped>\n",
              "    .dataframe tbody tr th:only-of-type {\n",
              "        vertical-align: middle;\n",
              "    }\n",
              "\n",
              "    .dataframe tbody tr th {\n",
              "        vertical-align: top;\n",
              "    }\n",
              "\n",
              "    .dataframe thead th {\n",
              "        text-align: right;\n",
              "    }\n",
              "</style>\n",
              "<table border=\"1\" class=\"dataframe\">\n",
              "  <thead>\n",
              "    <tr style=\"text-align: right;\">\n",
              "      <th></th>\n",
              "      <th>user_id</th>\n",
              "      <th>item_id</th>\n",
              "      <th>target</th>\n",
              "      <th>manufacturer</th>\n",
              "      <th>department</th>\n",
              "      <th>brand</th>\n",
              "      <th>commodity_desc</th>\n",
              "      <th>sub_commodity_desc</th>\n",
              "      <th>curr_size_of_product</th>\n",
              "      <th>age_desc</th>\n",
              "      <th>marital_status_code</th>\n",
              "      <th>income_desc</th>\n",
              "      <th>homeowner_desc</th>\n",
              "      <th>hh_comp_desc</th>\n",
              "      <th>household_size_desc</th>\n",
              "      <th>kid_category_desc</th>\n",
              "    </tr>\n",
              "  </thead>\n",
              "  <tbody>\n",
              "    <tr>\n",
              "      <th>0</th>\n",
              "      <td>1</td>\n",
              "      <td>1127831</td>\n",
              "      <td>0.0</td>\n",
              "      <td>5937</td>\n",
              "      <td>PRODUCE</td>\n",
              "      <td>National</td>\n",
              "      <td>BERRIES</td>\n",
              "      <td>STRAWBERRIES</td>\n",
              "      <td>16 OZ</td>\n",
              "      <td>65+</td>\n",
              "      <td>A</td>\n",
              "      <td>35-49K</td>\n",
              "      <td>Homeowner</td>\n",
              "      <td>2 Adults No Kids</td>\n",
              "      <td>2</td>\n",
              "      <td>None/Unknown</td>\n",
              "    </tr>\n",
              "    <tr>\n",
              "      <th>1</th>\n",
              "      <td>1</td>\n",
              "      <td>878996</td>\n",
              "      <td>0.0</td>\n",
              "      <td>2</td>\n",
              "      <td>PRODUCE</td>\n",
              "      <td>National</td>\n",
              "      <td>GRAPES</td>\n",
              "      <td>GRAPES RED</td>\n",
              "      <td>18 LB</td>\n",
              "      <td>65+</td>\n",
              "      <td>A</td>\n",
              "      <td>35-49K</td>\n",
              "      <td>Homeowner</td>\n",
              "      <td>2 Adults No Kids</td>\n",
              "      <td>2</td>\n",
              "      <td>None/Unknown</td>\n",
              "    </tr>\n",
              "  </tbody>\n",
              "</table>\n",
              "</div>"
            ],
            "text/plain": [
              "   user_id  item_id  ...  household_size_desc  kid_category_desc\n",
              "0        1  1127831  ...                    2       None/Unknown\n",
              "1        1   878996  ...                    2       None/Unknown\n",
              "\n",
              "[2 rows x 16 columns]"
            ]
          },
          "metadata": {
            "tags": []
          },
          "execution_count": 206
        }
      ]
    },
    {
      "cell_type": "code",
      "metadata": {
        "id": "7oDfpQfiOqH6"
      },
      "source": [
        "X_train = targets_lvl_2.drop('target', axis=1)\n",
        "y_train = targets_lvl_2[['target']]"
      ],
      "execution_count": null,
      "outputs": []
    },
    {
      "cell_type": "code",
      "metadata": {
        "colab": {
          "base_uri": "https://localhost:8080/"
        },
        "id": "d699OYbsOqFz",
        "outputId": "7c7d3aac-3b05-445b-9027-932af3492f9a"
      },
      "source": [
        "cat_feats = X_train.columns[2:].tolist()\n",
        "X_train[cat_feats] = X_train[cat_feats].astype('category')\n",
        "\n",
        "cat_feats"
      ],
      "execution_count": null,
      "outputs": [
        {
          "output_type": "execute_result",
          "data": {
            "text/plain": [
              "['manufacturer',\n",
              " 'department',\n",
              " 'brand',\n",
              " 'commodity_desc',\n",
              " 'sub_commodity_desc',\n",
              " 'curr_size_of_product',\n",
              " 'age_desc',\n",
              " 'marital_status_code',\n",
              " 'income_desc',\n",
              " 'homeowner_desc',\n",
              " 'hh_comp_desc',\n",
              " 'household_size_desc',\n",
              " 'kid_category_desc']"
            ]
          },
          "metadata": {
            "tags": []
          },
          "execution_count": 208
        }
      ]
    },
    {
      "cell_type": "code",
      "metadata": {
        "colab": {
          "base_uri": "https://localhost:8080/"
        },
        "id": "Nq5IZ0hMOqDp",
        "outputId": "d63fcf58-ecba-41d1-e167-2eb645b86718"
      },
      "source": [
        "y_train.mean()"
      ],
      "execution_count": null,
      "outputs": [
        {
          "output_type": "execute_result",
          "data": {
            "text/plain": [
              "target    0.054643\n",
              "dtype: float64"
            ]
          },
          "metadata": {
            "tags": []
          },
          "execution_count": 209
        }
      ]
    },
    {
      "cell_type": "code",
      "metadata": {
        "colab": {
          "base_uri": "https://localhost:8080/"
        },
        "id": "XzfvZQqf2uhH",
        "outputId": "d4c5c860-16d8-4ea1-ca44-6a9b611ae1f2"
      },
      "source": [
        "from lightgbm import LGBMClassifier\n",
        "\n",
        "lgb = LGBMClassifier(objective='binary', max_depth=7, categorical_column=cat_feats, weght='balanced')\n",
        "lgb.fit(X_train, y_train)\n",
        "\n",
        "train_preds = lgb.predict_proba(X_train)[:, 1]"
      ],
      "execution_count": null,
      "outputs": [
        {
          "output_type": "stream",
          "text": [
            "/usr/local/lib/python3.6/dist-packages/sklearn/preprocessing/_label.py:235: DataConversionWarning: A column-vector y was passed when a 1d array was expected. Please change the shape of y to (n_samples, ), for example using ravel().\n",
            "  y = column_or_1d(y, warn=True)\n",
            "/usr/local/lib/python3.6/dist-packages/sklearn/preprocessing/_label.py:268: DataConversionWarning: A column-vector y was passed when a 1d array was expected. Please change the shape of y to (n_samples, ), for example using ravel().\n",
            "  y = column_or_1d(y, warn=True)\n",
            "/usr/local/lib/python3.6/dist-packages/lightgbm/basic.py:762: UserWarning: categorical_feature in param dict is overridden.\n",
            "  warnings.warn('categorical_feature in param dict is overridden.')\n"
          ],
          "name": "stderr"
        }
      ]
    },
    {
      "cell_type": "code",
      "metadata": {
        "colab": {
          "base_uri": "https://localhost:8080/"
        },
        "id": "yXnfjaeIO2P3",
        "outputId": "8cf9d087-7b5a-4307-c41c-a8ead9b3a235"
      },
      "source": [
        "train_preds"
      ],
      "execution_count": null,
      "outputs": [
        {
          "output_type": "execute_result",
          "data": {
            "text/plain": [
              "array([0.10062602, 0.05366087, 0.71772169, ..., 0.03370649, 0.03044229,\n",
              "       0.03304005])"
            ]
          },
          "metadata": {
            "tags": []
          },
          "execution_count": 211
        }
      ]
    },
    {
      "cell_type": "code",
      "metadata": {
        "id": "FRI3mW2f2ud5",
        "colab": {
          "base_uri": "https://localhost:8080/"
        },
        "outputId": "1bfda922-60c9-4cee-f5b9-76a18755ec25"
      },
      "source": [
        "k = 5\n",
        "targets_lvl_2_pred = targets_lvl_2.copy(deep=True)\n",
        "targets_lvl_2_pred['predict_proba'] = train_preds\n",
        "targets_lvl_2_pred = targets_lvl_2_pred[['user_id', 'item_id', 'predict_proba']]\n",
        "users = targets_lvl_2_pred['user_id'].unique()\n",
        "lvl_2_recommendations = pd.DataFrame(data = {'user_id': users})\n",
        "lvl_2_recommendations['candidates'] = 0\n",
        "\n",
        "def get_lvl_2_reccomendations(user_id, targets_lvl_2_pred):\n",
        "  tdf = targets_lvl_2_pred[targets_lvl_2_pred['user_id']==user_id]\n",
        "  tdf = tdf.drop(columns=['user_id'])\n",
        "  tdf = tdf.groupby(['item_id']).max()\n",
        "  tdf = tdf.sort_values(by='predict_proba', ascending=False)\n",
        "  tdf = tdf.index[:k].tolist()\n",
        "  return tdf\n",
        "\n",
        "print(get_lvl_2_reccomendations(2027, targets_lvl_2_pred))\n",
        "lvl_2_recommendations['candidates'] = lvl_2_recommendations['user_id'].apply(lambda x: get_lvl_2_reccomendations(x, targets_lvl_2_pred))"
      ],
      "execution_count": null,
      "outputs": [
        {
          "output_type": "stream",
          "text": [
            "[1082185, 6534178, 1029743, 1106523, 995242]\n"
          ],
          "name": "stdout"
        }
      ]
    },
    {
      "cell_type": "code",
      "metadata": {
        "colab": {
          "base_uri": "https://localhost:8080/",
          "height": 195
        },
        "id": "nAL6SzCyJRTh",
        "outputId": "1722fad0-a520-4326-85cc-cc133dbfcd6a"
      },
      "source": [
        "lvl_2_recommendations.head()"
      ],
      "execution_count": null,
      "outputs": [
        {
          "output_type": "execute_result",
          "data": {
            "text/html": [
              "<div>\n",
              "<style scoped>\n",
              "    .dataframe tbody tr th:only-of-type {\n",
              "        vertical-align: middle;\n",
              "    }\n",
              "\n",
              "    .dataframe tbody tr th {\n",
              "        vertical-align: top;\n",
              "    }\n",
              "\n",
              "    .dataframe thead th {\n",
              "        text-align: right;\n",
              "    }\n",
              "</style>\n",
              "<table border=\"1\" class=\"dataframe\">\n",
              "  <thead>\n",
              "    <tr style=\"text-align: right;\">\n",
              "      <th></th>\n",
              "      <th>user_id</th>\n",
              "      <th>candidates</th>\n",
              "    </tr>\n",
              "  </thead>\n",
              "  <tbody>\n",
              "    <tr>\n",
              "      <th>0</th>\n",
              "      <td>1</td>\n",
              "      <td>[1082185, 6534178, 1029743, 9655212, 981760]</td>\n",
              "    </tr>\n",
              "    <tr>\n",
              "      <th>1</th>\n",
              "      <td>2</td>\n",
              "      <td>[1082185, 6534178, 1029743, 1106523, 915041]</td>\n",
              "    </tr>\n",
              "    <tr>\n",
              "      <th>2</th>\n",
              "      <td>4</td>\n",
              "      <td>[1082185, 6534178, 1029743, 1106523, 995242]</td>\n",
              "    </tr>\n",
              "    <tr>\n",
              "      <th>3</th>\n",
              "      <td>6</td>\n",
              "      <td>[1082185, 1056212, 1098844, 6534178, 1029743]</td>\n",
              "    </tr>\n",
              "    <tr>\n",
              "      <th>4</th>\n",
              "      <td>7</td>\n",
              "      <td>[1082185, 6534178, 1029743, 981760, 995242]</td>\n",
              "    </tr>\n",
              "  </tbody>\n",
              "</table>\n",
              "</div>"
            ],
            "text/plain": [
              "   user_id                                     candidates\n",
              "0        1   [1082185, 6534178, 1029743, 9655212, 981760]\n",
              "1        2   [1082185, 6534178, 1029743, 1106523, 915041]\n",
              "2        4   [1082185, 6534178, 1029743, 1106523, 995242]\n",
              "3        6  [1082185, 1056212, 1098844, 6534178, 1029743]\n",
              "4        7    [1082185, 6534178, 1029743, 981760, 995242]"
            ]
          },
          "metadata": {
            "tags": []
          },
          "execution_count": 213
        }
      ]
    },
    {
      "cell_type": "code",
      "metadata": {
        "colab": {
          "base_uri": "https://localhost:8080/",
          "height": 77
        },
        "id": "NeLPQYygFOyP",
        "outputId": "ec72602a-2458-4010-8f72-febc2f88418c"
      },
      "source": [
        "lvl_2_recommendations[lvl_2_recommendations.user_id == 1984]"
      ],
      "execution_count": null,
      "outputs": [
        {
          "output_type": "execute_result",
          "data": {
            "text/html": [
              "<div>\n",
              "<style scoped>\n",
              "    .dataframe tbody tr th:only-of-type {\n",
              "        vertical-align: middle;\n",
              "    }\n",
              "\n",
              "    .dataframe tbody tr th {\n",
              "        vertical-align: top;\n",
              "    }\n",
              "\n",
              "    .dataframe thead th {\n",
              "        text-align: right;\n",
              "    }\n",
              "</style>\n",
              "<table border=\"1\" class=\"dataframe\">\n",
              "  <thead>\n",
              "    <tr style=\"text-align: right;\">\n",
              "      <th></th>\n",
              "      <th>user_id</th>\n",
              "      <th>candidates</th>\n",
              "    </tr>\n",
              "  </thead>\n",
              "  <tbody>\n",
              "    <tr>\n",
              "      <th>1715</th>\n",
              "      <td>1984</td>\n",
              "      <td>[1082185, 6534178, 1029743, 1106523, 995242]</td>\n",
              "    </tr>\n",
              "  </tbody>\n",
              "</table>\n",
              "</div>"
            ],
            "text/plain": [
              "      user_id                                    candidates\n",
              "1715     1984  [1082185, 6534178, 1029743, 1106523, 995242]"
            ]
          },
          "metadata": {
            "tags": []
          },
          "execution_count": 214
        }
      ]
    },
    {
      "cell_type": "markdown",
      "metadata": {
        "id": "_ZwAsAPIJQ6t"
      },
      "source": [
        "Результат на трейне 2-го уровня:"
      ]
    },
    {
      "cell_type": "code",
      "metadata": {
        "colab": {
          "base_uri": "https://localhost:8080/"
        },
        "id": "-0Q3vH28J9Zo",
        "outputId": "e1f94b69-9f11-4795-f585-6b337c49ace6"
      },
      "source": [
        "result_lvl_1_train = result_lvl_1[result_lvl_1.user_id.isin(data_train_lvl_2.user_id.values)]\n",
        "result_lvl_1_train.user_id.values"
      ],
      "execution_count": null,
      "outputs": [
        {
          "output_type": "execute_result",
          "data": {
            "text/plain": [
              "array([   1,    2,    4, ..., 2498, 2499, 2500])"
            ]
          },
          "metadata": {
            "tags": []
          },
          "execution_count": 215
        }
      ]
    },
    {
      "cell_type": "code",
      "metadata": {
        "colab": {
          "base_uri": "https://localhost:8080/"
        },
        "id": "YcZn8uQe2uZI",
        "outputId": "73a39022-2aa4-40be-fb32-28026fa85c06"
      },
      "source": [
        "mean, std = total_precision_at_k_pre(actual_data = result_lvl_1_train, k=5, recommendations_table=lvl_2_recommendations)\n",
        "print(mean, ' +- ', std)"
      ],
      "execution_count": null,
      "outputs": [
        {
          "output_type": "stream",
          "text": [
            "0.3221551323734324  +-  0.2581807805786271\n"
          ],
          "name": "stdout"
        }
      ]
    },
    {
      "cell_type": "markdown",
      "metadata": {
        "id": "w1j4z6weK_Wr"
      },
      "source": [
        "Посмотрим на валидационный сет"
      ]
    },
    {
      "cell_type": "code",
      "metadata": {
        "colab": {
          "base_uri": "https://localhost:8080/",
          "height": 106
        },
        "id": "L_ijJOvA2uWn",
        "outputId": "7a31a327-935a-471e-e9cf-fee530cdb3fe"
      },
      "source": [
        "result_lvl_2 = data_val_lvl_2.groupby('user_id')['item_id'].unique().reset_index()\n",
        "result_lvl_2.columns=['user_id', 'actual']\n",
        "result_lvl_2.head(2)"
      ],
      "execution_count": null,
      "outputs": [
        {
          "output_type": "execute_result",
          "data": {
            "text/html": [
              "<div>\n",
              "<style scoped>\n",
              "    .dataframe tbody tr th:only-of-type {\n",
              "        vertical-align: middle;\n",
              "    }\n",
              "\n",
              "    .dataframe tbody tr th {\n",
              "        vertical-align: top;\n",
              "    }\n",
              "\n",
              "    .dataframe thead th {\n",
              "        text-align: right;\n",
              "    }\n",
              "</style>\n",
              "<table border=\"1\" class=\"dataframe\">\n",
              "  <thead>\n",
              "    <tr style=\"text-align: right;\">\n",
              "      <th></th>\n",
              "      <th>user_id</th>\n",
              "      <th>actual</th>\n",
              "    </tr>\n",
              "  </thead>\n",
              "  <tbody>\n",
              "    <tr>\n",
              "      <th>0</th>\n",
              "      <td>1</td>\n",
              "      <td>[821867, 834484, 856942, 865456, 889248, 90795...</td>\n",
              "    </tr>\n",
              "    <tr>\n",
              "      <th>1</th>\n",
              "      <td>3</td>\n",
              "      <td>[835476, 851057, 872021, 878302, 879948, 90963...</td>\n",
              "    </tr>\n",
              "  </tbody>\n",
              "</table>\n",
              "</div>"
            ],
            "text/plain": [
              "   user_id                                             actual\n",
              "0        1  [821867, 834484, 856942, 865456, 889248, 90795...\n",
              "1        3  [835476, 851057, 872021, 878302, 879948, 90963..."
            ]
          },
          "metadata": {
            "tags": []
          },
          "execution_count": 217
        }
      ]
    },
    {
      "cell_type": "code",
      "metadata": {
        "id": "wn7qPQ0oLGr-"
      },
      "source": [
        "df_val = df[df.user_id.isin(data_val_lvl_2.user_id.values)]"
      ],
      "execution_count": null,
      "outputs": []
    },
    {
      "cell_type": "markdown",
      "metadata": {
        "id": "5s45ZlCqLToG"
      },
      "source": [
        "Расчитаем рекоммендации второго уровня для валидационного набора данных"
      ]
    },
    {
      "cell_type": "code",
      "metadata": {
        "id": "FRw3Xe7QIyoA"
      },
      "source": [
        "targets_val_lvl_2 = data_val_lvl_2[['user_id', 'item_id']].copy()\n",
        "targets_val_lvl_2['target'] = 1  # тут только покупки \n",
        "targets_val_lvl_2 = df_val.merge(targets_val_lvl_2, on=['user_id', 'item_id'], how='left')\n",
        "targets_val_lvl_2['target'].fillna(0, inplace= True)\n",
        "\n",
        "targets_val_lvl_2 = targets_val_lvl_2.merge(item_features, on='item_id', how='left')\n",
        "targets_val_lvl_2 = targets_val_lvl_2.merge(user_features, on='user_id', how='left')\n",
        "\n",
        "X_val = targets_val_lvl_2.drop('target', axis=1)\n",
        "X_val[cat_feats] = X_val[cat_feats].astype('category')\n",
        "\n",
        "val_preds = lgb.predict_proba(X_val)[:, 1]"
      ],
      "execution_count": null,
      "outputs": []
    },
    {
      "cell_type": "code",
      "metadata": {
        "id": "nH3H1CqrKnjQ",
        "colab": {
          "base_uri": "https://localhost:8080/"
        },
        "outputId": "567e9560-6683-46e5-93d7-dbceabfc228a"
      },
      "source": [
        "k = 5\n",
        "targets_val_lvl_2_pred = targets_val_lvl_2.copy(deep=True)\n",
        "targets_val_lvl_2_pred['predict_proba'] = val_preds\n",
        "targets_val_lvl_2_pred = targets_val_lvl_2_pred[['user_id', 'item_id', 'predict_proba']]\n",
        "users = targets_val_lvl_2_pred['user_id'].unique()\n",
        "val_lvl_2_recommendations = pd.DataFrame(data = {'user_id': users})\n",
        "val_lvl_2_recommendations['candidates'] = 0\n",
        "\n",
        "def get_lvl_2_reccomendations(user_id, targets_val_lvl_2_pred):\n",
        "  tdf = targets_val_lvl_2_pred[targets_val_lvl_2_pred['user_id']==user_id]\n",
        "  tdf = tdf.drop(columns=['user_id'])\n",
        "  tdf = tdf.groupby(['item_id']).max()\n",
        "  tdf = tdf.sort_values(by='predict_proba', ascending=False)\n",
        "  tdf = tdf.index[:k].tolist()\n",
        "  return tdf\n",
        "\n",
        "print(get_lvl_2_reccomendations(2027, targets_val_lvl_2_pred))\n",
        "val_lvl_2_recommendations['candidates'] = val_lvl_2_recommendations['user_id'].apply(lambda x: get_lvl_2_reccomendations(x, targets_val_lvl_2_pred))"
      ],
      "execution_count": null,
      "outputs": [
        {
          "output_type": "stream",
          "text": [
            "[1082185, 6534178, 1029743, 1106523, 995242]\n"
          ],
          "name": "stdout"
        }
      ]
    },
    {
      "cell_type": "code",
      "metadata": {
        "colab": {
          "base_uri": "https://localhost:8080/"
        },
        "id": "bcUN3C2uK59P",
        "outputId": "eb310963-9fc1-44d8-cbf2-91e9b29c29b3"
      },
      "source": [
        "mean, std = total_precision_at_k_pre(actual_data = result_lvl_2, k=5, recommendations_table=val_lvl_2_recommendations)\n",
        "print(mean, ' +- ', std)"
      ],
      "execution_count": null,
      "outputs": [
        {
          "output_type": "stream",
          "text": [
            "0.2112689857912788  +-  0.21690081694944555\n"
          ],
          "name": "stdout"
        }
      ]
    },
    {
      "cell_type": "markdown",
      "metadata": {
        "id": "CgyOxu0db0nE"
      },
      "source": [
        "Качество не лучше, чем для модели первого уровня. Чтобы увеличить качество, нужно поработать с фитчами"
      ]
    },
    {
      "cell_type": "markdown",
      "metadata": {
        "id": "-fZifow0FAP-"
      },
      "source": [
        "### Финальный проект\n",
        "\n",
        "Мы уже прошли всю необходимуб теорию для финального проекта. Проект осуществляется на данных из вебинара (данные считаны в начале ДЗ).\n",
        "Рекомендуем вам **начать делать проект сразу после этого домашнего задания**\n",
        "- Целевая метрика - precision@5. Порог для уcпешной сдачи проекта precision@5 > 0.27%\n",
        "- Будет public тестовый датасет, на котором вы сможете измерять метрику\n",
        "- Также будет private тестовый датасет для измерения финального качества\n",
        "- НЕ обязательно, но крайне желательно использовать 2-ух уровневые рекоммендательные системы в проекте\n",
        "- Вы сдаете код проекта в виде github репозитория и csv файл с рекомендациями "
      ]
    },
    {
      "cell_type": "code",
      "metadata": {
        "id": "ezSkuVpDbzxJ"
      },
      "source": [
        ""
      ],
      "execution_count": null,
      "outputs": []
    }
  ]
}