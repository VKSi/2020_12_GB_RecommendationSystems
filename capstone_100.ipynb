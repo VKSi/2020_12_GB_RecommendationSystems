{
  "nbformat": 4,
  "nbformat_minor": 0,
  "metadata": {
    "kernelspec": {
      "display_name": "Python 3",
      "language": "python",
      "name": "python3"
    },
    "language_info": {
      "codemirror_mode": {
        "name": "ipython",
        "version": 3
      },
      "file_extension": ".py",
      "mimetype": "text/x-python",
      "name": "python",
      "nbconvert_exporter": "python",
      "pygments_lexer": "ipython3",
      "version": "3.6.5"
    },
    "colab": {
      "name": "capstone_100.ipynb",
      "provenance": [],
      "collapsed_sections": [],
      "include_colab_link": true
    },
    "widgets": {
      "application/vnd.jupyter.widget-state+json": {
        "52d297e2de954fedba4d775228008478": {
          "model_module": "@jupyter-widgets/controls",
          "model_name": "HBoxModel",
          "state": {
            "_view_name": "HBoxView",
            "_dom_classes": [],
            "_model_name": "HBoxModel",
            "_view_module": "@jupyter-widgets/controls",
            "_model_module_version": "1.5.0",
            "_view_count": null,
            "_view_module_version": "1.5.0",
            "box_style": "",
            "layout": "IPY_MODEL_1694f71bb7394a2baf7516f46b0feb66",
            "_model_module": "@jupyter-widgets/controls",
            "children": [
              "IPY_MODEL_d131f7c676f54d6ebccac16b869777a2",
              "IPY_MODEL_879e0518b5014a019ac879473ca20660"
            ]
          },
          "model_module_version": "1.5.0"
        },
        "1694f71bb7394a2baf7516f46b0feb66": {
          "model_module": "@jupyter-widgets/base",
          "model_name": "LayoutModel",
          "state": {
            "_view_name": "LayoutView",
            "grid_template_rows": null,
            "right": null,
            "justify_content": null,
            "_view_module": "@jupyter-widgets/base",
            "overflow": null,
            "_model_module_version": "1.2.0",
            "_view_count": null,
            "flex_flow": null,
            "width": null,
            "min_width": null,
            "border": null,
            "align_items": null,
            "bottom": null,
            "_model_module": "@jupyter-widgets/base",
            "top": null,
            "grid_column": null,
            "overflow_y": null,
            "overflow_x": null,
            "grid_auto_flow": null,
            "grid_area": null,
            "grid_template_columns": null,
            "flex": null,
            "_model_name": "LayoutModel",
            "justify_items": null,
            "grid_row": null,
            "max_height": null,
            "align_content": null,
            "visibility": null,
            "align_self": null,
            "height": null,
            "min_height": null,
            "padding": null,
            "grid_auto_rows": null,
            "grid_gap": null,
            "max_width": null,
            "order": null,
            "_view_module_version": "1.2.0",
            "grid_template_areas": null,
            "object_position": null,
            "object_fit": null,
            "grid_auto_columns": null,
            "margin": null,
            "display": null,
            "left": null
          },
          "model_module_version": "1.2.0"
        },
        "d131f7c676f54d6ebccac16b869777a2": {
          "model_module": "@jupyter-widgets/controls",
          "model_name": "FloatProgressModel",
          "state": {
            "_view_name": "ProgressView",
            "style": "IPY_MODEL_56580a7612854d6f8849c7070d9d48d0",
            "_dom_classes": [],
            "description": "100%",
            "_model_name": "FloatProgressModel",
            "bar_style": "success",
            "max": 15,
            "_view_module": "@jupyter-widgets/controls",
            "_model_module_version": "1.5.0",
            "value": 15,
            "_view_count": null,
            "_view_module_version": "1.5.0",
            "orientation": "horizontal",
            "min": 0,
            "description_tooltip": null,
            "_model_module": "@jupyter-widgets/controls",
            "layout": "IPY_MODEL_b591eb1b39d640b2aa80055ca29f896e"
          },
          "model_module_version": "1.5.0"
        },
        "879e0518b5014a019ac879473ca20660": {
          "model_module": "@jupyter-widgets/controls",
          "model_name": "HTMLModel",
          "state": {
            "_view_name": "HTMLView",
            "style": "IPY_MODEL_ba3a58725ca4422cb9d047bfc294f085",
            "_dom_classes": [],
            "description": "",
            "_model_name": "HTMLModel",
            "placeholder": "​",
            "_view_module": "@jupyter-widgets/controls",
            "_model_module_version": "1.5.0",
            "value": " 15/15 [23:42&lt;00:00, 94.85s/it]",
            "_view_count": null,
            "_view_module_version": "1.5.0",
            "description_tooltip": null,
            "_model_module": "@jupyter-widgets/controls",
            "layout": "IPY_MODEL_cb9e686584f74fb9b40db93470980bcf"
          },
          "model_module_version": "1.5.0"
        },
        "56580a7612854d6f8849c7070d9d48d0": {
          "model_module": "@jupyter-widgets/controls",
          "model_name": "ProgressStyleModel",
          "state": {
            "_view_name": "StyleView",
            "_model_name": "ProgressStyleModel",
            "description_width": "initial",
            "_view_module": "@jupyter-widgets/base",
            "_model_module_version": "1.5.0",
            "_view_count": null,
            "_view_module_version": "1.2.0",
            "bar_color": null,
            "_model_module": "@jupyter-widgets/controls"
          },
          "model_module_version": "1.5.0"
        },
        "b591eb1b39d640b2aa80055ca29f896e": {
          "model_module": "@jupyter-widgets/base",
          "model_name": "LayoutModel",
          "state": {
            "_view_name": "LayoutView",
            "grid_template_rows": null,
            "right": null,
            "justify_content": null,
            "_view_module": "@jupyter-widgets/base",
            "overflow": null,
            "_model_module_version": "1.2.0",
            "_view_count": null,
            "flex_flow": null,
            "width": null,
            "min_width": null,
            "border": null,
            "align_items": null,
            "bottom": null,
            "_model_module": "@jupyter-widgets/base",
            "top": null,
            "grid_column": null,
            "overflow_y": null,
            "overflow_x": null,
            "grid_auto_flow": null,
            "grid_area": null,
            "grid_template_columns": null,
            "flex": null,
            "_model_name": "LayoutModel",
            "justify_items": null,
            "grid_row": null,
            "max_height": null,
            "align_content": null,
            "visibility": null,
            "align_self": null,
            "height": null,
            "min_height": null,
            "padding": null,
            "grid_auto_rows": null,
            "grid_gap": null,
            "max_width": null,
            "order": null,
            "_view_module_version": "1.2.0",
            "grid_template_areas": null,
            "object_position": null,
            "object_fit": null,
            "grid_auto_columns": null,
            "margin": null,
            "display": null,
            "left": null
          },
          "model_module_version": "1.2.0"
        },
        "ba3a58725ca4422cb9d047bfc294f085": {
          "model_module": "@jupyter-widgets/controls",
          "model_name": "DescriptionStyleModel",
          "state": {
            "_view_name": "StyleView",
            "_model_name": "DescriptionStyleModel",
            "description_width": "",
            "_view_module": "@jupyter-widgets/base",
            "_model_module_version": "1.5.0",
            "_view_count": null,
            "_view_module_version": "1.2.0",
            "_model_module": "@jupyter-widgets/controls"
          },
          "model_module_version": "1.5.0"
        },
        "cb9e686584f74fb9b40db93470980bcf": {
          "model_module": "@jupyter-widgets/base",
          "model_name": "LayoutModel",
          "state": {
            "_view_name": "LayoutView",
            "grid_template_rows": null,
            "right": null,
            "justify_content": null,
            "_view_module": "@jupyter-widgets/base",
            "overflow": null,
            "_model_module_version": "1.2.0",
            "_view_count": null,
            "flex_flow": null,
            "width": null,
            "min_width": null,
            "border": null,
            "align_items": null,
            "bottom": null,
            "_model_module": "@jupyter-widgets/base",
            "top": null,
            "grid_column": null,
            "overflow_y": null,
            "overflow_x": null,
            "grid_auto_flow": null,
            "grid_area": null,
            "grid_template_columns": null,
            "flex": null,
            "_model_name": "LayoutModel",
            "justify_items": null,
            "grid_row": null,
            "max_height": null,
            "align_content": null,
            "visibility": null,
            "align_self": null,
            "height": null,
            "min_height": null,
            "padding": null,
            "grid_auto_rows": null,
            "grid_gap": null,
            "max_width": null,
            "order": null,
            "_view_module_version": "1.2.0",
            "grid_template_areas": null,
            "object_position": null,
            "object_fit": null,
            "grid_auto_columns": null,
            "margin": null,
            "display": null,
            "left": null
          },
          "model_module_version": "1.2.0"
        },
        "a976d73743084ec2a984ca5342a45a19": {
          "model_module": "@jupyter-widgets/controls",
          "model_name": "HBoxModel",
          "state": {
            "_view_name": "HBoxView",
            "_dom_classes": [],
            "_model_name": "HBoxModel",
            "_view_module": "@jupyter-widgets/controls",
            "_model_module_version": "1.5.0",
            "_view_count": null,
            "_view_module_version": "1.5.0",
            "box_style": "",
            "layout": "IPY_MODEL_b9aa5697b9b34bebb4fb7ad9f413d1fe",
            "_model_module": "@jupyter-widgets/controls",
            "children": [
              "IPY_MODEL_9da601f3d1f140b0936ad673f8317419",
              "IPY_MODEL_4a99799ded3b4cbbaa300d9e30f6c4af"
            ]
          },
          "model_module_version": "1.5.0"
        },
        "b9aa5697b9b34bebb4fb7ad9f413d1fe": {
          "model_module": "@jupyter-widgets/base",
          "model_name": "LayoutModel",
          "state": {
            "_view_name": "LayoutView",
            "grid_template_rows": null,
            "right": null,
            "justify_content": null,
            "_view_module": "@jupyter-widgets/base",
            "overflow": null,
            "_model_module_version": "1.2.0",
            "_view_count": null,
            "flex_flow": null,
            "width": null,
            "min_width": null,
            "border": null,
            "align_items": null,
            "bottom": null,
            "_model_module": "@jupyter-widgets/base",
            "top": null,
            "grid_column": null,
            "overflow_y": null,
            "overflow_x": null,
            "grid_auto_flow": null,
            "grid_area": null,
            "grid_template_columns": null,
            "flex": null,
            "_model_name": "LayoutModel",
            "justify_items": null,
            "grid_row": null,
            "max_height": null,
            "align_content": null,
            "visibility": null,
            "align_self": null,
            "height": null,
            "min_height": null,
            "padding": null,
            "grid_auto_rows": null,
            "grid_gap": null,
            "max_width": null,
            "order": null,
            "_view_module_version": "1.2.0",
            "grid_template_areas": null,
            "object_position": null,
            "object_fit": null,
            "grid_auto_columns": null,
            "margin": null,
            "display": null,
            "left": null
          },
          "model_module_version": "1.2.0"
        },
        "9da601f3d1f140b0936ad673f8317419": {
          "model_module": "@jupyter-widgets/controls",
          "model_name": "FloatProgressModel",
          "state": {
            "_view_name": "ProgressView",
            "style": "IPY_MODEL_d2a8f17ec5c94f4199a48ae1ff0e20a8",
            "_dom_classes": [],
            "description": "100%",
            "_model_name": "FloatProgressModel",
            "bar_style": "success",
            "max": 30001,
            "_view_module": "@jupyter-widgets/controls",
            "_model_module_version": "1.5.0",
            "value": 30001,
            "_view_count": null,
            "_view_module_version": "1.5.0",
            "orientation": "horizontal",
            "min": 0,
            "description_tooltip": null,
            "_model_module": "@jupyter-widgets/controls",
            "layout": "IPY_MODEL_b1c8f8cffe5443c9bea03975f7681065"
          },
          "model_module_version": "1.5.0"
        },
        "4a99799ded3b4cbbaa300d9e30f6c4af": {
          "model_module": "@jupyter-widgets/controls",
          "model_name": "HTMLModel",
          "state": {
            "_view_name": "HTMLView",
            "style": "IPY_MODEL_7b02173ab83d4f9f8da5c53a7213d0cb",
            "_dom_classes": [],
            "description": "",
            "_model_name": "HTMLModel",
            "placeholder": "​",
            "_view_module": "@jupyter-widgets/controls",
            "_model_module_version": "1.5.0",
            "value": " 30001/30001 [00:07&lt;00:00, 3820.97it/s]",
            "_view_count": null,
            "_view_module_version": "1.5.0",
            "description_tooltip": null,
            "_model_module": "@jupyter-widgets/controls",
            "layout": "IPY_MODEL_0f59c5cb4879412bbf5ab6bd3e4cb0f4"
          },
          "model_module_version": "1.5.0"
        },
        "d2a8f17ec5c94f4199a48ae1ff0e20a8": {
          "model_module": "@jupyter-widgets/controls",
          "model_name": "ProgressStyleModel",
          "state": {
            "_view_name": "StyleView",
            "_model_name": "ProgressStyleModel",
            "description_width": "initial",
            "_view_module": "@jupyter-widgets/base",
            "_model_module_version": "1.5.0",
            "_view_count": null,
            "_view_module_version": "1.2.0",
            "bar_color": null,
            "_model_module": "@jupyter-widgets/controls"
          },
          "model_module_version": "1.5.0"
        },
        "b1c8f8cffe5443c9bea03975f7681065": {
          "model_module": "@jupyter-widgets/base",
          "model_name": "LayoutModel",
          "state": {
            "_view_name": "LayoutView",
            "grid_template_rows": null,
            "right": null,
            "justify_content": null,
            "_view_module": "@jupyter-widgets/base",
            "overflow": null,
            "_model_module_version": "1.2.0",
            "_view_count": null,
            "flex_flow": null,
            "width": null,
            "min_width": null,
            "border": null,
            "align_items": null,
            "bottom": null,
            "_model_module": "@jupyter-widgets/base",
            "top": null,
            "grid_column": null,
            "overflow_y": null,
            "overflow_x": null,
            "grid_auto_flow": null,
            "grid_area": null,
            "grid_template_columns": null,
            "flex": null,
            "_model_name": "LayoutModel",
            "justify_items": null,
            "grid_row": null,
            "max_height": null,
            "align_content": null,
            "visibility": null,
            "align_self": null,
            "height": null,
            "min_height": null,
            "padding": null,
            "grid_auto_rows": null,
            "grid_gap": null,
            "max_width": null,
            "order": null,
            "_view_module_version": "1.2.0",
            "grid_template_areas": null,
            "object_position": null,
            "object_fit": null,
            "grid_auto_columns": null,
            "margin": null,
            "display": null,
            "left": null
          },
          "model_module_version": "1.2.0"
        },
        "7b02173ab83d4f9f8da5c53a7213d0cb": {
          "model_module": "@jupyter-widgets/controls",
          "model_name": "DescriptionStyleModel",
          "state": {
            "_view_name": "StyleView",
            "_model_name": "DescriptionStyleModel",
            "description_width": "",
            "_view_module": "@jupyter-widgets/base",
            "_model_module_version": "1.5.0",
            "_view_count": null,
            "_view_module_version": "1.2.0",
            "_model_module": "@jupyter-widgets/controls"
          },
          "model_module_version": "1.5.0"
        },
        "0f59c5cb4879412bbf5ab6bd3e4cb0f4": {
          "model_module": "@jupyter-widgets/base",
          "model_name": "LayoutModel",
          "state": {
            "_view_name": "LayoutView",
            "grid_template_rows": null,
            "right": null,
            "justify_content": null,
            "_view_module": "@jupyter-widgets/base",
            "overflow": null,
            "_model_module_version": "1.2.0",
            "_view_count": null,
            "flex_flow": null,
            "width": null,
            "min_width": null,
            "border": null,
            "align_items": null,
            "bottom": null,
            "_model_module": "@jupyter-widgets/base",
            "top": null,
            "grid_column": null,
            "overflow_y": null,
            "overflow_x": null,
            "grid_auto_flow": null,
            "grid_area": null,
            "grid_template_columns": null,
            "flex": null,
            "_model_name": "LayoutModel",
            "justify_items": null,
            "grid_row": null,
            "max_height": null,
            "align_content": null,
            "visibility": null,
            "align_self": null,
            "height": null,
            "min_height": null,
            "padding": null,
            "grid_auto_rows": null,
            "grid_gap": null,
            "max_width": null,
            "order": null,
            "_view_module_version": "1.2.0",
            "grid_template_areas": null,
            "object_position": null,
            "object_fit": null,
            "grid_auto_columns": null,
            "margin": null,
            "display": null,
            "left": null
          },
          "model_module_version": "1.2.0"
        },
        "32aeb1eaea904a339d6d918ab7b51410": {
          "model_module": "@jupyter-widgets/controls",
          "model_name": "HBoxModel",
          "state": {
            "_view_name": "HBoxView",
            "_dom_classes": [],
            "_model_name": "HBoxModel",
            "_view_module": "@jupyter-widgets/controls",
            "_model_module_version": "1.5.0",
            "_view_count": null,
            "_view_module_version": "1.5.0",
            "box_style": "",
            "layout": "IPY_MODEL_97e1c3843e4a429aae3397e24255fc96",
            "_model_module": "@jupyter-widgets/controls",
            "children": [
              "IPY_MODEL_b03802262cdb4472b464cfa4d7b783ca",
              "IPY_MODEL_bc803b7790c74c98ab4b85ab6711f039"
            ]
          },
          "model_module_version": "1.5.0"
        },
        "97e1c3843e4a429aae3397e24255fc96": {
          "model_module": "@jupyter-widgets/base",
          "model_name": "LayoutModel",
          "state": {
            "_view_name": "LayoutView",
            "grid_template_rows": null,
            "right": null,
            "justify_content": null,
            "_view_module": "@jupyter-widgets/base",
            "overflow": null,
            "_model_module_version": "1.2.0",
            "_view_count": null,
            "flex_flow": null,
            "width": null,
            "min_width": null,
            "border": null,
            "align_items": null,
            "bottom": null,
            "_model_module": "@jupyter-widgets/base",
            "top": null,
            "grid_column": null,
            "overflow_y": null,
            "overflow_x": null,
            "grid_auto_flow": null,
            "grid_area": null,
            "grid_template_columns": null,
            "flex": null,
            "_model_name": "LayoutModel",
            "justify_items": null,
            "grid_row": null,
            "max_height": null,
            "align_content": null,
            "visibility": null,
            "align_self": null,
            "height": null,
            "min_height": null,
            "padding": null,
            "grid_auto_rows": null,
            "grid_gap": null,
            "max_width": null,
            "order": null,
            "_view_module_version": "1.2.0",
            "grid_template_areas": null,
            "object_position": null,
            "object_fit": null,
            "grid_auto_columns": null,
            "margin": null,
            "display": null,
            "left": null
          },
          "model_module_version": "1.2.0"
        },
        "b03802262cdb4472b464cfa4d7b783ca": {
          "model_module": "@jupyter-widgets/controls",
          "model_name": "FloatProgressModel",
          "state": {
            "_view_name": "ProgressView",
            "style": "IPY_MODEL_cb8f26795b424821947fe9aafab05e35",
            "_dom_classes": [],
            "description": "100%",
            "_model_name": "FloatProgressModel",
            "bar_style": "success",
            "max": 15,
            "_view_module": "@jupyter-widgets/controls",
            "_model_module_version": "1.5.0",
            "value": 15,
            "_view_count": null,
            "_view_module_version": "1.5.0",
            "orientation": "horizontal",
            "min": 0,
            "description_tooltip": null,
            "_model_module": "@jupyter-widgets/controls",
            "layout": "IPY_MODEL_f96709b0792b42aab7dfb3738a32e5e0"
          },
          "model_module_version": "1.5.0"
        },
        "bc803b7790c74c98ab4b85ab6711f039": {
          "model_module": "@jupyter-widgets/controls",
          "model_name": "HTMLModel",
          "state": {
            "_view_name": "HTMLView",
            "style": "IPY_MODEL_196123cc4b8e4075b735d50969dd3df4",
            "_dom_classes": [],
            "description": "",
            "_model_name": "HTMLModel",
            "placeholder": "​",
            "_view_module": "@jupyter-widgets/controls",
            "_model_module_version": "1.5.0",
            "value": " 15/15 [31:09&lt;00:00, 124.65s/it]",
            "_view_count": null,
            "_view_module_version": "1.5.0",
            "description_tooltip": null,
            "_model_module": "@jupyter-widgets/controls",
            "layout": "IPY_MODEL_0d64d88740c942838005be42b28dba94"
          },
          "model_module_version": "1.5.0"
        },
        "cb8f26795b424821947fe9aafab05e35": {
          "model_module": "@jupyter-widgets/controls",
          "model_name": "ProgressStyleModel",
          "state": {
            "_view_name": "StyleView",
            "_model_name": "ProgressStyleModel",
            "description_width": "initial",
            "_view_module": "@jupyter-widgets/base",
            "_model_module_version": "1.5.0",
            "_view_count": null,
            "_view_module_version": "1.2.0",
            "bar_color": null,
            "_model_module": "@jupyter-widgets/controls"
          },
          "model_module_version": "1.5.0"
        },
        "f96709b0792b42aab7dfb3738a32e5e0": {
          "model_module": "@jupyter-widgets/base",
          "model_name": "LayoutModel",
          "state": {
            "_view_name": "LayoutView",
            "grid_template_rows": null,
            "right": null,
            "justify_content": null,
            "_view_module": "@jupyter-widgets/base",
            "overflow": null,
            "_model_module_version": "1.2.0",
            "_view_count": null,
            "flex_flow": null,
            "width": null,
            "min_width": null,
            "border": null,
            "align_items": null,
            "bottom": null,
            "_model_module": "@jupyter-widgets/base",
            "top": null,
            "grid_column": null,
            "overflow_y": null,
            "overflow_x": null,
            "grid_auto_flow": null,
            "grid_area": null,
            "grid_template_columns": null,
            "flex": null,
            "_model_name": "LayoutModel",
            "justify_items": null,
            "grid_row": null,
            "max_height": null,
            "align_content": null,
            "visibility": null,
            "align_self": null,
            "height": null,
            "min_height": null,
            "padding": null,
            "grid_auto_rows": null,
            "grid_gap": null,
            "max_width": null,
            "order": null,
            "_view_module_version": "1.2.0",
            "grid_template_areas": null,
            "object_position": null,
            "object_fit": null,
            "grid_auto_columns": null,
            "margin": null,
            "display": null,
            "left": null
          },
          "model_module_version": "1.2.0"
        },
        "196123cc4b8e4075b735d50969dd3df4": {
          "model_module": "@jupyter-widgets/controls",
          "model_name": "DescriptionStyleModel",
          "state": {
            "_view_name": "StyleView",
            "_model_name": "DescriptionStyleModel",
            "description_width": "",
            "_view_module": "@jupyter-widgets/base",
            "_model_module_version": "1.5.0",
            "_view_count": null,
            "_view_module_version": "1.2.0",
            "_model_module": "@jupyter-widgets/controls"
          },
          "model_module_version": "1.5.0"
        },
        "0d64d88740c942838005be42b28dba94": {
          "model_module": "@jupyter-widgets/base",
          "model_name": "LayoutModel",
          "state": {
            "_view_name": "LayoutView",
            "grid_template_rows": null,
            "right": null,
            "justify_content": null,
            "_view_module": "@jupyter-widgets/base",
            "overflow": null,
            "_model_module_version": "1.2.0",
            "_view_count": null,
            "flex_flow": null,
            "width": null,
            "min_width": null,
            "border": null,
            "align_items": null,
            "bottom": null,
            "_model_module": "@jupyter-widgets/base",
            "top": null,
            "grid_column": null,
            "overflow_y": null,
            "overflow_x": null,
            "grid_auto_flow": null,
            "grid_area": null,
            "grid_template_columns": null,
            "flex": null,
            "_model_name": "LayoutModel",
            "justify_items": null,
            "grid_row": null,
            "max_height": null,
            "align_content": null,
            "visibility": null,
            "align_self": null,
            "height": null,
            "min_height": null,
            "padding": null,
            "grid_auto_rows": null,
            "grid_gap": null,
            "max_width": null,
            "order": null,
            "_view_module_version": "1.2.0",
            "grid_template_areas": null,
            "object_position": null,
            "object_fit": null,
            "grid_auto_columns": null,
            "margin": null,
            "display": null,
            "left": null
          },
          "model_module_version": "1.2.0"
        },
        "7de4d2b8aab2436991be18b56dcc4df2": {
          "model_module": "@jupyter-widgets/controls",
          "model_name": "HBoxModel",
          "state": {
            "_view_name": "HBoxView",
            "_dom_classes": [],
            "_model_name": "HBoxModel",
            "_view_module": "@jupyter-widgets/controls",
            "_model_module_version": "1.5.0",
            "_view_count": null,
            "_view_module_version": "1.5.0",
            "box_style": "",
            "layout": "IPY_MODEL_9cd259b7811245138368233864e16d6d",
            "_model_module": "@jupyter-widgets/controls",
            "children": [
              "IPY_MODEL_c003b701149c4652997ece3c5f2f9d15",
              "IPY_MODEL_26319c65a02644ad97ff35bc2cd75cf8"
            ]
          },
          "model_module_version": "1.5.0"
        },
        "9cd259b7811245138368233864e16d6d": {
          "model_module": "@jupyter-widgets/base",
          "model_name": "LayoutModel",
          "state": {
            "_view_name": "LayoutView",
            "grid_template_rows": null,
            "right": null,
            "justify_content": null,
            "_view_module": "@jupyter-widgets/base",
            "overflow": null,
            "_model_module_version": "1.2.0",
            "_view_count": null,
            "flex_flow": null,
            "width": null,
            "min_width": null,
            "border": null,
            "align_items": null,
            "bottom": null,
            "_model_module": "@jupyter-widgets/base",
            "top": null,
            "grid_column": null,
            "overflow_y": null,
            "overflow_x": null,
            "grid_auto_flow": null,
            "grid_area": null,
            "grid_template_columns": null,
            "flex": null,
            "_model_name": "LayoutModel",
            "justify_items": null,
            "grid_row": null,
            "max_height": null,
            "align_content": null,
            "visibility": null,
            "align_self": null,
            "height": null,
            "min_height": null,
            "padding": null,
            "grid_auto_rows": null,
            "grid_gap": null,
            "max_width": null,
            "order": null,
            "_view_module_version": "1.2.0",
            "grid_template_areas": null,
            "object_position": null,
            "object_fit": null,
            "grid_auto_columns": null,
            "margin": null,
            "display": null,
            "left": null
          },
          "model_module_version": "1.2.0"
        },
        "c003b701149c4652997ece3c5f2f9d15": {
          "model_module": "@jupyter-widgets/controls",
          "model_name": "FloatProgressModel",
          "state": {
            "_view_name": "ProgressView",
            "style": "IPY_MODEL_cd69de4644114375a94312a3fdaf0d08",
            "_dom_classes": [],
            "description": "100%",
            "_model_name": "FloatProgressModel",
            "bar_style": "success",
            "max": 30001,
            "_view_module": "@jupyter-widgets/controls",
            "_model_module_version": "1.5.0",
            "value": 30001,
            "_view_count": null,
            "_view_module_version": "1.5.0",
            "orientation": "horizontal",
            "min": 0,
            "description_tooltip": null,
            "_model_module": "@jupyter-widgets/controls",
            "layout": "IPY_MODEL_19552d4119674666a21d94bd68f367a2"
          },
          "model_module_version": "1.5.0"
        },
        "26319c65a02644ad97ff35bc2cd75cf8": {
          "model_module": "@jupyter-widgets/controls",
          "model_name": "HTMLModel",
          "state": {
            "_view_name": "HTMLView",
            "style": "IPY_MODEL_e5ff876a871343d2a419cdd58e7d6020",
            "_dom_classes": [],
            "description": "",
            "_model_name": "HTMLModel",
            "placeholder": "​",
            "_view_module": "@jupyter-widgets/controls",
            "_model_module_version": "1.5.0",
            "value": " 30001/30001 [00:08&lt;00:00, 3498.22it/s]",
            "_view_count": null,
            "_view_module_version": "1.5.0",
            "description_tooltip": null,
            "_model_module": "@jupyter-widgets/controls",
            "layout": "IPY_MODEL_a7d2b4a04f8547e1a5f669df4e1b751b"
          },
          "model_module_version": "1.5.0"
        },
        "cd69de4644114375a94312a3fdaf0d08": {
          "model_module": "@jupyter-widgets/controls",
          "model_name": "ProgressStyleModel",
          "state": {
            "_view_name": "StyleView",
            "_model_name": "ProgressStyleModel",
            "description_width": "initial",
            "_view_module": "@jupyter-widgets/base",
            "_model_module_version": "1.5.0",
            "_view_count": null,
            "_view_module_version": "1.2.0",
            "bar_color": null,
            "_model_module": "@jupyter-widgets/controls"
          },
          "model_module_version": "1.5.0"
        },
        "19552d4119674666a21d94bd68f367a2": {
          "model_module": "@jupyter-widgets/base",
          "model_name": "LayoutModel",
          "state": {
            "_view_name": "LayoutView",
            "grid_template_rows": null,
            "right": null,
            "justify_content": null,
            "_view_module": "@jupyter-widgets/base",
            "overflow": null,
            "_model_module_version": "1.2.0",
            "_view_count": null,
            "flex_flow": null,
            "width": null,
            "min_width": null,
            "border": null,
            "align_items": null,
            "bottom": null,
            "_model_module": "@jupyter-widgets/base",
            "top": null,
            "grid_column": null,
            "overflow_y": null,
            "overflow_x": null,
            "grid_auto_flow": null,
            "grid_area": null,
            "grid_template_columns": null,
            "flex": null,
            "_model_name": "LayoutModel",
            "justify_items": null,
            "grid_row": null,
            "max_height": null,
            "align_content": null,
            "visibility": null,
            "align_self": null,
            "height": null,
            "min_height": null,
            "padding": null,
            "grid_auto_rows": null,
            "grid_gap": null,
            "max_width": null,
            "order": null,
            "_view_module_version": "1.2.0",
            "grid_template_areas": null,
            "object_position": null,
            "object_fit": null,
            "grid_auto_columns": null,
            "margin": null,
            "display": null,
            "left": null
          },
          "model_module_version": "1.2.0"
        },
        "e5ff876a871343d2a419cdd58e7d6020": {
          "model_module": "@jupyter-widgets/controls",
          "model_name": "DescriptionStyleModel",
          "state": {
            "_view_name": "StyleView",
            "_model_name": "DescriptionStyleModel",
            "description_width": "",
            "_view_module": "@jupyter-widgets/base",
            "_model_module_version": "1.5.0",
            "_view_count": null,
            "_view_module_version": "1.2.0",
            "_model_module": "@jupyter-widgets/controls"
          },
          "model_module_version": "1.5.0"
        },
        "a7d2b4a04f8547e1a5f669df4e1b751b": {
          "model_module": "@jupyter-widgets/base",
          "model_name": "LayoutModel",
          "state": {
            "_view_name": "LayoutView",
            "grid_template_rows": null,
            "right": null,
            "justify_content": null,
            "_view_module": "@jupyter-widgets/base",
            "overflow": null,
            "_model_module_version": "1.2.0",
            "_view_count": null,
            "flex_flow": null,
            "width": null,
            "min_width": null,
            "border": null,
            "align_items": null,
            "bottom": null,
            "_model_module": "@jupyter-widgets/base",
            "top": null,
            "grid_column": null,
            "overflow_y": null,
            "overflow_x": null,
            "grid_auto_flow": null,
            "grid_area": null,
            "grid_template_columns": null,
            "flex": null,
            "_model_name": "LayoutModel",
            "justify_items": null,
            "grid_row": null,
            "max_height": null,
            "align_content": null,
            "visibility": null,
            "align_self": null,
            "height": null,
            "min_height": null,
            "padding": null,
            "grid_auto_rows": null,
            "grid_gap": null,
            "max_width": null,
            "order": null,
            "_view_module_version": "1.2.0",
            "grid_template_areas": null,
            "object_position": null,
            "object_fit": null,
            "grid_auto_columns": null,
            "margin": null,
            "display": null,
            "left": null
          },
          "model_module_version": "1.2.0"
        }
      }
    }
  },
  "cells": [
    {
      "cell_type": "markdown",
      "metadata": {
        "id": "view-in-github",
        "colab_type": "text"
      },
      "source": [
        "<a href=\"https://colab.research.google.com/github/VKSi/2020_12_GB_RecommendationSystems/blob/main/capstone_100.ipynb\" target=\"_parent\"><img src=\"https://colab.research.google.com/assets/colab-badge.svg\" alt=\"Open In Colab\"/></a>"
      ]
    },
    {
      "cell_type": "code",
      "metadata": {
        "colab": {
          "base_uri": "https://localhost:8080/"
        },
        "id": "IRuC63--F7sy",
        "outputId": "91fe12cb-eb5b-4164-e100-e625208f6ad5"
      },
      "source": [
        "!pip install implicit"
      ],
      "execution_count": null,
      "outputs": [
        {
          "output_type": "stream",
          "text": [
            "Collecting implicit\n",
            "\u001b[?25l  Downloading https://files.pythonhosted.org/packages/bc/07/c0121884722d16e2c5beeb815f6b84b41cbf22e738e4075f1475be2791bc/implicit-0.4.4.tar.gz (1.1MB)\n",
            "\r\u001b[K     |▎                               | 10kB 11.5MB/s eta 0:00:01\r\u001b[K     |▋                               | 20kB 17.0MB/s eta 0:00:01\r\u001b[K     |▉                               | 30kB 20.6MB/s eta 0:00:01\r\u001b[K     |█▏                              | 40kB 13.3MB/s eta 0:00:01\r\u001b[K     |█▌                              | 51kB 9.3MB/s eta 0:00:01\r\u001b[K     |█▊                              | 61kB 10.6MB/s eta 0:00:01\r\u001b[K     |██                              | 71kB 9.4MB/s eta 0:00:01\r\u001b[K     |██▍                             | 81kB 10.0MB/s eta 0:00:01\r\u001b[K     |██▋                             | 92kB 9.7MB/s eta 0:00:01\r\u001b[K     |███                             | 102kB 10.3MB/s eta 0:00:01\r\u001b[K     |███▎                            | 112kB 10.3MB/s eta 0:00:01\r\u001b[K     |███▌                            | 122kB 10.3MB/s eta 0:00:01\r\u001b[K     |███▉                            | 133kB 10.3MB/s eta 0:00:01\r\u001b[K     |████▏                           | 143kB 10.3MB/s eta 0:00:01\r\u001b[K     |████▍                           | 153kB 10.3MB/s eta 0:00:01\r\u001b[K     |████▊                           | 163kB 10.3MB/s eta 0:00:01\r\u001b[K     |█████                           | 174kB 10.3MB/s eta 0:00:01\r\u001b[K     |█████▎                          | 184kB 10.3MB/s eta 0:00:01\r\u001b[K     |█████▋                          | 194kB 10.3MB/s eta 0:00:01\r\u001b[K     |██████                          | 204kB 10.3MB/s eta 0:00:01\r\u001b[K     |██████▏                         | 215kB 10.3MB/s eta 0:00:01\r\u001b[K     |██████▌                         | 225kB 10.3MB/s eta 0:00:01\r\u001b[K     |██████▉                         | 235kB 10.3MB/s eta 0:00:01\r\u001b[K     |███████                         | 245kB 10.3MB/s eta 0:00:01\r\u001b[K     |███████▍                        | 256kB 10.3MB/s eta 0:00:01\r\u001b[K     |███████▊                        | 266kB 10.3MB/s eta 0:00:01\r\u001b[K     |████████                        | 276kB 10.3MB/s eta 0:00:01\r\u001b[K     |████████▎                       | 286kB 10.3MB/s eta 0:00:01\r\u001b[K     |████████▋                       | 296kB 10.3MB/s eta 0:00:01\r\u001b[K     |████████▉                       | 307kB 10.3MB/s eta 0:00:01\r\u001b[K     |█████████▏                      | 317kB 10.3MB/s eta 0:00:01\r\u001b[K     |█████████▌                      | 327kB 10.3MB/s eta 0:00:01\r\u001b[K     |█████████▊                      | 337kB 10.3MB/s eta 0:00:01\r\u001b[K     |██████████                      | 348kB 10.3MB/s eta 0:00:01\r\u001b[K     |██████████▍                     | 358kB 10.3MB/s eta 0:00:01\r\u001b[K     |██████████▋                     | 368kB 10.3MB/s eta 0:00:01\r\u001b[K     |███████████                     | 378kB 10.3MB/s eta 0:00:01\r\u001b[K     |███████████▏                    | 389kB 10.3MB/s eta 0:00:01\r\u001b[K     |███████████▌                    | 399kB 10.3MB/s eta 0:00:01\r\u001b[K     |███████████▉                    | 409kB 10.3MB/s eta 0:00:01\r\u001b[K     |████████████                    | 419kB 10.3MB/s eta 0:00:01\r\u001b[K     |████████████▍                   | 430kB 10.3MB/s eta 0:00:01\r\u001b[K     |████████████▊                   | 440kB 10.3MB/s eta 0:00:01\r\u001b[K     |█████████████                   | 450kB 10.3MB/s eta 0:00:01\r\u001b[K     |█████████████▎                  | 460kB 10.3MB/s eta 0:00:01\r\u001b[K     |█████████████▋                  | 471kB 10.3MB/s eta 0:00:01\r\u001b[K     |█████████████▉                  | 481kB 10.3MB/s eta 0:00:01\r\u001b[K     |██████████████▏                 | 491kB 10.3MB/s eta 0:00:01\r\u001b[K     |██████████████▌                 | 501kB 10.3MB/s eta 0:00:01\r\u001b[K     |██████████████▊                 | 512kB 10.3MB/s eta 0:00:01\r\u001b[K     |███████████████                 | 522kB 10.3MB/s eta 0:00:01\r\u001b[K     |███████████████▍                | 532kB 10.3MB/s eta 0:00:01\r\u001b[K     |███████████████▋                | 542kB 10.3MB/s eta 0:00:01\r\u001b[K     |████████████████                | 552kB 10.3MB/s eta 0:00:01\r\u001b[K     |████████████████▎               | 563kB 10.3MB/s eta 0:00:01\r\u001b[K     |████████████████▌               | 573kB 10.3MB/s eta 0:00:01\r\u001b[K     |████████████████▉               | 583kB 10.3MB/s eta 0:00:01\r\u001b[K     |█████████████████▏              | 593kB 10.3MB/s eta 0:00:01\r\u001b[K     |█████████████████▍              | 604kB 10.3MB/s eta 0:00:01\r\u001b[K     |█████████████████▊              | 614kB 10.3MB/s eta 0:00:01\r\u001b[K     |██████████████████              | 624kB 10.3MB/s eta 0:00:01\r\u001b[K     |██████████████████▎             | 634kB 10.3MB/s eta 0:00:01\r\u001b[K     |██████████████████▋             | 645kB 10.3MB/s eta 0:00:01\r\u001b[K     |███████████████████             | 655kB 10.3MB/s eta 0:00:01\r\u001b[K     |███████████████████▏            | 665kB 10.3MB/s eta 0:00:01\r\u001b[K     |███████████████████▌            | 675kB 10.3MB/s eta 0:00:01\r\u001b[K     |███████████████████▉            | 686kB 10.3MB/s eta 0:00:01\r\u001b[K     |████████████████████            | 696kB 10.3MB/s eta 0:00:01\r\u001b[K     |████████████████████▍           | 706kB 10.3MB/s eta 0:00:01\r\u001b[K     |████████████████████▊           | 716kB 10.3MB/s eta 0:00:01\r\u001b[K     |█████████████████████           | 727kB 10.3MB/s eta 0:00:01\r\u001b[K     |█████████████████████▎          | 737kB 10.3MB/s eta 0:00:01\r\u001b[K     |█████████████████████▋          | 747kB 10.3MB/s eta 0:00:01\r\u001b[K     |█████████████████████▉          | 757kB 10.3MB/s eta 0:00:01\r\u001b[K     |██████████████████████▏         | 768kB 10.3MB/s eta 0:00:01\r\u001b[K     |██████████████████████▍         | 778kB 10.3MB/s eta 0:00:01\r\u001b[K     |██████████████████████▊         | 788kB 10.3MB/s eta 0:00:01\r\u001b[K     |███████████████████████         | 798kB 10.3MB/s eta 0:00:01\r\u001b[K     |███████████████████████▎        | 808kB 10.3MB/s eta 0:00:01\r\u001b[K     |███████████████████████▋        | 819kB 10.3MB/s eta 0:00:01\r\u001b[K     |████████████████████████        | 829kB 10.3MB/s eta 0:00:01\r\u001b[K     |████████████████████████▏       | 839kB 10.3MB/s eta 0:00:01\r\u001b[K     |████████████████████████▌       | 849kB 10.3MB/s eta 0:00:01\r\u001b[K     |████████████████████████▉       | 860kB 10.3MB/s eta 0:00:01\r\u001b[K     |█████████████████████████       | 870kB 10.3MB/s eta 0:00:01\r\u001b[K     |█████████████████████████▍      | 880kB 10.3MB/s eta 0:00:01\r\u001b[K     |█████████████████████████▊      | 890kB 10.3MB/s eta 0:00:01\r\u001b[K     |██████████████████████████      | 901kB 10.3MB/s eta 0:00:01\r\u001b[K     |██████████████████████████▎     | 911kB 10.3MB/s eta 0:00:01\r\u001b[K     |██████████████████████████▋     | 921kB 10.3MB/s eta 0:00:01\r\u001b[K     |██████████████████████████▉     | 931kB 10.3MB/s eta 0:00:01\r\u001b[K     |███████████████████████████▏    | 942kB 10.3MB/s eta 0:00:01\r\u001b[K     |███████████████████████████▌    | 952kB 10.3MB/s eta 0:00:01\r\u001b[K     |███████████████████████████▊    | 962kB 10.3MB/s eta 0:00:01\r\u001b[K     |████████████████████████████    | 972kB 10.3MB/s eta 0:00:01\r\u001b[K     |████████████████████████████▍   | 983kB 10.3MB/s eta 0:00:01\r\u001b[K     |████████████████████████████▋   | 993kB 10.3MB/s eta 0:00:01\r\u001b[K     |█████████████████████████████   | 1.0MB 10.3MB/s eta 0:00:01\r\u001b[K     |█████████████████████████████▎  | 1.0MB 10.3MB/s eta 0:00:01\r\u001b[K     |█████████████████████████████▌  | 1.0MB 10.3MB/s eta 0:00:01\r\u001b[K     |█████████████████████████████▉  | 1.0MB 10.3MB/s eta 0:00:01\r\u001b[K     |██████████████████████████████▏ | 1.0MB 10.3MB/s eta 0:00:01\r\u001b[K     |██████████████████████████████▍ | 1.1MB 10.3MB/s eta 0:00:01\r\u001b[K     |██████████████████████████████▊ | 1.1MB 10.3MB/s eta 0:00:01\r\u001b[K     |███████████████████████████████ | 1.1MB 10.3MB/s eta 0:00:01\r\u001b[K     |███████████████████████████████▎| 1.1MB 10.3MB/s eta 0:00:01\r\u001b[K     |███████████████████████████████▋| 1.1MB 10.3MB/s eta 0:00:01\r\u001b[K     |████████████████████████████████| 1.1MB 10.3MB/s eta 0:00:01\r\u001b[K     |████████████████████████████████| 1.1MB 10.3MB/s \n",
            "\u001b[?25hRequirement already satisfied: numpy in /usr/local/lib/python3.6/dist-packages (from implicit) (1.19.4)\n",
            "Requirement already satisfied: scipy>=0.16 in /usr/local/lib/python3.6/dist-packages (from implicit) (1.4.1)\n",
            "Requirement already satisfied: tqdm>=4.27 in /usr/local/lib/python3.6/dist-packages (from implicit) (4.41.1)\n",
            "Building wheels for collected packages: implicit\n",
            "  Building wheel for implicit (setup.py) ... \u001b[?25l\u001b[?25hdone\n",
            "  Created wheel for implicit: filename=implicit-0.4.4-cp36-cp36m-linux_x86_64.whl size=3419433 sha256=813592279b4a4af59f302bcc7b80c284ad6783e1415ed442749949642254ef2d\n",
            "  Stored in directory: /root/.cache/pip/wheels/bf/d4/ec/fd4f622fcbefb7521f149905295b2c26adecb23af38aa28217\n",
            "Successfully built implicit\n",
            "Installing collected packages: implicit\n",
            "Successfully installed implicit-0.4.4\n"
          ],
          "name": "stdout"
        }
      ]
    },
    {
      "cell_type": "code",
      "metadata": {
        "id": "FpMxjHRJFAP5"
      },
      "source": [
        "import pandas as pd\n",
        "import numpy as np\n",
        "import pickle\n",
        "import matplotlib.pyplot as plt\n",
        "%matplotlib inline\n",
        "\n",
        "# Для работы с матрицами\n",
        "from scipy.sparse import csr_matrix\n",
        "\n",
        "# Матричная факторизация\n",
        "from implicit import als\n",
        "\n",
        "# Модель второго уровня\n",
        "from lightgbm import LGBMClassifier\n"
      ],
      "execution_count": null,
      "outputs": []
    },
    {
      "cell_type": "code",
      "metadata": {
        "colab": {
          "base_uri": "https://localhost:8080/"
        },
        "id": "WbQWLW2pFO31",
        "outputId": "20c13154-6a23-4922-893a-ec21e7fba0cc"
      },
      "source": [
        "from google.colab import drive\n",
        "drive.mount('/content/gdrive')"
      ],
      "execution_count": null,
      "outputs": [
        {
          "output_type": "stream",
          "text": [
            "Mounted at /content/gdrive\n"
          ],
          "name": "stdout"
        }
      ]
    },
    {
      "cell_type": "code",
      "metadata": {
        "id": "EjMN8jk-FT5n"
      },
      "source": [
        "PATH = 'gdrive/My Drive/AI/GB/RecSys/capstone/'\n",
        "OBJECTS_PATH = PATH + 'objects/'\n",
        "DATA_PATH = PATH + 'raw_data/'"
      ],
      "execution_count": null,
      "outputs": []
    },
    {
      "cell_type": "code",
      "metadata": {
        "id": "ambws3oGxzHp"
      },
      "source": [
        "def save_obj(obj, name: str):\n",
        "    path = OBJECTS_PATH + name + '.pkl'\n",
        "    with open(path, 'wb') as f:\n",
        "        pickle.dump(obj, f, pickle.HIGHEST_PROTOCOL)\n",
        "    return path\n",
        "\n",
        "def load_obj(name: str):\n",
        "    with open(OBJECTS_PATH + name + '.pkl', 'rb') as f:\n",
        "        return pickle.load(f)"
      ],
      "execution_count": null,
      "outputs": []
    },
    {
      "cell_type": "code",
      "metadata": {
        "id": "DyIDwND2GGCM"
      },
      "source": [
        "# Функции из модуля metrics\n",
        "def precision(recommended_list, bought_list):\n",
        "    bought_list = np.array(bought_list)\n",
        "    recommended_list = np.array(recommended_list)\n",
        "\n",
        "    flags = np.isin(bought_list, recommended_list)\n",
        "\n",
        "    precision = flags.sum() / len(recommended_list)\n",
        "\n",
        "    return precision\n",
        "\n",
        "\n",
        "def precision_at_k(recommended_list, bought_list, k=5):\n",
        "    bought_list = np.array(bought_list)\n",
        "    recommended_list = np.array(recommended_list)\n",
        "    \n",
        "\n",
        "    bought_list = bought_list  # Тут нет [:k] !!\n",
        "    \n",
        "    if k < len(recommended_list):\n",
        "        recommended_list = recommended_list[:k]\n",
        "\n",
        "    flags = np.isin(bought_list, recommended_list)\n",
        "\n",
        "    precision = flags.sum() / len(recommended_list)\n",
        "\n",
        "    return precision\n",
        "\n",
        "\n",
        "def money_precision_at_k(recommended_list, bought_list, prices_recommended, k=5):\n",
        "    # your_code\n",
        "    # Лучше считать через скалярное произведение, а не цикл\n",
        "\n",
        "    return precision\n",
        "\n",
        "\n",
        "def recall(recommended_list, bought_list):\n",
        "    bought_list = np.array(bought_list)\n",
        "    recommended_list = np.array(recommended_list)\n",
        "\n",
        "    flags = np.isin(bought_list, recommended_list)\n",
        "\n",
        "    recall = flags.sum() / len(bought_list)\n",
        "\n",
        "    return recall\n",
        "\n",
        "\n",
        "def recall_at_k(recommended_list, bought_list, k=5):\n",
        "\n",
        "    bought_list = np.array(bought_list)\n",
        "    recommended_list = np.array(recommended_list)\n",
        "\n",
        "    if k < len(recommended_list):\n",
        "        recommended_list = recommended_list[:k]\n",
        "\n",
        "    flags = np.isin(bought_list, recommended_list)\n",
        "    recall = flags.sum() / len(bought_list)\n",
        "\n",
        "    return recall\n",
        "\n",
        "\n",
        "def money_recall_at_k(recommended_list, bought_list, prices_recommended, prices_bought, k=5):\n",
        "    # your_code\n",
        "\n",
        "    return recall"
      ],
      "execution_count": null,
      "outputs": []
    },
    {
      "cell_type": "code",
      "metadata": {
        "id": "LBDGYSkZG9V6"
      },
      "source": [
        "# Функции из модуля utils\n",
        "\n",
        "def prefilter_items(data, take_n_popular=5000, item_features=None):\n",
        "    # Уберем самые популярные товары (их и так купят)\n",
        "    popularity = data.groupby('item_id')['user_id'].nunique().reset_index() / data['user_id'].nunique()\n",
        "    popularity.rename(columns={'user_id': 'share_unique_users'}, inplace=True)\n",
        "\n",
        "    top_popular = popularity[popularity['share_unique_users'] > 0.2].item_id.tolist()\n",
        "    # data = data[~data['item_id'].isin(top_popular)]                                                 # !!! НЕ ДЕЛАЕМ !!! \n",
        "\n",
        "    # Уберем самые НЕ популярные товары (их и так НЕ купят)\n",
        "    top_notpopular = popularity[popularity['share_unique_users'] < 0.02].item_id.tolist()\n",
        "    # data = data[~data['item_id'].isin(top_notpopular)]                                                 # !!! НЕ ДЕЛАЕМ !!!\n",
        "\n",
        "    # Уберем товары, которые не продавались за последние 12 месяцев\n",
        "\n",
        "    # Уберем не интересные для рекоммендаций категории (department)\n",
        "    if item_features is not None:\n",
        "        department_size = pd.DataFrame(item_features.\\\n",
        "                                        groupby('department')['item_id'].nunique().\\\n",
        "                                        sort_values(ascending=False)).reset_index()\n",
        "\n",
        "        department_size.columns = ['department', 'n_items']\n",
        "        rare_departments = department_size[department_size['n_items'] < 150].department.tolist()\n",
        "        items_in_rare_departments = item_features[item_features['department'].isin(rare_departments)].item_id.unique().tolist()\n",
        "\n",
        "        # data = data[~data['item_id'].isin(items_in_rare_departments)]                                                 # !!! НЕ ДЕЛАЕМ !!!\n",
        "\n",
        "\n",
        "    # Уберем слишком дешевые товары (на них не заработаем). 1 покупка из рассылок стоит 60 руб.\n",
        "    data['price'] = data['sales_value'] / (np.maximum(data['quantity'], 1))\n",
        "    # data = data[data['price'] > 2]                                                 # !!! НЕ ДЕЛАЕМ !!!\n",
        "\n",
        "    # Уберем слишком дорогие товарыs\n",
        "    data = data[data['price'] < 50]\n",
        "\n",
        "    # Возбмем топ по популярности\n",
        "    popularity = data.groupby('item_id')['quantity'].sum().reset_index()\n",
        "    popularity.rename(columns={'quantity': 'n_sold'}, inplace=True)\n",
        "\n",
        "    top = popularity.sort_values('n_sold', ascending=False).head(take_n_popular).item_id.tolist()\n",
        "    \n",
        "    # Заведем фиктивный item_id (если юзер не покупал товары из топ-5000, то он \"купил\" такой товар)\n",
        "    data.loc[~data['item_id'].isin(top), 'item_id'] = 999999\n",
        "    \n",
        "    # ...\n",
        "\n",
        "    return data\n",
        "\n",
        "\n",
        "def postfilter_items(user_id, recommednations):\n",
        "    pass"
      ],
      "execution_count": null,
      "outputs": []
    },
    {
      "cell_type": "code",
      "metadata": {
        "id": "5P5fHMMuHVmJ"
      },
      "source": [
        "# Функции из модуля recommenders\n",
        "\n",
        "import pandas as pd\n",
        "import numpy as np\n",
        "\n",
        "# Для работы с матрицами\n",
        "from scipy.sparse import csr_matrix\n",
        "\n",
        "# Матричная факторизация\n",
        "from implicit.als import AlternatingLeastSquares\n",
        "from implicit.nearest_neighbours import ItemItemRecommender  # нужен для одного трюка\n",
        "from implicit.nearest_neighbours import bm25_weight, tfidf_weight\n",
        "\n",
        "class MainRecommender:\n",
        "    \"\"\"Рекоммендации, которые можно получить из ALS\n",
        "\n",
        "    Input\n",
        "    -----\n",
        "    user_item_matrix: pd.DataFrame\n",
        "        Матрица взаимодействий user-item\n",
        "    \"\"\"\n",
        "\n",
        "    def __init__(self, data, weighting=True):\n",
        "\n",
        "        # Топ покупок каждого юзера\n",
        "        self.top_purchases = data.groupby(['user_id', 'item_id'])['quantity'].count().reset_index()\n",
        "        self.top_purchases.sort_values('quantity', ascending=False, inplace=True)\n",
        "        self.top_purchases = self.top_purchases[self.top_purchases['item_id'] != 999999]\n",
        "\n",
        "        # Топ покупок по всему датасету\n",
        "        self.overall_top_purchases = data.groupby('item_id')['quantity'].count().reset_index()\n",
        "        self.overall_top_purchases.sort_values('quantity', ascending=False, inplace=True)\n",
        "        self.overall_top_purchases = self.overall_top_purchases[self.overall_top_purchases['item_id'] != 999999]\n",
        "        self.overall_top_purchases = self.overall_top_purchases.item_id.tolist()\n",
        "\n",
        "        self.user_item_matrix = self._prepare_matrix(data)  # pd.DataFrame\n",
        "        self.id_to_itemid, self.id_to_userid, \\\n",
        "            self.itemid_to_id, self.userid_to_id = self._prepare_dicts(self.user_item_matrix)\n",
        "\n",
        "        if weighting:\n",
        "            self.user_item_matrix = bm25_weight(self.user_item_matrix.T).T\n",
        "\n",
        "        self.model = self.fit(self.user_item_matrix)\n",
        "        self.own_recommender = self.fit_own_recommender(self.user_item_matrix)\n",
        "\n",
        "    @staticmethod\n",
        "    def _prepare_matrix(data):\n",
        "        \"\"\"Готовит user-item матрицу\"\"\"\n",
        "        user_item_matrix = pd.pivot_table(data,\n",
        "                                          index='user_id', columns='item_id',\n",
        "                                          values='quantity',  # Можно пробовать другие варианты\n",
        "                                          aggfunc='count',\n",
        "                                          fill_value=0\n",
        "                                          )\n",
        "\n",
        "        user_item_matrix = user_item_matrix.astype(float)  # необходимый тип матрицы для implicit\n",
        "\n",
        "        return user_item_matrix\n",
        "\n",
        "    @staticmethod\n",
        "    def _prepare_dicts(user_item_matrix):\n",
        "        \"\"\"Подготавливает вспомогательные словари\"\"\"\n",
        "\n",
        "        userids = user_item_matrix.index.values\n",
        "        itemids = user_item_matrix.columns.values\n",
        "\n",
        "        matrix_userids = np.arange(len(userids))\n",
        "        matrix_itemids = np.arange(len(itemids))\n",
        "\n",
        "        id_to_itemid = dict(zip(matrix_itemids, itemids))\n",
        "        id_to_userid = dict(zip(matrix_userids, userids))\n",
        "\n",
        "        itemid_to_id = dict(zip(itemids, matrix_itemids))\n",
        "        userid_to_id = dict(zip(userids, matrix_userids))\n",
        "\n",
        "        return id_to_itemid, id_to_userid, itemid_to_id, userid_to_id\n",
        "\n",
        "    @staticmethod\n",
        "    def fit_own_recommender(user_item_matrix):\n",
        "        \"\"\"Обучает модель, которая рекомендует товары, среди товаров, купленных юзером\"\"\"\n",
        "\n",
        "        own_recommender = ItemItemRecommender(K=1, num_threads=4)\n",
        "        own_recommender.fit(csr_matrix(user_item_matrix).T.tocsr())\n",
        "\n",
        "        return own_recommender\n",
        "\n",
        "    @staticmethod\n",
        "    def fit(user_item_matrix, n_factors=20, regularization=0.001, iterations=15, num_threads=4):\n",
        "        \"\"\"Обучает ALS\"\"\"\n",
        "\n",
        "        model = AlternatingLeastSquares(factors=n_factors,\n",
        "                                        regularization=regularization,\n",
        "                                        iterations=iterations,\n",
        "                                        num_threads=num_threads,\n",
        "                                        use_gpu=False)  # Добавлено, чтобы избежать ошибки с CUDA\n",
        "        model.fit(csr_matrix(user_item_matrix).T.tocsr())\n",
        "\n",
        "        return model\n",
        "\n",
        "    def _update_dict(self, user_id):\n",
        "        \"\"\"Если появился новыю user / item, то нужно обновить словари\"\"\"\n",
        "\n",
        "        if user_id not in self.userid_to_id.keys():\n",
        "\n",
        "            max_id = max(list(self.userid_to_id.values()))\n",
        "            max_id += 1\n",
        "\n",
        "            self.userid_to_id.update({user_id: max_id})\n",
        "            self.id_to_userid.update({max_id: user_id})\n",
        "\n",
        "    def _get_similar_item(self, item_id):\n",
        "        \"\"\"Находит товар, похожий на item_id\"\"\"\n",
        "        recs = self.model.similar_items(self.itemid_to_id[item_id], N=2)  # Товар похож на себя -> рекомендуем 2 товара\n",
        "        top_rec = recs[1][0]  # И берем второй (не товар из аргумента метода)\n",
        "        return self.id_to_itemid[top_rec]\n",
        "\n",
        "    def _extend_with_top_popular(self, recommendations, N=5):\n",
        "        \"\"\"Если кол-во рекоммендаций < N, то дополняем их топ-популярными\"\"\"\n",
        "\n",
        "        if len(recommendations) < N:\n",
        "            recommendations.extend(self.overall_top_purchases[:N])\n",
        "            recommendations = recommendations[:N]\n",
        "\n",
        "        return recommendations\n",
        "\n",
        "    def _get_recommendations(self, user, model, N=5):\n",
        "        \"\"\"Рекомендации через стардартные библиотеки implicit\"\"\"\n",
        "\n",
        "        self._update_dict(user_id=user)\n",
        "        res = [self.id_to_itemid[rec[0]] for rec in model.recommend(userid=self.userid_to_id[user],\n",
        "                                        user_items=csr_matrix(self.user_item_matrix).tocsr(),\n",
        "                                        N=N,\n",
        "                                        filter_already_liked_items=False,\n",
        "                                        filter_items=[self.itemid_to_id[999999]],\n",
        "                                        recalculate_user=True)]\n",
        "\n",
        "        res = self._extend_with_top_popular(res, N=N)\n",
        "\n",
        "        assert len(res) == N, 'Количество рекомендаций != {}'.format(N)\n",
        "        return res\n",
        "\n",
        "    def get_als_recommendations(self, user, N=5):\n",
        "        \"\"\"Рекомендации через стардартные библиотеки implicit\"\"\"\n",
        "\n",
        "        self._update_dict(user_id=user)\n",
        "        return self._get_recommendations(user, model=self.model, N=N)\n",
        "\n",
        "    def get_own_recommendations(self, user, N=5):\n",
        "        \"\"\"Рекомендуем товары среди тех, которые юзер уже купил\"\"\"\n",
        "\n",
        "        self._update_dict(user_id=user)\n",
        "        return self._get_recommendations(user, model=self.own_recommender, N=N)\n",
        "\n",
        "    def get_similar_items_recommendations(self, user, N=5):\n",
        "        \"\"\"Рекомендуем товары, похожие на топ-N купленных юзером товаров\"\"\"\n",
        "\n",
        "        top_users_purchases = self.top_purchases[self.top_purchases['user_id'] == user].head(N)\n",
        "\n",
        "        res = top_users_purchases['item_id'].apply(lambda x: self._get_similar_item(x)).tolist()\n",
        "        res = self._extend_with_top_popular(res, N=N)\n",
        "\n",
        "        assert len(res) == N, 'Количество рекомендаций != {}'.format(N)\n",
        "        return res\n",
        "\n",
        "    def get_similar_users_recommendations(self, user, N=5):\n",
        "        \"\"\"Рекомендуем топ-N товаров, среди купленных похожими юзерами\"\"\"\n",
        "\n",
        "        res = []\n",
        "\n",
        "        # Находим топ-N похожих пользователей\n",
        "        similar_users = self.model.similar_users(self.userid_to_id[user], N=N+1)\n",
        "        similar_users = [rec[0] for rec in similar_users]\n",
        "        similar_users = similar_users[1:]   # удалим юзера из запроса\n",
        "\n",
        "        for user in similar_users:\n",
        "            res.extend(self.get_own_recommendations(user, N=1))\n",
        "\n",
        "        res = self._extend_with_top_popular(res, N=N)\n",
        "\n",
        "        assert len(res) == N, 'Количество рекомендаций != {}'.format(N)\n",
        "        return res"
      ],
      "execution_count": null,
      "outputs": []
    },
    {
      "cell_type": "code",
      "metadata": {
        "id": "EHgW62xXFAP6"
      },
      "source": [
        "data = pd.read_csv(DATA_PATH + 'retail_train.csv')\n",
        "data_lb = pd.read_csv(DATA_PATH + 'retail_test1.csv')\n",
        "\n",
        "item_features = pd.read_csv(DATA_PATH + 'product.csv')\n",
        "user_features = pd.read_csv(DATA_PATH + 'hh_demographic.csv')\n",
        "\n",
        "# column processing\n",
        "item_features.columns = [col.lower() for col in item_features.columns]\n",
        "user_features.columns = [col.lower() for col in user_features.columns]\n",
        "\n",
        "item_features.rename(columns={'product_id': 'item_id'}, inplace=True)\n",
        "user_features.rename(columns={'household_key': 'user_id'}, inplace=True)\n"
      ],
      "execution_count": null,
      "outputs": []
    },
    {
      "cell_type": "code",
      "metadata": {
        "colab": {
          "base_uri": "https://localhost:8080/",
          "height": 106
        },
        "id": "cEwO2QmBzVPt",
        "outputId": "d0bcbda9-efdb-46f4-eb96-0920bdd3bfee"
      },
      "source": [
        "# !!! Разбивка сделана не так как в методичке !!! В части data_val_lvl_1 взят весь остаток, data_train_lvl_2 считается отдельно\n",
        "\n",
        "val_lvl_1_size_weeks = 6\n",
        "val_lvl_2_size_weeks = 3\n",
        "\n",
        "data_train_lvl_1 = data[data['week_no'] < data['week_no'].max() - (val_lvl_1_size_weeks + val_lvl_2_size_weeks)]\n",
        "data_val_lvl_1 = data[data['week_no'] >= data['week_no'].max() - (val_lvl_1_size_weeks + val_lvl_2_size_weeks)]\n",
        "\n",
        "data_train_lvl_2 = data[(data['week_no'] >= data['week_no'].max() - (val_lvl_1_size_weeks + val_lvl_2_size_weeks)) &\n",
        "                      (data['week_no'] < data['week_no'].max() - (val_lvl_2_size_weeks))]\n",
        "data_val_lvl_2 = data[data['week_no'] >= data['week_no'].max() - val_lvl_2_size_weeks]\n",
        "\n",
        "data_train_lvl_1.head(2)\n"
      ],
      "execution_count": null,
      "outputs": [
        {
          "output_type": "execute_result",
          "data": {
            "text/html": [
              "<div>\n",
              "<style scoped>\n",
              "    .dataframe tbody tr th:only-of-type {\n",
              "        vertical-align: middle;\n",
              "    }\n",
              "\n",
              "    .dataframe tbody tr th {\n",
              "        vertical-align: top;\n",
              "    }\n",
              "\n",
              "    .dataframe thead th {\n",
              "        text-align: right;\n",
              "    }\n",
              "</style>\n",
              "<table border=\"1\" class=\"dataframe\">\n",
              "  <thead>\n",
              "    <tr style=\"text-align: right;\">\n",
              "      <th></th>\n",
              "      <th>user_id</th>\n",
              "      <th>basket_id</th>\n",
              "      <th>day</th>\n",
              "      <th>item_id</th>\n",
              "      <th>quantity</th>\n",
              "      <th>sales_value</th>\n",
              "      <th>store_id</th>\n",
              "      <th>retail_disc</th>\n",
              "      <th>trans_time</th>\n",
              "      <th>week_no</th>\n",
              "      <th>coupon_disc</th>\n",
              "      <th>coupon_match_disc</th>\n",
              "    </tr>\n",
              "  </thead>\n",
              "  <tbody>\n",
              "    <tr>\n",
              "      <th>0</th>\n",
              "      <td>2375</td>\n",
              "      <td>26984851472</td>\n",
              "      <td>1</td>\n",
              "      <td>1004906</td>\n",
              "      <td>1</td>\n",
              "      <td>1.39</td>\n",
              "      <td>364</td>\n",
              "      <td>-0.6</td>\n",
              "      <td>1631</td>\n",
              "      <td>1</td>\n",
              "      <td>0.0</td>\n",
              "      <td>0.0</td>\n",
              "    </tr>\n",
              "    <tr>\n",
              "      <th>1</th>\n",
              "      <td>2375</td>\n",
              "      <td>26984851472</td>\n",
              "      <td>1</td>\n",
              "      <td>1033142</td>\n",
              "      <td>1</td>\n",
              "      <td>0.82</td>\n",
              "      <td>364</td>\n",
              "      <td>0.0</td>\n",
              "      <td>1631</td>\n",
              "      <td>1</td>\n",
              "      <td>0.0</td>\n",
              "      <td>0.0</td>\n",
              "    </tr>\n",
              "  </tbody>\n",
              "</table>\n",
              "</div>"
            ],
            "text/plain": [
              "   user_id    basket_id  day  ...  week_no  coupon_disc  coupon_match_disc\n",
              "0     2375  26984851472    1  ...        1          0.0                0.0\n",
              "1     2375  26984851472    1  ...        1          0.0                0.0\n",
              "\n",
              "[2 rows x 12 columns]"
            ]
          },
          "metadata": {
            "tags": []
          },
          "execution_count": 11
        }
      ]
    },
    {
      "cell_type": "markdown",
      "metadata": {
        "id": "9SKF2XpwDWlp"
      },
      "source": [
        "Посмотрим на тестовые (лидерборд) данные"
      ]
    },
    {
      "cell_type": "code",
      "metadata": {
        "colab": {
          "base_uri": "https://localhost:8080/",
          "height": 195
        },
        "id": "jKjVipqkDP8F",
        "outputId": "05259e5f-9eb2-4fd0-85d8-024a0a89abc7"
      },
      "source": [
        "data_lb.head()"
      ],
      "execution_count": null,
      "outputs": [
        {
          "output_type": "execute_result",
          "data": {
            "text/html": [
              "<div>\n",
              "<style scoped>\n",
              "    .dataframe tbody tr th:only-of-type {\n",
              "        vertical-align: middle;\n",
              "    }\n",
              "\n",
              "    .dataframe tbody tr th {\n",
              "        vertical-align: top;\n",
              "    }\n",
              "\n",
              "    .dataframe thead th {\n",
              "        text-align: right;\n",
              "    }\n",
              "</style>\n",
              "<table border=\"1\" class=\"dataframe\">\n",
              "  <thead>\n",
              "    <tr style=\"text-align: right;\">\n",
              "      <th></th>\n",
              "      <th>user_id</th>\n",
              "      <th>basket_id</th>\n",
              "      <th>day</th>\n",
              "      <th>item_id</th>\n",
              "      <th>quantity</th>\n",
              "      <th>sales_value</th>\n",
              "      <th>store_id</th>\n",
              "      <th>retail_disc</th>\n",
              "      <th>trans_time</th>\n",
              "      <th>week_no</th>\n",
              "      <th>coupon_disc</th>\n",
              "      <th>coupon_match_disc</th>\n",
              "    </tr>\n",
              "  </thead>\n",
              "  <tbody>\n",
              "    <tr>\n",
              "      <th>0</th>\n",
              "      <td>1340</td>\n",
              "      <td>41652823310</td>\n",
              "      <td>664</td>\n",
              "      <td>912987</td>\n",
              "      <td>1</td>\n",
              "      <td>8.49</td>\n",
              "      <td>446</td>\n",
              "      <td>0.0</td>\n",
              "      <td>52</td>\n",
              "      <td>96</td>\n",
              "      <td>0.0</td>\n",
              "      <td>0.0</td>\n",
              "    </tr>\n",
              "    <tr>\n",
              "      <th>1</th>\n",
              "      <td>588</td>\n",
              "      <td>41652838477</td>\n",
              "      <td>664</td>\n",
              "      <td>1024426</td>\n",
              "      <td>1</td>\n",
              "      <td>6.29</td>\n",
              "      <td>388</td>\n",
              "      <td>0.0</td>\n",
              "      <td>8</td>\n",
              "      <td>96</td>\n",
              "      <td>0.0</td>\n",
              "      <td>0.0</td>\n",
              "    </tr>\n",
              "    <tr>\n",
              "      <th>2</th>\n",
              "      <td>2070</td>\n",
              "      <td>41652857291</td>\n",
              "      <td>664</td>\n",
              "      <td>995242</td>\n",
              "      <td>5</td>\n",
              "      <td>9.10</td>\n",
              "      <td>311</td>\n",
              "      <td>-0.6</td>\n",
              "      <td>46</td>\n",
              "      <td>96</td>\n",
              "      <td>0.0</td>\n",
              "      <td>0.0</td>\n",
              "    </tr>\n",
              "    <tr>\n",
              "      <th>3</th>\n",
              "      <td>1602</td>\n",
              "      <td>41665647035</td>\n",
              "      <td>664</td>\n",
              "      <td>827939</td>\n",
              "      <td>1</td>\n",
              "      <td>7.99</td>\n",
              "      <td>334</td>\n",
              "      <td>0.0</td>\n",
              "      <td>1741</td>\n",
              "      <td>96</td>\n",
              "      <td>0.0</td>\n",
              "      <td>0.0</td>\n",
              "    </tr>\n",
              "    <tr>\n",
              "      <th>4</th>\n",
              "      <td>1602</td>\n",
              "      <td>41665647035</td>\n",
              "      <td>664</td>\n",
              "      <td>927712</td>\n",
              "      <td>1</td>\n",
              "      <td>0.59</td>\n",
              "      <td>334</td>\n",
              "      <td>-0.4</td>\n",
              "      <td>1741</td>\n",
              "      <td>96</td>\n",
              "      <td>0.0</td>\n",
              "      <td>0.0</td>\n",
              "    </tr>\n",
              "  </tbody>\n",
              "</table>\n",
              "</div>"
            ],
            "text/plain": [
              "   user_id    basket_id  day  ...  week_no  coupon_disc  coupon_match_disc\n",
              "0     1340  41652823310  664  ...       96          0.0                0.0\n",
              "1      588  41652838477  664  ...       96          0.0                0.0\n",
              "2     2070  41652857291  664  ...       96          0.0                0.0\n",
              "3     1602  41665647035  664  ...       96          0.0                0.0\n",
              "4     1602  41665647035  664  ...       96          0.0                0.0\n",
              "\n",
              "[5 rows x 12 columns]"
            ]
          },
          "metadata": {
            "tags": []
          },
          "execution_count": 12
        }
      ]
    },
    {
      "cell_type": "code",
      "metadata": {
        "colab": {
          "base_uri": "https://localhost:8080/"
        },
        "id": "NZwD4bJZEoGB",
        "outputId": "51ea95d1-9612-4737-baa7-52fe163a6e2f"
      },
      "source": [
        "users_t = set(data['user_id'].unique())\n",
        "userd_lb = set(data_lb['user_id'].unique())\n",
        "new_users = userd_lb - users_t\n",
        "print(f'users_t: {len(users_t)}')\n",
        "print(f'userd_lb: {len(userd_lb)}')\n",
        "print(f'new_users: {len(new_users)}')\n",
        "print(new_users)"
      ],
      "execution_count": null,
      "outputs": [
        {
          "output_type": "stream",
          "text": [
            "users_t: 2499\n",
            "userd_lb: 1885\n",
            "new_users: 1\n",
            "{2325}\n"
          ],
          "name": "stdout"
        }
      ]
    },
    {
      "cell_type": "code",
      "metadata": {
        "colab": {
          "base_uri": "https://localhost:8080/"
        },
        "id": "VFXsHn3cEA8-",
        "outputId": "5b4faf7a-a6e8-45c8-e3ba-db88818c05af"
      },
      "source": [
        "train_users = set(data_train_lvl_1['user_id'].unique())\n",
        "userd_lb = set(data_lb['user_id'].unique())\n",
        "new_users = userd_lb - train_users\n",
        "print(f'train_users: {len(train_users)}')\n",
        "print(f'userd_lb: {len(userd_lb)}')\n",
        "print(f'new_users: {len(new_users)}')\n",
        "print(new_users)"
      ],
      "execution_count": null,
      "outputs": [
        {
          "output_type": "stream",
          "text": [
            "train_users: 2498\n",
            "userd_lb: 1885\n",
            "new_users: 1\n",
            "{2325}\n"
          ],
          "name": "stdout"
        }
      ]
    },
    {
      "cell_type": "markdown",
      "metadata": {
        "id": "Pf21cgr7E7Lg"
      },
      "source": [
        "То есть в сете для оценки у нас только один новый юзер 2325"
      ]
    },
    {
      "cell_type": "code",
      "metadata": {
        "colab": {
          "base_uri": "https://localhost:8080/"
        },
        "id": "JlcVZhHi8GwD",
        "outputId": "b2fe597e-cf03-4de2-99b7-5c145cddff86"
      },
      "source": [
        "data.week_no.max()"
      ],
      "execution_count": null,
      "outputs": [
        {
          "output_type": "execute_result",
          "data": {
            "text/plain": [
              "95"
            ]
          },
          "metadata": {
            "tags": []
          },
          "execution_count": 16
        }
      ]
    },
    {
      "cell_type": "code",
      "metadata": {
        "colab": {
          "base_uri": "https://localhost:8080/"
        },
        "id": "bjRHfo_y8R5V",
        "outputId": "10336a0b-102d-4c89-c30d-396d1530b4fb"
      },
      "source": [
        "data_lb.week_no.max()"
      ],
      "execution_count": null,
      "outputs": [
        {
          "output_type": "execute_result",
          "data": {
            "text/plain": [
              "98"
            ]
          },
          "metadata": {
            "tags": []
          },
          "execution_count": 17
        }
      ]
    },
    {
      "cell_type": "markdown",
      "metadata": {
        "id": "jgqUVKB48agz"
      },
      "source": [
        "Данные на лидерборде содержат 3 недели покупок"
      ]
    },
    {
      "cell_type": "markdown",
      "metadata": {
        "id": "MP6xEyEuzPBO"
      },
      "source": [
        "Сделаем модель минимальным предварительным фильтром (см код фильтра в классе)"
      ]
    },
    {
      "cell_type": "code",
      "metadata": {
        "colab": {
          "base_uri": "https://localhost:8080/"
        },
        "id": "dfBX4J71BwmH",
        "outputId": "42e492b9-4a71-4b76-b37a-cc3604c0b6b5"
      },
      "source": [
        "train_users = set(data_train_lvl_1['user_id'].unique())\n",
        "val_users = set(data_val_lvl_1['user_id'].unique())\n",
        "new_users = val_users - train_users\n",
        "print(f'train_users: {len(train_users)}')\n",
        "print(f'val_users: {len(val_users)}')\n",
        "print(f'new_users: {len(new_users)}')"
      ],
      "execution_count": null,
      "outputs": [
        {
          "output_type": "stream",
          "text": [
            "train_users: 2498\n",
            "val_users: 2280\n",
            "new_users: 1\n"
          ],
          "name": "stdout"
        }
      ]
    },
    {
      "cell_type": "code",
      "metadata": {
        "colab": {
          "base_uri": "https://localhost:8080/"
        },
        "id": "Cf_H65Z5FAP7",
        "outputId": "b998b854-8352-4414-906d-65149ff5b2c9"
      },
      "source": [
        "n_items_before = data_train_lvl_1['item_id'].nunique()\n",
        "\n",
        "data_train_lvl_1 = prefilter_items(data_train_lvl_1, item_features=item_features, take_n_popular=30000)\n",
        "\n",
        "n_items_after = data_train_lvl_1['item_id'].nunique()\n",
        "print('Decreased # items from {} to {}'.format(n_items_before, n_items_after))"
      ],
      "execution_count": null,
      "outputs": [
        {
          "output_type": "stream",
          "text": [
            "/usr/local/lib/python3.6/dist-packages/ipykernel_launcher.py:29: SettingWithCopyWarning: \n",
            "A value is trying to be set on a copy of a slice from a DataFrame.\n",
            "Try using .loc[row_indexer,col_indexer] = value instead\n",
            "\n",
            "See the caveats in the documentation: https://pandas.pydata.org/pandas-docs/stable/user_guide/indexing.html#returning-a-view-versus-a-copy\n"
          ],
          "name": "stderr"
        },
        {
          "output_type": "stream",
          "text": [
            "Decreased # items from 83685 to 30001\n"
          ],
          "name": "stdout"
        },
        {
          "output_type": "stream",
          "text": [
            "/usr/local/lib/python3.6/dist-packages/pandas/core/indexing.py:1763: SettingWithCopyWarning: \n",
            "A value is trying to be set on a copy of a slice from a DataFrame.\n",
            "Try using .loc[row_indexer,col_indexer] = value instead\n",
            "\n",
            "See the caveats in the documentation: https://pandas.pydata.org/pandas-docs/stable/user_guide/indexing.html#returning-a-view-versus-a-copy\n",
            "  isetter(loc, value)\n"
          ],
          "name": "stderr"
        }
      ]
    },
    {
      "cell_type": "code",
      "metadata": {
        "colab": {
          "base_uri": "https://localhost:8080/"
        },
        "id": "lU14CRu0CvhM",
        "outputId": "e82865fd-e063-48ce-8dbf-b8282a0c4ad9"
      },
      "source": [
        "train_users = set(data_train_lvl_1['user_id'].unique())\n",
        "val_users = set(data_val_lvl_1['user_id'].unique())\n",
        "new_users = val_users - train_users\n",
        "print(f'train_users: {len(train_users)}')\n",
        "print(f'val_users: {len(val_users)}')\n",
        "print(f'new_users: {len(new_users)}')"
      ],
      "execution_count": null,
      "outputs": [
        {
          "output_type": "stream",
          "text": [
            "train_users: 2498\n",
            "val_users: 2280\n",
            "new_users: 1\n"
          ],
          "name": "stdout"
        }
      ]
    },
    {
      "cell_type": "code",
      "metadata": {
        "colab": {
          "base_uri": "https://localhost:8080/",
          "height": 131,
          "referenced_widgets": [
            "52d297e2de954fedba4d775228008478",
            "1694f71bb7394a2baf7516f46b0feb66",
            "d131f7c676f54d6ebccac16b869777a2",
            "879e0518b5014a019ac879473ca20660",
            "56580a7612854d6f8849c7070d9d48d0",
            "b591eb1b39d640b2aa80055ca29f896e",
            "ba3a58725ca4422cb9d047bfc294f085",
            "cb9e686584f74fb9b40db93470980bcf",
            "a976d73743084ec2a984ca5342a45a19",
            "b9aa5697b9b34bebb4fb7ad9f413d1fe",
            "9da601f3d1f140b0936ad673f8317419",
            "4a99799ded3b4cbbaa300d9e30f6c4af",
            "d2a8f17ec5c94f4199a48ae1ff0e20a8",
            "b1c8f8cffe5443c9bea03975f7681065",
            "7b02173ab83d4f9f8da5c53a7213d0cb",
            "0f59c5cb4879412bbf5ab6bd3e4cb0f4"
          ]
        },
        "id": "5G2GPsc0FAP7",
        "outputId": "b062aa60-bd24-401e-9031-dad0d3f5deb0"
      },
      "source": [
        "# recommender = MainRecommender(data_train_lvl_1)"
      ],
      "execution_count": null,
      "outputs": [
        {
          "output_type": "stream",
          "text": [
            "WARNING:root:OpenBLAS detected. Its highly recommend to set the environment variable 'export OPENBLAS_NUM_THREADS=1' to disable its internal multithreading\n"
          ],
          "name": "stderr"
        },
        {
          "output_type": "display_data",
          "data": {
            "application/vnd.jupyter.widget-view+json": {
              "model_id": "52d297e2de954fedba4d775228008478",
              "version_minor": 0,
              "version_major": 2
            },
            "text/plain": [
              "HBox(children=(FloatProgress(value=0.0, max=15.0), HTML(value='')))"
            ]
          },
          "metadata": {
            "tags": []
          }
        },
        {
          "output_type": "stream",
          "text": [
            "\n"
          ],
          "name": "stdout"
        },
        {
          "output_type": "display_data",
          "data": {
            "application/vnd.jupyter.widget-view+json": {
              "model_id": "a976d73743084ec2a984ca5342a45a19",
              "version_minor": 0,
              "version_major": 2
            },
            "text/plain": [
              "HBox(children=(FloatProgress(value=0.0, max=30001.0), HTML(value='')))"
            ]
          },
          "metadata": {
            "tags": []
          }
        },
        {
          "output_type": "stream",
          "text": [
            "\n"
          ],
          "name": "stdout"
        }
      ]
    },
    {
      "cell_type": "code",
      "metadata": {
        "colab": {
          "base_uri": "https://localhost:8080/",
          "height": 35
        },
        "id": "XgWLdwwMvi38",
        "outputId": "05dac942-3615-4602-88f6-0165378d3972"
      },
      "source": [
        "# save_obj(recommender, 'recommender_min_prefilter_30000')"
      ],
      "execution_count": null,
      "outputs": [
        {
          "output_type": "execute_result",
          "data": {
            "application/vnd.google.colaboratory.intrinsic+json": {
              "type": "string"
            },
            "text/plain": [
              "'gdrive/My Drive/AI/GB/RecSys/capstone/objects/recommender_min_prefilter_30000.pkl'"
            ]
          },
          "metadata": {
            "tags": []
          },
          "execution_count": 15
        }
      ]
    },
    {
      "cell_type": "code",
      "metadata": {
        "id": "wEanQV8A1tMW"
      },
      "source": [
        "recommender = load_obj('recommender_min_prefilter_30000')"
      ],
      "execution_count": null,
      "outputs": []
    },
    {
      "cell_type": "code",
      "metadata": {
        "colab": {
          "base_uri": "https://localhost:8080/"
        },
        "id": "Lgol__wiFAP7",
        "outputId": "1c4141f9-971a-482a-e4ef-caacda4e9b96"
      },
      "source": [
        "recommender.get_als_recommendations(2375, N=5)"
      ],
      "execution_count": null,
      "outputs": [
        {
          "output_type": "execute_result",
          "data": {
            "text/plain": [
              "[981760, 1082185, 923746, 1098066, 1037863]"
            ]
          },
          "metadata": {
            "tags": []
          },
          "execution_count": 19
        }
      ]
    },
    {
      "cell_type": "code",
      "metadata": {
        "colab": {
          "base_uri": "https://localhost:8080/"
        },
        "id": "vP9jC7pDFAP8",
        "outputId": "717b97ba-944d-4fda-c38a-382ad3db64e9"
      },
      "source": [
        "recommender.get_own_recommendations(2375, N=5)"
      ],
      "execution_count": null,
      "outputs": [
        {
          "output_type": "execute_result",
          "data": {
            "text/plain": [
              "[948640, 5565086, 1069256, 824738, 1335640]"
            ]
          },
          "metadata": {
            "tags": []
          },
          "execution_count": 20
        }
      ]
    },
    {
      "cell_type": "code",
      "metadata": {
        "colab": {
          "base_uri": "https://localhost:8080/"
        },
        "id": "pk8pd-Z8FAP8",
        "outputId": "4055154e-8c45-4872-85d2-1b25749e20aa"
      },
      "source": [
        "recommender.get_similar_items_recommendations(2375, N=5)"
      ],
      "execution_count": null,
      "outputs": [
        {
          "output_type": "execute_result",
          "data": {
            "text/plain": [
              "[820352, 889731, 1046545, 1055646, 9527160]"
            ]
          },
          "metadata": {
            "tags": []
          },
          "execution_count": 21
        }
      ]
    },
    {
      "cell_type": "code",
      "metadata": {
        "colab": {
          "base_uri": "https://localhost:8080/"
        },
        "id": "WBT7-jU1FAP8",
        "outputId": "7c5b7117-22e1-4a3e-ec18-ea461af72222"
      },
      "source": [
        "recommender.get_similar_users_recommendations(2375, N=5)"
      ],
      "execution_count": null,
      "outputs": [
        {
          "output_type": "execute_result",
          "data": {
            "text/plain": [
              "[1093490, 909618, 985605, 5585068, 979674]"
            ]
          },
          "metadata": {
            "tags": []
          },
          "execution_count": 22
        }
      ]
    },
    {
      "cell_type": "code",
      "metadata": {
        "colab": {
          "base_uri": "https://localhost:8080/"
        },
        "id": "C9nbaoHW888y",
        "outputId": "6fc55f77-66c1-4288-f71c-38b7a87e2cee"
      },
      "source": [
        "data_train_lb = prefilter_items(data.copy(deep=True), item_features=item_features, take_n_popular=30000)"
      ],
      "execution_count": null,
      "outputs": [
        {
          "output_type": "stream",
          "text": [
            "/usr/local/lib/python3.6/dist-packages/pandas/core/indexing.py:1763: SettingWithCopyWarning: \n",
            "A value is trying to be set on a copy of a slice from a DataFrame.\n",
            "Try using .loc[row_indexer,col_indexer] = value instead\n",
            "\n",
            "See the caveats in the documentation: https://pandas.pydata.org/pandas-docs/stable/user_guide/indexing.html#returning-a-view-versus-a-copy\n",
            "  isetter(loc, value)\n"
          ],
          "name": "stderr"
        }
      ]
    },
    {
      "cell_type": "code",
      "metadata": {
        "colab": {
          "base_uri": "https://localhost:8080/",
          "height": 131,
          "referenced_widgets": [
            "32aeb1eaea904a339d6d918ab7b51410",
            "97e1c3843e4a429aae3397e24255fc96",
            "b03802262cdb4472b464cfa4d7b783ca",
            "bc803b7790c74c98ab4b85ab6711f039",
            "cb8f26795b424821947fe9aafab05e35",
            "f96709b0792b42aab7dfb3738a32e5e0",
            "196123cc4b8e4075b735d50969dd3df4",
            "0d64d88740c942838005be42b28dba94",
            "7de4d2b8aab2436991be18b56dcc4df2",
            "9cd259b7811245138368233864e16d6d",
            "c003b701149c4652997ece3c5f2f9d15",
            "26319c65a02644ad97ff35bc2cd75cf8",
            "cd69de4644114375a94312a3fdaf0d08",
            "19552d4119674666a21d94bd68f367a2",
            "e5ff876a871343d2a419cdd58e7d6020",
            "a7d2b4a04f8547e1a5f669df4e1b751b"
          ]
        },
        "id": "hicCFn1aGdwN",
        "outputId": "abc2acb1-9fcf-42d6-b938-58d1c94a3ed9"
      },
      "source": [
        "recommender_lb = MainRecommender(data_train_lb)"
      ],
      "execution_count": null,
      "outputs": [
        {
          "output_type": "stream",
          "text": [
            "WARNING:root:OpenBLAS detected. Its highly recommend to set the environment variable 'export OPENBLAS_NUM_THREADS=1' to disable its internal multithreading\n"
          ],
          "name": "stderr"
        },
        {
          "output_type": "display_data",
          "data": {
            "application/vnd.jupyter.widget-view+json": {
              "model_id": "32aeb1eaea904a339d6d918ab7b51410",
              "version_minor": 0,
              "version_major": 2
            },
            "text/plain": [
              "HBox(children=(FloatProgress(value=0.0, max=15.0), HTML(value='')))"
            ]
          },
          "metadata": {
            "tags": []
          }
        },
        {
          "output_type": "stream",
          "text": [
            "\n"
          ],
          "name": "stdout"
        },
        {
          "output_type": "display_data",
          "data": {
            "application/vnd.jupyter.widget-view+json": {
              "model_id": "7de4d2b8aab2436991be18b56dcc4df2",
              "version_minor": 0,
              "version_major": 2
            },
            "text/plain": [
              "HBox(children=(FloatProgress(value=0.0, max=30001.0), HTML(value='')))"
            ]
          },
          "metadata": {
            "tags": []
          }
        },
        {
          "output_type": "stream",
          "text": [
            "\n"
          ],
          "name": "stdout"
        }
      ]
    },
    {
      "cell_type": "code",
      "metadata": {
        "colab": {
          "base_uri": "https://localhost:8080/",
          "height": 35
        },
        "id": "WPSP0SlgHZq8",
        "outputId": "c66271b4-9f7c-4503-87d7-bc4300756803"
      },
      "source": [
        "save_obj(recommender_lb, 'recommender_min_prefilter_30000_lb')"
      ],
      "execution_count": null,
      "outputs": [
        {
          "output_type": "execute_result",
          "data": {
            "application/vnd.google.colaboratory.intrinsic+json": {
              "type": "string"
            },
            "text/plain": [
              "'gdrive/My Drive/AI/GB/RecSys/capstone/objects/recommender_min_prefilter_30000_lb.pkl'"
            ]
          },
          "metadata": {
            "tags": []
          },
          "execution_count": 24
        }
      ]
    },
    {
      "cell_type": "code",
      "metadata": {
        "id": "C1VxDU9v8y52"
      },
      "source": [
        "recommender_lb = load_obj('recommender_min_prefilter_30000_lb')"
      ],
      "execution_count": null,
      "outputs": []
    },
    {
      "cell_type": "markdown",
      "metadata": {
        "id": "Lebqs2VgFAP9"
      },
      "source": [
        "# Отбор первого уровня\n"
      ]
    },
    {
      "cell_type": "code",
      "metadata": {
        "colab": {
          "base_uri": "https://localhost:8080/",
          "height": 106
        },
        "id": "DZbiTaM0FAP9",
        "outputId": "413d7e99-cf03-4ae3-894b-956603e31261"
      },
      "source": [
        "result_lvl_1 = data_val_lvl_1.groupby('user_id')['item_id'].unique().reset_index()\n",
        "result_lvl_1.columns=['user_id', 'actual']\n",
        "result_lvl_1.head(2)"
      ],
      "execution_count": null,
      "outputs": [
        {
          "output_type": "execute_result",
          "data": {
            "text/html": [
              "<div>\n",
              "<style scoped>\n",
              "    .dataframe tbody tr th:only-of-type {\n",
              "        vertical-align: middle;\n",
              "    }\n",
              "\n",
              "    .dataframe tbody tr th {\n",
              "        vertical-align: top;\n",
              "    }\n",
              "\n",
              "    .dataframe thead th {\n",
              "        text-align: right;\n",
              "    }\n",
              "</style>\n",
              "<table border=\"1\" class=\"dataframe\">\n",
              "  <thead>\n",
              "    <tr style=\"text-align: right;\">\n",
              "      <th></th>\n",
              "      <th>user_id</th>\n",
              "      <th>actual</th>\n",
              "    </tr>\n",
              "  </thead>\n",
              "  <tbody>\n",
              "    <tr>\n",
              "      <th>0</th>\n",
              "      <td>1</td>\n",
              "      <td>[853529, 865456, 867607, 872137, 874905, 87524...</td>\n",
              "    </tr>\n",
              "    <tr>\n",
              "      <th>1</th>\n",
              "      <td>2</td>\n",
              "      <td>[15830248, 838136, 839656, 861272, 866211, 870...</td>\n",
              "    </tr>\n",
              "  </tbody>\n",
              "</table>\n",
              "</div>"
            ],
            "text/plain": [
              "   user_id                                             actual\n",
              "0        1  [853529, 865456, 867607, 872137, 874905, 87524...\n",
              "1        2  [15830248, 838136, 839656, 861272, 866211, 870..."
            ]
          },
          "metadata": {
            "tags": []
          },
          "execution_count": 23
        }
      ]
    },
    {
      "cell_type": "code",
      "metadata": {
        "colab": {
          "base_uri": "https://localhost:8080/"
        },
        "id": "gj_4KdRQDCmn",
        "outputId": "7729016f-c9c7-442f-9a3f-03fc49243bcd"
      },
      "source": [
        "actual_users = set(result_lvl_1['user_id'].unique())\n",
        "predicted_users = set(data_train_lvl_1['user_id'].unique())\n",
        "new_users_1 = actual_users - predicted_users\n",
        "print(f'actual_users: {len(actual_users)}')\n",
        "print(f'predicted_users: {len(predicted_users)}')\n",
        "print(f'new_users_1: {len(new_users_1)}')"
      ],
      "execution_count": null,
      "outputs": [
        {
          "output_type": "stream",
          "text": [
            "actual_users: 2280\n",
            "predicted_users: 2498\n",
            "new_users_1: 1\n"
          ],
          "name": "stdout"
        }
      ]
    },
    {
      "cell_type": "code",
      "metadata": {
        "colab": {
          "base_uri": "https://localhost:8080/",
          "height": 106
        },
        "id": "1y2u6lizHsTC",
        "outputId": "d0584aee-e1c0-4af8-f5bb-63148063181b"
      },
      "source": [
        "result_lvl_1_lb = data_lb.groupby('user_id')['item_id'].unique().reset_index()\n",
        "result_lvl_1_lb.columns=['user_id', 'actual']\n",
        "result_lvl_1_lb.head(2)"
      ],
      "execution_count": null,
      "outputs": [
        {
          "output_type": "execute_result",
          "data": {
            "text/html": [
              "<div>\n",
              "<style scoped>\n",
              "    .dataframe tbody tr th:only-of-type {\n",
              "        vertical-align: middle;\n",
              "    }\n",
              "\n",
              "    .dataframe tbody tr th {\n",
              "        vertical-align: top;\n",
              "    }\n",
              "\n",
              "    .dataframe thead th {\n",
              "        text-align: right;\n",
              "    }\n",
              "</style>\n",
              "<table border=\"1\" class=\"dataframe\">\n",
              "  <thead>\n",
              "    <tr style=\"text-align: right;\">\n",
              "      <th></th>\n",
              "      <th>user_id</th>\n",
              "      <th>actual</th>\n",
              "    </tr>\n",
              "  </thead>\n",
              "  <tbody>\n",
              "    <tr>\n",
              "      <th>0</th>\n",
              "      <td>1</td>\n",
              "      <td>[880007, 883616, 931136, 938004, 940947, 94726...</td>\n",
              "    </tr>\n",
              "    <tr>\n",
              "      <th>1</th>\n",
              "      <td>2</td>\n",
              "      <td>[820165, 820291, 826784, 826835, 829009, 85784...</td>\n",
              "    </tr>\n",
              "  </tbody>\n",
              "</table>\n",
              "</div>"
            ],
            "text/plain": [
              "   user_id                                             actual\n",
              "0        1  [880007, 883616, 931136, 938004, 940947, 94726...\n",
              "1        2  [820165, 820291, 826784, 826835, 829009, 85784..."
            ]
          },
          "metadata": {
            "tags": []
          },
          "execution_count": 55
        }
      ]
    },
    {
      "cell_type": "code",
      "metadata": {
        "id": "HM5D58w1aQNl"
      },
      "source": [
        "k = 50"
      ],
      "execution_count": null,
      "outputs": []
    },
    {
      "cell_type": "markdown",
      "metadata": {
        "id": "hfdsvTnj-6lm"
      },
      "source": [
        "Напишем полезные функции для автоматизации дальнейшей работы"
      ]
    },
    {
      "cell_type": "code",
      "metadata": {
        "id": "fc9y-nrzV3pd"
      },
      "source": [
        "def get_bought_list(actual_data, user_id):\n",
        "  return actual_data.loc[actual_data['user_id'] == user_id, 'actual'].values[0]\n",
        "\n",
        "def get_recommended_list(func_name: str, user_id, N):\n",
        "  return eval(f'recommender.get_{func_name}_recommendations({user_id}, {N})')\n",
        "\n",
        "def total_recall_at_k(actual_data, k, N, func_name: str):\n",
        "  rc = []\n",
        "  for uid in set(recommender.id_to_userid.values()):\n",
        "    if uid not in actual_data['user_id'].values:\n",
        "      continue\n",
        "    rl = get_recommended_list(func_name=func_name, user_id=uid, N=N)\n",
        "    bl = get_bought_list(actual_data=actual_data, user_id=uid)\n",
        "    rc.append(recall_at_k(rl, bl, k))\n",
        "  return np.mean(rc), np.std(rc)"
      ],
      "execution_count": null,
      "outputs": []
    },
    {
      "cell_type": "code",
      "metadata": {
        "id": "42BML0sfefg8"
      },
      "source": [
        "to_count = result_lvl_1['user_id'].isin(predicted_users)"
      ],
      "execution_count": null,
      "outputs": []
    },
    {
      "cell_type": "code",
      "metadata": {
        "id": "jA33VNpswTKO"
      },
      "source": [
        "def prepare_lvl_1_candidates_table(recommender, actual_data, N, candidates_table_name):\n",
        "  candidates = pd.DataFrame(actual_data['user_id'].unique())\n",
        "  candidates.columns = ['user_id']\n",
        "  candidates = candidates.sort_values(by='user_id', ascending=True)\n",
        "  users = candidates.user_id.values\n",
        "  \n",
        "  top_rec = recommender.overall_top_purchases\n",
        "  candidates[f'top_{N}'] = candidates['user_id'].apply(lambda x: recommender.overall_top_purchases[:N])\n",
        "\n",
        "  for func_name in ['als', 'own', 'similar_items']:\n",
        "    i = 0\n",
        "    for uid in users:\n",
        "      i += 1\n",
        "      try:\n",
        "        candidates.loc[candidates.user_id == uid, f'{func_name}_{N}'] = \\\n",
        "              candidates.loc[candidates.user_id == uid, 'user_id'].apply(lambda x: get_recommended_list(func_name=func_name, user_id=x, N=N))\n",
        "      except:\n",
        "        candidates.loc[candidates.user_id == uid, f'{func_name}_{N}'] = np.nan\n",
        "      if i % 300 == 0:\n",
        "        print(i)\n",
        "    # candidates.to_csv(OBJECTS_PATH + f'candidates_{candidates_table_name}.csv')\n",
        "    save_obj(candidates, f'candidates_{candidates_table_name}_obj')\n",
        "    print(f'{func_name} сохранено')\n",
        "  \n",
        "  return candidates\n"
      ],
      "execution_count": null,
      "outputs": []
    },
    {
      "cell_type": "code",
      "metadata": {
        "colab": {
          "base_uri": "https://localhost:8080/"
        },
        "id": "E6OMQify061h",
        "outputId": "18e0108c-4b24-40ce-edd6-c95d62d9f415"
      },
      "source": [
        "candidates_df = prepare_lvl_1_candidates_table(recommender=recommender, actual_data=data_val_lvl_1, N=100, candidates_table_name='model_100_step_0')"
      ],
      "execution_count": null,
      "outputs": [
        {
          "output_type": "stream",
          "text": [
            "300\n",
            "600\n",
            "900\n",
            "1200\n",
            "1500\n",
            "1800\n",
            "2100\n",
            "als сохранено\n",
            "300\n",
            "600\n",
            "900\n",
            "1200\n",
            "1500\n",
            "1800\n",
            "2100\n",
            "own сохранено\n",
            "300\n",
            "600\n",
            "900\n",
            "1200\n",
            "1500\n",
            "1800\n",
            "2100\n",
            "similar_items сохранено\n"
          ],
          "name": "stdout"
        }
      ]
    },
    {
      "cell_type": "code",
      "metadata": {
        "colab": {
          "base_uri": "https://localhost:8080/"
        },
        "id": "vfOwlpos06yB",
        "outputId": "d28473ee-d1ab-4e8b-fe6f-ea7b60aca48d"
      },
      "source": [
        "candidates_df.isna().sum()"
      ],
      "execution_count": null,
      "outputs": [
        {
          "output_type": "execute_result",
          "data": {
            "text/plain": [
              "user_id              0\n",
              "top_100              0\n",
              "als_100              1\n",
              "own_100              1\n",
              "similar_items_100    0\n",
              "dtype: int64"
            ]
          },
          "metadata": {
            "tags": []
          },
          "execution_count": 30
        }
      ]
    },
    {
      "cell_type": "code",
      "metadata": {
        "colab": {
          "base_uri": "https://localhost:8080/",
          "height": 77
        },
        "id": "lqwZlhn12Et4",
        "outputId": "fc7911e6-2a29-4692-d58e-7b2ee09f8971"
      },
      "source": [
        "candidates_df[candidates_df['als_100'].isna()]"
      ],
      "execution_count": null,
      "outputs": [
        {
          "output_type": "execute_result",
          "data": {
            "text/html": [
              "<div>\n",
              "<style scoped>\n",
              "    .dataframe tbody tr th:only-of-type {\n",
              "        vertical-align: middle;\n",
              "    }\n",
              "\n",
              "    .dataframe tbody tr th {\n",
              "        vertical-align: top;\n",
              "    }\n",
              "\n",
              "    .dataframe thead th {\n",
              "        text-align: right;\n",
              "    }\n",
              "</style>\n",
              "<table border=\"1\" class=\"dataframe\">\n",
              "  <thead>\n",
              "    <tr style=\"text-align: right;\">\n",
              "      <th></th>\n",
              "      <th>user_id</th>\n",
              "      <th>top_100</th>\n",
              "      <th>als_100</th>\n",
              "      <th>own_100</th>\n",
              "      <th>similar_items_100</th>\n",
              "    </tr>\n",
              "  </thead>\n",
              "  <tbody>\n",
              "    <tr>\n",
              "      <th>1903</th>\n",
              "      <td>1984</td>\n",
              "      <td>[1082185, 6534178, 1029743, 995242, 1106523, 9...</td>\n",
              "      <td>NaN</td>\n",
              "      <td>NaN</td>\n",
              "      <td>[1082185, 6534178, 1029743, 995242, 1106523, 9...</td>\n",
              "    </tr>\n",
              "  </tbody>\n",
              "</table>\n",
              "</div>"
            ],
            "text/plain": [
              "      user_id  ...                                  similar_items_100\n",
              "1903     1984  ...  [1082185, 6534178, 1029743, 995242, 1106523, 9...\n",
              "\n",
              "[1 rows x 5 columns]"
            ]
          },
          "metadata": {
            "tags": []
          },
          "execution_count": 31
        }
      ]
    },
    {
      "cell_type": "code",
      "metadata": {
        "id": "egQkMstn06vl",
        "colab": {
          "base_uri": "https://localhost:8080/",
          "height": 279
        },
        "outputId": "499c4b55-1b5d-4edc-b070-1e903ff0d764"
      },
      "source": [
        "candidates_df.head()"
      ],
      "execution_count": null,
      "outputs": [
        {
          "output_type": "execute_result",
          "data": {
            "text/html": [
              "<div>\n",
              "<style scoped>\n",
              "    .dataframe tbody tr th:only-of-type {\n",
              "        vertical-align: middle;\n",
              "    }\n",
              "\n",
              "    .dataframe tbody tr th {\n",
              "        vertical-align: top;\n",
              "    }\n",
              "\n",
              "    .dataframe thead th {\n",
              "        text-align: right;\n",
              "    }\n",
              "</style>\n",
              "<table border=\"1\" class=\"dataframe\">\n",
              "  <thead>\n",
              "    <tr style=\"text-align: right;\">\n",
              "      <th></th>\n",
              "      <th>user_id</th>\n",
              "      <th>top_100</th>\n",
              "      <th>als_100</th>\n",
              "      <th>own_100</th>\n",
              "      <th>similar_items_100</th>\n",
              "    </tr>\n",
              "  </thead>\n",
              "  <tbody>\n",
              "    <tr>\n",
              "      <th>877</th>\n",
              "      <td>1</td>\n",
              "      <td>[1082185, 6534178, 1029743, 995242, 1106523, 9...</td>\n",
              "      <td>[1082185, 1006546, 1075074, 5577022, 9858900, ...</td>\n",
              "      <td>[1049998, 852662, 896666, 1087895, 900875, 938...</td>\n",
              "      <td>[941313, 840361, 1077555, 844179, 1006414, 557...</td>\n",
              "    </tr>\n",
              "    <tr>\n",
              "      <th>1769</th>\n",
              "      <td>2</td>\n",
              "      <td>[1082185, 6534178, 1029743, 995242, 1106523, 9...</td>\n",
              "      <td>[1082185, 1098066, 951590, 981760, 1127831, 82...</td>\n",
              "      <td>[242044, 9651582, 73207, 1107760, 7463018, 238...</td>\n",
              "      <td>[8090509, 979098, 5592931, 7025275, 985999, 93...</td>\n",
              "    </tr>\n",
              "    <tr>\n",
              "      <th>2178</th>\n",
              "      <td>3</td>\n",
              "      <td>[1082185, 6534178, 1029743, 995242, 1106523, 9...</td>\n",
              "      <td>[826249, 1098066, 883404, 5568378, 1044078, 98...</td>\n",
              "      <td>[7443137, 835476, 6632283, 1011504, 10285454, ...</td>\n",
              "      <td>[1053690, 1092026, 960318, 892008, 925178, 979...</td>\n",
              "    </tr>\n",
              "    <tr>\n",
              "      <th>1629</th>\n",
              "      <td>4</td>\n",
              "      <td>[1082185, 6534178, 1029743, 995242, 1106523, 9...</td>\n",
              "      <td>[951590, 883932, 826249, 8090521, 1137346, 109...</td>\n",
              "      <td>[6391541, 1013868, 943030, 979674, 891423, 104...</td>\n",
              "      <td>[835530, 6391551, 8019276, 7138817, 8069350, 1...</td>\n",
              "    </tr>\n",
              "    <tr>\n",
              "      <th>917</th>\n",
              "      <td>6</td>\n",
              "      <td>[1082185, 6534178, 1029743, 995242, 1106523, 9...</td>\n",
              "      <td>[1082185, 878996, 1037863, 863632, 981760, 102...</td>\n",
              "      <td>[1405491, 876626, 998519, 849618, 919815, 1126...</td>\n",
              "      <td>[840361, 874149, 882138, 845208, 948650, 70252...</td>\n",
              "    </tr>\n",
              "  </tbody>\n",
              "</table>\n",
              "</div>"
            ],
            "text/plain": [
              "      user_id  ...                                  similar_items_100\n",
              "877         1  ...  [941313, 840361, 1077555, 844179, 1006414, 557...\n",
              "1769        2  ...  [8090509, 979098, 5592931, 7025275, 985999, 93...\n",
              "2178        3  ...  [1053690, 1092026, 960318, 892008, 925178, 979...\n",
              "1629        4  ...  [835530, 6391551, 8019276, 7138817, 8069350, 1...\n",
              "917         6  ...  [840361, 874149, 882138, 845208, 948650, 70252...\n",
              "\n",
              "[5 rows x 5 columns]"
            ]
          },
          "metadata": {
            "tags": []
          },
          "execution_count": 32
        }
      ]
    },
    {
      "cell_type": "code",
      "metadata": {
        "colab": {
          "base_uri": "https://localhost:8080/"
        },
        "id": "Fpgy2p24GC2S",
        "outputId": "58694946-1e11-411e-ae6d-1ef09bac9d66"
      },
      "source": [
        "candidates_df_lb = prepare_lvl_1_candidates_table(recommender=recommender_lb, actual_data=data_lb, N=100, candidates_table_name='model_100_step_0_lb')"
      ],
      "execution_count": null,
      "outputs": [
        {
          "output_type": "stream",
          "text": [
            "300\n",
            "600\n",
            "900\n",
            "1200\n",
            "1500\n",
            "1800\n",
            "als сохранено\n",
            "300\n",
            "600\n",
            "900\n",
            "1200\n",
            "1500\n",
            "1800\n",
            "own сохранено\n",
            "300\n",
            "600\n",
            "900\n",
            "1200\n",
            "1500\n",
            "1800\n",
            "similar_items сохранено\n"
          ],
          "name": "stdout"
        }
      ]
    },
    {
      "cell_type": "code",
      "metadata": {
        "id": "_09aw6dXDdR4"
      },
      "source": [
        "def get_ind(itms, x, N):\n",
        "  if x in itms:\n",
        "    return itms.index(x)\n",
        "  else:\n",
        "    return N*1.5\n",
        "\n",
        "\n",
        "def mix_values(candidates, user_id, N_used, N_return):\n",
        "  cr = candidates[candidates.user_id == user_id]\n",
        "  items = set()\n",
        "  cols = cr.columns[1:]\n",
        "  for col in cr.columns[1:]:\n",
        "    if type(cr[col].values[0]) == type(np.nan):\n",
        "      continue\n",
        "    else:\n",
        "      val = cr[col].values[0]\n",
        "      items = items.union(set(val))\n",
        "\n",
        "  mix_table = pd.DataFrame(columns = cr.columns[1:])\n",
        "  mix_table['item_id'] = list(items)\n",
        "\n",
        "  for col in cr.columns[1:]:\n",
        "    if type(cr[col].values[0]) == type(np.nan):\n",
        "      val = []\n",
        "    else:\n",
        "      val = cr[col].values[0]\n",
        "    \n",
        "    mix_table[col] = mix_table['item_id'].apply(lambda x: get_ind(val, x, N_used))\n",
        "\n",
        "  a =  mix_table.drop(columns='item_id').sum(axis='columns')\n",
        "  mix_table['mix'] = a\n",
        "\n",
        "  mix_table = mix_table[['item_id', 'mix']].sort_values(by='mix', ascending=True).head(N_return)\n",
        "\n",
        "  return mix_table.item_id.values\n",
        "\n",
        "\n",
        "def get_mix(candidates, N_used, N_return):\n",
        "  cand = candidates.sort_values(by='user_id', ascending=True).copy(deep=True)\n",
        "  users = cand.user_id.values\n",
        "  cand['mix'] = 0\n",
        "\n",
        "  i = 0\n",
        "  for uid in users:\n",
        "    i += 1\n",
        "    cand.loc[cand.user_id == uid, 'mix'] = \\\n",
        "            cand.loc[cand.user_id == uid, 'user_id'].apply(lambda x: mix_values(cand.drop(columns=['mix']), x, N_used, N_return))\n",
        "    if i % 100 == 0:\n",
        "      print(i)\n",
        "\n",
        "  return cand "
      ],
      "execution_count": null,
      "outputs": []
    },
    {
      "cell_type": "code",
      "metadata": {
        "colab": {
          "base_uri": "https://localhost:8080/",
          "height": 405
        },
        "id": "FqE3LDl1IB-x",
        "outputId": "172ab649-93c6-4c04-95b7-192e03170d67"
      },
      "source": [
        "candidates_df_mix = get_mix(candidates_df, 100, 100)\n",
        "save_obj(candidates_df_mix, f'candidates_model_100_mix_obj')"
      ],
      "execution_count": null,
      "outputs": [
        {
          "output_type": "stream",
          "text": [
            "100\n",
            "200\n",
            "300\n",
            "400\n",
            "500\n",
            "600\n",
            "700\n",
            "800\n",
            "900\n",
            "1000\n",
            "1100\n",
            "1200\n",
            "1300\n",
            "1400\n",
            "1500\n",
            "1600\n",
            "1700\n",
            "1800\n",
            "1900\n",
            "2000\n",
            "2100\n",
            "2200\n"
          ],
          "name": "stdout"
        },
        {
          "output_type": "execute_result",
          "data": {
            "application/vnd.google.colaboratory.intrinsic+json": {
              "type": "string"
            },
            "text/plain": [
              "'gdrive/My Drive/AI/GB/RecSys/capstone/objects/candidates_model_100_mix_obj.pkl'"
            ]
          },
          "metadata": {
            "tags": []
          },
          "execution_count": 40
        }
      ]
    },
    {
      "cell_type": "code",
      "metadata": {
        "colab": {
          "base_uri": "https://localhost:8080/"
        },
        "id": "vzI_hhZ_YMgS",
        "outputId": "6f3b6e99-cc21-47a2-a8bf-c6140b3a3e8e"
      },
      "source": [
        "predicted_users_mix = set(candidates_df_mix['user_id'].unique())\n",
        "len(predicted_users_mix)"
      ],
      "execution_count": null,
      "outputs": [
        {
          "output_type": "execute_result",
          "data": {
            "text/plain": [
              "2280"
            ]
          },
          "metadata": {
            "tags": []
          },
          "execution_count": 41
        }
      ]
    },
    {
      "cell_type": "code",
      "metadata": {
        "colab": {
          "base_uri": "https://localhost:8080/"
        },
        "id": "Nzg8eWe4Ya2-",
        "outputId": "43c88531-7193-478e-88ba-082bb207ad37"
      },
      "source": [
        "actual_users - predicted_users_mix"
      ],
      "execution_count": null,
      "outputs": [
        {
          "output_type": "execute_result",
          "data": {
            "text/plain": [
              "set()"
            ]
          },
          "metadata": {
            "tags": []
          },
          "execution_count": 42
        }
      ]
    },
    {
      "cell_type": "code",
      "metadata": {
        "colab": {
          "base_uri": "https://localhost:8080/"
        },
        "id": "-lO_ZNSPFoFj",
        "outputId": "f9befce5-0832-4c00-ff69-c61ad11e184a"
      },
      "source": [
        "len(candidates_df_mix.loc[1984, 'mix'])"
      ],
      "execution_count": null,
      "outputs": [
        {
          "output_type": "execute_result",
          "data": {
            "text/plain": [
              "100"
            ]
          },
          "metadata": {
            "tags": []
          },
          "execution_count": 43
        }
      ]
    },
    {
      "cell_type": "code",
      "metadata": {
        "colab": {
          "base_uri": "https://localhost:8080/"
        },
        "id": "L3HYp417FxSR",
        "outputId": "20438428-f46f-4010-df65-53d11e8341f3"
      },
      "source": [
        "len(set(candidates_df_mix.loc[1984, 'mix']))"
      ],
      "execution_count": null,
      "outputs": [
        {
          "output_type": "execute_result",
          "data": {
            "text/plain": [
              "100"
            ]
          },
          "metadata": {
            "tags": []
          },
          "execution_count": 44
        }
      ]
    },
    {
      "cell_type": "markdown",
      "metadata": {
        "id": "SYMH2bm3NzGl"
      },
      "source": [
        "Видно, что \"холодные\" юзеры тоже заполнились"
      ]
    },
    {
      "cell_type": "code",
      "metadata": {
        "colab": {
          "base_uri": "https://localhost:8080/",
          "height": 338
        },
        "id": "8cSz3AAxJHKr",
        "outputId": "9d805220-ab47-4e95-b2f6-ea85abd23dbe"
      },
      "source": [
        "candidates_df_mix_lb = get_mix(candidates_df_lb, 100, 100)\n",
        "save_obj(candidates_df_mix_lb, f'candidates_model_100_mix_lb_obj')"
      ],
      "execution_count": null,
      "outputs": [
        {
          "output_type": "stream",
          "text": [
            "100\n",
            "200\n",
            "300\n",
            "400\n",
            "500\n",
            "600\n",
            "700\n",
            "800\n",
            "900\n",
            "1000\n",
            "1100\n",
            "1200\n",
            "1300\n",
            "1400\n",
            "1500\n",
            "1600\n",
            "1700\n",
            "1800\n"
          ],
          "name": "stdout"
        },
        {
          "output_type": "execute_result",
          "data": {
            "application/vnd.google.colaboratory.intrinsic+json": {
              "type": "string"
            },
            "text/plain": [
              "'gdrive/My Drive/AI/GB/RecSys/capstone/objects/candidates_model_100_mix_lb_obj.pkl'"
            ]
          },
          "metadata": {
            "tags": []
          },
          "execution_count": 45
        }
      ]
    },
    {
      "cell_type": "code",
      "metadata": {
        "id": "WHsViYyNPmE3"
      },
      "source": [
        "# Определим функцию для расчета precision_at_k по готовому предсказанию\n",
        "def total_precision_at_k_pre(actual_data, k, recommendations_table):\n",
        "  pr = []\n",
        "  for uid in actual_data['user_id'].values:\n",
        "    if uid == 1984 or uid == 2325:\n",
        "      continue\n",
        "    rl = recommendations_table.loc[recommendations_table.user_id == uid, 'candidates'].values[0]\n",
        "    bl = get_bought_list(actual_data, user_id=uid)\n",
        "    pr.append(precision_at_k(recommended_list=rl, bought_list=bl, k=k))\n",
        "  return np.mean(pr), np.std(pr)\n",
        "\n",
        "# Определим функцию для расчета recall_at_k по готовому предсказанию\n",
        "def total_recall_at_k_pre(actual_data, k, recommendations_table):\n",
        "  pr = []\n",
        "  for uid in actual_data['user_id'].values:\n",
        "    if uid == 1984 or uid == 2325:\n",
        "      continue\n",
        "    rl = recommendations_table.loc[recommendations_table.user_id == uid, 'candidates'].values[0]\n",
        "    bl = get_bought_list(actual_data, user_id=uid)\n",
        "    pr.append(recall_at_k(recommended_list=rl, bought_list=bl, k=k))\n",
        "  return np.mean(pr), np.std(pr)"
      ],
      "execution_count": null,
      "outputs": []
    },
    {
      "cell_type": "code",
      "metadata": {
        "colab": {
          "base_uri": "https://localhost:8080/"
        },
        "id": "nOb1CzX21rBS",
        "outputId": "226c3e88-aad8-4b2d-82da-fe9848ea9bcd"
      },
      "source": [
        "for col in candidates_df_mix.columns[1:]:\n",
        "  data = candidates_df_mix[['user_id', col]].rename(columns={col:'candidates'})\n",
        "  mean, std = total_recall_at_k_pre(actual_data = result_lvl_1, k=100, recommendations_table=data)\n",
        "  print(col, mean, ' +- ', std)"
      ],
      "execution_count": null,
      "outputs": [
        {
          "output_type": "stream",
          "text": [
            "top_100 0.11473904383994822  +-  0.09558397890830696\n",
            "als_100 0.1001994635446865  +-  0.08452658275099939\n",
            "own_100 0.07170587667316233  +-  0.08770463540904594\n",
            "similar_items_100 0.06357626451448317  +-  0.06908941582164613\n",
            "mix 0.1361729681160206  +-  0.10409861318807474\n"
          ],
          "name": "stdout"
        }
      ]
    },
    {
      "cell_type": "markdown",
      "metadata": {
        "id": "mMAPaFpNNiNM"
      },
      "source": [
        "Recall маловат. Разброс большой. MIX показал лучший результат"
      ]
    },
    {
      "cell_type": "code",
      "metadata": {
        "colab": {
          "base_uri": "https://localhost:8080/"
        },
        "id": "kBnfS9ElQDdf",
        "outputId": "85d460b7-27ae-4299-cbf3-118eca17798c"
      },
      "source": [
        "for col in candidates_df_mix.columns[1:]:\n",
        "  data = candidates_df_mix[['user_id', col]].rename(columns={col:'candidates'})\n",
        "  mean, std = total_precision_at_k_pre(actual_data = result_lvl_1, k=5, recommendations_table=data)\n",
        "  print(col, mean, ' +- ', std)"
      ],
      "execution_count": null,
      "outputs": [
        {
          "output_type": "stream",
          "text": [
            "top_100 0.2840719613865731  +-  0.24005613300552042\n",
            "als_100 0.25730583589293554  +-  0.2551065628654374\n",
            "own_100 0.1601579640193067  +-  0.2074335359680525\n",
            "similar_items_100 0.10978499341816587  +-  0.1619481477680439\n",
            "mix 0.26239578762615184  +-  0.2521755441074338\n"
          ],
          "name": "stdout"
        }
      ]
    },
    {
      "cell_type": "markdown",
      "metadata": {
        "id": "pVKnQqT3Nv6B"
      },
      "source": [
        "Precision на модели первого уровня уже дает 28% для top и 26% для mix. Однако сильно смущает вариация."
      ]
    },
    {
      "cell_type": "markdown",
      "metadata": {
        "id": "6QMpLJ7UPKHv"
      },
      "source": [
        "Сразу проверим liderboard. Вдруг модели первого уровня окажется достаточно:"
      ]
    },
    {
      "cell_type": "code",
      "metadata": {
        "colab": {
          "base_uri": "https://localhost:8080/"
        },
        "id": "GGMtvJLqJeIj",
        "outputId": "e2c88cf7-caee-40e6-b558-8b8be7288da9"
      },
      "source": [
        "for col in candidates_df_mix_lb.columns[1:]:\n",
        "  data = candidates_df_mix_lb[['user_id', col]].rename(columns={col:'candidates'})\n",
        "  mean, std = total_recall_at_k_pre(actual_data = result_lvl_1_lb, k=100, recommendations_table=data)\n",
        "  print(col, mean, ' +- ', std)"
      ],
      "execution_count": null,
      "outputs": [
        {
          "output_type": "stream",
          "text": [
            "top_100 0.14649554015063873  +-  0.13716848490015132\n",
            "als_100 0.12162860613981015  +-  0.11877085380467681\n",
            "own_100 0.073824400096259  +-  0.10553557669729863\n",
            "similar_items_100 0.07110102395345949  +-  0.08623168479038966\n",
            "mix 0.16732702214559877  +-  0.14484699328641465\n"
          ],
          "name": "stdout"
        }
      ]
    },
    {
      "cell_type": "code",
      "metadata": {
        "colab": {
          "base_uri": "https://localhost:8080/"
        },
        "id": "nx0tg3wlJ-oV",
        "outputId": "7f49fe59-da5a-4989-9fc6-bb310408212a"
      },
      "source": [
        "for col in candidates_df_mix_lb.columns[1:]:\n",
        "  data = candidates_df_mix_lb[['user_id', col]].rename(columns={col:'candidates'})\n",
        "  mean, std = total_precision_at_k_pre(actual_data = result_lvl_1_lb, k=5, recommendations_table=data)\n",
        "  print(col, mean, ' +- ', std)"
      ],
      "execution_count": null,
      "outputs": [
        {
          "output_type": "stream",
          "text": [
            "top_100 0.1937367303609342  +-  0.19544452764272477\n",
            "als_100 0.16422505307855628  +-  0.19607178450812063\n",
            "own_100 0.090552016985138  +-  0.1513418851151237\n",
            "similar_items_100 0.0564755838641189  +-  0.11636524120797183\n",
            "mix 0.15690021231422507  +-  0.18877791302431224\n"
          ],
          "name": "stdout"
        }
      ]
    },
    {
      "cell_type": "markdown",
      "metadata": {
        "id": "mWJ6WwgWQd6j"
      },
      "source": [
        "Маловато будет )))"
      ]
    },
    {
      "cell_type": "code",
      "metadata": {
        "id": "WvguwPOFwMfa",
        "colab": {
          "base_uri": "https://localhost:8080/",
          "height": 35
        },
        "outputId": "a3e7b08d-5c31-456d-9ee0-486af9de5e22"
      },
      "source": [
        "users_lvl_2 = candidates_df_mix[['user_id', 'mix']].rename(columns={'mix':'candidates'})\n",
        "save_obj(users_lvl_2, 'users_lvl_2_obj')"
      ],
      "execution_count": null,
      "outputs": [
        {
          "output_type": "execute_result",
          "data": {
            "application/vnd.google.colaboratory.intrinsic+json": {
              "type": "string"
            },
            "text/plain": [
              "'gdrive/My Drive/AI/GB/RecSys/capstone/objects/users_lvl_2_obj.pkl'"
            ]
          },
          "metadata": {
            "tags": []
          },
          "execution_count": 59
        }
      ]
    },
    {
      "cell_type": "code",
      "metadata": {
        "id": "VqD6e5IdnpQK"
      },
      "source": [
        "users_lvl_2_lb = candidates_df_mix_lb[['user_id', 'mix']].rename(columns={'mix':'candidates'})\n",
        "save_obj(users_lvl_2_lb, 'users_lvl_2_lb_obj')"
      ],
      "execution_count": null,
      "outputs": []
    }
  ]
}