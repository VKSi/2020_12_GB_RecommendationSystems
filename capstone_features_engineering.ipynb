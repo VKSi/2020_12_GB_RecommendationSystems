{
  "nbformat": 4,
  "nbformat_minor": 0,
  "metadata": {
    "kernelspec": {
      "display_name": "Python 3",
      "language": "python",
      "name": "python3"
    },
    "language_info": {
      "codemirror_mode": {
        "name": "ipython",
        "version": 3
      },
      "file_extension": ".py",
      "mimetype": "text/x-python",
      "name": "python",
      "nbconvert_exporter": "python",
      "pygments_lexer": "ipython3",
      "version": "3.6.5"
    },
    "colab": {
      "name": "capstone_feats.ipynb",
      "provenance": [],
      "collapsed_sections": [],
      "include_colab_link": true
    }
  },
  "cells": [
    {
      "cell_type": "markdown",
      "metadata": {
        "id": "view-in-github",
        "colab_type": "text"
      },
      "source": [
        "<a href=\"https://colab.research.google.com/github/VKSi/2020_12_GB_RecommendationSystems/blob/main/capstone_features_engineering.ipynb\" target=\"_parent\"><img src=\"https://colab.research.google.com/assets/colab-badge.svg\" alt=\"Open In Colab\"/></a>"
      ]
    },
    {
      "cell_type": "code",
      "metadata": {
        "id": "FpMxjHRJFAP5"
      },
      "source": [
        "import pandas as pd\n",
        "import numpy as np\n",
        "import pickle\n",
        "import matplotlib.pyplot as plt\n",
        "%matplotlib inline\n",
        "\n",
        "# Модель второго уровня\n",
        "from lightgbm import LGBMClassifier\n"
      ],
      "execution_count": null,
      "outputs": []
    },
    {
      "cell_type": "code",
      "metadata": {
        "colab": {
          "base_uri": "https://localhost:8080/"
        },
        "id": "WbQWLW2pFO31",
        "outputId": "859c5195-9151-4ccf-ef76-1c845625df45"
      },
      "source": [
        "from google.colab import drive\n",
        "drive.mount('/content/gdrive')"
      ],
      "execution_count": null,
      "outputs": [
        {
          "output_type": "stream",
          "text": [
            "Mounted at /content/gdrive\n"
          ],
          "name": "stdout"
        }
      ]
    },
    {
      "cell_type": "code",
      "metadata": {
        "id": "EjMN8jk-FT5n"
      },
      "source": [
        "PATH = 'gdrive/My Drive/AI/GB/RecSys/capstone/'\n",
        "OBJECTS_PATH = PATH + 'objects/'\n",
        "DATA_PATH = PATH + 'raw_data/'"
      ],
      "execution_count": null,
      "outputs": []
    },
    {
      "cell_type": "code",
      "metadata": {
        "id": "ambws3oGxzHp"
      },
      "source": [
        "def save_obj(obj, name: str):\n",
        "    path = OBJECTS_PATH + name + '.pkl'\n",
        "    with open(path, 'wb') as f:\n",
        "        pickle.dump(obj, f, pickle.HIGHEST_PROTOCOL)\n",
        "    return path\n",
        "\n",
        "def load_obj(name: str):\n",
        "    with open(OBJECTS_PATH + name + '.pkl', 'rb') as f:\n",
        "        return pickle.load(f)"
      ],
      "execution_count": null,
      "outputs": []
    },
    {
      "cell_type": "code",
      "metadata": {
        "id": "EHgW62xXFAP6"
      },
      "source": [
        "data = pd.read_csv(DATA_PATH + 'retail_train.csv')\n",
        "data_lb = pd.read_csv(DATA_PATH + 'retail_test1.csv')\n",
        "\n",
        "item_features = pd.read_csv(DATA_PATH + 'product.csv')\n",
        "user_features = pd.read_csv(DATA_PATH + 'hh_demographic.csv')\n",
        "\n",
        "# column processing\n",
        "item_features.columns = [col.lower() for col in item_features.columns]\n",
        "user_features.columns = [col.lower() for col in user_features.columns]\n",
        "\n",
        "item_features.rename(columns={'product_id': 'item_id'}, inplace=True)\n",
        "user_features.rename(columns={'household_key': 'user_id'}, inplace=True)\n"
      ],
      "execution_count": null,
      "outputs": []
    },
    {
      "cell_type": "code",
      "metadata": {
        "id": "3OykqeGUXHhi"
      },
      "source": [
        "val_lvl_1_size_weeks = 6\n",
        "val_lvl_2_size_weeks = 3\n",
        "\n",
        "data_train_lvl_1 = data[data['week_no'] < data['week_no'].max() - (val_lvl_1_size_weeks + val_lvl_2_size_weeks)]\n",
        "data_val_lvl_1 = data[data['week_no'] >= data['week_no'].max() - (val_lvl_1_size_weeks + val_lvl_2_size_weeks)]\n",
        "\n",
        "data_train_lvl_2 = data[(data['week_no'] >= data['week_no'].max() - (val_lvl_1_size_weeks + val_lvl_2_size_weeks)) &\n",
        "                      (data['week_no'] < data['week_no'].max() - (val_lvl_2_size_weeks))]\n",
        "data_val_lvl_2 = data[data['week_no'] >= data['week_no'].max() - val_lvl_2_size_weeks]"
      ],
      "execution_count": null,
      "outputs": []
    },
    {
      "cell_type": "markdown",
      "metadata": {
        "id": "Vk6t-8m5yaZa"
      },
      "source": [
        "# Генерируем фитчи"
      ]
    },
    {
      "cell_type": "code",
      "metadata": {
        "colab": {
          "base_uri": "https://localhost:8080/",
          "height": 195
        },
        "id": "IeFIT9mNNl6J",
        "outputId": "d4a7c248-5268-48fd-800a-18d1f64a754a"
      },
      "source": [
        "data.head()"
      ],
      "execution_count": null,
      "outputs": [
        {
          "output_type": "execute_result",
          "data": {
            "text/html": [
              "<div>\n",
              "<style scoped>\n",
              "    .dataframe tbody tr th:only-of-type {\n",
              "        vertical-align: middle;\n",
              "    }\n",
              "\n",
              "    .dataframe tbody tr th {\n",
              "        vertical-align: top;\n",
              "    }\n",
              "\n",
              "    .dataframe thead th {\n",
              "        text-align: right;\n",
              "    }\n",
              "</style>\n",
              "<table border=\"1\" class=\"dataframe\">\n",
              "  <thead>\n",
              "    <tr style=\"text-align: right;\">\n",
              "      <th></th>\n",
              "      <th>user_id</th>\n",
              "      <th>basket_id</th>\n",
              "      <th>day</th>\n",
              "      <th>item_id</th>\n",
              "      <th>quantity</th>\n",
              "      <th>sales_value</th>\n",
              "      <th>store_id</th>\n",
              "      <th>retail_disc</th>\n",
              "      <th>trans_time</th>\n",
              "      <th>week_no</th>\n",
              "      <th>coupon_disc</th>\n",
              "      <th>coupon_match_disc</th>\n",
              "    </tr>\n",
              "  </thead>\n",
              "  <tbody>\n",
              "    <tr>\n",
              "      <th>0</th>\n",
              "      <td>2375</td>\n",
              "      <td>26984851472</td>\n",
              "      <td>1</td>\n",
              "      <td>1004906</td>\n",
              "      <td>1</td>\n",
              "      <td>1.39</td>\n",
              "      <td>364</td>\n",
              "      <td>-0.60</td>\n",
              "      <td>1631</td>\n",
              "      <td>1</td>\n",
              "      <td>0.0</td>\n",
              "      <td>0.0</td>\n",
              "    </tr>\n",
              "    <tr>\n",
              "      <th>1</th>\n",
              "      <td>2375</td>\n",
              "      <td>26984851472</td>\n",
              "      <td>1</td>\n",
              "      <td>1033142</td>\n",
              "      <td>1</td>\n",
              "      <td>0.82</td>\n",
              "      <td>364</td>\n",
              "      <td>0.00</td>\n",
              "      <td>1631</td>\n",
              "      <td>1</td>\n",
              "      <td>0.0</td>\n",
              "      <td>0.0</td>\n",
              "    </tr>\n",
              "    <tr>\n",
              "      <th>2</th>\n",
              "      <td>2375</td>\n",
              "      <td>26984851472</td>\n",
              "      <td>1</td>\n",
              "      <td>1036325</td>\n",
              "      <td>1</td>\n",
              "      <td>0.99</td>\n",
              "      <td>364</td>\n",
              "      <td>-0.30</td>\n",
              "      <td>1631</td>\n",
              "      <td>1</td>\n",
              "      <td>0.0</td>\n",
              "      <td>0.0</td>\n",
              "    </tr>\n",
              "    <tr>\n",
              "      <th>3</th>\n",
              "      <td>2375</td>\n",
              "      <td>26984851472</td>\n",
              "      <td>1</td>\n",
              "      <td>1082185</td>\n",
              "      <td>1</td>\n",
              "      <td>1.21</td>\n",
              "      <td>364</td>\n",
              "      <td>0.00</td>\n",
              "      <td>1631</td>\n",
              "      <td>1</td>\n",
              "      <td>0.0</td>\n",
              "      <td>0.0</td>\n",
              "    </tr>\n",
              "    <tr>\n",
              "      <th>4</th>\n",
              "      <td>2375</td>\n",
              "      <td>26984851472</td>\n",
              "      <td>1</td>\n",
              "      <td>8160430</td>\n",
              "      <td>1</td>\n",
              "      <td>1.50</td>\n",
              "      <td>364</td>\n",
              "      <td>-0.39</td>\n",
              "      <td>1631</td>\n",
              "      <td>1</td>\n",
              "      <td>0.0</td>\n",
              "      <td>0.0</td>\n",
              "    </tr>\n",
              "  </tbody>\n",
              "</table>\n",
              "</div>"
            ],
            "text/plain": [
              "   user_id    basket_id  day  ...  week_no  coupon_disc  coupon_match_disc\n",
              "0     2375  26984851472    1  ...        1          0.0                0.0\n",
              "1     2375  26984851472    1  ...        1          0.0                0.0\n",
              "2     2375  26984851472    1  ...        1          0.0                0.0\n",
              "3     2375  26984851472    1  ...        1          0.0                0.0\n",
              "4     2375  26984851472    1  ...        1          0.0                0.0\n",
              "\n",
              "[5 rows x 12 columns]"
            ]
          },
          "metadata": {
            "tags": []
          },
          "execution_count": 7
        }
      ]
    },
    {
      "cell_type": "code",
      "metadata": {
        "id": "B1cWlhwZNl9A",
        "colab": {
          "base_uri": "https://localhost:8080/",
          "height": 195
        },
        "outputId": "c4312a5b-3d92-4625-aef4-20911f86a4ad"
      },
      "source": [
        "data_lb.head()"
      ],
      "execution_count": null,
      "outputs": [
        {
          "output_type": "execute_result",
          "data": {
            "text/html": [
              "<div>\n",
              "<style scoped>\n",
              "    .dataframe tbody tr th:only-of-type {\n",
              "        vertical-align: middle;\n",
              "    }\n",
              "\n",
              "    .dataframe tbody tr th {\n",
              "        vertical-align: top;\n",
              "    }\n",
              "\n",
              "    .dataframe thead th {\n",
              "        text-align: right;\n",
              "    }\n",
              "</style>\n",
              "<table border=\"1\" class=\"dataframe\">\n",
              "  <thead>\n",
              "    <tr style=\"text-align: right;\">\n",
              "      <th></th>\n",
              "      <th>user_id</th>\n",
              "      <th>basket_id</th>\n",
              "      <th>day</th>\n",
              "      <th>item_id</th>\n",
              "      <th>quantity</th>\n",
              "      <th>sales_value</th>\n",
              "      <th>store_id</th>\n",
              "      <th>retail_disc</th>\n",
              "      <th>trans_time</th>\n",
              "      <th>week_no</th>\n",
              "      <th>coupon_disc</th>\n",
              "      <th>coupon_match_disc</th>\n",
              "    </tr>\n",
              "  </thead>\n",
              "  <tbody>\n",
              "    <tr>\n",
              "      <th>0</th>\n",
              "      <td>1340</td>\n",
              "      <td>41652823310</td>\n",
              "      <td>664</td>\n",
              "      <td>912987</td>\n",
              "      <td>1</td>\n",
              "      <td>8.49</td>\n",
              "      <td>446</td>\n",
              "      <td>0.0</td>\n",
              "      <td>52</td>\n",
              "      <td>96</td>\n",
              "      <td>0.0</td>\n",
              "      <td>0.0</td>\n",
              "    </tr>\n",
              "    <tr>\n",
              "      <th>1</th>\n",
              "      <td>588</td>\n",
              "      <td>41652838477</td>\n",
              "      <td>664</td>\n",
              "      <td>1024426</td>\n",
              "      <td>1</td>\n",
              "      <td>6.29</td>\n",
              "      <td>388</td>\n",
              "      <td>0.0</td>\n",
              "      <td>8</td>\n",
              "      <td>96</td>\n",
              "      <td>0.0</td>\n",
              "      <td>0.0</td>\n",
              "    </tr>\n",
              "    <tr>\n",
              "      <th>2</th>\n",
              "      <td>2070</td>\n",
              "      <td>41652857291</td>\n",
              "      <td>664</td>\n",
              "      <td>995242</td>\n",
              "      <td>5</td>\n",
              "      <td>9.10</td>\n",
              "      <td>311</td>\n",
              "      <td>-0.6</td>\n",
              "      <td>46</td>\n",
              "      <td>96</td>\n",
              "      <td>0.0</td>\n",
              "      <td>0.0</td>\n",
              "    </tr>\n",
              "    <tr>\n",
              "      <th>3</th>\n",
              "      <td>1602</td>\n",
              "      <td>41665647035</td>\n",
              "      <td>664</td>\n",
              "      <td>827939</td>\n",
              "      <td>1</td>\n",
              "      <td>7.99</td>\n",
              "      <td>334</td>\n",
              "      <td>0.0</td>\n",
              "      <td>1741</td>\n",
              "      <td>96</td>\n",
              "      <td>0.0</td>\n",
              "      <td>0.0</td>\n",
              "    </tr>\n",
              "    <tr>\n",
              "      <th>4</th>\n",
              "      <td>1602</td>\n",
              "      <td>41665647035</td>\n",
              "      <td>664</td>\n",
              "      <td>927712</td>\n",
              "      <td>1</td>\n",
              "      <td>0.59</td>\n",
              "      <td>334</td>\n",
              "      <td>-0.4</td>\n",
              "      <td>1741</td>\n",
              "      <td>96</td>\n",
              "      <td>0.0</td>\n",
              "      <td>0.0</td>\n",
              "    </tr>\n",
              "  </tbody>\n",
              "</table>\n",
              "</div>"
            ],
            "text/plain": [
              "   user_id    basket_id  day  ...  week_no  coupon_disc  coupon_match_disc\n",
              "0     1340  41652823310  664  ...       96          0.0                0.0\n",
              "1      588  41652838477  664  ...       96          0.0                0.0\n",
              "2     2070  41652857291  664  ...       96          0.0                0.0\n",
              "3     1602  41665647035  664  ...       96          0.0                0.0\n",
              "4     1602  41665647035  664  ...       96          0.0                0.0\n",
              "\n",
              "[5 rows x 12 columns]"
            ]
          },
          "metadata": {
            "tags": []
          },
          "execution_count": 8
        }
      ]
    },
    {
      "cell_type": "code",
      "metadata": {
        "colab": {
          "base_uri": "https://localhost:8080/"
        },
        "id": "XpLeRxIq-1nF",
        "outputId": "b845eae6-105a-4c85-c627-5d7e6225c332"
      },
      "source": [
        "us_tr = data.user_id.unique()\n",
        "len(us_tr)"
      ],
      "execution_count": null,
      "outputs": [
        {
          "output_type": "execute_result",
          "data": {
            "text/plain": [
              "2499"
            ]
          },
          "metadata": {
            "tags": []
          },
          "execution_count": 9
        }
      ]
    },
    {
      "cell_type": "code",
      "metadata": {
        "colab": {
          "base_uri": "https://localhost:8080/"
        },
        "id": "UkZGQ6sM-1jy",
        "outputId": "f6e54a34-8b97-402b-c46c-7ea341fe78c6"
      },
      "source": [
        "us_lb = data_lb.user_id.unique()\n",
        "len(us_lb)"
      ],
      "execution_count": null,
      "outputs": [
        {
          "output_type": "execute_result",
          "data": {
            "text/plain": [
              "1885"
            ]
          },
          "metadata": {
            "tags": []
          },
          "execution_count": 10
        }
      ]
    },
    {
      "cell_type": "code",
      "metadata": {
        "colab": {
          "base_uri": "https://localhost:8080/"
        },
        "id": "M8reb1Sh-1g8",
        "outputId": "9ecd8dbc-b7bd-4071-9b4e-0a8fccfbeb67"
      },
      "source": [
        "set(us_lb) - set(us_tr)"
      ],
      "execution_count": null,
      "outputs": [
        {
          "output_type": "execute_result",
          "data": {
            "text/plain": [
              "{2325}"
            ]
          },
          "metadata": {
            "tags": []
          },
          "execution_count": 11
        }
      ]
    },
    {
      "cell_type": "markdown",
      "metadata": {
        "id": "fChY5e4zArXE"
      },
      "source": [
        "Сколько таких товаров купил юзер"
      ]
    },
    {
      "cell_type": "code",
      "metadata": {
        "id": "pbxCEmkTcl_q"
      },
      "source": [
        "def week_qnt(data_):\n",
        "  min_week = data_.week_no.min()\n",
        "  max_week = data_.week_no.max()\n",
        "  return max_week - min_week + 1"
      ],
      "execution_count": null,
      "outputs": []
    },
    {
      "cell_type": "code",
      "metadata": {
        "colab": {
          "base_uri": "https://localhost:8080/",
          "height": 195
        },
        "id": "_wtTHi_U-1YF",
        "outputId": "15161f4a-9b15-49ad-8535-4c6869c417a1"
      },
      "source": [
        "def tr_ui_1(data_):\n",
        "  res = data_[['user_id', 'quantity', 'item_id']].groupby(['user_id', 'item_id'], as_index=False).sum()\n",
        "  res['quantity'] = res['quantity']/week_qnt(data_)\n",
        "  res.rename(columns={'quantity':'ui_total_quantity'}, inplace=True)\n",
        "  \n",
        "  return res\n",
        "\n",
        "tr_ui_1(data.copy(deep=True)).head()"
      ],
      "execution_count": null,
      "outputs": [
        {
          "output_type": "execute_result",
          "data": {
            "text/html": [
              "<div>\n",
              "<style scoped>\n",
              "    .dataframe tbody tr th:only-of-type {\n",
              "        vertical-align: middle;\n",
              "    }\n",
              "\n",
              "    .dataframe tbody tr th {\n",
              "        vertical-align: top;\n",
              "    }\n",
              "\n",
              "    .dataframe thead th {\n",
              "        text-align: right;\n",
              "    }\n",
              "</style>\n",
              "<table border=\"1\" class=\"dataframe\">\n",
              "  <thead>\n",
              "    <tr style=\"text-align: right;\">\n",
              "      <th></th>\n",
              "      <th>user_id</th>\n",
              "      <th>item_id</th>\n",
              "      <th>ui_total_quantity</th>\n",
              "    </tr>\n",
              "  </thead>\n",
              "  <tbody>\n",
              "    <tr>\n",
              "      <th>0</th>\n",
              "      <td>1</td>\n",
              "      <td>819312</td>\n",
              "      <td>0.010526</td>\n",
              "    </tr>\n",
              "    <tr>\n",
              "      <th>1</th>\n",
              "      <td>1</td>\n",
              "      <td>820165</td>\n",
              "      <td>0.073684</td>\n",
              "    </tr>\n",
              "    <tr>\n",
              "      <th>2</th>\n",
              "      <td>1</td>\n",
              "      <td>821815</td>\n",
              "      <td>0.021053</td>\n",
              "    </tr>\n",
              "    <tr>\n",
              "      <th>3</th>\n",
              "      <td>1</td>\n",
              "      <td>821867</td>\n",
              "      <td>0.010526</td>\n",
              "    </tr>\n",
              "    <tr>\n",
              "      <th>4</th>\n",
              "      <td>1</td>\n",
              "      <td>823721</td>\n",
              "      <td>0.010526</td>\n",
              "    </tr>\n",
              "  </tbody>\n",
              "</table>\n",
              "</div>"
            ],
            "text/plain": [
              "   user_id  item_id  ui_total_quantity\n",
              "0        1   819312           0.010526\n",
              "1        1   820165           0.073684\n",
              "2        1   821815           0.021053\n",
              "3        1   821867           0.010526\n",
              "4        1   823721           0.010526"
            ]
          },
          "metadata": {
            "tags": []
          },
          "execution_count": 13
        }
      ]
    },
    {
      "cell_type": "markdown",
      "metadata": {
        "id": "EIdH2QDKCeJY"
      },
      "source": [
        "Сколько таких товаров купил юзер за последние 3 недели"
      ]
    },
    {
      "cell_type": "code",
      "metadata": {
        "colab": {
          "base_uri": "https://localhost:8080/",
          "height": 195
        },
        "id": "E7JE3JH6-1VE",
        "outputId": "d7811f38-b783-4d7a-9fd4-a30b10ba0459"
      },
      "source": [
        "def tr_ui_2(data_):\n",
        "  max_week = data_.week_no.max()\n",
        "  data_ = data_[data_.week_no > max_week - 3]\n",
        "  res = data_[['user_id', 'quantity', 'item_id']].groupby(['user_id', 'item_id'], as_index=False).sum()\n",
        "  res['quantity'] = res['quantity']/week_qnt(data_)\n",
        "  res.rename(columns={'quantity':'3rw_ui_quantity'}, inplace=True)\n",
        "  return res\n",
        "\n",
        "tr_ui_2(data.copy(deep=True)).head()"
      ],
      "execution_count": null,
      "outputs": [
        {
          "output_type": "execute_result",
          "data": {
            "text/html": [
              "<div>\n",
              "<style scoped>\n",
              "    .dataframe tbody tr th:only-of-type {\n",
              "        vertical-align: middle;\n",
              "    }\n",
              "\n",
              "    .dataframe tbody tr th {\n",
              "        vertical-align: top;\n",
              "    }\n",
              "\n",
              "    .dataframe thead th {\n",
              "        text-align: right;\n",
              "    }\n",
              "</style>\n",
              "<table border=\"1\" class=\"dataframe\">\n",
              "  <thead>\n",
              "    <tr style=\"text-align: right;\">\n",
              "      <th></th>\n",
              "      <th>user_id</th>\n",
              "      <th>item_id</th>\n",
              "      <th>3rw_ui_quantity</th>\n",
              "    </tr>\n",
              "  </thead>\n",
              "  <tbody>\n",
              "    <tr>\n",
              "      <th>0</th>\n",
              "      <td>1</td>\n",
              "      <td>856942</td>\n",
              "      <td>0.333333</td>\n",
              "    </tr>\n",
              "    <tr>\n",
              "      <th>1</th>\n",
              "      <td>1</td>\n",
              "      <td>861272</td>\n",
              "      <td>0.333333</td>\n",
              "    </tr>\n",
              "    <tr>\n",
              "      <th>2</th>\n",
              "      <td>1</td>\n",
              "      <td>869465</td>\n",
              "      <td>0.333333</td>\n",
              "    </tr>\n",
              "    <tr>\n",
              "      <th>3</th>\n",
              "      <td>1</td>\n",
              "      <td>877373</td>\n",
              "      <td>0.333333</td>\n",
              "    </tr>\n",
              "    <tr>\n",
              "      <th>4</th>\n",
              "      <td>1</td>\n",
              "      <td>883616</td>\n",
              "      <td>0.333333</td>\n",
              "    </tr>\n",
              "  </tbody>\n",
              "</table>\n",
              "</div>"
            ],
            "text/plain": [
              "   user_id  item_id  3rw_ui_quantity\n",
              "0        1   856942         0.333333\n",
              "1        1   861272         0.333333\n",
              "2        1   869465         0.333333\n",
              "3        1   877373         0.333333\n",
              "4        1   883616         0.333333"
            ]
          },
          "metadata": {
            "tags": []
          },
          "execution_count": 14
        }
      ]
    },
    {
      "cell_type": "markdown",
      "metadata": {
        "id": "zPGBD3URDhkt"
      },
      "source": [
        "Насколько активный юзер"
      ]
    },
    {
      "cell_type": "code",
      "metadata": {
        "colab": {
          "base_uri": "https://localhost:8080/",
          "height": 195
        },
        "id": "Adao3Y0uDfYP",
        "outputId": "8769aae2-6291-468b-c203-427e781df16c"
      },
      "source": [
        "def tr_u_1(data_):\n",
        "  res = data_[['user_id', 'basket_id']].groupby(['user_id'], as_index=False).count()\n",
        "  res['basket_id'] = res['basket_id']/week_qnt(data_)\n",
        "  res.rename(columns={'basket_id':'basket_quantity'}, inplace=True)\n",
        "  return res\n",
        "\n",
        "tr_u_1(data.copy(deep=True)).head()"
      ],
      "execution_count": null,
      "outputs": [
        {
          "output_type": "execute_result",
          "data": {
            "text/html": [
              "<div>\n",
              "<style scoped>\n",
              "    .dataframe tbody tr th:only-of-type {\n",
              "        vertical-align: middle;\n",
              "    }\n",
              "\n",
              "    .dataframe tbody tr th {\n",
              "        vertical-align: top;\n",
              "    }\n",
              "\n",
              "    .dataframe thead th {\n",
              "        text-align: right;\n",
              "    }\n",
              "</style>\n",
              "<table border=\"1\" class=\"dataframe\">\n",
              "  <thead>\n",
              "    <tr style=\"text-align: right;\">\n",
              "      <th></th>\n",
              "      <th>user_id</th>\n",
              "      <th>basket_quantity</th>\n",
              "    </tr>\n",
              "  </thead>\n",
              "  <tbody>\n",
              "    <tr>\n",
              "      <th>0</th>\n",
              "      <td>1</td>\n",
              "      <td>16.726316</td>\n",
              "    </tr>\n",
              "    <tr>\n",
              "      <th>1</th>\n",
              "      <td>2</td>\n",
              "      <td>6.894737</td>\n",
              "    </tr>\n",
              "    <tr>\n",
              "      <th>2</th>\n",
              "      <td>3</td>\n",
              "      <td>9.357895</td>\n",
              "    </tr>\n",
              "    <tr>\n",
              "      <th>3</th>\n",
              "      <td>4</td>\n",
              "      <td>3.168421</td>\n",
              "    </tr>\n",
              "    <tr>\n",
              "      <th>4</th>\n",
              "      <td>5</td>\n",
              "      <td>2.305263</td>\n",
              "    </tr>\n",
              "  </tbody>\n",
              "</table>\n",
              "</div>"
            ],
            "text/plain": [
              "   user_id  basket_quantity\n",
              "0        1        16.726316\n",
              "1        2         6.894737\n",
              "2        3         9.357895\n",
              "3        4         3.168421\n",
              "4        5         2.305263"
            ]
          },
          "metadata": {
            "tags": []
          },
          "execution_count": 15
        }
      ]
    },
    {
      "cell_type": "code",
      "metadata": {
        "colab": {
          "base_uri": "https://localhost:8080/",
          "height": 195
        },
        "id": "zYrkzSzmDfVJ",
        "outputId": "232c011d-919c-4eca-cb30-4ad04dcc0093"
      },
      "source": [
        "def tr_u_2(data_):\n",
        "  max_week = data_.week_no.max()\n",
        "  data_ = data_[data_.week_no > max_week - 3]\n",
        "  res = data_[['user_id', 'basket_id']].groupby(['user_id'], as_index=False).count()\n",
        "  res['basket_id'] = res['basket_id']/week_qnt(data_)\n",
        "  res.rename(columns={'basket_id':'3rw_basket_quantity'}, inplace=True)\n",
        "  return res\n",
        "\n",
        "tr_u_2(data.copy(deep=True)).head()"
      ],
      "execution_count": null,
      "outputs": [
        {
          "output_type": "execute_result",
          "data": {
            "text/html": [
              "<div>\n",
              "<style scoped>\n",
              "    .dataframe tbody tr th:only-of-type {\n",
              "        vertical-align: middle;\n",
              "    }\n",
              "\n",
              "    .dataframe tbody tr th {\n",
              "        vertical-align: top;\n",
              "    }\n",
              "\n",
              "    .dataframe thead th {\n",
              "        text-align: right;\n",
              "    }\n",
              "</style>\n",
              "<table border=\"1\" class=\"dataframe\">\n",
              "  <thead>\n",
              "    <tr style=\"text-align: right;\">\n",
              "      <th></th>\n",
              "      <th>user_id</th>\n",
              "      <th>3rw_basket_quantity</th>\n",
              "    </tr>\n",
              "  </thead>\n",
              "  <tbody>\n",
              "    <tr>\n",
              "      <th>0</th>\n",
              "      <td>1</td>\n",
              "      <td>16.000000</td>\n",
              "    </tr>\n",
              "    <tr>\n",
              "      <th>1</th>\n",
              "      <td>6</td>\n",
              "      <td>14.333333</td>\n",
              "    </tr>\n",
              "    <tr>\n",
              "      <th>2</th>\n",
              "      <td>7</td>\n",
              "      <td>30.333333</td>\n",
              "    </tr>\n",
              "    <tr>\n",
              "      <th>3</th>\n",
              "      <td>8</td>\n",
              "      <td>38.333333</td>\n",
              "    </tr>\n",
              "    <tr>\n",
              "      <th>4</th>\n",
              "      <td>9</td>\n",
              "      <td>3.000000</td>\n",
              "    </tr>\n",
              "  </tbody>\n",
              "</table>\n",
              "</div>"
            ],
            "text/plain": [
              "   user_id  3rw_basket_quantity\n",
              "0        1            16.000000\n",
              "1        6            14.333333\n",
              "2        7            30.333333\n",
              "3        8            38.333333\n",
              "4        9             3.000000"
            ]
          },
          "metadata": {
            "tags": []
          },
          "execution_count": 16
        }
      ]
    },
    {
      "cell_type": "code",
      "metadata": {
        "colab": {
          "base_uri": "https://localhost:8080/",
          "height": 195
        },
        "id": "A-r07C7VDfSD",
        "outputId": "35c2634b-5ba7-459e-c38a-dd43330ad620"
      },
      "source": [
        "def tr_u_3(data_):\n",
        "  res = data_[['user_id', 'sales_value']].groupby(['user_id'], as_index=False).sum()\n",
        "  res['sales_value'] = res['sales_value']/week_qnt(data_)\n",
        "  res.rename(columns={'sales_value':'total_sales_value'}, inplace=True)\n",
        "  return res\n",
        "\n",
        "tr_u_3(data.copy(deep=True)).head()"
      ],
      "execution_count": null,
      "outputs": [
        {
          "output_type": "execute_result",
          "data": {
            "text/html": [
              "<div>\n",
              "<style scoped>\n",
              "    .dataframe tbody tr th:only-of-type {\n",
              "        vertical-align: middle;\n",
              "    }\n",
              "\n",
              "    .dataframe tbody tr th {\n",
              "        vertical-align: top;\n",
              "    }\n",
              "\n",
              "    .dataframe thead th {\n",
              "        text-align: right;\n",
              "    }\n",
              "</style>\n",
              "<table border=\"1\" class=\"dataframe\">\n",
              "  <thead>\n",
              "    <tr style=\"text-align: right;\">\n",
              "      <th></th>\n",
              "      <th>user_id</th>\n",
              "      <th>total_sales_value</th>\n",
              "    </tr>\n",
              "  </thead>\n",
              "  <tbody>\n",
              "    <tr>\n",
              "      <th>0</th>\n",
              "      <td>1</td>\n",
              "      <td>41.683263</td>\n",
              "    </tr>\n",
              "    <tr>\n",
              "      <th>1</th>\n",
              "      <td>2</td>\n",
              "      <td>19.194211</td>\n",
              "    </tr>\n",
              "    <tr>\n",
              "      <th>2</th>\n",
              "      <td>3</td>\n",
              "      <td>27.308421</td>\n",
              "    </tr>\n",
              "    <tr>\n",
              "      <th>3</th>\n",
              "      <td>4</td>\n",
              "      <td>12.632737</td>\n",
              "    </tr>\n",
              "    <tr>\n",
              "      <th>4</th>\n",
              "      <td>5</td>\n",
              "      <td>7.885158</td>\n",
              "    </tr>\n",
              "  </tbody>\n",
              "</table>\n",
              "</div>"
            ],
            "text/plain": [
              "   user_id  total_sales_value\n",
              "0        1          41.683263\n",
              "1        2          19.194211\n",
              "2        3          27.308421\n",
              "3        4          12.632737\n",
              "4        5           7.885158"
            ]
          },
          "metadata": {
            "tags": []
          },
          "execution_count": 17
        }
      ]
    },
    {
      "cell_type": "code",
      "metadata": {
        "colab": {
          "base_uri": "https://localhost:8080/",
          "height": 195
        },
        "id": "HT3YdPE-DfPc",
        "outputId": "07e7464a-fafd-4fd9-9c86-bd0e542a6459"
      },
      "source": [
        "def tr_u_4(data_):\n",
        "  max_week = data_.week_no.max()\n",
        "  data_ = data_[data_.week_no > max_week - 3]\n",
        "  res = data_[['user_id', 'sales_value']].groupby(['user_id'], as_index=False).sum()\n",
        "  res['sales_value'] = res['sales_value']/week_qnt(data_)\n",
        "  res.rename(columns={'sales_value':'3rw_sales_value'}, inplace=True)\n",
        "  return res\n",
        "\n",
        "tr_u_4(data.copy(deep=True)).head()"
      ],
      "execution_count": null,
      "outputs": [
        {
          "output_type": "execute_result",
          "data": {
            "text/html": [
              "<div>\n",
              "<style scoped>\n",
              "    .dataframe tbody tr th:only-of-type {\n",
              "        vertical-align: middle;\n",
              "    }\n",
              "\n",
              "    .dataframe tbody tr th {\n",
              "        vertical-align: top;\n",
              "    }\n",
              "\n",
              "    .dataframe thead th {\n",
              "        text-align: right;\n",
              "    }\n",
              "</style>\n",
              "<table border=\"1\" class=\"dataframe\">\n",
              "  <thead>\n",
              "    <tr style=\"text-align: right;\">\n",
              "      <th></th>\n",
              "      <th>user_id</th>\n",
              "      <th>3rw_sales_value</th>\n",
              "    </tr>\n",
              "  </thead>\n",
              "  <tbody>\n",
              "    <tr>\n",
              "      <th>0</th>\n",
              "      <td>1</td>\n",
              "      <td>43.926667</td>\n",
              "    </tr>\n",
              "    <tr>\n",
              "      <th>1</th>\n",
              "      <td>6</td>\n",
              "      <td>48.240000</td>\n",
              "    </tr>\n",
              "    <tr>\n",
              "      <th>2</th>\n",
              "      <td>7</td>\n",
              "      <td>81.993333</td>\n",
              "    </tr>\n",
              "    <tr>\n",
              "      <th>3</th>\n",
              "      <td>8</td>\n",
              "      <td>95.083333</td>\n",
              "    </tr>\n",
              "    <tr>\n",
              "      <th>4</th>\n",
              "      <td>9</td>\n",
              "      <td>8.773333</td>\n",
              "    </tr>\n",
              "  </tbody>\n",
              "</table>\n",
              "</div>"
            ],
            "text/plain": [
              "   user_id  3rw_sales_value\n",
              "0        1        43.926667\n",
              "1        6        48.240000\n",
              "2        7        81.993333\n",
              "3        8        95.083333\n",
              "4        9         8.773333"
            ]
          },
          "metadata": {
            "tags": []
          },
          "execution_count": 18
        }
      ]
    },
    {
      "cell_type": "markdown",
      "metadata": {
        "id": "HbpPDcUCHS4I"
      },
      "source": [
        "Покупал ли этот товар за последние n недель"
      ]
    },
    {
      "cell_type": "code",
      "metadata": {
        "colab": {
          "base_uri": "https://localhost:8080/",
          "height": 195
        },
        "id": "fLSYG909DfMX",
        "outputId": "0abaa5f6-36fc-4f77-c1ca-0005281176f4"
      },
      "source": [
        "def tr_ui_3(data_, nw):\n",
        "  data_['user_item'] = data_.user_id + data_.item_id*10**10\n",
        "  max_week = data_.week_no.max()\n",
        "  users_items_nw = data_.loc[data_.week_no > max_week - nw, 'user_item'].unique()\n",
        "  data_[f'in_{nw}_weeks'] = 0\n",
        "  data_.loc[data_.user_item.isin(users_items_nw), f'in_{nw}_weeks'] = 1\n",
        "\n",
        "  res = data_[['user_id', 'item_id', f'in_{nw}_weeks']]\n",
        "  res = res.groupby(['user_id', 'item_id'], as_index=False).max()\n",
        "  return res\n",
        "\n",
        "tr_ui_3(data.copy(deep=True), nw=1).iloc[15:20, :]"
      ],
      "execution_count": null,
      "outputs": [
        {
          "output_type": "execute_result",
          "data": {
            "text/html": [
              "<div>\n",
              "<style scoped>\n",
              "    .dataframe tbody tr th:only-of-type {\n",
              "        vertical-align: middle;\n",
              "    }\n",
              "\n",
              "    .dataframe tbody tr th {\n",
              "        vertical-align: top;\n",
              "    }\n",
              "\n",
              "    .dataframe thead th {\n",
              "        text-align: right;\n",
              "    }\n",
              "</style>\n",
              "<table border=\"1\" class=\"dataframe\">\n",
              "  <thead>\n",
              "    <tr style=\"text-align: right;\">\n",
              "      <th></th>\n",
              "      <th>user_id</th>\n",
              "      <th>item_id</th>\n",
              "      <th>in_1_weeks</th>\n",
              "    </tr>\n",
              "  </thead>\n",
              "  <tbody>\n",
              "    <tr>\n",
              "      <th>15</th>\n",
              "      <td>1</td>\n",
              "      <td>830775</td>\n",
              "      <td>0</td>\n",
              "    </tr>\n",
              "    <tr>\n",
              "      <th>16</th>\n",
              "      <td>1</td>\n",
              "      <td>831447</td>\n",
              "      <td>0</td>\n",
              "    </tr>\n",
              "    <tr>\n",
              "      <th>17</th>\n",
              "      <td>1</td>\n",
              "      <td>831509</td>\n",
              "      <td>0</td>\n",
              "    </tr>\n",
              "    <tr>\n",
              "      <th>18</th>\n",
              "      <td>1</td>\n",
              "      <td>831728</td>\n",
              "      <td>0</td>\n",
              "    </tr>\n",
              "    <tr>\n",
              "      <th>19</th>\n",
              "      <td>1</td>\n",
              "      <td>832990</td>\n",
              "      <td>0</td>\n",
              "    </tr>\n",
              "  </tbody>\n",
              "</table>\n",
              "</div>"
            ],
            "text/plain": [
              "    user_id  item_id  in_1_weeks\n",
              "15        1   830775           0\n",
              "16        1   831447           0\n",
              "17        1   831509           0\n",
              "18        1   831728           0\n",
              "19        1   832990           0"
            ]
          },
          "metadata": {
            "tags": []
          },
          "execution_count": 19
        }
      ]
    },
    {
      "cell_type": "markdown",
      "metadata": {
        "id": "CuAP53LHMk49"
      },
      "source": [
        "В каком магазине чаще всего отоваривается юзер"
      ]
    },
    {
      "cell_type": "code",
      "metadata": {
        "colab": {
          "base_uri": "https://localhost:8080/",
          "height": 195
        },
        "id": "cHF_y2W0DfKA",
        "outputId": "01806d6a-6d32-4562-c7f7-53a3dd46241e"
      },
      "source": [
        "def tr_u_5(data_):\n",
        "  res = data_[['user_id', 'store_id', 'basket_id']].groupby(['user_id', 'store_id'], as_index=False).count()\n",
        "  a = res[['user_id', 'basket_id']].groupby(['user_id'], as_index=False).max()\n",
        "  a['in'] = a.user_id + a.basket_id*100000\n",
        "  ain = a['in'].values\n",
        "  res['in'] = res.user_id + res.basket_id*100000\n",
        "  res = res.loc[res['in'].isin(ain), ['user_id', 'store_id']]\n",
        "  res.rename(columns={'store_id':'frq_us_store_id'}, inplace=True)\n",
        "  return res\n",
        "\n",
        "tr_u_5(data.copy(deep=True)).head()"
      ],
      "execution_count": null,
      "outputs": [
        {
          "output_type": "execute_result",
          "data": {
            "text/html": [
              "<div>\n",
              "<style scoped>\n",
              "    .dataframe tbody tr th:only-of-type {\n",
              "        vertical-align: middle;\n",
              "    }\n",
              "\n",
              "    .dataframe tbody tr th {\n",
              "        vertical-align: top;\n",
              "    }\n",
              "\n",
              "    .dataframe thead th {\n",
              "        text-align: right;\n",
              "    }\n",
              "</style>\n",
              "<table border=\"1\" class=\"dataframe\">\n",
              "  <thead>\n",
              "    <tr style=\"text-align: right;\">\n",
              "      <th></th>\n",
              "      <th>user_id</th>\n",
              "      <th>frq_us_store_id</th>\n",
              "    </tr>\n",
              "  </thead>\n",
              "  <tbody>\n",
              "    <tr>\n",
              "      <th>0</th>\n",
              "      <td>1</td>\n",
              "      <td>436</td>\n",
              "    </tr>\n",
              "    <tr>\n",
              "      <th>3</th>\n",
              "      <td>2</td>\n",
              "      <td>401</td>\n",
              "    </tr>\n",
              "    <tr>\n",
              "      <th>9</th>\n",
              "      <td>3</td>\n",
              "      <td>401</td>\n",
              "    </tr>\n",
              "    <tr>\n",
              "      <th>10</th>\n",
              "      <td>4</td>\n",
              "      <td>298</td>\n",
              "    </tr>\n",
              "    <tr>\n",
              "      <th>16</th>\n",
              "      <td>5</td>\n",
              "      <td>374</td>\n",
              "    </tr>\n",
              "  </tbody>\n",
              "</table>\n",
              "</div>"
            ],
            "text/plain": [
              "    user_id  frq_us_store_id\n",
              "0         1              436\n",
              "3         2              401\n",
              "9         3              401\n",
              "10        4              298\n",
              "16        5              374"
            ]
          },
          "metadata": {
            "tags": []
          },
          "execution_count": 20
        }
      ]
    },
    {
      "cell_type": "code",
      "metadata": {
        "colab": {
          "base_uri": "https://localhost:8080/",
          "height": 195
        },
        "id": "-nsEMdhODfHj",
        "outputId": "ee305830-5709-46c5-b9a3-3c2c06b4cd94"
      },
      "source": [
        "def tr_u_6(data_):\n",
        "  max_week = data_.week_no.max()\n",
        "  data_ = data_[data_.week_no > max_week - 3]\n",
        "  res = data_[['user_id', 'store_id', 'basket_id']].groupby(['user_id', 'store_id'], as_index=False).count()\n",
        "  a = res[['user_id', 'basket_id']].groupby(['user_id'], as_index=False).max()\n",
        "  a['in'] = a.user_id + a.basket_id*100000\n",
        "  ain = a['in'].values\n",
        "  res['in'] = res.user_id + res.basket_id*100000\n",
        "  res = res.loc[res['in'].isin(ain), ['user_id', 'store_id']]\n",
        "  res.rename(columns={'store_id':'3rw_frq_us_store_id'}, inplace=True)\n",
        "  return res\n",
        "\n",
        "tr_u_6(data.copy(deep=True)).head()"
      ],
      "execution_count": null,
      "outputs": [
        {
          "output_type": "execute_result",
          "data": {
            "text/html": [
              "<div>\n",
              "<style scoped>\n",
              "    .dataframe tbody tr th:only-of-type {\n",
              "        vertical-align: middle;\n",
              "    }\n",
              "\n",
              "    .dataframe tbody tr th {\n",
              "        vertical-align: top;\n",
              "    }\n",
              "\n",
              "    .dataframe thead th {\n",
              "        text-align: right;\n",
              "    }\n",
              "</style>\n",
              "<table border=\"1\" class=\"dataframe\">\n",
              "  <thead>\n",
              "    <tr style=\"text-align: right;\">\n",
              "      <th></th>\n",
              "      <th>user_id</th>\n",
              "      <th>3rw_frq_us_store_id</th>\n",
              "    </tr>\n",
              "  </thead>\n",
              "  <tbody>\n",
              "    <tr>\n",
              "      <th>0</th>\n",
              "      <td>1</td>\n",
              "      <td>436</td>\n",
              "    </tr>\n",
              "    <tr>\n",
              "      <th>1</th>\n",
              "      <td>6</td>\n",
              "      <td>421</td>\n",
              "    </tr>\n",
              "    <tr>\n",
              "      <th>5</th>\n",
              "      <td>7</td>\n",
              "      <td>359</td>\n",
              "    </tr>\n",
              "    <tr>\n",
              "      <th>6</th>\n",
              "      <td>8</td>\n",
              "      <td>321</td>\n",
              "    </tr>\n",
              "    <tr>\n",
              "      <th>7</th>\n",
              "      <td>9</td>\n",
              "      <td>324</td>\n",
              "    </tr>\n",
              "  </tbody>\n",
              "</table>\n",
              "</div>"
            ],
            "text/plain": [
              "   user_id  3rw_frq_us_store_id\n",
              "0        1                  436\n",
              "1        6                  421\n",
              "5        7                  359\n",
              "6        8                  321\n",
              "7        9                  324"
            ]
          },
          "metadata": {
            "tags": []
          },
          "execution_count": 21
        }
      ]
    },
    {
      "cell_type": "markdown",
      "metadata": {
        "id": "MXt3dW_-Rv30"
      },
      "source": [
        "В каком магазине продано больше всего данного товара"
      ]
    },
    {
      "cell_type": "code",
      "metadata": {
        "colab": {
          "base_uri": "https://localhost:8080/",
          "height": 195
        },
        "id": "RWXf88AeReDK",
        "outputId": "73b19d27-d6bf-4a1f-ed70-98291260c881"
      },
      "source": [
        "def tr_i_1(data_):\n",
        "  res = data_[['item_id', 'store_id', 'quantity']].groupby(['item_id', 'store_id'], as_index=False).sum()\n",
        "  a = res[['item_id', 'quantity']].groupby(['item_id'], as_index=False).max()\n",
        "  a['in'] = a.item_id + a.quantity*10**10\n",
        "  ain = a['in'].values\n",
        "  res['in'] = res.item_id + res.quantity*10**10\n",
        "  res = res.loc[res['in'].isin(ain), ['item_id', 'store_id']]\n",
        "  res = res.groupby(['item_id'], as_index=False).max()\n",
        "  res.rename(columns={'store_id':'frq_itm_store_id'}, inplace=True)\n",
        "  return res\n",
        "\n",
        "tr_i_1(data.copy(deep=True)).head()"
      ],
      "execution_count": null,
      "outputs": [
        {
          "output_type": "execute_result",
          "data": {
            "text/html": [
              "<div>\n",
              "<style scoped>\n",
              "    .dataframe tbody tr th:only-of-type {\n",
              "        vertical-align: middle;\n",
              "    }\n",
              "\n",
              "    .dataframe tbody tr th {\n",
              "        vertical-align: top;\n",
              "    }\n",
              "\n",
              "    .dataframe thead th {\n",
              "        text-align: right;\n",
              "    }\n",
              "</style>\n",
              "<table border=\"1\" class=\"dataframe\">\n",
              "  <thead>\n",
              "    <tr style=\"text-align: right;\">\n",
              "      <th></th>\n",
              "      <th>item_id</th>\n",
              "      <th>frq_itm_store_id</th>\n",
              "    </tr>\n",
              "  </thead>\n",
              "  <tbody>\n",
              "    <tr>\n",
              "      <th>0</th>\n",
              "      <td>25671</td>\n",
              "      <td>3191</td>\n",
              "    </tr>\n",
              "    <tr>\n",
              "      <th>1</th>\n",
              "      <td>26081</td>\n",
              "      <td>3235</td>\n",
              "    </tr>\n",
              "    <tr>\n",
              "      <th>2</th>\n",
              "      <td>26093</td>\n",
              "      <td>33904</td>\n",
              "    </tr>\n",
              "    <tr>\n",
              "      <th>3</th>\n",
              "      <td>26190</td>\n",
              "      <td>3297</td>\n",
              "    </tr>\n",
              "    <tr>\n",
              "      <th>4</th>\n",
              "      <td>26355</td>\n",
              "      <td>3217</td>\n",
              "    </tr>\n",
              "  </tbody>\n",
              "</table>\n",
              "</div>"
            ],
            "text/plain": [
              "   item_id  frq_itm_store_id\n",
              "0    25671              3191\n",
              "1    26081              3235\n",
              "2    26093             33904\n",
              "3    26190              3297\n",
              "4    26355              3217"
            ]
          },
          "metadata": {
            "tags": []
          },
          "execution_count": 22
        }
      ]
    },
    {
      "cell_type": "code",
      "metadata": {
        "colab": {
          "base_uri": "https://localhost:8080/"
        },
        "id": "VNIXyan4Musz",
        "outputId": "7ab9fe5e-631f-4e16-db54-95c3fac998c3"
      },
      "source": [
        "data.item_id.max()"
      ],
      "execution_count": null,
      "outputs": [
        {
          "output_type": "execute_result",
          "data": {
            "text/plain": [
              "18024556"
            ]
          },
          "metadata": {
            "tags": []
          },
          "execution_count": 23
        }
      ]
    },
    {
      "cell_type": "code",
      "metadata": {
        "colab": {
          "base_uri": "https://localhost:8080/",
          "height": 195
        },
        "id": "fs8nl_8PQvnA",
        "outputId": "84c53307-7f7d-4eb1-bc2b-73a3b926af9a"
      },
      "source": [
        "def tr_i_2(data_):\n",
        "  max_week = data_.week_no.max()\n",
        "  data_ = data_[data_.week_no > max_week - 3]\n",
        "\n",
        "  res = data_[['item_id', 'store_id', 'quantity']].groupby(['item_id', 'store_id'], as_index=False).sum()\n",
        "  a = res[['item_id', 'quantity']].groupby(['item_id'], as_index=False).max()\n",
        "\n",
        "  a['in'] = a.item_id + a.quantity*10**10\n",
        "  ain = a['in'].values\n",
        "  res['in'] = res.item_id + res.quantity*10**10\n",
        "  res = res.loc[res['in'].isin(ain), ['item_id', 'store_id']]\n",
        "  res = res.groupby(['item_id'], as_index=False).max()\n",
        "  res.rename(columns={'store_id':'3rw_frq_itm_store_id'}, inplace=True)\n",
        "  return res\n",
        "\n",
        "tr_i_2(data.copy(deep=True)).head()"
      ],
      "execution_count": null,
      "outputs": [
        {
          "output_type": "execute_result",
          "data": {
            "text/html": [
              "<div>\n",
              "<style scoped>\n",
              "    .dataframe tbody tr th:only-of-type {\n",
              "        vertical-align: middle;\n",
              "    }\n",
              "\n",
              "    .dataframe tbody tr th {\n",
              "        vertical-align: top;\n",
              "    }\n",
              "\n",
              "    .dataframe thead th {\n",
              "        text-align: right;\n",
              "    }\n",
              "</style>\n",
              "<table border=\"1\" class=\"dataframe\">\n",
              "  <thead>\n",
              "    <tr style=\"text-align: right;\">\n",
              "      <th></th>\n",
              "      <th>item_id</th>\n",
              "      <th>3rw_frq_itm_store_id</th>\n",
              "    </tr>\n",
              "  </thead>\n",
              "  <tbody>\n",
              "    <tr>\n",
              "      <th>0</th>\n",
              "      <td>29512</td>\n",
              "      <td>3217</td>\n",
              "    </tr>\n",
              "    <tr>\n",
              "      <th>1</th>\n",
              "      <td>32392</td>\n",
              "      <td>3262</td>\n",
              "    </tr>\n",
              "    <tr>\n",
              "      <th>2</th>\n",
              "      <td>32439</td>\n",
              "      <td>3072</td>\n",
              "    </tr>\n",
              "    <tr>\n",
              "      <th>3</th>\n",
              "      <td>34873</td>\n",
              "      <td>3262</td>\n",
              "    </tr>\n",
              "    <tr>\n",
              "      <th>4</th>\n",
              "      <td>40405</td>\n",
              "      <td>3131</td>\n",
              "    </tr>\n",
              "  </tbody>\n",
              "</table>\n",
              "</div>"
            ],
            "text/plain": [
              "   item_id  3rw_frq_itm_store_id\n",
              "0    29512                  3217\n",
              "1    32392                  3262\n",
              "2    32439                  3072\n",
              "3    34873                  3262\n",
              "4    40405                  3131"
            ]
          },
          "metadata": {
            "tags": []
          },
          "execution_count": 24
        }
      ]
    },
    {
      "cell_type": "code",
      "metadata": {
        "colab": {
          "base_uri": "https://localhost:8080/"
        },
        "id": "Lo0ApomzTS6r",
        "outputId": "9a234809-c1de-4349-975f-e685d0e7288a"
      },
      "source": [
        "data.store_id.max()"
      ],
      "execution_count": null,
      "outputs": [
        {
          "output_type": "execute_result",
          "data": {
            "text/plain": [
              "34280"
            ]
          },
          "metadata": {
            "tags": []
          },
          "execution_count": 25
        }
      ]
    },
    {
      "cell_type": "markdown",
      "metadata": {
        "id": "T6JO5GfESp-J"
      },
      "source": [
        "Количество магазинов, в которых продавался товар"
      ]
    },
    {
      "cell_type": "code",
      "metadata": {
        "colab": {
          "base_uri": "https://localhost:8080/",
          "height": 195
        },
        "id": "sERYKwNKQvjs",
        "outputId": "9b2db3ea-f2d8-4119-ed7e-6cd959b9f763"
      },
      "source": [
        "def tr_i_3(data_):\n",
        "  res = data_[['item_id', 'store_id']].groupby(['item_id'], as_index=False).nunique()\n",
        "  res.rename(columns={'store_id':'qnt_itm_store_id'}, inplace=True)\n",
        "  return res\n",
        "\n",
        "tr_i_3(data.copy(deep=True)).head()"
      ],
      "execution_count": null,
      "outputs": [
        {
          "output_type": "execute_result",
          "data": {
            "text/html": [
              "<div>\n",
              "<style scoped>\n",
              "    .dataframe tbody tr th:only-of-type {\n",
              "        vertical-align: middle;\n",
              "    }\n",
              "\n",
              "    .dataframe tbody tr th {\n",
              "        vertical-align: top;\n",
              "    }\n",
              "\n",
              "    .dataframe thead th {\n",
              "        text-align: right;\n",
              "    }\n",
              "</style>\n",
              "<table border=\"1\" class=\"dataframe\">\n",
              "  <thead>\n",
              "    <tr style=\"text-align: right;\">\n",
              "      <th></th>\n",
              "      <th>item_id</th>\n",
              "      <th>qnt_itm_store_id</th>\n",
              "    </tr>\n",
              "  </thead>\n",
              "  <tbody>\n",
              "    <tr>\n",
              "      <th>0</th>\n",
              "      <td>25671</td>\n",
              "      <td>3</td>\n",
              "    </tr>\n",
              "    <tr>\n",
              "      <th>1</th>\n",
              "      <td>26081</td>\n",
              "      <td>1</td>\n",
              "    </tr>\n",
              "    <tr>\n",
              "      <th>2</th>\n",
              "      <td>26093</td>\n",
              "      <td>1</td>\n",
              "    </tr>\n",
              "    <tr>\n",
              "      <th>3</th>\n",
              "      <td>26190</td>\n",
              "      <td>1</td>\n",
              "    </tr>\n",
              "    <tr>\n",
              "      <th>4</th>\n",
              "      <td>26355</td>\n",
              "      <td>1</td>\n",
              "    </tr>\n",
              "  </tbody>\n",
              "</table>\n",
              "</div>"
            ],
            "text/plain": [
              "   item_id  qnt_itm_store_id\n",
              "0    25671                 3\n",
              "1    26081                 1\n",
              "2    26093                 1\n",
              "3    26190                 1\n",
              "4    26355                 1"
            ]
          },
          "metadata": {
            "tags": []
          },
          "execution_count": 26
        }
      ]
    },
    {
      "cell_type": "code",
      "metadata": {
        "colab": {
          "base_uri": "https://localhost:8080/",
          "height": 195
        },
        "id": "9pCKbL2CQvhb",
        "outputId": "607d5828-71b5-492b-cba2-55e2a57ead6f"
      },
      "source": [
        "def tr_i_4(data_):\n",
        "  max_week = data_.week_no.max()\n",
        "  data_ = data_[data_.week_no > max_week - 3]\n",
        "  res = data_[['item_id', 'store_id']].groupby(['item_id'], as_index=False).nunique()\n",
        "  res.rename(columns={'store_id':'3rw_qnt_itm_store_id'}, inplace=True)\n",
        "  return res\n",
        "\n",
        "tr_i_4(data.copy(deep=True)).head()"
      ],
      "execution_count": null,
      "outputs": [
        {
          "output_type": "execute_result",
          "data": {
            "text/html": [
              "<div>\n",
              "<style scoped>\n",
              "    .dataframe tbody tr th:only-of-type {\n",
              "        vertical-align: middle;\n",
              "    }\n",
              "\n",
              "    .dataframe tbody tr th {\n",
              "        vertical-align: top;\n",
              "    }\n",
              "\n",
              "    .dataframe thead th {\n",
              "        text-align: right;\n",
              "    }\n",
              "</style>\n",
              "<table border=\"1\" class=\"dataframe\">\n",
              "  <thead>\n",
              "    <tr style=\"text-align: right;\">\n",
              "      <th></th>\n",
              "      <th>item_id</th>\n",
              "      <th>3rw_qnt_itm_store_id</th>\n",
              "    </tr>\n",
              "  </thead>\n",
              "  <tbody>\n",
              "    <tr>\n",
              "      <th>0</th>\n",
              "      <td>29512</td>\n",
              "      <td>1</td>\n",
              "    </tr>\n",
              "    <tr>\n",
              "      <th>1</th>\n",
              "      <td>32392</td>\n",
              "      <td>1</td>\n",
              "    </tr>\n",
              "    <tr>\n",
              "      <th>2</th>\n",
              "      <td>32439</td>\n",
              "      <td>1</td>\n",
              "    </tr>\n",
              "    <tr>\n",
              "      <th>3</th>\n",
              "      <td>34873</td>\n",
              "      <td>1</td>\n",
              "    </tr>\n",
              "    <tr>\n",
              "      <th>4</th>\n",
              "      <td>40405</td>\n",
              "      <td>1</td>\n",
              "    </tr>\n",
              "  </tbody>\n",
              "</table>\n",
              "</div>"
            ],
            "text/plain": [
              "   item_id  3rw_qnt_itm_store_id\n",
              "0    29512                     1\n",
              "1    32392                     1\n",
              "2    32439                     1\n",
              "3    34873                     1\n",
              "4    40405                     1"
            ]
          },
          "metadata": {
            "tags": []
          },
          "execution_count": 27
        }
      ]
    },
    {
      "cell_type": "markdown",
      "metadata": {
        "id": "u8EEKcwsfyUx"
      },
      "source": [
        "Сколько в среднем продавалось товара в неделю"
      ]
    },
    {
      "cell_type": "code",
      "metadata": {
        "colab": {
          "base_uri": "https://localhost:8080/",
          "height": 195
        },
        "id": "fWGOoBjWfx4F",
        "outputId": "379f96c2-f00c-4acf-d09f-abcc4a769403"
      },
      "source": [
        "def tr_i_5(data_):\n",
        "  res = data_[['item_id', 'quantity']].groupby(['item_id'], as_index=False).sum()\n",
        "  res['quantity'] = res['quantity']/week_qnt(data_)\n",
        "  res.rename(columns={'quantity':'wly_quantity'}, inplace=True)\n",
        "  return res\n",
        "\n",
        "tr_i_5(data.copy(deep=True)).head()"
      ],
      "execution_count": null,
      "outputs": [
        {
          "output_type": "execute_result",
          "data": {
            "text/html": [
              "<div>\n",
              "<style scoped>\n",
              "    .dataframe tbody tr th:only-of-type {\n",
              "        vertical-align: middle;\n",
              "    }\n",
              "\n",
              "    .dataframe tbody tr th {\n",
              "        vertical-align: top;\n",
              "    }\n",
              "\n",
              "    .dataframe thead th {\n",
              "        text-align: right;\n",
              "    }\n",
              "</style>\n",
              "<table border=\"1\" class=\"dataframe\">\n",
              "  <thead>\n",
              "    <tr style=\"text-align: right;\">\n",
              "      <th></th>\n",
              "      <th>item_id</th>\n",
              "      <th>wly_quantity</th>\n",
              "    </tr>\n",
              "  </thead>\n",
              "  <tbody>\n",
              "    <tr>\n",
              "      <th>0</th>\n",
              "      <td>25671</td>\n",
              "      <td>0.063158</td>\n",
              "    </tr>\n",
              "    <tr>\n",
              "      <th>1</th>\n",
              "      <td>26081</td>\n",
              "      <td>0.010526</td>\n",
              "    </tr>\n",
              "    <tr>\n",
              "      <th>2</th>\n",
              "      <td>26093</td>\n",
              "      <td>0.010526</td>\n",
              "    </tr>\n",
              "    <tr>\n",
              "      <th>3</th>\n",
              "      <td>26190</td>\n",
              "      <td>0.010526</td>\n",
              "    </tr>\n",
              "    <tr>\n",
              "      <th>4</th>\n",
              "      <td>26355</td>\n",
              "      <td>0.021053</td>\n",
              "    </tr>\n",
              "  </tbody>\n",
              "</table>\n",
              "</div>"
            ],
            "text/plain": [
              "   item_id  wly_quantity\n",
              "0    25671      0.063158\n",
              "1    26081      0.010526\n",
              "2    26093      0.010526\n",
              "3    26190      0.010526\n",
              "4    26355      0.021053"
            ]
          },
          "metadata": {
            "tags": []
          },
          "execution_count": 28
        }
      ]
    },
    {
      "cell_type": "code",
      "metadata": {
        "colab": {
          "base_uri": "https://localhost:8080/",
          "height": 195
        },
        "id": "pIzPjZrXfxqZ",
        "outputId": "82563b19-b5bf-4a0c-d64d-48c0d0710b52"
      },
      "source": [
        "def tr_i_6(data_):\n",
        "  max_week = data_.week_no.max()\n",
        "  data_ = data_[data_.week_no > max_week - 3]\n",
        "  res = data_[['item_id', 'quantity']].groupby(['item_id'], as_index=False).sum()\n",
        "  res['quantity'] = res['quantity']/week_qnt(data_)\n",
        "  res.rename(columns={'quantity':'3rw_wly_quantity'}, inplace=True)\n",
        "  return res\n",
        "\n",
        "tr_i_6(data.copy(deep=True)).head()"
      ],
      "execution_count": null,
      "outputs": [
        {
          "output_type": "execute_result",
          "data": {
            "text/html": [
              "<div>\n",
              "<style scoped>\n",
              "    .dataframe tbody tr th:only-of-type {\n",
              "        vertical-align: middle;\n",
              "    }\n",
              "\n",
              "    .dataframe tbody tr th {\n",
              "        vertical-align: top;\n",
              "    }\n",
              "\n",
              "    .dataframe thead th {\n",
              "        text-align: right;\n",
              "    }\n",
              "</style>\n",
              "<table border=\"1\" class=\"dataframe\">\n",
              "  <thead>\n",
              "    <tr style=\"text-align: right;\">\n",
              "      <th></th>\n",
              "      <th>item_id</th>\n",
              "      <th>3rw_wly_quantity</th>\n",
              "    </tr>\n",
              "  </thead>\n",
              "  <tbody>\n",
              "    <tr>\n",
              "      <th>0</th>\n",
              "      <td>29512</td>\n",
              "      <td>0.333333</td>\n",
              "    </tr>\n",
              "    <tr>\n",
              "      <th>1</th>\n",
              "      <td>32392</td>\n",
              "      <td>0.333333</td>\n",
              "    </tr>\n",
              "    <tr>\n",
              "      <th>2</th>\n",
              "      <td>32439</td>\n",
              "      <td>0.333333</td>\n",
              "    </tr>\n",
              "    <tr>\n",
              "      <th>3</th>\n",
              "      <td>34873</td>\n",
              "      <td>0.333333</td>\n",
              "    </tr>\n",
              "    <tr>\n",
              "      <th>4</th>\n",
              "      <td>40405</td>\n",
              "      <td>0.333333</td>\n",
              "    </tr>\n",
              "  </tbody>\n",
              "</table>\n",
              "</div>"
            ],
            "text/plain": [
              "   item_id  3rw_wly_quantity\n",
              "0    29512          0.333333\n",
              "1    32392          0.333333\n",
              "2    32439          0.333333\n",
              "3    34873          0.333333\n",
              "4    40405          0.333333"
            ]
          },
          "metadata": {
            "tags": []
          },
          "execution_count": 29
        }
      ]
    },
    {
      "cell_type": "code",
      "metadata": {
        "colab": {
          "base_uri": "https://localhost:8080/",
          "height": 195
        },
        "id": "ynDi1ncPhp7H",
        "outputId": "841cad0c-c401-4d61-d935-53796b207264"
      },
      "source": [
        "def tr_i_7(data_):\n",
        "  res = data_[['item_id', 'sales_value']].groupby(['item_id'], as_index=False).sum()\n",
        "  res['sales_value'] = res['sales_value']/week_qnt(data_)\n",
        "  res.rename(columns={'sales_value':'itm_total_sales_value'}, inplace=True)\n",
        "  return res\n",
        "\n",
        "tr_i_7(data.copy(deep=True)).head()"
      ],
      "execution_count": null,
      "outputs": [
        {
          "output_type": "execute_result",
          "data": {
            "text/html": [
              "<div>\n",
              "<style scoped>\n",
              "    .dataframe tbody tr th:only-of-type {\n",
              "        vertical-align: middle;\n",
              "    }\n",
              "\n",
              "    .dataframe tbody tr th {\n",
              "        vertical-align: top;\n",
              "    }\n",
              "\n",
              "    .dataframe thead th {\n",
              "        text-align: right;\n",
              "    }\n",
              "</style>\n",
              "<table border=\"1\" class=\"dataframe\">\n",
              "  <thead>\n",
              "    <tr style=\"text-align: right;\">\n",
              "      <th></th>\n",
              "      <th>item_id</th>\n",
              "      <th>itm_total_sales_value</th>\n",
              "    </tr>\n",
              "  </thead>\n",
              "  <tbody>\n",
              "    <tr>\n",
              "      <th>0</th>\n",
              "      <td>25671</td>\n",
              "      <td>0.220421</td>\n",
              "    </tr>\n",
              "    <tr>\n",
              "      <th>1</th>\n",
              "      <td>26081</td>\n",
              "      <td>0.010421</td>\n",
              "    </tr>\n",
              "    <tr>\n",
              "      <th>2</th>\n",
              "      <td>26093</td>\n",
              "      <td>0.016737</td>\n",
              "    </tr>\n",
              "    <tr>\n",
              "      <th>3</th>\n",
              "      <td>26190</td>\n",
              "      <td>0.016211</td>\n",
              "    </tr>\n",
              "    <tr>\n",
              "      <th>4</th>\n",
              "      <td>26355</td>\n",
              "      <td>0.020842</td>\n",
              "    </tr>\n",
              "  </tbody>\n",
              "</table>\n",
              "</div>"
            ],
            "text/plain": [
              "   item_id  itm_total_sales_value\n",
              "0    25671               0.220421\n",
              "1    26081               0.010421\n",
              "2    26093               0.016737\n",
              "3    26190               0.016211\n",
              "4    26355               0.020842"
            ]
          },
          "metadata": {
            "tags": []
          },
          "execution_count": 30
        }
      ]
    },
    {
      "cell_type": "code",
      "metadata": {
        "colab": {
          "base_uri": "https://localhost:8080/",
          "height": 195
        },
        "id": "R8IDHXN0h8-L",
        "outputId": "687b82bb-522b-4594-a234-b5e94374803f"
      },
      "source": [
        "def tr_i_8(data_):\n",
        "  max_week = data_.week_no.max()\n",
        "  data_ = data_[data_.week_no > max_week - 3]\n",
        "  res = data_[['item_id', 'sales_value']].groupby(['item_id'], as_index=False).sum()\n",
        "  res['sales_value'] = res['sales_value']/week_qnt(data_)\n",
        "  res.rename(columns={'sales_value':'3rw_itm_total_sales_value'}, inplace=True)\n",
        "  return res\n",
        "\n",
        "tr_i_8(data.copy(deep=True)).head()"
      ],
      "execution_count": null,
      "outputs": [
        {
          "output_type": "execute_result",
          "data": {
            "text/html": [
              "<div>\n",
              "<style scoped>\n",
              "    .dataframe tbody tr th:only-of-type {\n",
              "        vertical-align: middle;\n",
              "    }\n",
              "\n",
              "    .dataframe tbody tr th {\n",
              "        vertical-align: top;\n",
              "    }\n",
              "\n",
              "    .dataframe thead th {\n",
              "        text-align: right;\n",
              "    }\n",
              "</style>\n",
              "<table border=\"1\" class=\"dataframe\">\n",
              "  <thead>\n",
              "    <tr style=\"text-align: right;\">\n",
              "      <th></th>\n",
              "      <th>item_id</th>\n",
              "      <th>3rw_itm_total_sales_value</th>\n",
              "    </tr>\n",
              "  </thead>\n",
              "  <tbody>\n",
              "    <tr>\n",
              "      <th>0</th>\n",
              "      <td>29512</td>\n",
              "      <td>0.330000</td>\n",
              "    </tr>\n",
              "    <tr>\n",
              "      <th>1</th>\n",
              "      <td>32392</td>\n",
              "      <td>0.463333</td>\n",
              "    </tr>\n",
              "    <tr>\n",
              "      <th>2</th>\n",
              "      <td>32439</td>\n",
              "      <td>0.626667</td>\n",
              "    </tr>\n",
              "    <tr>\n",
              "      <th>3</th>\n",
              "      <td>34873</td>\n",
              "      <td>0.663333</td>\n",
              "    </tr>\n",
              "    <tr>\n",
              "      <th>4</th>\n",
              "      <td>40405</td>\n",
              "      <td>0.750000</td>\n",
              "    </tr>\n",
              "  </tbody>\n",
              "</table>\n",
              "</div>"
            ],
            "text/plain": [
              "   item_id  3rw_itm_total_sales_value\n",
              "0    29512                   0.330000\n",
              "1    32392                   0.463333\n",
              "2    32439                   0.626667\n",
              "3    34873                   0.663333\n",
              "4    40405                   0.750000"
            ]
          },
          "metadata": {
            "tags": []
          },
          "execution_count": 31
        }
      ]
    },
    {
      "cell_type": "markdown",
      "metadata": {
        "id": "ClaZa9o5VW0J"
      },
      "source": [
        "Готовим таблицы с фичами"
      ]
    },
    {
      "cell_type": "code",
      "metadata": {
        "colab": {
          "base_uri": "https://localhost:8080/",
          "height": 106
        },
        "id": "C-WM4nqLQvfD",
        "outputId": "cb33c8a9-0aee-4b63-f962-ac4bce43ec6a"
      },
      "source": [
        "item_features.head(2)"
      ],
      "execution_count": null,
      "outputs": [
        {
          "output_type": "execute_result",
          "data": {
            "text/html": [
              "<div>\n",
              "<style scoped>\n",
              "    .dataframe tbody tr th:only-of-type {\n",
              "        vertical-align: middle;\n",
              "    }\n",
              "\n",
              "    .dataframe tbody tr th {\n",
              "        vertical-align: top;\n",
              "    }\n",
              "\n",
              "    .dataframe thead th {\n",
              "        text-align: right;\n",
              "    }\n",
              "</style>\n",
              "<table border=\"1\" class=\"dataframe\">\n",
              "  <thead>\n",
              "    <tr style=\"text-align: right;\">\n",
              "      <th></th>\n",
              "      <th>item_id</th>\n",
              "      <th>manufacturer</th>\n",
              "      <th>department</th>\n",
              "      <th>brand</th>\n",
              "      <th>commodity_desc</th>\n",
              "      <th>sub_commodity_desc</th>\n",
              "      <th>curr_size_of_product</th>\n",
              "    </tr>\n",
              "  </thead>\n",
              "  <tbody>\n",
              "    <tr>\n",
              "      <th>0</th>\n",
              "      <td>25671</td>\n",
              "      <td>2</td>\n",
              "      <td>GROCERY</td>\n",
              "      <td>National</td>\n",
              "      <td>FRZN ICE</td>\n",
              "      <td>ICE - CRUSHED/CUBED</td>\n",
              "      <td>22 LB</td>\n",
              "    </tr>\n",
              "    <tr>\n",
              "      <th>1</th>\n",
              "      <td>26081</td>\n",
              "      <td>2</td>\n",
              "      <td>MISC. TRANS.</td>\n",
              "      <td>National</td>\n",
              "      <td>NO COMMODITY DESCRIPTION</td>\n",
              "      <td>NO SUBCOMMODITY DESCRIPTION</td>\n",
              "      <td></td>\n",
              "    </tr>\n",
              "  </tbody>\n",
              "</table>\n",
              "</div>"
            ],
            "text/plain": [
              "   item_id  manufacturer  ...           sub_commodity_desc curr_size_of_product\n",
              "0    25671             2  ...          ICE - CRUSHED/CUBED                22 LB\n",
              "1    26081             2  ...  NO SUBCOMMODITY DESCRIPTION                     \n",
              "\n",
              "[2 rows x 7 columns]"
            ]
          },
          "metadata": {
            "tags": []
          },
          "execution_count": 32
        }
      ]
    },
    {
      "cell_type": "code",
      "metadata": {
        "colab": {
          "base_uri": "https://localhost:8080/"
        },
        "id": "M0-rO9WAwQoS",
        "outputId": "b23ca471-0248-44a7-f72e-1d8bdc44164c"
      },
      "source": [
        "item_features.shape"
      ],
      "execution_count": null,
      "outputs": [
        {
          "output_type": "execute_result",
          "data": {
            "text/plain": [
              "(92353, 7)"
            ]
          },
          "metadata": {
            "tags": []
          },
          "execution_count": 33
        }
      ]
    },
    {
      "cell_type": "code",
      "metadata": {
        "colab": {
          "base_uri": "https://localhost:8080/"
        },
        "id": "QCo0DwIzwUpG",
        "outputId": "5053dca3-9a3a-4c02-d8ac-55e8d7811f13"
      },
      "source": [
        "set(data.item_id.unique()) - set(item_features.item_id.unique())"
      ],
      "execution_count": null,
      "outputs": [
        {
          "output_type": "execute_result",
          "data": {
            "text/plain": [
              "set()"
            ]
          },
          "metadata": {
            "tags": []
          },
          "execution_count": 34
        }
      ]
    },
    {
      "cell_type": "code",
      "metadata": {
        "colab": {
          "base_uri": "https://localhost:8080/"
        },
        "id": "q6o5JKKVwwJ3",
        "outputId": "4e244508-2a8f-433d-e663-5b7fc0af7ee1"
      },
      "source": [
        "len(set(item_features.item_id.unique()) - set(data.item_id.unique()))"
      ],
      "execution_count": null,
      "outputs": [
        {
          "output_type": "execute_result",
          "data": {
            "text/plain": [
              "3302"
            ]
          },
          "metadata": {
            "tags": []
          },
          "execution_count": 35
        }
      ]
    },
    {
      "cell_type": "markdown",
      "metadata": {
        "id": "LtsG3IhHw6d8"
      },
      "source": [
        "Все товары, которые есть в тренировочном датасете, есть и в наборе item_features"
      ]
    },
    {
      "cell_type": "code",
      "metadata": {
        "colab": {
          "base_uri": "https://localhost:8080/"
        },
        "id": "-Ms2FPt_xHO8",
        "outputId": "484b53ff-d618-4a8c-99aa-c08dff65e701"
      },
      "source": [
        "set(data_lb.item_id.unique()) - set(item_features.item_id.unique())"
      ],
      "execution_count": null,
      "outputs": [
        {
          "output_type": "execute_result",
          "data": {
            "text/plain": [
              "set()"
            ]
          },
          "metadata": {
            "tags": []
          },
          "execution_count": 36
        }
      ]
    },
    {
      "cell_type": "markdown",
      "metadata": {
        "id": "QF0PZtGhxPDY"
      },
      "source": [
        "\"Заглянув в будущее\" то же можно сказать и о тестовом сете"
      ]
    },
    {
      "cell_type": "code",
      "metadata": {
        "colab": {
          "base_uri": "https://localhost:8080/",
          "height": 77
        },
        "id": "nyAWXuBwEdhO",
        "outputId": "32c52992-17a1-478e-d439-72c0317aab3d"
      },
      "source": [
        "item_features[item_features.item_id==1049998]"
      ],
      "execution_count": null,
      "outputs": [
        {
          "output_type": "execute_result",
          "data": {
            "text/html": [
              "<div>\n",
              "<style scoped>\n",
              "    .dataframe tbody tr th:only-of-type {\n",
              "        vertical-align: middle;\n",
              "    }\n",
              "\n",
              "    .dataframe tbody tr th {\n",
              "        vertical-align: top;\n",
              "    }\n",
              "\n",
              "    .dataframe thead th {\n",
              "        text-align: right;\n",
              "    }\n",
              "</style>\n",
              "<table border=\"1\" class=\"dataframe\">\n",
              "  <thead>\n",
              "    <tr style=\"text-align: right;\">\n",
              "      <th></th>\n",
              "      <th>item_id</th>\n",
              "      <th>manufacturer</th>\n",
              "      <th>department</th>\n",
              "      <th>brand</th>\n",
              "      <th>commodity_desc</th>\n",
              "      <th>sub_commodity_desc</th>\n",
              "      <th>curr_size_of_product</th>\n",
              "    </tr>\n",
              "  </thead>\n",
              "  <tbody>\n",
              "    <tr>\n",
              "      <th>31963</th>\n",
              "      <td>1049998</td>\n",
              "      <td>348</td>\n",
              "      <td>DRUG GM</td>\n",
              "      <td>National</td>\n",
              "      <td>CANDY - PACKAGED</td>\n",
              "      <td>GUM (PACKAGED)</td>\n",
              "      <td></td>\n",
              "    </tr>\n",
              "  </tbody>\n",
              "</table>\n",
              "</div>"
            ],
            "text/plain": [
              "       item_id  manufacturer  ... sub_commodity_desc curr_size_of_product\n",
              "31963  1049998           348  ...     GUM (PACKAGED)                     \n",
              "\n",
              "[1 rows x 7 columns]"
            ]
          },
          "metadata": {
            "tags": []
          },
          "execution_count": 37
        }
      ]
    },
    {
      "cell_type": "code",
      "metadata": {
        "id": "Jz4N2Pu8Qvcs"
      },
      "source": [
        "def create_itf(d_, hidden_weeks):\n",
        "  d_ = d_[d_.week_no <= d_.week_no.max() - hidden_weeks]\n",
        "  its_unique = d_.item_id.unique()\n",
        "\n",
        "  itf = pd.DataFrame({'item_id': its_unique})\n",
        "\n",
        "  for i in range(8):\n",
        "    func = eval(f'tr_i_{i+1}')\n",
        "    itf = itf.merge(func(d_.copy(deep=True)), on='item_id', how='left')\n",
        "\n",
        "  itf['itm_price'] = itf['itm_total_sales_value']/itf['wly_quantity']\n",
        "\n",
        "  itf = itf.merge(item_features.loc[item_features.item_id.isin(its_unique), ['item_id', 'department', 'brand']], on='item_id', how='left')\n",
        "  \n",
        "  return itf"
      ],
      "execution_count": null,
      "outputs": []
    },
    {
      "cell_type": "code",
      "metadata": {
        "colab": {
          "base_uri": "https://localhost:8080/",
          "height": 215
        },
        "id": "ZDgYRBjVZMTD",
        "outputId": "6351a8a4-998a-4349-9f8b-8f0d5e0e960d"
      },
      "source": [
        "items_feats_train = create_itf(data.copy(deep=True), 3)\n",
        "items_feats_train.head()"
      ],
      "execution_count": null,
      "outputs": [
        {
          "output_type": "execute_result",
          "data": {
            "text/html": [
              "<div>\n",
              "<style scoped>\n",
              "    .dataframe tbody tr th:only-of-type {\n",
              "        vertical-align: middle;\n",
              "    }\n",
              "\n",
              "    .dataframe tbody tr th {\n",
              "        vertical-align: top;\n",
              "    }\n",
              "\n",
              "    .dataframe thead th {\n",
              "        text-align: right;\n",
              "    }\n",
              "</style>\n",
              "<table border=\"1\" class=\"dataframe\">\n",
              "  <thead>\n",
              "    <tr style=\"text-align: right;\">\n",
              "      <th></th>\n",
              "      <th>item_id</th>\n",
              "      <th>frq_itm_store_id</th>\n",
              "      <th>3rw_frq_itm_store_id</th>\n",
              "      <th>qnt_itm_store_id</th>\n",
              "      <th>3rw_qnt_itm_store_id</th>\n",
              "      <th>wly_quantity</th>\n",
              "      <th>3rw_wly_quantity</th>\n",
              "      <th>itm_total_sales_value</th>\n",
              "      <th>3rw_itm_total_sales_value</th>\n",
              "      <th>itm_price</th>\n",
              "      <th>department</th>\n",
              "      <th>brand</th>\n",
              "    </tr>\n",
              "  </thead>\n",
              "  <tbody>\n",
              "    <tr>\n",
              "      <th>0</th>\n",
              "      <td>1004906</td>\n",
              "      <td>356</td>\n",
              "      <td>356.0</td>\n",
              "      <td>112</td>\n",
              "      <td>68.0</td>\n",
              "      <td>38.076087</td>\n",
              "      <td>38.000000</td>\n",
              "      <td>90.689783</td>\n",
              "      <td>102.236667</td>\n",
              "      <td>2.381804</td>\n",
              "      <td>PRODUCE</td>\n",
              "      <td>Private</td>\n",
              "    </tr>\n",
              "    <tr>\n",
              "      <th>1</th>\n",
              "      <td>1033142</td>\n",
              "      <td>367</td>\n",
              "      <td>34011.0</td>\n",
              "      <td>112</td>\n",
              "      <td>29.0</td>\n",
              "      <td>25.467391</td>\n",
              "      <td>11.333333</td>\n",
              "      <td>24.121522</td>\n",
              "      <td>10.270000</td>\n",
              "      <td>0.947153</td>\n",
              "      <td>PRODUCE</td>\n",
              "      <td>National</td>\n",
              "    </tr>\n",
              "    <tr>\n",
              "      <th>2</th>\n",
              "      <td>1036325</td>\n",
              "      <td>447</td>\n",
              "      <td>NaN</td>\n",
              "      <td>76</td>\n",
              "      <td>NaN</td>\n",
              "      <td>2.347826</td>\n",
              "      <td>NaN</td>\n",
              "      <td>3.091413</td>\n",
              "      <td>NaN</td>\n",
              "      <td>1.316713</td>\n",
              "      <td>PRODUCE</td>\n",
              "      <td>Private</td>\n",
              "    </tr>\n",
              "    <tr>\n",
              "      <th>3</th>\n",
              "      <td>1082185</td>\n",
              "      <td>367</td>\n",
              "      <td>406.0</td>\n",
              "      <td>113</td>\n",
              "      <td>105.0</td>\n",
              "      <td>298.097826</td>\n",
              "      <td>302.000000</td>\n",
              "      <td>286.356087</td>\n",
              "      <td>304.816667</td>\n",
              "      <td>0.960611</td>\n",
              "      <td>PRODUCE</td>\n",
              "      <td>National</td>\n",
              "    </tr>\n",
              "    <tr>\n",
              "      <th>4</th>\n",
              "      <td>8160430</td>\n",
              "      <td>406</td>\n",
              "      <td>34011.0</td>\n",
              "      <td>64</td>\n",
              "      <td>10.0</td>\n",
              "      <td>2.010870</td>\n",
              "      <td>3.333333</td>\n",
              "      <td>3.330326</td>\n",
              "      <td>6.300000</td>\n",
              "      <td>1.656162</td>\n",
              "      <td>PRODUCE</td>\n",
              "      <td>Private</td>\n",
              "    </tr>\n",
              "  </tbody>\n",
              "</table>\n",
              "</div>"
            ],
            "text/plain": [
              "   item_id  frq_itm_store_id  ...  department     brand\n",
              "0  1004906               356  ...     PRODUCE   Private\n",
              "1  1033142               367  ...     PRODUCE  National\n",
              "2  1036325               447  ...     PRODUCE   Private\n",
              "3  1082185               367  ...     PRODUCE  National\n",
              "4  8160430               406  ...     PRODUCE   Private\n",
              "\n",
              "[5 rows x 12 columns]"
            ]
          },
          "metadata": {
            "tags": []
          },
          "execution_count": 39
        }
      ]
    },
    {
      "cell_type": "code",
      "metadata": {
        "colab": {
          "base_uri": "https://localhost:8080/",
          "height": 97
        },
        "id": "N7o6o8ZcEA2R",
        "outputId": "580d9146-2443-4c8f-e5bc-44d542489b33"
      },
      "source": [
        "items_feats_train[items_feats_train.item_id == 1049998]"
      ],
      "execution_count": null,
      "outputs": [
        {
          "output_type": "execute_result",
          "data": {
            "text/html": [
              "<div>\n",
              "<style scoped>\n",
              "    .dataframe tbody tr th:only-of-type {\n",
              "        vertical-align: middle;\n",
              "    }\n",
              "\n",
              "    .dataframe tbody tr th {\n",
              "        vertical-align: top;\n",
              "    }\n",
              "\n",
              "    .dataframe thead th {\n",
              "        text-align: right;\n",
              "    }\n",
              "</style>\n",
              "<table border=\"1\" class=\"dataframe\">\n",
              "  <thead>\n",
              "    <tr style=\"text-align: right;\">\n",
              "      <th></th>\n",
              "      <th>item_id</th>\n",
              "      <th>frq_itm_store_id</th>\n",
              "      <th>3rw_frq_itm_store_id</th>\n",
              "      <th>qnt_itm_store_id</th>\n",
              "      <th>3rw_qnt_itm_store_id</th>\n",
              "      <th>wly_quantity</th>\n",
              "      <th>3rw_wly_quantity</th>\n",
              "      <th>itm_total_sales_value</th>\n",
              "      <th>3rw_itm_total_sales_value</th>\n",
              "      <th>itm_price</th>\n",
              "      <th>department</th>\n",
              "      <th>brand</th>\n",
              "    </tr>\n",
              "  </thead>\n",
              "  <tbody>\n",
              "    <tr>\n",
              "      <th>1514</th>\n",
              "      <td>1049998</td>\n",
              "      <td>436</td>\n",
              "      <td>436.0</td>\n",
              "      <td>20</td>\n",
              "      <td>2.0</td>\n",
              "      <td>0.619565</td>\n",
              "      <td>0.666667</td>\n",
              "      <td>1.098587</td>\n",
              "      <td>1.326667</td>\n",
              "      <td>1.773158</td>\n",
              "      <td>DRUG GM</td>\n",
              "      <td>National</td>\n",
              "    </tr>\n",
              "  </tbody>\n",
              "</table>\n",
              "</div>"
            ],
            "text/plain": [
              "      item_id  frq_itm_store_id  ...  department     brand\n",
              "1514  1049998               436  ...     DRUG GM  National\n",
              "\n",
              "[1 rows x 12 columns]"
            ]
          },
          "metadata": {
            "tags": []
          },
          "execution_count": 40
        }
      ]
    },
    {
      "cell_type": "code",
      "metadata": {
        "colab": {
          "base_uri": "https://localhost:8080/",
          "height": 35
        },
        "id": "7Erye1oneQAX",
        "outputId": "2f3ea732-08b1-4255-d4a2-3069a88d5bc8"
      },
      "source": [
        "save_obj(items_feats_train, 'items_feats_train_0')"
      ],
      "execution_count": null,
      "outputs": [
        {
          "output_type": "execute_result",
          "data": {
            "application/vnd.google.colaboratory.intrinsic+json": {
              "type": "string"
            },
            "text/plain": [
              "'gdrive/My Drive/AI/GB/RecSys/capstone/objects/items_feats_train_0.pkl'"
            ]
          },
          "metadata": {
            "tags": []
          },
          "execution_count": 41
        }
      ]
    },
    {
      "cell_type": "code",
      "metadata": {
        "id": "0_JYBhhmPsrP"
      },
      "source": [
        "data_lb_u = pd.concat([data, data_lb], ignore_index=True)"
      ],
      "execution_count": null,
      "outputs": []
    },
    {
      "cell_type": "code",
      "metadata": {
        "colab": {
          "base_uri": "https://localhost:8080/"
        },
        "id": "d3hHB5cRQjUM",
        "outputId": "f2198dfe-29a6-4f0b-b7d7-66a5034ec812"
      },
      "source": [
        "data_lb_u.shape[0] == data.shape[0] + data_lb.shape[0]"
      ],
      "execution_count": null,
      "outputs": [
        {
          "output_type": "execute_result",
          "data": {
            "text/plain": [
              "True"
            ]
          },
          "metadata": {
            "tags": []
          },
          "execution_count": 44
        }
      ]
    },
    {
      "cell_type": "code",
      "metadata": {
        "colab": {
          "base_uri": "https://localhost:8080/",
          "height": 215
        },
        "id": "2PrhfOnoZMPi",
        "outputId": "c54f4286-d048-42b0-cfd1-1581ddc9c2a1"
      },
      "source": [
        "items_feats_train_lb = create_itf(data_lb_u.copy(deep=True), hidden_weeks=3)  # Хотя мы для удобства и работаем с объединенной базой, значения тестовой баз (3 недели) \"скрыты\" при тренировке\n",
        "items_feats_train_lb.head()"
      ],
      "execution_count": null,
      "outputs": [
        {
          "output_type": "execute_result",
          "data": {
            "text/html": [
              "<div>\n",
              "<style scoped>\n",
              "    .dataframe tbody tr th:only-of-type {\n",
              "        vertical-align: middle;\n",
              "    }\n",
              "\n",
              "    .dataframe tbody tr th {\n",
              "        vertical-align: top;\n",
              "    }\n",
              "\n",
              "    .dataframe thead th {\n",
              "        text-align: right;\n",
              "    }\n",
              "</style>\n",
              "<table border=\"1\" class=\"dataframe\">\n",
              "  <thead>\n",
              "    <tr style=\"text-align: right;\">\n",
              "      <th></th>\n",
              "      <th>item_id</th>\n",
              "      <th>frq_itm_store_id</th>\n",
              "      <th>3rw_frq_itm_store_id</th>\n",
              "      <th>qnt_itm_store_id</th>\n",
              "      <th>3rw_qnt_itm_store_id</th>\n",
              "      <th>wly_quantity</th>\n",
              "      <th>3rw_wly_quantity</th>\n",
              "      <th>itm_total_sales_value</th>\n",
              "      <th>3rw_itm_total_sales_value</th>\n",
              "      <th>itm_price</th>\n",
              "      <th>department</th>\n",
              "      <th>brand</th>\n",
              "    </tr>\n",
              "  </thead>\n",
              "  <tbody>\n",
              "    <tr>\n",
              "      <th>0</th>\n",
              "      <td>1004906</td>\n",
              "      <td>356</td>\n",
              "      <td>319.0</td>\n",
              "      <td>112</td>\n",
              "      <td>79.0</td>\n",
              "      <td>38.684211</td>\n",
              "      <td>57.333333</td>\n",
              "      <td>92.268737</td>\n",
              "      <td>140.690000</td>\n",
              "      <td>2.385178</td>\n",
              "      <td>PRODUCE</td>\n",
              "      <td>Private</td>\n",
              "    </tr>\n",
              "    <tr>\n",
              "      <th>1</th>\n",
              "      <td>1033142</td>\n",
              "      <td>367</td>\n",
              "      <td>319.0</td>\n",
              "      <td>112</td>\n",
              "      <td>25.0</td>\n",
              "      <td>24.957895</td>\n",
              "      <td>9.333333</td>\n",
              "      <td>23.607474</td>\n",
              "      <td>7.843333</td>\n",
              "      <td>0.945892</td>\n",
              "      <td>PRODUCE</td>\n",
              "      <td>National</td>\n",
              "    </tr>\n",
              "    <tr>\n",
              "      <th>2</th>\n",
              "      <td>1036325</td>\n",
              "      <td>447</td>\n",
              "      <td>NaN</td>\n",
              "      <td>76</td>\n",
              "      <td>NaN</td>\n",
              "      <td>2.273684</td>\n",
              "      <td>NaN</td>\n",
              "      <td>2.993789</td>\n",
              "      <td>NaN</td>\n",
              "      <td>1.316713</td>\n",
              "      <td>PRODUCE</td>\n",
              "      <td>Private</td>\n",
              "    </tr>\n",
              "    <tr>\n",
              "      <th>3</th>\n",
              "      <td>1082185</td>\n",
              "      <td>367</td>\n",
              "      <td>367.0</td>\n",
              "      <td>113</td>\n",
              "      <td>107.0</td>\n",
              "      <td>298.778947</td>\n",
              "      <td>319.666667</td>\n",
              "      <td>287.273895</td>\n",
              "      <td>315.420000</td>\n",
              "      <td>0.961493</td>\n",
              "      <td>PRODUCE</td>\n",
              "      <td>National</td>\n",
              "    </tr>\n",
              "    <tr>\n",
              "      <th>4</th>\n",
              "      <td>8160430</td>\n",
              "      <td>406</td>\n",
              "      <td>432.0</td>\n",
              "      <td>67</td>\n",
              "      <td>17.0</td>\n",
              "      <td>2.200000</td>\n",
              "      <td>8.000000</td>\n",
              "      <td>3.701895</td>\n",
              "      <td>15.096667</td>\n",
              "      <td>1.682679</td>\n",
              "      <td>PRODUCE</td>\n",
              "      <td>Private</td>\n",
              "    </tr>\n",
              "  </tbody>\n",
              "</table>\n",
              "</div>"
            ],
            "text/plain": [
              "   item_id  frq_itm_store_id  ...  department     brand\n",
              "0  1004906               356  ...     PRODUCE   Private\n",
              "1  1033142               367  ...     PRODUCE  National\n",
              "2  1036325               447  ...     PRODUCE   Private\n",
              "3  1082185               367  ...     PRODUCE  National\n",
              "4  8160430               406  ...     PRODUCE   Private\n",
              "\n",
              "[5 rows x 12 columns]"
            ]
          },
          "metadata": {
            "tags": []
          },
          "execution_count": 45
        }
      ]
    },
    {
      "cell_type": "code",
      "metadata": {
        "colab": {
          "base_uri": "https://localhost:8080/",
          "height": 35
        },
        "id": "sC2dt9MGea6W",
        "outputId": "63d4ffe0-506f-43eb-f4a3-bf69e0ec07f6"
      },
      "source": [
        "save_obj(items_feats_train_lb, 'items_feats_train_lb_0')"
      ],
      "execution_count": null,
      "outputs": [
        {
          "output_type": "execute_result",
          "data": {
            "application/vnd.google.colaboratory.intrinsic+json": {
              "type": "string"
            },
            "text/plain": [
              "'gdrive/My Drive/AI/GB/RecSys/capstone/objects/items_feats_train_lb_0.pkl'"
            ]
          },
          "metadata": {
            "tags": []
          },
          "execution_count": 46
        }
      ]
    },
    {
      "cell_type": "code",
      "metadata": {
        "colab": {
          "base_uri": "https://localhost:8080/",
          "height": 195
        },
        "id": "uZH0D1WXvKmD",
        "outputId": "82e7eb1a-14ee-43cd-a326-212111870eca"
      },
      "source": [
        "user_features.head()"
      ],
      "execution_count": null,
      "outputs": [
        {
          "output_type": "execute_result",
          "data": {
            "text/html": [
              "<div>\n",
              "<style scoped>\n",
              "    .dataframe tbody tr th:only-of-type {\n",
              "        vertical-align: middle;\n",
              "    }\n",
              "\n",
              "    .dataframe tbody tr th {\n",
              "        vertical-align: top;\n",
              "    }\n",
              "\n",
              "    .dataframe thead th {\n",
              "        text-align: right;\n",
              "    }\n",
              "</style>\n",
              "<table border=\"1\" class=\"dataframe\">\n",
              "  <thead>\n",
              "    <tr style=\"text-align: right;\">\n",
              "      <th></th>\n",
              "      <th>age_desc</th>\n",
              "      <th>marital_status_code</th>\n",
              "      <th>income_desc</th>\n",
              "      <th>homeowner_desc</th>\n",
              "      <th>hh_comp_desc</th>\n",
              "      <th>household_size_desc</th>\n",
              "      <th>kid_category_desc</th>\n",
              "      <th>user_id</th>\n",
              "    </tr>\n",
              "  </thead>\n",
              "  <tbody>\n",
              "    <tr>\n",
              "      <th>0</th>\n",
              "      <td>65+</td>\n",
              "      <td>A</td>\n",
              "      <td>35-49K</td>\n",
              "      <td>Homeowner</td>\n",
              "      <td>2 Adults No Kids</td>\n",
              "      <td>2</td>\n",
              "      <td>None/Unknown</td>\n",
              "      <td>1</td>\n",
              "    </tr>\n",
              "    <tr>\n",
              "      <th>1</th>\n",
              "      <td>45-54</td>\n",
              "      <td>A</td>\n",
              "      <td>50-74K</td>\n",
              "      <td>Homeowner</td>\n",
              "      <td>2 Adults No Kids</td>\n",
              "      <td>2</td>\n",
              "      <td>None/Unknown</td>\n",
              "      <td>7</td>\n",
              "    </tr>\n",
              "    <tr>\n",
              "      <th>2</th>\n",
              "      <td>25-34</td>\n",
              "      <td>U</td>\n",
              "      <td>25-34K</td>\n",
              "      <td>Unknown</td>\n",
              "      <td>2 Adults Kids</td>\n",
              "      <td>3</td>\n",
              "      <td>1</td>\n",
              "      <td>8</td>\n",
              "    </tr>\n",
              "    <tr>\n",
              "      <th>3</th>\n",
              "      <td>25-34</td>\n",
              "      <td>U</td>\n",
              "      <td>75-99K</td>\n",
              "      <td>Homeowner</td>\n",
              "      <td>2 Adults Kids</td>\n",
              "      <td>4</td>\n",
              "      <td>2</td>\n",
              "      <td>13</td>\n",
              "    </tr>\n",
              "    <tr>\n",
              "      <th>4</th>\n",
              "      <td>45-54</td>\n",
              "      <td>B</td>\n",
              "      <td>50-74K</td>\n",
              "      <td>Homeowner</td>\n",
              "      <td>Single Female</td>\n",
              "      <td>1</td>\n",
              "      <td>None/Unknown</td>\n",
              "      <td>16</td>\n",
              "    </tr>\n",
              "  </tbody>\n",
              "</table>\n",
              "</div>"
            ],
            "text/plain": [
              "  age_desc marital_status_code  ... kid_category_desc user_id\n",
              "0      65+                   A  ...      None/Unknown       1\n",
              "1    45-54                   A  ...      None/Unknown       7\n",
              "2    25-34                   U  ...                 1       8\n",
              "3    25-34                   U  ...                 2      13\n",
              "4    45-54                   B  ...      None/Unknown      16\n",
              "\n",
              "[5 rows x 8 columns]"
            ]
          },
          "metadata": {
            "tags": []
          },
          "execution_count": 47
        }
      ]
    },
    {
      "cell_type": "code",
      "metadata": {
        "colab": {
          "base_uri": "https://localhost:8080/"
        },
        "id": "n0iiRLNvvi5B",
        "outputId": "e9e9bcc0-a40b-43a7-cc8e-dff5c87f42c5"
      },
      "source": [
        "user_features.shape"
      ],
      "execution_count": null,
      "outputs": [
        {
          "output_type": "execute_result",
          "data": {
            "text/plain": [
              "(801, 8)"
            ]
          },
          "metadata": {
            "tags": []
          },
          "execution_count": 48
        }
      ]
    },
    {
      "cell_type": "code",
      "metadata": {
        "colab": {
          "base_uri": "https://localhost:8080/"
        },
        "id": "INdgatvLxyrz",
        "outputId": "bb319e0b-4033-4010-83a1-b6341f25d91f"
      },
      "source": [
        "len(set(data.user_id.unique()) - set(user_features.user_id.unique()))"
      ],
      "execution_count": null,
      "outputs": [
        {
          "output_type": "execute_result",
          "data": {
            "text/plain": [
              "1698"
            ]
          },
          "metadata": {
            "tags": []
          },
          "execution_count": 49
        }
      ]
    },
    {
      "cell_type": "code",
      "metadata": {
        "colab": {
          "base_uri": "https://localhost:8080/"
        },
        "id": "dZjC4q8Yxyob",
        "outputId": "28a3bf93-ade6-4fcd-c9b4-6fb5a50a489d"
      },
      "source": [
        "len(set(data.user_id.unique()))"
      ],
      "execution_count": null,
      "outputs": [
        {
          "output_type": "execute_result",
          "data": {
            "text/plain": [
              "2499"
            ]
          },
          "metadata": {
            "tags": []
          },
          "execution_count": 50
        }
      ]
    },
    {
      "cell_type": "markdown",
      "metadata": {
        "id": "XWbnvowbySvT"
      },
      "source": [
        "У нас очень мало дополнительной информации по юзерам.      \n",
        "Из 2499 уникальных юзеров отсутствует инфо по 1698 (67%)"
      ]
    },
    {
      "cell_type": "code",
      "metadata": {
        "colab": {
          "base_uri": "https://localhost:8080/"
        },
        "id": "SV0Ref5HvSan",
        "outputId": "9dc072f5-2c1b-461e-f962-aaef693805c7"
      },
      "source": [
        "user_features.homeowner_desc.value_counts()"
      ],
      "execution_count": null,
      "outputs": [
        {
          "output_type": "execute_result",
          "data": {
            "text/plain": [
              "Homeowner          504\n",
              "Unknown            233\n",
              "Renter              42\n",
              "Probable Renter     11\n",
              "Probable Owner      11\n",
              "Name: homeowner_desc, dtype: int64"
            ]
          },
          "metadata": {
            "tags": []
          },
          "execution_count": 51
        }
      ]
    },
    {
      "cell_type": "code",
      "metadata": {
        "colab": {
          "base_uri": "https://localhost:8080/"
        },
        "id": "aqLpHT77y53l",
        "outputId": "c4a9987e-3a61-4b3d-efc4-08312dfedc94"
      },
      "source": [
        "user_features.kid_category_desc.value_counts()"
      ],
      "execution_count": null,
      "outputs": [
        {
          "output_type": "execute_result",
          "data": {
            "text/plain": [
              "None/Unknown    558\n",
              "1               114\n",
              "3+               69\n",
              "2                60\n",
              "Name: kid_category_desc, dtype: int64"
            ]
          },
          "metadata": {
            "tags": []
          },
          "execution_count": 52
        }
      ]
    },
    {
      "cell_type": "code",
      "metadata": {
        "colab": {
          "base_uri": "https://localhost:8080/"
        },
        "id": "KVbLGvn3zDVf",
        "outputId": "f0747486-b043-4060-a2d3-d6d5e13db1ac"
      },
      "source": [
        "user_features.hh_comp_desc.value_counts()"
      ],
      "execution_count": null,
      "outputs": [
        {
          "output_type": "execute_result",
          "data": {
            "text/plain": [
              "2 Adults No Kids    255\n",
              "2 Adults Kids       187\n",
              "Single Female       144\n",
              "Single Male          95\n",
              "Unknown              73\n",
              "1 Adult Kids         47\n",
              "Name: hh_comp_desc, dtype: int64"
            ]
          },
          "metadata": {
            "tags": []
          },
          "execution_count": 53
        }
      ]
    },
    {
      "cell_type": "code",
      "metadata": {
        "colab": {
          "base_uri": "https://localhost:8080/"
        },
        "id": "TPAXsVfXzP5a",
        "outputId": "558cbc57-1561-4a8c-a9ee-4e8f6139b2dc"
      },
      "source": [
        "user_features.marital_status_code.value_counts()"
      ],
      "execution_count": null,
      "outputs": [
        {
          "output_type": "execute_result",
          "data": {
            "text/plain": [
              "U    344\n",
              "A    340\n",
              "B    117\n",
              "Name: marital_status_code, dtype: int64"
            ]
          },
          "metadata": {
            "tags": []
          },
          "execution_count": 54
        }
      ]
    },
    {
      "cell_type": "code",
      "metadata": {
        "colab": {
          "base_uri": "https://localhost:8080/"
        },
        "id": "_SOoex3KzZQv",
        "outputId": "2230c4e0-92a9-4278-b6c0-9d146202940f"
      },
      "source": [
        "user_features.income_desc.value_counts()"
      ],
      "execution_count": null,
      "outputs": [
        {
          "output_type": "execute_result",
          "data": {
            "text/plain": [
              "50-74K       192\n",
              "35-49K       172\n",
              "75-99K        96\n",
              "25-34K        77\n",
              "15-24K        74\n",
              "Under 15K     61\n",
              "125-149K      38\n",
              "100-124K      34\n",
              "150-174K      30\n",
              "250K+         11\n",
              "175-199K      11\n",
              "200-249K       5\n",
              "Name: income_desc, dtype: int64"
            ]
          },
          "metadata": {
            "tags": []
          },
          "execution_count": 55
        }
      ]
    },
    {
      "cell_type": "code",
      "metadata": {
        "colab": {
          "base_uri": "https://localhost:8080/"
        },
        "id": "WaJYGkTRzkhS",
        "outputId": "bc8a7f6a-6bf4-465d-babd-0b9068bdf5a9"
      },
      "source": [
        "user_features.age_desc.value_counts()"
      ],
      "execution_count": null,
      "outputs": [
        {
          "output_type": "execute_result",
          "data": {
            "text/plain": [
              "45-54    288\n",
              "35-44    194\n",
              "25-34    142\n",
              "65+       72\n",
              "55-64     59\n",
              "19-24     46\n",
              "Name: age_desc, dtype: int64"
            ]
          },
          "metadata": {
            "tags": []
          },
          "execution_count": 56
        }
      ]
    },
    {
      "cell_type": "markdown",
      "metadata": {
        "id": "eFSapLfCzwrC"
      },
      "source": [
        "Видно, что даже среди имеющихся 32% данных, часть данных также не валидна.     \n",
        "Если понадобится, в последующем можно будет попытаться использовать данные о возрасте и о доходе. Но изначально попробуем вообще эту таблицу не брать в расчет."
      ]
    },
    {
      "cell_type": "code",
      "metadata": {
        "id": "3z6a0LRjZMOH"
      },
      "source": [
        "def create_usf(data_, hidden_weeks):\n",
        "  data_ = data_[data_.week_no <= data_.week_no.max() - hidden_weeks]\n",
        "  us_unique = data_.user_id.unique()\n",
        "\n",
        "  # usf = user_features[user_features.user_id.isin(us_unique)]\n",
        "  usf = pd.DataFrame({'user_id': us_unique})\n",
        "  for i in range(6):\n",
        "    func = eval(f'tr_u_{i+1}')\n",
        "    usf = usf.merge(func(data_.copy(deep=True)), on='user_id', how='left')\n",
        "\n",
        "  usf['avg_basket_sum'] = usf['total_sales_value']/usf['basket_quantity']\n",
        "\n",
        "  return usf"
      ],
      "execution_count": null,
      "outputs": []
    },
    {
      "cell_type": "code",
      "metadata": {
        "colab": {
          "base_uri": "https://localhost:8080/",
          "height": 195
        },
        "id": "77pnoP_uZMLI",
        "outputId": "03c3a9f3-9315-4b1c-8f25-ba3b48f9fdd0"
      },
      "source": [
        "users_feats_train = create_usf(data.copy(deep=True), 3)\n",
        "users_feats_train.head()"
      ],
      "execution_count": null,
      "outputs": [
        {
          "output_type": "execute_result",
          "data": {
            "text/html": [
              "<div>\n",
              "<style scoped>\n",
              "    .dataframe tbody tr th:only-of-type {\n",
              "        vertical-align: middle;\n",
              "    }\n",
              "\n",
              "    .dataframe tbody tr th {\n",
              "        vertical-align: top;\n",
              "    }\n",
              "\n",
              "    .dataframe thead th {\n",
              "        text-align: right;\n",
              "    }\n",
              "</style>\n",
              "<table border=\"1\" class=\"dataframe\">\n",
              "  <thead>\n",
              "    <tr style=\"text-align: right;\">\n",
              "      <th></th>\n",
              "      <th>user_id</th>\n",
              "      <th>basket_quantity</th>\n",
              "      <th>3rw_basket_quantity</th>\n",
              "      <th>total_sales_value</th>\n",
              "      <th>3rw_sales_value</th>\n",
              "      <th>frq_us_store_id</th>\n",
              "      <th>3rw_frq_us_store_id</th>\n",
              "      <th>avg_basket_sum</th>\n",
              "    </tr>\n",
              "  </thead>\n",
              "  <tbody>\n",
              "    <tr>\n",
              "      <th>0</th>\n",
              "      <td>2375</td>\n",
              "      <td>6.967391</td>\n",
              "      <td>3.333333</td>\n",
              "      <td>26.654457</td>\n",
              "      <td>25.570000</td>\n",
              "      <td>364</td>\n",
              "      <td>364.0</td>\n",
              "      <td>3.825601</td>\n",
              "    </tr>\n",
              "    <tr>\n",
              "      <th>1</th>\n",
              "      <td>1364</td>\n",
              "      <td>8.923913</td>\n",
              "      <td>10.000000</td>\n",
              "      <td>24.274891</td>\n",
              "      <td>36.686667</td>\n",
              "      <td>31742</td>\n",
              "      <td>31742.0</td>\n",
              "      <td>2.720207</td>\n",
              "    </tr>\n",
              "    <tr>\n",
              "      <th>2</th>\n",
              "      <td>1130</td>\n",
              "      <td>22.239130</td>\n",
              "      <td>8.333333</td>\n",
              "      <td>60.920978</td>\n",
              "      <td>26.870000</td>\n",
              "      <td>31642</td>\n",
              "      <td>31642.0</td>\n",
              "      <td>2.739360</td>\n",
              "    </tr>\n",
              "    <tr>\n",
              "      <th>3</th>\n",
              "      <td>1173</td>\n",
              "      <td>2.260870</td>\n",
              "      <td>4.000000</td>\n",
              "      <td>7.127935</td>\n",
              "      <td>10.366667</td>\n",
              "      <td>412</td>\n",
              "      <td>412.0</td>\n",
              "      <td>3.152740</td>\n",
              "    </tr>\n",
              "    <tr>\n",
              "      <th>4</th>\n",
              "      <td>98</td>\n",
              "      <td>12.206522</td>\n",
              "      <td>33.666667</td>\n",
              "      <td>22.695217</td>\n",
              "      <td>79.110000</td>\n",
              "      <td>421</td>\n",
              "      <td>421.0</td>\n",
              "      <td>1.859270</td>\n",
              "    </tr>\n",
              "  </tbody>\n",
              "</table>\n",
              "</div>"
            ],
            "text/plain": [
              "   user_id  basket_quantity  ...  3rw_frq_us_store_id  avg_basket_sum\n",
              "0     2375         6.967391  ...                364.0        3.825601\n",
              "1     1364         8.923913  ...              31742.0        2.720207\n",
              "2     1130        22.239130  ...              31642.0        2.739360\n",
              "3     1173         2.260870  ...                412.0        3.152740\n",
              "4       98        12.206522  ...                421.0        1.859270\n",
              "\n",
              "[5 rows x 8 columns]"
            ]
          },
          "metadata": {
            "tags": []
          },
          "execution_count": 58
        }
      ]
    },
    {
      "cell_type": "code",
      "metadata": {
        "colab": {
          "base_uri": "https://localhost:8080/",
          "height": 35
        },
        "id": "08Lxh5AbehUx",
        "outputId": "08040e4b-6634-4702-c7f1-492e69ae270b"
      },
      "source": [
        "save_obj(users_feats_train, 'users_feats_train_0')"
      ],
      "execution_count": null,
      "outputs": [
        {
          "output_type": "execute_result",
          "data": {
            "application/vnd.google.colaboratory.intrinsic+json": {
              "type": "string"
            },
            "text/plain": [
              "'gdrive/My Drive/AI/GB/RecSys/capstone/objects/users_feats_train_0.pkl'"
            ]
          },
          "metadata": {
            "tags": []
          },
          "execution_count": 59
        }
      ]
    },
    {
      "cell_type": "code",
      "metadata": {
        "colab": {
          "base_uri": "https://localhost:8080/",
          "height": 195
        },
        "id": "Uew8C9Y5ZMIc",
        "outputId": "93ec2d34-55d8-41a3-8e60-b0c5ab2b4b73"
      },
      "source": [
        "users_feats_train_lb = create_usf(data_lb_u.copy(deep=True), hidden_weeks=3)  # Хотя мы для удобства и работаем с объединенной базой, значения тестовой баз (3 недели) \"скрыты\" при тренировке\n",
        "users_feats_train_lb.head()"
      ],
      "execution_count": null,
      "outputs": [
        {
          "output_type": "execute_result",
          "data": {
            "text/html": [
              "<div>\n",
              "<style scoped>\n",
              "    .dataframe tbody tr th:only-of-type {\n",
              "        vertical-align: middle;\n",
              "    }\n",
              "\n",
              "    .dataframe tbody tr th {\n",
              "        vertical-align: top;\n",
              "    }\n",
              "\n",
              "    .dataframe thead th {\n",
              "        text-align: right;\n",
              "    }\n",
              "</style>\n",
              "<table border=\"1\" class=\"dataframe\">\n",
              "  <thead>\n",
              "    <tr style=\"text-align: right;\">\n",
              "      <th></th>\n",
              "      <th>user_id</th>\n",
              "      <th>basket_quantity</th>\n",
              "      <th>3rw_basket_quantity</th>\n",
              "      <th>total_sales_value</th>\n",
              "      <th>3rw_sales_value</th>\n",
              "      <th>frq_us_store_id</th>\n",
              "      <th>3rw_frq_us_store_id</th>\n",
              "      <th>avg_basket_sum</th>\n",
              "    </tr>\n",
              "  </thead>\n",
              "  <tbody>\n",
              "    <tr>\n",
              "      <th>0</th>\n",
              "      <td>2375</td>\n",
              "      <td>6.915789</td>\n",
              "      <td>5.333333</td>\n",
              "      <td>26.172842</td>\n",
              "      <td>11.403333</td>\n",
              "      <td>364</td>\n",
              "      <td>364.0</td>\n",
              "      <td>3.784505</td>\n",
              "    </tr>\n",
              "    <tr>\n",
              "      <th>1</th>\n",
              "      <td>1364</td>\n",
              "      <td>9.105263</td>\n",
              "      <td>14.666667</td>\n",
              "      <td>24.822632</td>\n",
              "      <td>41.620000</td>\n",
              "      <td>31742</td>\n",
              "      <td>31742.0</td>\n",
              "      <td>2.726185</td>\n",
              "    </tr>\n",
              "    <tr>\n",
              "      <th>2</th>\n",
              "      <td>1130</td>\n",
              "      <td>22.326316</td>\n",
              "      <td>25.000000</td>\n",
              "      <td>61.556947</td>\n",
              "      <td>81.060000</td>\n",
              "      <td>31642</td>\n",
              "      <td>31642.0</td>\n",
              "      <td>2.757148</td>\n",
              "    </tr>\n",
              "    <tr>\n",
              "      <th>3</th>\n",
              "      <td>1173</td>\n",
              "      <td>2.189474</td>\n",
              "      <td>NaN</td>\n",
              "      <td>6.902842</td>\n",
              "      <td>NaN</td>\n",
              "      <td>412</td>\n",
              "      <td>NaN</td>\n",
              "      <td>3.152740</td>\n",
              "    </tr>\n",
              "    <tr>\n",
              "      <th>4</th>\n",
              "      <td>98</td>\n",
              "      <td>12.315789</td>\n",
              "      <td>15.666667</td>\n",
              "      <td>23.025053</td>\n",
              "      <td>33.140000</td>\n",
              "      <td>421</td>\n",
              "      <td>421.0</td>\n",
              "      <td>1.869556</td>\n",
              "    </tr>\n",
              "  </tbody>\n",
              "</table>\n",
              "</div>"
            ],
            "text/plain": [
              "   user_id  basket_quantity  ...  3rw_frq_us_store_id  avg_basket_sum\n",
              "0     2375         6.915789  ...                364.0        3.784505\n",
              "1     1364         9.105263  ...              31742.0        2.726185\n",
              "2     1130        22.326316  ...              31642.0        2.757148\n",
              "3     1173         2.189474  ...                  NaN        3.152740\n",
              "4       98        12.315789  ...                421.0        1.869556\n",
              "\n",
              "[5 rows x 8 columns]"
            ]
          },
          "metadata": {
            "tags": []
          },
          "execution_count": 60
        }
      ]
    },
    {
      "cell_type": "code",
      "metadata": {
        "colab": {
          "base_uri": "https://localhost:8080/",
          "height": 35
        },
        "id": "_EhpLTiaDfFN",
        "outputId": "f5343068-a717-452d-f959-627b2d837cde"
      },
      "source": [
        "save_obj(users_feats_train_lb, 'users_feats_train_lb_0')"
      ],
      "execution_count": null,
      "outputs": [
        {
          "output_type": "execute_result",
          "data": {
            "application/vnd.google.colaboratory.intrinsic+json": {
              "type": "string"
            },
            "text/plain": [
              "'gdrive/My Drive/AI/GB/RecSys/capstone/objects/users_feats_train_lb_0.pkl'"
            ]
          },
          "metadata": {
            "tags": []
          },
          "execution_count": 61
        }
      ]
    },
    {
      "cell_type": "markdown",
      "metadata": {
        "id": "z6XxiSH-1LkZ"
      },
      "source": [
        "# Загружаем данные с первого уровня"
      ]
    },
    {
      "cell_type": "code",
      "metadata": {
        "id": "0PnLjHDOe2Af"
      },
      "source": [
        "users_lvl_2 = load_obj('users_lvl_2_obj')\n",
        "users_lvl_2_lb = load_obj('users_lvl_2_lb_obj')"
      ],
      "execution_count": null,
      "outputs": []
    },
    {
      "cell_type": "code",
      "metadata": {
        "id": "YHh0GrvQNHQH"
      },
      "source": [
        "df=pd.DataFrame({'user_id':users_lvl_2.user_id.values.repeat(len(users_lvl_2.candidates[0])),\n",
        "                 'item_id':np.concatenate(users_lvl_2.candidates.values)})"
      ],
      "execution_count": null,
      "outputs": []
    },
    {
      "cell_type": "code",
      "metadata": {
        "id": "TLmyPdTHK2Ii"
      },
      "source": [
        "df_lb=pd.DataFrame({'user_id':users_lvl_2_lb.user_id.values.repeat(len(users_lvl_2_lb.candidates[0])),\n",
        "                 'item_id':np.concatenate(users_lvl_2_lb.candidates.values)})"
      ],
      "execution_count": null,
      "outputs": []
    },
    {
      "cell_type": "code",
      "metadata": {
        "colab": {
          "base_uri": "https://localhost:8080/",
          "height": 195
        },
        "id": "di47Ok2-NmAT",
        "outputId": "88cd42dc-04c0-4f4d-ee79-fa0038ad444d"
      },
      "source": [
        "df.head()"
      ],
      "execution_count": null,
      "outputs": [
        {
          "output_type": "execute_result",
          "data": {
            "text/html": [
              "<div>\n",
              "<style scoped>\n",
              "    .dataframe tbody tr th:only-of-type {\n",
              "        vertical-align: middle;\n",
              "    }\n",
              "\n",
              "    .dataframe tbody tr th {\n",
              "        vertical-align: top;\n",
              "    }\n",
              "\n",
              "    .dataframe thead th {\n",
              "        text-align: right;\n",
              "    }\n",
              "</style>\n",
              "<table border=\"1\" class=\"dataframe\">\n",
              "  <thead>\n",
              "    <tr style=\"text-align: right;\">\n",
              "      <th></th>\n",
              "      <th>user_id</th>\n",
              "      <th>item_id</th>\n",
              "    </tr>\n",
              "  </thead>\n",
              "  <tbody>\n",
              "    <tr>\n",
              "      <th>0</th>\n",
              "      <td>1</td>\n",
              "      <td>1049998</td>\n",
              "    </tr>\n",
              "    <tr>\n",
              "      <th>1</th>\n",
              "      <td>1</td>\n",
              "      <td>900875</td>\n",
              "    </tr>\n",
              "    <tr>\n",
              "      <th>2</th>\n",
              "      <td>1</td>\n",
              "      <td>1127831</td>\n",
              "    </tr>\n",
              "    <tr>\n",
              "      <th>3</th>\n",
              "      <td>1</td>\n",
              "      <td>852662</td>\n",
              "    </tr>\n",
              "    <tr>\n",
              "      <th>4</th>\n",
              "      <td>1</td>\n",
              "      <td>1082185</td>\n",
              "    </tr>\n",
              "  </tbody>\n",
              "</table>\n",
              "</div>"
            ],
            "text/plain": [
              "   user_id  item_id\n",
              "0        1  1049998\n",
              "1        1   900875\n",
              "2        1  1127831\n",
              "3        1   852662\n",
              "4        1  1082185"
            ]
          },
          "metadata": {
            "tags": []
          },
          "execution_count": 65
        }
      ]
    },
    {
      "cell_type": "code",
      "metadata": {
        "colab": {
          "base_uri": "https://localhost:8080/"
        },
        "id": "wax0i_g1-2la",
        "outputId": "7da7a21c-d140-42db-d5c5-69215cc25383"
      },
      "source": [
        "df.loc[df.user_id==1, 'item_id'].nunique()"
      ],
      "execution_count": null,
      "outputs": [
        {
          "output_type": "execute_result",
          "data": {
            "text/plain": [
              "100"
            ]
          },
          "metadata": {
            "tags": []
          },
          "execution_count": 66
        }
      ]
    },
    {
      "cell_type": "code",
      "metadata": {
        "colab": {
          "base_uri": "https://localhost:8080/"
        },
        "id": "2f-iMHk9CvUe",
        "outputId": "4028e9af-8fa6-44de-d8a2-32aa0bb10924"
      },
      "source": [
        "df.user_id.nunique()"
      ],
      "execution_count": null,
      "outputs": [
        {
          "output_type": "execute_result",
          "data": {
            "text/plain": [
              "2280"
            ]
          },
          "metadata": {
            "tags": []
          },
          "execution_count": 67
        }
      ]
    },
    {
      "cell_type": "code",
      "metadata": {
        "id": "regfdmOfCeAp"
      },
      "source": [
        "df_train = df[df.user_id.isin(data_train_lvl_2.user_id.values)]"
      ],
      "execution_count": null,
      "outputs": []
    },
    {
      "cell_type": "code",
      "metadata": {
        "colab": {
          "base_uri": "https://localhost:8080/"
        },
        "id": "hr4NRQ-wDDuE",
        "outputId": "453336bb-dbd0-42e0-f66e-bc6231bafc5e"
      },
      "source": [
        "df_train.user_id.nunique()"
      ],
      "execution_count": null,
      "outputs": [
        {
          "output_type": "execute_result",
          "data": {
            "text/plain": [
              "2154"
            ]
          },
          "metadata": {
            "tags": []
          },
          "execution_count": 69
        }
      ]
    },
    {
      "cell_type": "code",
      "metadata": {
        "colab": {
          "base_uri": "https://localhost:8080/",
          "height": 195
        },
        "id": "twVatmy92mcM",
        "outputId": "0295c952-8838-4a78-e88d-24e3f6b6497a"
      },
      "source": [
        "data_train_lvl_2.head()"
      ],
      "execution_count": null,
      "outputs": [
        {
          "output_type": "execute_result",
          "data": {
            "text/html": [
              "<div>\n",
              "<style scoped>\n",
              "    .dataframe tbody tr th:only-of-type {\n",
              "        vertical-align: middle;\n",
              "    }\n",
              "\n",
              "    .dataframe tbody tr th {\n",
              "        vertical-align: top;\n",
              "    }\n",
              "\n",
              "    .dataframe thead th {\n",
              "        text-align: right;\n",
              "    }\n",
              "</style>\n",
              "<table border=\"1\" class=\"dataframe\">\n",
              "  <thead>\n",
              "    <tr style=\"text-align: right;\">\n",
              "      <th></th>\n",
              "      <th>user_id</th>\n",
              "      <th>basket_id</th>\n",
              "      <th>day</th>\n",
              "      <th>item_id</th>\n",
              "      <th>quantity</th>\n",
              "      <th>sales_value</th>\n",
              "      <th>store_id</th>\n",
              "      <th>retail_disc</th>\n",
              "      <th>trans_time</th>\n",
              "      <th>week_no</th>\n",
              "      <th>coupon_disc</th>\n",
              "      <th>coupon_match_disc</th>\n",
              "    </tr>\n",
              "  </thead>\n",
              "  <tbody>\n",
              "    <tr>\n",
              "      <th>2104867</th>\n",
              "      <td>2070</td>\n",
              "      <td>40618492260</td>\n",
              "      <td>594</td>\n",
              "      <td>1019940</td>\n",
              "      <td>1</td>\n",
              "      <td>1.00</td>\n",
              "      <td>311</td>\n",
              "      <td>-0.29</td>\n",
              "      <td>40</td>\n",
              "      <td>86</td>\n",
              "      <td>0.0</td>\n",
              "      <td>0.0</td>\n",
              "    </tr>\n",
              "    <tr>\n",
              "      <th>2107468</th>\n",
              "      <td>2021</td>\n",
              "      <td>40618753059</td>\n",
              "      <td>594</td>\n",
              "      <td>840361</td>\n",
              "      <td>1</td>\n",
              "      <td>0.99</td>\n",
              "      <td>443</td>\n",
              "      <td>0.00</td>\n",
              "      <td>101</td>\n",
              "      <td>86</td>\n",
              "      <td>0.0</td>\n",
              "      <td>0.0</td>\n",
              "    </tr>\n",
              "    <tr>\n",
              "      <th>2107469</th>\n",
              "      <td>2021</td>\n",
              "      <td>40618753059</td>\n",
              "      <td>594</td>\n",
              "      <td>856060</td>\n",
              "      <td>1</td>\n",
              "      <td>1.77</td>\n",
              "      <td>443</td>\n",
              "      <td>-0.09</td>\n",
              "      <td>101</td>\n",
              "      <td>86</td>\n",
              "      <td>0.0</td>\n",
              "      <td>0.0</td>\n",
              "    </tr>\n",
              "    <tr>\n",
              "      <th>2107470</th>\n",
              "      <td>2021</td>\n",
              "      <td>40618753059</td>\n",
              "      <td>594</td>\n",
              "      <td>869344</td>\n",
              "      <td>1</td>\n",
              "      <td>1.67</td>\n",
              "      <td>443</td>\n",
              "      <td>-0.22</td>\n",
              "      <td>101</td>\n",
              "      <td>86</td>\n",
              "      <td>0.0</td>\n",
              "      <td>0.0</td>\n",
              "    </tr>\n",
              "    <tr>\n",
              "      <th>2107471</th>\n",
              "      <td>2021</td>\n",
              "      <td>40618753059</td>\n",
              "      <td>594</td>\n",
              "      <td>896862</td>\n",
              "      <td>2</td>\n",
              "      <td>5.00</td>\n",
              "      <td>443</td>\n",
              "      <td>-2.98</td>\n",
              "      <td>101</td>\n",
              "      <td>86</td>\n",
              "      <td>0.0</td>\n",
              "      <td>0.0</td>\n",
              "    </tr>\n",
              "  </tbody>\n",
              "</table>\n",
              "</div>"
            ],
            "text/plain": [
              "         user_id    basket_id  day  ...  week_no  coupon_disc  coupon_match_disc\n",
              "2104867     2070  40618492260  594  ...       86          0.0                0.0\n",
              "2107468     2021  40618753059  594  ...       86          0.0                0.0\n",
              "2107469     2021  40618753059  594  ...       86          0.0                0.0\n",
              "2107470     2021  40618753059  594  ...       86          0.0                0.0\n",
              "2107471     2021  40618753059  594  ...       86          0.0                0.0\n",
              "\n",
              "[5 rows x 12 columns]"
            ]
          },
          "metadata": {
            "tags": []
          },
          "execution_count": 70
        }
      ]
    },
    {
      "cell_type": "code",
      "metadata": {
        "colab": {
          "base_uri": "https://localhost:8080/",
          "height": 195
        },
        "id": "papVAhnE2mcM",
        "outputId": "fd5aa5c5-0d98-41b3-f67b-8ab612bbeb35"
      },
      "source": [
        "targets_train_lvl_2 = data_train_lvl_2[['user_id', 'item_id']].copy()\n",
        "targets_train_lvl_2['target'] = 1  # тут только покупки\n",
        "targets_train_lvl_2 = targets_train_lvl_2.groupby(['user_id', 'item_id'], as_index=False).min()  # В материалах вебинаров этот шаг был пропущен, данные были не уникальны!\n",
        "targets_train_lvl_2 = df_train.merge(targets_train_lvl_2, on=['user_id', 'item_id'], how='left')\n",
        "targets_train_lvl_2['target'].fillna(0, inplace= True)\n",
        "targets_train_lvl_2.head()"
      ],
      "execution_count": null,
      "outputs": [
        {
          "output_type": "execute_result",
          "data": {
            "text/html": [
              "<div>\n",
              "<style scoped>\n",
              "    .dataframe tbody tr th:only-of-type {\n",
              "        vertical-align: middle;\n",
              "    }\n",
              "\n",
              "    .dataframe tbody tr th {\n",
              "        vertical-align: top;\n",
              "    }\n",
              "\n",
              "    .dataframe thead th {\n",
              "        text-align: right;\n",
              "    }\n",
              "</style>\n",
              "<table border=\"1\" class=\"dataframe\">\n",
              "  <thead>\n",
              "    <tr style=\"text-align: right;\">\n",
              "      <th></th>\n",
              "      <th>user_id</th>\n",
              "      <th>item_id</th>\n",
              "      <th>target</th>\n",
              "    </tr>\n",
              "  </thead>\n",
              "  <tbody>\n",
              "    <tr>\n",
              "      <th>0</th>\n",
              "      <td>1</td>\n",
              "      <td>1049998</td>\n",
              "      <td>1.0</td>\n",
              "    </tr>\n",
              "    <tr>\n",
              "      <th>1</th>\n",
              "      <td>1</td>\n",
              "      <td>900875</td>\n",
              "      <td>0.0</td>\n",
              "    </tr>\n",
              "    <tr>\n",
              "      <th>2</th>\n",
              "      <td>1</td>\n",
              "      <td>1127831</td>\n",
              "      <td>0.0</td>\n",
              "    </tr>\n",
              "    <tr>\n",
              "      <th>3</th>\n",
              "      <td>1</td>\n",
              "      <td>852662</td>\n",
              "      <td>0.0</td>\n",
              "    </tr>\n",
              "    <tr>\n",
              "      <th>4</th>\n",
              "      <td>1</td>\n",
              "      <td>1082185</td>\n",
              "      <td>1.0</td>\n",
              "    </tr>\n",
              "  </tbody>\n",
              "</table>\n",
              "</div>"
            ],
            "text/plain": [
              "   user_id  item_id  target\n",
              "0        1  1049998     1.0\n",
              "1        1   900875     0.0\n",
              "2        1  1127831     0.0\n",
              "3        1   852662     0.0\n",
              "4        1  1082185     1.0"
            ]
          },
          "metadata": {
            "tags": []
          },
          "execution_count": 71
        }
      ]
    },
    {
      "cell_type": "code",
      "metadata": {
        "colab": {
          "base_uri": "https://localhost:8080/"
        },
        "id": "P8THBupyNlpB",
        "outputId": "cb7fb557-123c-4018-b95a-8b9dc63e5233"
      },
      "source": [
        "targets_train_lvl_2['target'].mean()"
      ],
      "execution_count": null,
      "outputs": [
        {
          "output_type": "execute_result",
          "data": {
            "text/plain": [
              "0.08435933147632312"
            ]
          },
          "metadata": {
            "tags": []
          },
          "execution_count": 72
        }
      ]
    },
    {
      "cell_type": "markdown",
      "metadata": {
        "id": "LMlyJksaOyTO"
      },
      "source": [
        "# Добавление фитчей"
      ]
    },
    {
      "cell_type": "code",
      "metadata": {
        "colab": {
          "base_uri": "https://localhost:8080/",
          "height": 215
        },
        "id": "a5CMMMX2OqPS",
        "outputId": "47124783-9cf2-4bdb-c393-40ec306cb943"
      },
      "source": [
        "items_feats_train.head()"
      ],
      "execution_count": null,
      "outputs": [
        {
          "output_type": "execute_result",
          "data": {
            "text/html": [
              "<div>\n",
              "<style scoped>\n",
              "    .dataframe tbody tr th:only-of-type {\n",
              "        vertical-align: middle;\n",
              "    }\n",
              "\n",
              "    .dataframe tbody tr th {\n",
              "        vertical-align: top;\n",
              "    }\n",
              "\n",
              "    .dataframe thead th {\n",
              "        text-align: right;\n",
              "    }\n",
              "</style>\n",
              "<table border=\"1\" class=\"dataframe\">\n",
              "  <thead>\n",
              "    <tr style=\"text-align: right;\">\n",
              "      <th></th>\n",
              "      <th>item_id</th>\n",
              "      <th>frq_itm_store_id</th>\n",
              "      <th>3rw_frq_itm_store_id</th>\n",
              "      <th>qnt_itm_store_id</th>\n",
              "      <th>3rw_qnt_itm_store_id</th>\n",
              "      <th>wly_quantity</th>\n",
              "      <th>3rw_wly_quantity</th>\n",
              "      <th>itm_total_sales_value</th>\n",
              "      <th>3rw_itm_total_sales_value</th>\n",
              "      <th>itm_price</th>\n",
              "      <th>department</th>\n",
              "      <th>brand</th>\n",
              "    </tr>\n",
              "  </thead>\n",
              "  <tbody>\n",
              "    <tr>\n",
              "      <th>0</th>\n",
              "      <td>1004906</td>\n",
              "      <td>356</td>\n",
              "      <td>356.0</td>\n",
              "      <td>112</td>\n",
              "      <td>68.0</td>\n",
              "      <td>38.076087</td>\n",
              "      <td>38.000000</td>\n",
              "      <td>90.689783</td>\n",
              "      <td>102.236667</td>\n",
              "      <td>2.381804</td>\n",
              "      <td>PRODUCE</td>\n",
              "      <td>Private</td>\n",
              "    </tr>\n",
              "    <tr>\n",
              "      <th>1</th>\n",
              "      <td>1033142</td>\n",
              "      <td>367</td>\n",
              "      <td>34011.0</td>\n",
              "      <td>112</td>\n",
              "      <td>29.0</td>\n",
              "      <td>25.467391</td>\n",
              "      <td>11.333333</td>\n",
              "      <td>24.121522</td>\n",
              "      <td>10.270000</td>\n",
              "      <td>0.947153</td>\n",
              "      <td>PRODUCE</td>\n",
              "      <td>National</td>\n",
              "    </tr>\n",
              "    <tr>\n",
              "      <th>2</th>\n",
              "      <td>1036325</td>\n",
              "      <td>447</td>\n",
              "      <td>NaN</td>\n",
              "      <td>76</td>\n",
              "      <td>NaN</td>\n",
              "      <td>2.347826</td>\n",
              "      <td>NaN</td>\n",
              "      <td>3.091413</td>\n",
              "      <td>NaN</td>\n",
              "      <td>1.316713</td>\n",
              "      <td>PRODUCE</td>\n",
              "      <td>Private</td>\n",
              "    </tr>\n",
              "    <tr>\n",
              "      <th>3</th>\n",
              "      <td>1082185</td>\n",
              "      <td>367</td>\n",
              "      <td>406.0</td>\n",
              "      <td>113</td>\n",
              "      <td>105.0</td>\n",
              "      <td>298.097826</td>\n",
              "      <td>302.000000</td>\n",
              "      <td>286.356087</td>\n",
              "      <td>304.816667</td>\n",
              "      <td>0.960611</td>\n",
              "      <td>PRODUCE</td>\n",
              "      <td>National</td>\n",
              "    </tr>\n",
              "    <tr>\n",
              "      <th>4</th>\n",
              "      <td>8160430</td>\n",
              "      <td>406</td>\n",
              "      <td>34011.0</td>\n",
              "      <td>64</td>\n",
              "      <td>10.0</td>\n",
              "      <td>2.010870</td>\n",
              "      <td>3.333333</td>\n",
              "      <td>3.330326</td>\n",
              "      <td>6.300000</td>\n",
              "      <td>1.656162</td>\n",
              "      <td>PRODUCE</td>\n",
              "      <td>Private</td>\n",
              "    </tr>\n",
              "  </tbody>\n",
              "</table>\n",
              "</div>"
            ],
            "text/plain": [
              "   item_id  frq_itm_store_id  ...  department     brand\n",
              "0  1004906               356  ...     PRODUCE   Private\n",
              "1  1033142               367  ...     PRODUCE  National\n",
              "2  1036325               447  ...     PRODUCE   Private\n",
              "3  1082185               367  ...     PRODUCE  National\n",
              "4  8160430               406  ...     PRODUCE   Private\n",
              "\n",
              "[5 rows x 12 columns]"
            ]
          },
          "metadata": {
            "tags": []
          },
          "execution_count": 73
        }
      ]
    },
    {
      "cell_type": "code",
      "metadata": {
        "id": "UuSN3gQLOqKA"
      },
      "source": [
        "targets_train_lvl_2 = targets_train_lvl_2.merge(items_feats_train, on='item_id', how='left')"
      ],
      "execution_count": null,
      "outputs": []
    },
    {
      "cell_type": "code",
      "metadata": {
        "colab": {
          "base_uri": "https://localhost:8080/",
          "height": 215
        },
        "id": "zyt-C9Id4W-9",
        "outputId": "72101b8a-0540-469a-97e5-6d5a2f2b8b7c"
      },
      "source": [
        "targets_train_lvl_2.head()"
      ],
      "execution_count": null,
      "outputs": [
        {
          "output_type": "execute_result",
          "data": {
            "text/html": [
              "<div>\n",
              "<style scoped>\n",
              "    .dataframe tbody tr th:only-of-type {\n",
              "        vertical-align: middle;\n",
              "    }\n",
              "\n",
              "    .dataframe tbody tr th {\n",
              "        vertical-align: top;\n",
              "    }\n",
              "\n",
              "    .dataframe thead th {\n",
              "        text-align: right;\n",
              "    }\n",
              "</style>\n",
              "<table border=\"1\" class=\"dataframe\">\n",
              "  <thead>\n",
              "    <tr style=\"text-align: right;\">\n",
              "      <th></th>\n",
              "      <th>user_id</th>\n",
              "      <th>item_id</th>\n",
              "      <th>target</th>\n",
              "      <th>frq_itm_store_id</th>\n",
              "      <th>3rw_frq_itm_store_id</th>\n",
              "      <th>qnt_itm_store_id</th>\n",
              "      <th>3rw_qnt_itm_store_id</th>\n",
              "      <th>wly_quantity</th>\n",
              "      <th>3rw_wly_quantity</th>\n",
              "      <th>itm_total_sales_value</th>\n",
              "      <th>3rw_itm_total_sales_value</th>\n",
              "      <th>itm_price</th>\n",
              "      <th>department</th>\n",
              "      <th>brand</th>\n",
              "    </tr>\n",
              "  </thead>\n",
              "  <tbody>\n",
              "    <tr>\n",
              "      <th>0</th>\n",
              "      <td>1</td>\n",
              "      <td>1049998</td>\n",
              "      <td>1.0</td>\n",
              "      <td>436.0</td>\n",
              "      <td>436.0</td>\n",
              "      <td>20.0</td>\n",
              "      <td>2.0</td>\n",
              "      <td>0.619565</td>\n",
              "      <td>0.666667</td>\n",
              "      <td>1.098587</td>\n",
              "      <td>1.326667</td>\n",
              "      <td>1.773158</td>\n",
              "      <td>DRUG GM</td>\n",
              "      <td>National</td>\n",
              "    </tr>\n",
              "    <tr>\n",
              "      <th>1</th>\n",
              "      <td>1</td>\n",
              "      <td>900875</td>\n",
              "      <td>0.0</td>\n",
              "      <td>313.0</td>\n",
              "      <td>318.0</td>\n",
              "      <td>16.0</td>\n",
              "      <td>1.0</td>\n",
              "      <td>0.510870</td>\n",
              "      <td>0.666667</td>\n",
              "      <td>1.063152</td>\n",
              "      <td>1.526667</td>\n",
              "      <td>2.081064</td>\n",
              "      <td>GROCERY</td>\n",
              "      <td>National</td>\n",
              "    </tr>\n",
              "    <tr>\n",
              "      <th>2</th>\n",
              "      <td>1</td>\n",
              "      <td>1127831</td>\n",
              "      <td>0.0</td>\n",
              "      <td>406.0</td>\n",
              "      <td>31862.0</td>\n",
              "      <td>112.0</td>\n",
              "      <td>32.0</td>\n",
              "      <td>81.565217</td>\n",
              "      <td>23.333333</td>\n",
              "      <td>181.095109</td>\n",
              "      <td>113.100000</td>\n",
              "      <td>2.220249</td>\n",
              "      <td>PRODUCE</td>\n",
              "      <td>National</td>\n",
              "    </tr>\n",
              "    <tr>\n",
              "      <th>3</th>\n",
              "      <td>1</td>\n",
              "      <td>852662</td>\n",
              "      <td>0.0</td>\n",
              "      <td>436.0</td>\n",
              "      <td>NaN</td>\n",
              "      <td>9.0</td>\n",
              "      <td>NaN</td>\n",
              "      <td>0.445652</td>\n",
              "      <td>NaN</td>\n",
              "      <td>0.701087</td>\n",
              "      <td>NaN</td>\n",
              "      <td>1.573171</td>\n",
              "      <td>DRUG GM</td>\n",
              "      <td>National</td>\n",
              "    </tr>\n",
              "    <tr>\n",
              "      <th>4</th>\n",
              "      <td>1</td>\n",
              "      <td>1082185</td>\n",
              "      <td>1.0</td>\n",
              "      <td>367.0</td>\n",
              "      <td>406.0</td>\n",
              "      <td>113.0</td>\n",
              "      <td>105.0</td>\n",
              "      <td>298.097826</td>\n",
              "      <td>302.000000</td>\n",
              "      <td>286.356087</td>\n",
              "      <td>304.816667</td>\n",
              "      <td>0.960611</td>\n",
              "      <td>PRODUCE</td>\n",
              "      <td>National</td>\n",
              "    </tr>\n",
              "  </tbody>\n",
              "</table>\n",
              "</div>"
            ],
            "text/plain": [
              "   user_id  item_id  target  ...  itm_price  department     brand\n",
              "0        1  1049998     1.0  ...   1.773158     DRUG GM  National\n",
              "1        1   900875     0.0  ...   2.081064     GROCERY  National\n",
              "2        1  1127831     0.0  ...   2.220249     PRODUCE  National\n",
              "3        1   852662     0.0  ...   1.573171     DRUG GM  National\n",
              "4        1  1082185     1.0  ...   0.960611     PRODUCE  National\n",
              "\n",
              "[5 rows x 14 columns]"
            ]
          },
          "metadata": {
            "tags": []
          },
          "execution_count": 75
        }
      ]
    },
    {
      "cell_type": "code",
      "metadata": {
        "colab": {
          "base_uri": "https://localhost:8080/",
          "height": 195
        },
        "id": "Wu4IP4pZOqL5",
        "outputId": "bcb366da-189a-421c-e130-c096fcc5ca49"
      },
      "source": [
        "users_feats_train.head()"
      ],
      "execution_count": null,
      "outputs": [
        {
          "output_type": "execute_result",
          "data": {
            "text/html": [
              "<div>\n",
              "<style scoped>\n",
              "    .dataframe tbody tr th:only-of-type {\n",
              "        vertical-align: middle;\n",
              "    }\n",
              "\n",
              "    .dataframe tbody tr th {\n",
              "        vertical-align: top;\n",
              "    }\n",
              "\n",
              "    .dataframe thead th {\n",
              "        text-align: right;\n",
              "    }\n",
              "</style>\n",
              "<table border=\"1\" class=\"dataframe\">\n",
              "  <thead>\n",
              "    <tr style=\"text-align: right;\">\n",
              "      <th></th>\n",
              "      <th>user_id</th>\n",
              "      <th>basket_quantity</th>\n",
              "      <th>3rw_basket_quantity</th>\n",
              "      <th>total_sales_value</th>\n",
              "      <th>3rw_sales_value</th>\n",
              "      <th>frq_us_store_id</th>\n",
              "      <th>3rw_frq_us_store_id</th>\n",
              "      <th>avg_basket_sum</th>\n",
              "    </tr>\n",
              "  </thead>\n",
              "  <tbody>\n",
              "    <tr>\n",
              "      <th>0</th>\n",
              "      <td>2375</td>\n",
              "      <td>6.967391</td>\n",
              "      <td>3.333333</td>\n",
              "      <td>26.654457</td>\n",
              "      <td>25.570000</td>\n",
              "      <td>364</td>\n",
              "      <td>364.0</td>\n",
              "      <td>3.825601</td>\n",
              "    </tr>\n",
              "    <tr>\n",
              "      <th>1</th>\n",
              "      <td>1364</td>\n",
              "      <td>8.923913</td>\n",
              "      <td>10.000000</td>\n",
              "      <td>24.274891</td>\n",
              "      <td>36.686667</td>\n",
              "      <td>31742</td>\n",
              "      <td>31742.0</td>\n",
              "      <td>2.720207</td>\n",
              "    </tr>\n",
              "    <tr>\n",
              "      <th>2</th>\n",
              "      <td>1130</td>\n",
              "      <td>22.239130</td>\n",
              "      <td>8.333333</td>\n",
              "      <td>60.920978</td>\n",
              "      <td>26.870000</td>\n",
              "      <td>31642</td>\n",
              "      <td>31642.0</td>\n",
              "      <td>2.739360</td>\n",
              "    </tr>\n",
              "    <tr>\n",
              "      <th>3</th>\n",
              "      <td>1173</td>\n",
              "      <td>2.260870</td>\n",
              "      <td>4.000000</td>\n",
              "      <td>7.127935</td>\n",
              "      <td>10.366667</td>\n",
              "      <td>412</td>\n",
              "      <td>412.0</td>\n",
              "      <td>3.152740</td>\n",
              "    </tr>\n",
              "    <tr>\n",
              "      <th>4</th>\n",
              "      <td>98</td>\n",
              "      <td>12.206522</td>\n",
              "      <td>33.666667</td>\n",
              "      <td>22.695217</td>\n",
              "      <td>79.110000</td>\n",
              "      <td>421</td>\n",
              "      <td>421.0</td>\n",
              "      <td>1.859270</td>\n",
              "    </tr>\n",
              "  </tbody>\n",
              "</table>\n",
              "</div>"
            ],
            "text/plain": [
              "   user_id  basket_quantity  ...  3rw_frq_us_store_id  avg_basket_sum\n",
              "0     2375         6.967391  ...                364.0        3.825601\n",
              "1     1364         8.923913  ...              31742.0        2.720207\n",
              "2     1130        22.239130  ...              31642.0        2.739360\n",
              "3     1173         2.260870  ...                412.0        3.152740\n",
              "4       98        12.206522  ...                421.0        1.859270\n",
              "\n",
              "[5 rows x 8 columns]"
            ]
          },
          "metadata": {
            "tags": []
          },
          "execution_count": 76
        }
      ]
    },
    {
      "cell_type": "code",
      "metadata": {
        "id": "c8lKWyKiBo73"
      },
      "source": [
        "targets_train_lvl_2 = targets_train_lvl_2.merge(users_feats_train, on='user_id', how='left')"
      ],
      "execution_count": null,
      "outputs": []
    },
    {
      "cell_type": "code",
      "metadata": {
        "id": "uclL3Fz_48s9"
      },
      "source": [
        "def merge_us_it(data_, hidden_weeks, merge_to_data):\n",
        "  data_ = data_[data_.week_no <= data_.week_no.max() - hidden_weeks]\n",
        "  merge_to_data_ = merge_to_data.copy(deep=True)\n",
        "  merge_to_data_ = merge_to_data_.merge(tr_ui_1(data_), on=['user_id', 'item_id'], how='left')\n",
        "  merge_to_data_ = merge_to_data_.merge(tr_ui_2(data_), on=['user_id', 'item_id'], how='left')\n",
        "  merge_to_data_ = merge_to_data_.merge(tr_ui_3(data_, nw=3), on=['user_id', 'item_id'], how='left')\n",
        "  merge_to_data_ = merge_to_data_.merge(tr_ui_3(data_, nw=1), on=['user_id', 'item_id'], how='left')\n",
        "  return merge_to_data_"
      ],
      "execution_count": null,
      "outputs": []
    },
    {
      "cell_type": "code",
      "metadata": {
        "colab": {
          "base_uri": "https://localhost:8080/",
          "height": 820
        },
        "id": "lm77cZ9tSkcr",
        "outputId": "9922f8ff-517d-424f-c6bd-0281baa32998"
      },
      "source": [
        "targets_train_lvl_2 = merge_us_it(data.copy(deep=True), 3, targets_train_lvl_2.copy(deep=True))\n",
        "targets_train_lvl_2.head()"
      ],
      "execution_count": null,
      "outputs": [
        {
          "output_type": "stream",
          "text": [
            "/usr/local/lib/python3.6/dist-packages/ipykernel_launcher.py:2: SettingWithCopyWarning: \n",
            "A value is trying to be set on a copy of a slice from a DataFrame.\n",
            "Try using .loc[row_indexer,col_indexer] = value instead\n",
            "\n",
            "See the caveats in the documentation: https://pandas.pydata.org/pandas-docs/stable/user_guide/indexing.html#returning-a-view-versus-a-copy\n",
            "  \n",
            "/usr/local/lib/python3.6/dist-packages/ipykernel_launcher.py:5: SettingWithCopyWarning: \n",
            "A value is trying to be set on a copy of a slice from a DataFrame.\n",
            "Try using .loc[row_indexer,col_indexer] = value instead\n",
            "\n",
            "See the caveats in the documentation: https://pandas.pydata.org/pandas-docs/stable/user_guide/indexing.html#returning-a-view-versus-a-copy\n",
            "  \"\"\"\n",
            "/usr/local/lib/python3.6/dist-packages/pandas/core/indexing.py:1763: SettingWithCopyWarning: \n",
            "A value is trying to be set on a copy of a slice from a DataFrame.\n",
            "Try using .loc[row_indexer,col_indexer] = value instead\n",
            "\n",
            "See the caveats in the documentation: https://pandas.pydata.org/pandas-docs/stable/user_guide/indexing.html#returning-a-view-versus-a-copy\n",
            "  isetter(loc, value)\n",
            "/usr/local/lib/python3.6/dist-packages/ipykernel_launcher.py:2: SettingWithCopyWarning: \n",
            "A value is trying to be set on a copy of a slice from a DataFrame.\n",
            "Try using .loc[row_indexer,col_indexer] = value instead\n",
            "\n",
            "See the caveats in the documentation: https://pandas.pydata.org/pandas-docs/stable/user_guide/indexing.html#returning-a-view-versus-a-copy\n",
            "  \n",
            "/usr/local/lib/python3.6/dist-packages/ipykernel_launcher.py:5: SettingWithCopyWarning: \n",
            "A value is trying to be set on a copy of a slice from a DataFrame.\n",
            "Try using .loc[row_indexer,col_indexer] = value instead\n",
            "\n",
            "See the caveats in the documentation: https://pandas.pydata.org/pandas-docs/stable/user_guide/indexing.html#returning-a-view-versus-a-copy\n",
            "  \"\"\"\n",
            "/usr/local/lib/python3.6/dist-packages/pandas/core/indexing.py:1763: SettingWithCopyWarning: \n",
            "A value is trying to be set on a copy of a slice from a DataFrame.\n",
            "Try using .loc[row_indexer,col_indexer] = value instead\n",
            "\n",
            "See the caveats in the documentation: https://pandas.pydata.org/pandas-docs/stable/user_guide/indexing.html#returning-a-view-versus-a-copy\n",
            "  isetter(loc, value)\n"
          ],
          "name": "stderr"
        },
        {
          "output_type": "execute_result",
          "data": {
            "text/html": [
              "<div>\n",
              "<style scoped>\n",
              "    .dataframe tbody tr th:only-of-type {\n",
              "        vertical-align: middle;\n",
              "    }\n",
              "\n",
              "    .dataframe tbody tr th {\n",
              "        vertical-align: top;\n",
              "    }\n",
              "\n",
              "    .dataframe thead th {\n",
              "        text-align: right;\n",
              "    }\n",
              "</style>\n",
              "<table border=\"1\" class=\"dataframe\">\n",
              "  <thead>\n",
              "    <tr style=\"text-align: right;\">\n",
              "      <th></th>\n",
              "      <th>user_id</th>\n",
              "      <th>item_id</th>\n",
              "      <th>target</th>\n",
              "      <th>frq_itm_store_id</th>\n",
              "      <th>3rw_frq_itm_store_id</th>\n",
              "      <th>qnt_itm_store_id</th>\n",
              "      <th>3rw_qnt_itm_store_id</th>\n",
              "      <th>wly_quantity</th>\n",
              "      <th>3rw_wly_quantity</th>\n",
              "      <th>itm_total_sales_value</th>\n",
              "      <th>3rw_itm_total_sales_value</th>\n",
              "      <th>itm_price</th>\n",
              "      <th>department</th>\n",
              "      <th>brand</th>\n",
              "      <th>basket_quantity</th>\n",
              "      <th>3rw_basket_quantity</th>\n",
              "      <th>total_sales_value</th>\n",
              "      <th>3rw_sales_value</th>\n",
              "      <th>frq_us_store_id</th>\n",
              "      <th>3rw_frq_us_store_id</th>\n",
              "      <th>avg_basket_sum</th>\n",
              "      <th>ui_total_quantity</th>\n",
              "      <th>3rw_ui_quantity</th>\n",
              "      <th>in_3_weeks</th>\n",
              "      <th>in_1_weeks</th>\n",
              "    </tr>\n",
              "  </thead>\n",
              "  <tbody>\n",
              "    <tr>\n",
              "      <th>0</th>\n",
              "      <td>1</td>\n",
              "      <td>1049998</td>\n",
              "      <td>1.0</td>\n",
              "      <td>436.0</td>\n",
              "      <td>436.0</td>\n",
              "      <td>20.0</td>\n",
              "      <td>2.0</td>\n",
              "      <td>0.619565</td>\n",
              "      <td>0.666667</td>\n",
              "      <td>1.098587</td>\n",
              "      <td>1.326667</td>\n",
              "      <td>1.773158</td>\n",
              "      <td>DRUG GM</td>\n",
              "      <td>National</td>\n",
              "      <td>16.75</td>\n",
              "      <td>19.666667</td>\n",
              "      <td>41.610109</td>\n",
              "      <td>44.786667</td>\n",
              "      <td>436</td>\n",
              "      <td>436.0</td>\n",
              "      <td>2.484186</td>\n",
              "      <td>0.271739</td>\n",
              "      <td>0.333333</td>\n",
              "      <td>1.0</td>\n",
              "      <td>0.0</td>\n",
              "    </tr>\n",
              "    <tr>\n",
              "      <th>1</th>\n",
              "      <td>1</td>\n",
              "      <td>900875</td>\n",
              "      <td>0.0</td>\n",
              "      <td>313.0</td>\n",
              "      <td>318.0</td>\n",
              "      <td>16.0</td>\n",
              "      <td>1.0</td>\n",
              "      <td>0.510870</td>\n",
              "      <td>0.666667</td>\n",
              "      <td>1.063152</td>\n",
              "      <td>1.526667</td>\n",
              "      <td>2.081064</td>\n",
              "      <td>GROCERY</td>\n",
              "      <td>National</td>\n",
              "      <td>16.75</td>\n",
              "      <td>19.666667</td>\n",
              "      <td>41.610109</td>\n",
              "      <td>44.786667</td>\n",
              "      <td>436</td>\n",
              "      <td>436.0</td>\n",
              "      <td>2.484186</td>\n",
              "      <td>0.097826</td>\n",
              "      <td>NaN</td>\n",
              "      <td>0.0</td>\n",
              "      <td>0.0</td>\n",
              "    </tr>\n",
              "    <tr>\n",
              "      <th>2</th>\n",
              "      <td>1</td>\n",
              "      <td>1127831</td>\n",
              "      <td>0.0</td>\n",
              "      <td>406.0</td>\n",
              "      <td>31862.0</td>\n",
              "      <td>112.0</td>\n",
              "      <td>32.0</td>\n",
              "      <td>81.565217</td>\n",
              "      <td>23.333333</td>\n",
              "      <td>181.095109</td>\n",
              "      <td>113.100000</td>\n",
              "      <td>2.220249</td>\n",
              "      <td>PRODUCE</td>\n",
              "      <td>National</td>\n",
              "      <td>16.75</td>\n",
              "      <td>19.666667</td>\n",
              "      <td>41.610109</td>\n",
              "      <td>44.786667</td>\n",
              "      <td>436</td>\n",
              "      <td>436.0</td>\n",
              "      <td>2.484186</td>\n",
              "      <td>NaN</td>\n",
              "      <td>NaN</td>\n",
              "      <td>NaN</td>\n",
              "      <td>NaN</td>\n",
              "    </tr>\n",
              "    <tr>\n",
              "      <th>3</th>\n",
              "      <td>1</td>\n",
              "      <td>852662</td>\n",
              "      <td>0.0</td>\n",
              "      <td>436.0</td>\n",
              "      <td>NaN</td>\n",
              "      <td>9.0</td>\n",
              "      <td>NaN</td>\n",
              "      <td>0.445652</td>\n",
              "      <td>NaN</td>\n",
              "      <td>0.701087</td>\n",
              "      <td>NaN</td>\n",
              "      <td>1.573171</td>\n",
              "      <td>DRUG GM</td>\n",
              "      <td>National</td>\n",
              "      <td>16.75</td>\n",
              "      <td>19.666667</td>\n",
              "      <td>41.610109</td>\n",
              "      <td>44.786667</td>\n",
              "      <td>436</td>\n",
              "      <td>436.0</td>\n",
              "      <td>2.484186</td>\n",
              "      <td>0.260870</td>\n",
              "      <td>NaN</td>\n",
              "      <td>0.0</td>\n",
              "      <td>0.0</td>\n",
              "    </tr>\n",
              "    <tr>\n",
              "      <th>4</th>\n",
              "      <td>1</td>\n",
              "      <td>1082185</td>\n",
              "      <td>1.0</td>\n",
              "      <td>367.0</td>\n",
              "      <td>406.0</td>\n",
              "      <td>113.0</td>\n",
              "      <td>105.0</td>\n",
              "      <td>298.097826</td>\n",
              "      <td>302.000000</td>\n",
              "      <td>286.356087</td>\n",
              "      <td>304.816667</td>\n",
              "      <td>0.960611</td>\n",
              "      <td>PRODUCE</td>\n",
              "      <td>National</td>\n",
              "      <td>16.75</td>\n",
              "      <td>19.666667</td>\n",
              "      <td>41.610109</td>\n",
              "      <td>44.786667</td>\n",
              "      <td>436</td>\n",
              "      <td>436.0</td>\n",
              "      <td>2.484186</td>\n",
              "      <td>0.423913</td>\n",
              "      <td>0.666667</td>\n",
              "      <td>1.0</td>\n",
              "      <td>1.0</td>\n",
              "    </tr>\n",
              "  </tbody>\n",
              "</table>\n",
              "</div>"
            ],
            "text/plain": [
              "   user_id  item_id  target  ...  3rw_ui_quantity  in_3_weeks  in_1_weeks\n",
              "0        1  1049998     1.0  ...         0.333333         1.0         0.0\n",
              "1        1   900875     0.0  ...              NaN         0.0         0.0\n",
              "2        1  1127831     0.0  ...              NaN         NaN         NaN\n",
              "3        1   852662     0.0  ...              NaN         0.0         0.0\n",
              "4        1  1082185     1.0  ...         0.666667         1.0         1.0\n",
              "\n",
              "[5 rows x 25 columns]"
            ]
          },
          "metadata": {
            "tags": []
          },
          "execution_count": 79
        }
      ]
    },
    {
      "cell_type": "markdown",
      "metadata": {
        "id": "mg26rMUfVZXN"
      },
      "source": [
        "# Готовим данные и тренируем второй уровень"
      ]
    },
    {
      "cell_type": "code",
      "metadata": {
        "id": "7oDfpQfiOqH6"
      },
      "source": [
        "X_train = targets_train_lvl_2.drop(columns=['user_id', 'item_id', 'target'], axis=1)\n",
        "y_train = targets_train_lvl_2[['target']]"
      ],
      "execution_count": null,
      "outputs": []
    },
    {
      "cell_type": "code",
      "metadata": {
        "colab": {
          "base_uri": "https://localhost:8080/"
        },
        "id": "4qbNoeKzVlX3",
        "outputId": "9a63392e-4cb1-4f26-a84e-368634e1607e"
      },
      "source": [
        "X_train.columns"
      ],
      "execution_count": null,
      "outputs": [
        {
          "output_type": "execute_result",
          "data": {
            "text/plain": [
              "Index(['frq_itm_store_id', '3rw_frq_itm_store_id', 'qnt_itm_store_id',\n",
              "       '3rw_qnt_itm_store_id', 'wly_quantity', '3rw_wly_quantity',\n",
              "       'itm_total_sales_value', '3rw_itm_total_sales_value', 'itm_price',\n",
              "       'department', 'brand', 'basket_quantity', '3rw_basket_quantity',\n",
              "       'total_sales_value', '3rw_sales_value', 'frq_us_store_id',\n",
              "       '3rw_frq_us_store_id', 'avg_basket_sum', 'ui_total_quantity',\n",
              "       '3rw_ui_quantity', 'in_3_weeks', 'in_1_weeks'],\n",
              "      dtype='object')"
            ]
          },
          "metadata": {
            "tags": []
          },
          "execution_count": 81
        }
      ]
    },
    {
      "cell_type": "code",
      "metadata": {
        "colab": {
          "base_uri": "https://localhost:8080/"
        },
        "id": "d699OYbsOqFz",
        "outputId": "bfeeb81f-52ab-411a-d542-1b6e559d7245"
      },
      "source": [
        "cat_feats = ['frq_itm_store_id', '3rw_frq_itm_store_id', \n",
        "       'department', 'brand', 'frq_us_store_id',\n",
        "       '3rw_frq_us_store_id']\n",
        "X_train[cat_feats] = X_train[cat_feats].astype('category')\n",
        "\n",
        "cat_feats"
      ],
      "execution_count": null,
      "outputs": [
        {
          "output_type": "execute_result",
          "data": {
            "text/plain": [
              "['frq_itm_store_id',\n",
              " '3rw_frq_itm_store_id',\n",
              " 'department',\n",
              " 'brand',\n",
              " 'frq_us_store_id',\n",
              " '3rw_frq_us_store_id']"
            ]
          },
          "metadata": {
            "tags": []
          },
          "execution_count": 82
        }
      ]
    },
    {
      "cell_type": "code",
      "metadata": {
        "colab": {
          "base_uri": "https://localhost:8080/"
        },
        "id": "Nq5IZ0hMOqDp",
        "outputId": "ab1d8190-5320-4295-808c-e62e99a1ef48"
      },
      "source": [
        "y_train.mean()"
      ],
      "execution_count": null,
      "outputs": [
        {
          "output_type": "execute_result",
          "data": {
            "text/plain": [
              "target    0.083966\n",
              "dtype: float64"
            ]
          },
          "metadata": {
            "tags": []
          },
          "execution_count": 83
        }
      ]
    },
    {
      "cell_type": "code",
      "metadata": {
        "colab": {
          "base_uri": "https://localhost:8080/"
        },
        "id": "XzfvZQqf2uhH",
        "outputId": "c988d1d5-fdd5-4565-86fb-bb6577d328e4"
      },
      "source": [
        "from lightgbm import LGBMClassifier\n",
        "\n",
        "lgb = LGBMClassifier(objective='binary', max_depth=7, categorical_column=cat_feats, weght='balanced')\n",
        "lgb.fit(X_train, y_train)\n",
        "\n",
        "train_preds = lgb.predict_proba(X_train)[:, 1]"
      ],
      "execution_count": null,
      "outputs": [
        {
          "output_type": "stream",
          "text": [
            "/usr/local/lib/python3.6/dist-packages/sklearn/preprocessing/_label.py:235: DataConversionWarning: A column-vector y was passed when a 1d array was expected. Please change the shape of y to (n_samples, ), for example using ravel().\n",
            "  y = column_or_1d(y, warn=True)\n",
            "/usr/local/lib/python3.6/dist-packages/sklearn/preprocessing/_label.py:268: DataConversionWarning: A column-vector y was passed when a 1d array was expected. Please change the shape of y to (n_samples, ), for example using ravel().\n",
            "  y = column_or_1d(y, warn=True)\n",
            "/usr/local/lib/python3.6/dist-packages/lightgbm/basic.py:762: UserWarning: categorical_feature in param dict is overridden.\n",
            "  warnings.warn('categorical_feature in param dict is overridden.')\n"
          ],
          "name": "stderr"
        }
      ]
    },
    {
      "cell_type": "code",
      "metadata": {
        "colab": {
          "base_uri": "https://localhost:8080/"
        },
        "id": "yXnfjaeIO2P3",
        "outputId": "eb32d67b-72a3-4c14-96c1-21048f751d2d"
      },
      "source": [
        "train_preds"
      ],
      "execution_count": null,
      "outputs": [
        {
          "output_type": "execute_result",
          "data": {
            "text/plain": [
              "array([9.91879571e-01, 2.01443294e-01, 2.90538696e-05, ...,\n",
              "       2.34671906e-05, 2.39534378e-05, 5.55166806e-02])"
            ]
          },
          "metadata": {
            "tags": []
          },
          "execution_count": 85
        }
      ]
    },
    {
      "cell_type": "code",
      "metadata": {
        "id": "FRI3mW2f2ud5",
        "colab": {
          "base_uri": "https://localhost:8080/"
        },
        "outputId": "eec2df38-b6a5-4fe2-f5e3-faa591e3a89e"
      },
      "source": [
        "k = 5\n",
        "targets_lvl_2_pred = targets_train_lvl_2.copy(deep=True)\n",
        "targets_lvl_2_pred['predict_proba'] = train_preds\n",
        "targets_lvl_2_pred = targets_lvl_2_pred[['user_id', 'item_id', 'predict_proba']]\n",
        "users = targets_lvl_2_pred['user_id'].unique()\n",
        "lvl_2_recommendations = pd.DataFrame(data = {'user_id': users})\n",
        "lvl_2_recommendations['candidates'] = 0\n",
        "\n",
        "def get_lvl_2_reccomendations(user_id, targets_lvl_2_pred):\n",
        "  tdf = targets_lvl_2_pred[targets_lvl_2_pred['user_id']==user_id]\n",
        "  tdf = tdf.drop(columns=['user_id'])\n",
        "  tdf = tdf.groupby(['item_id']).max()\n",
        "  tdf = tdf.sort_values(by='predict_proba', ascending=False)\n",
        "  tdf = tdf.index[:k].tolist()\n",
        "  return tdf\n",
        "\n",
        "print(get_lvl_2_reccomendations(2027, targets_lvl_2_pred))\n",
        "lvl_2_recommendations['candidates'] = lvl_2_recommendations['user_id'].apply(lambda x: get_lvl_2_reccomendations(x, targets_lvl_2_pred))"
      ],
      "execution_count": null,
      "outputs": [
        {
          "output_type": "stream",
          "text": [
            "[1068719, 961554, 1055646, 923746, 981760]\n"
          ],
          "name": "stdout"
        }
      ]
    },
    {
      "cell_type": "code",
      "metadata": {
        "colab": {
          "base_uri": "https://localhost:8080/",
          "height": 195
        },
        "id": "nAL6SzCyJRTh",
        "outputId": "f274c4ab-2aa0-48f6-d129-7dd473be4e17"
      },
      "source": [
        "lvl_2_recommendations.head()"
      ],
      "execution_count": null,
      "outputs": [
        {
          "output_type": "execute_result",
          "data": {
            "text/html": [
              "<div>\n",
              "<style scoped>\n",
              "    .dataframe tbody tr th:only-of-type {\n",
              "        vertical-align: middle;\n",
              "    }\n",
              "\n",
              "    .dataframe tbody tr th {\n",
              "        vertical-align: top;\n",
              "    }\n",
              "\n",
              "    .dataframe thead th {\n",
              "        text-align: right;\n",
              "    }\n",
              "</style>\n",
              "<table border=\"1\" class=\"dataframe\">\n",
              "  <thead>\n",
              "    <tr style=\"text-align: right;\">\n",
              "      <th></th>\n",
              "      <th>user_id</th>\n",
              "      <th>candidates</th>\n",
              "    </tr>\n",
              "  </thead>\n",
              "  <tbody>\n",
              "    <tr>\n",
              "      <th>0</th>\n",
              "      <td>1</td>\n",
              "      <td>[1049998, 840361, 9655212, 8293439, 5577022]</td>\n",
              "    </tr>\n",
              "    <tr>\n",
              "      <th>1</th>\n",
              "      <td>2</td>\n",
              "      <td>[1133018, 916122, 1053690, 5592931, 1106523]</td>\n",
              "    </tr>\n",
              "    <tr>\n",
              "      <th>2</th>\n",
              "      <td>4</td>\n",
              "      <td>[891423, 883932, 831063, 1029743, 13115481]</td>\n",
              "    </tr>\n",
              "    <tr>\n",
              "      <th>3</th>\n",
              "      <td>6</td>\n",
              "      <td>[1082185, 13131271, 995242, 1037863, 878996]</td>\n",
              "    </tr>\n",
              "    <tr>\n",
              "      <th>4</th>\n",
              "      <td>7</td>\n",
              "      <td>[1133018, 949836, 995785, 1082185, 1106523]</td>\n",
              "    </tr>\n",
              "  </tbody>\n",
              "</table>\n",
              "</div>"
            ],
            "text/plain": [
              "   user_id                                    candidates\n",
              "0        1  [1049998, 840361, 9655212, 8293439, 5577022]\n",
              "1        2  [1133018, 916122, 1053690, 5592931, 1106523]\n",
              "2        4   [891423, 883932, 831063, 1029743, 13115481]\n",
              "3        6  [1082185, 13131271, 995242, 1037863, 878996]\n",
              "4        7   [1133018, 949836, 995785, 1082185, 1106523]"
            ]
          },
          "metadata": {
            "tags": []
          },
          "execution_count": 87
        }
      ]
    },
    {
      "cell_type": "code",
      "metadata": {
        "colab": {
          "base_uri": "https://localhost:8080/",
          "height": 77
        },
        "id": "NeLPQYygFOyP",
        "outputId": "9520085b-b491-4826-92a9-52ddb2fe2eae"
      },
      "source": [
        "lvl_2_recommendations[lvl_2_recommendations.user_id == 1984]"
      ],
      "execution_count": null,
      "outputs": [
        {
          "output_type": "execute_result",
          "data": {
            "text/html": [
              "<div>\n",
              "<style scoped>\n",
              "    .dataframe tbody tr th:only-of-type {\n",
              "        vertical-align: middle;\n",
              "    }\n",
              "\n",
              "    .dataframe tbody tr th {\n",
              "        vertical-align: top;\n",
              "    }\n",
              "\n",
              "    .dataframe thead th {\n",
              "        text-align: right;\n",
              "    }\n",
              "</style>\n",
              "<table border=\"1\" class=\"dataframe\">\n",
              "  <thead>\n",
              "    <tr style=\"text-align: right;\">\n",
              "      <th></th>\n",
              "      <th>user_id</th>\n",
              "      <th>candidates</th>\n",
              "    </tr>\n",
              "  </thead>\n",
              "  <tbody>\n",
              "    <tr>\n",
              "      <th>1715</th>\n",
              "      <td>1984</td>\n",
              "      <td>[995242, 999971, 1098066, 866227, 1056509]</td>\n",
              "    </tr>\n",
              "  </tbody>\n",
              "</table>\n",
              "</div>"
            ],
            "text/plain": [
              "      user_id                                  candidates\n",
              "1715     1984  [995242, 999971, 1098066, 866227, 1056509]"
            ]
          },
          "metadata": {
            "tags": []
          },
          "execution_count": 88
        }
      ]
    },
    {
      "cell_type": "markdown",
      "metadata": {
        "id": "_ZwAsAPIJQ6t"
      },
      "source": [
        "Результат на трейне 2-го уровня:"
      ]
    },
    {
      "cell_type": "code",
      "metadata": {
        "colab": {
          "base_uri": "https://localhost:8080/",
          "height": 106
        },
        "id": "hLnGRRDoW60W",
        "outputId": "21da48de-4aa7-4b81-ea1b-d2600d8584d6"
      },
      "source": [
        "actual_data_train_lvl_2 = data_train_lvl_2.groupby('user_id')['item_id'].unique().reset_index()\n",
        "actual_data_train_lvl_2.columns=['user_id', 'actual']\n",
        "actual_data_train_lvl_2.head(2)"
      ],
      "execution_count": null,
      "outputs": [
        {
          "output_type": "execute_result",
          "data": {
            "text/html": [
              "<div>\n",
              "<style scoped>\n",
              "    .dataframe tbody tr th:only-of-type {\n",
              "        vertical-align: middle;\n",
              "    }\n",
              "\n",
              "    .dataframe tbody tr th {\n",
              "        vertical-align: top;\n",
              "    }\n",
              "\n",
              "    .dataframe thead th {\n",
              "        text-align: right;\n",
              "    }\n",
              "</style>\n",
              "<table border=\"1\" class=\"dataframe\">\n",
              "  <thead>\n",
              "    <tr style=\"text-align: right;\">\n",
              "      <th></th>\n",
              "      <th>user_id</th>\n",
              "      <th>actual</th>\n",
              "    </tr>\n",
              "  </thead>\n",
              "  <tbody>\n",
              "    <tr>\n",
              "      <th>0</th>\n",
              "      <td>1</td>\n",
              "      <td>[853529, 865456, 867607, 872137, 874905, 87524...</td>\n",
              "    </tr>\n",
              "    <tr>\n",
              "      <th>1</th>\n",
              "      <td>2</td>\n",
              "      <td>[15830248, 838136, 839656, 861272, 866211, 870...</td>\n",
              "    </tr>\n",
              "  </tbody>\n",
              "</table>\n",
              "</div>"
            ],
            "text/plain": [
              "   user_id                                             actual\n",
              "0        1  [853529, 865456, 867607, 872137, 874905, 87524...\n",
              "1        2  [15830248, 838136, 839656, 861272, 866211, 870..."
            ]
          },
          "metadata": {
            "tags": []
          },
          "execution_count": 89
        }
      ]
    },
    {
      "cell_type": "code",
      "metadata": {
        "id": "OBs3rukSYFB5"
      },
      "source": [
        "def get_bought_list(actual_data, user_id):\n",
        "  return actual_data.loc[actual_data['user_id'] == user_id, 'actual'].values[0]\n",
        "\n",
        "def precision_at_k(recommended_list, bought_list, k=5):\n",
        "    bought_list = np.array(bought_list)\n",
        "    recommended_list = np.array(recommended_list)\n",
        "    bought_list = bought_list  # Тут нет [:k] !!\n",
        "    if k < len(recommended_list):\n",
        "        recommended_list = recommended_list[:k]\n",
        "    flags = np.isin(bought_list, recommended_list)\n",
        "    precision = flags.sum() / len(recommended_list)\n",
        "    return precision\n",
        "\n",
        "# Определим функцию для расчета precision_at_k по готовому предсказанию\n",
        "def total_precision_at_k_pre(actual_data, k, recommendations_table):\n",
        "  pr = []\n",
        "  for uid in actual_data['user_id'].values:\n",
        "    if uid == 1984 or uid == 2325:\n",
        "      continue\n",
        "    rl = recommendations_table.loc[recommendations_table.user_id == uid, 'candidates'].values[0]\n",
        "    bl = get_bought_list(actual_data, user_id=uid)\n",
        "    pr.append(precision_at_k(recommended_list=rl, bought_list=bl, k=k))\n",
        "  return np.mean(pr), np.std(pr)"
      ],
      "execution_count": null,
      "outputs": []
    },
    {
      "cell_type": "code",
      "metadata": {
        "colab": {
          "base_uri": "https://localhost:8080/"
        },
        "id": "YcZn8uQe2uZI",
        "outputId": "ab695bae-f02c-4120-d1c4-82437c434358"
      },
      "source": [
        "mean, std = total_precision_at_k_pre(actual_data = actual_data_train_lvl_2, k=5, recommendations_table=lvl_2_recommendations)\n",
        "print(mean, ' +- ', std)"
      ],
      "execution_count": null,
      "outputs": [
        {
          "output_type": "stream",
          "text": [
            "0.696144914073386  +-  0.3516387240957705\n"
          ],
          "name": "stdout"
        }
      ]
    },
    {
      "cell_type": "markdown",
      "metadata": {
        "id": "w1j4z6weK_Wr"
      },
      "source": [
        "Посмотрим на валидационный сет"
      ]
    },
    {
      "cell_type": "code",
      "metadata": {
        "colab": {
          "base_uri": "https://localhost:8080/",
          "height": 106
        },
        "id": "L_ijJOvA2uWn",
        "outputId": "6f528b3f-fa08-4faa-d45a-1bab07d0752a"
      },
      "source": [
        "actual_data_val_lvl_2 = data_val_lvl_2.groupby('user_id')['item_id'].unique().reset_index()\n",
        "actual_data_val_lvl_2.columns=['user_id', 'actual']\n",
        "actual_data_val_lvl_2.head(2)"
      ],
      "execution_count": null,
      "outputs": [
        {
          "output_type": "execute_result",
          "data": {
            "text/html": [
              "<div>\n",
              "<style scoped>\n",
              "    .dataframe tbody tr th:only-of-type {\n",
              "        vertical-align: middle;\n",
              "    }\n",
              "\n",
              "    .dataframe tbody tr th {\n",
              "        vertical-align: top;\n",
              "    }\n",
              "\n",
              "    .dataframe thead th {\n",
              "        text-align: right;\n",
              "    }\n",
              "</style>\n",
              "<table border=\"1\" class=\"dataframe\">\n",
              "  <thead>\n",
              "    <tr style=\"text-align: right;\">\n",
              "      <th></th>\n",
              "      <th>user_id</th>\n",
              "      <th>actual</th>\n",
              "    </tr>\n",
              "  </thead>\n",
              "  <tbody>\n",
              "    <tr>\n",
              "      <th>0</th>\n",
              "      <td>1</td>\n",
              "      <td>[821867, 834484, 856942, 865456, 889248, 90795...</td>\n",
              "    </tr>\n",
              "    <tr>\n",
              "      <th>1</th>\n",
              "      <td>3</td>\n",
              "      <td>[835476, 851057, 872021, 878302, 879948, 90963...</td>\n",
              "    </tr>\n",
              "  </tbody>\n",
              "</table>\n",
              "</div>"
            ],
            "text/plain": [
              "   user_id                                             actual\n",
              "0        1  [821867, 834484, 856942, 865456, 889248, 90795...\n",
              "1        3  [835476, 851057, 872021, 878302, 879948, 90963..."
            ]
          },
          "metadata": {
            "tags": []
          },
          "execution_count": 92
        }
      ]
    },
    {
      "cell_type": "code",
      "metadata": {
        "id": "wn7qPQ0oLGr-"
      },
      "source": [
        "df_val = df[df.user_id.isin(data_val_lvl_2.user_id.values)]"
      ],
      "execution_count": null,
      "outputs": []
    },
    {
      "cell_type": "markdown",
      "metadata": {
        "id": "5s45ZlCqLToG"
      },
      "source": [
        "Расчитаем рекоммендации второго уровня для валидационного набора данных"
      ]
    },
    {
      "cell_type": "code",
      "metadata": {
        "colab": {
          "base_uri": "https://localhost:8080/"
        },
        "id": "-I7ZeY-CbPbq",
        "outputId": "44b92de3-0669-496f-a340-7819dcfa86ce"
      },
      "source": [
        "targets_val_lvl_2 = data_val_lvl_2[['user_id', 'item_id']].copy()\n",
        "targets_val_lvl_2['target'] = 1  # тут только покупки\n",
        "targets_val_lvl_2 = targets_val_lvl_2.groupby(['user_id', 'item_id'], as_index=False).min()  # В материалах вебинаров этот шаг был пропущен, данные были не уникальны!\n",
        "targets_val_lvl_2 = df_val.merge(targets_val_lvl_2, on=['user_id', 'item_id'], how='left')\n",
        "targets_val_lvl_2['target'].fillna(0, inplace= True)\n",
        "targets_val_lvl_2.head()\n",
        "\n",
        "targets_val_lvl_2 = targets_val_lvl_2.merge(items_feats_train, on='item_id', how='left')\n",
        "targets_val_lvl_2 = targets_val_lvl_2.merge(users_feats_train, on='user_id', how='left')\n",
        "targets_val_lvl_2 = merge_us_it(data.copy(deep=True), 3, targets_val_lvl_2.copy(deep=True))"
      ],
      "execution_count": null,
      "outputs": [
        {
          "output_type": "stream",
          "text": [
            "/usr/local/lib/python3.6/dist-packages/ipykernel_launcher.py:2: SettingWithCopyWarning: \n",
            "A value is trying to be set on a copy of a slice from a DataFrame.\n",
            "Try using .loc[row_indexer,col_indexer] = value instead\n",
            "\n",
            "See the caveats in the documentation: https://pandas.pydata.org/pandas-docs/stable/user_guide/indexing.html#returning-a-view-versus-a-copy\n",
            "  \n",
            "/usr/local/lib/python3.6/dist-packages/ipykernel_launcher.py:5: SettingWithCopyWarning: \n",
            "A value is trying to be set on a copy of a slice from a DataFrame.\n",
            "Try using .loc[row_indexer,col_indexer] = value instead\n",
            "\n",
            "See the caveats in the documentation: https://pandas.pydata.org/pandas-docs/stable/user_guide/indexing.html#returning-a-view-versus-a-copy\n",
            "  \"\"\"\n",
            "/usr/local/lib/python3.6/dist-packages/pandas/core/indexing.py:1763: SettingWithCopyWarning: \n",
            "A value is trying to be set on a copy of a slice from a DataFrame.\n",
            "Try using .loc[row_indexer,col_indexer] = value instead\n",
            "\n",
            "See the caveats in the documentation: https://pandas.pydata.org/pandas-docs/stable/user_guide/indexing.html#returning-a-view-versus-a-copy\n",
            "  isetter(loc, value)\n",
            "/usr/local/lib/python3.6/dist-packages/ipykernel_launcher.py:2: SettingWithCopyWarning: \n",
            "A value is trying to be set on a copy of a slice from a DataFrame.\n",
            "Try using .loc[row_indexer,col_indexer] = value instead\n",
            "\n",
            "See the caveats in the documentation: https://pandas.pydata.org/pandas-docs/stable/user_guide/indexing.html#returning-a-view-versus-a-copy\n",
            "  \n",
            "/usr/local/lib/python3.6/dist-packages/ipykernel_launcher.py:5: SettingWithCopyWarning: \n",
            "A value is trying to be set on a copy of a slice from a DataFrame.\n",
            "Try using .loc[row_indexer,col_indexer] = value instead\n",
            "\n",
            "See the caveats in the documentation: https://pandas.pydata.org/pandas-docs/stable/user_guide/indexing.html#returning-a-view-versus-a-copy\n",
            "  \"\"\"\n",
            "/usr/local/lib/python3.6/dist-packages/pandas/core/indexing.py:1763: SettingWithCopyWarning: \n",
            "A value is trying to be set on a copy of a slice from a DataFrame.\n",
            "Try using .loc[row_indexer,col_indexer] = value instead\n",
            "\n",
            "See the caveats in the documentation: https://pandas.pydata.org/pandas-docs/stable/user_guide/indexing.html#returning-a-view-versus-a-copy\n",
            "  isetter(loc, value)\n"
          ],
          "name": "stderr"
        }
      ]
    },
    {
      "cell_type": "code",
      "metadata": {
        "colab": {
          "base_uri": "https://localhost:8080/",
          "height": 215
        },
        "id": "lX-npgKpbXtJ",
        "outputId": "4f46f161-0f0f-4a6a-ae67-55447df1b64b"
      },
      "source": [
        "targets_val_lvl_2.head()"
      ],
      "execution_count": null,
      "outputs": [
        {
          "output_type": "execute_result",
          "data": {
            "text/html": [
              "<div>\n",
              "<style scoped>\n",
              "    .dataframe tbody tr th:only-of-type {\n",
              "        vertical-align: middle;\n",
              "    }\n",
              "\n",
              "    .dataframe tbody tr th {\n",
              "        vertical-align: top;\n",
              "    }\n",
              "\n",
              "    .dataframe thead th {\n",
              "        text-align: right;\n",
              "    }\n",
              "</style>\n",
              "<table border=\"1\" class=\"dataframe\">\n",
              "  <thead>\n",
              "    <tr style=\"text-align: right;\">\n",
              "      <th></th>\n",
              "      <th>user_id</th>\n",
              "      <th>item_id</th>\n",
              "      <th>target</th>\n",
              "      <th>frq_itm_store_id</th>\n",
              "      <th>3rw_frq_itm_store_id</th>\n",
              "      <th>qnt_itm_store_id</th>\n",
              "      <th>3rw_qnt_itm_store_id</th>\n",
              "      <th>wly_quantity</th>\n",
              "      <th>3rw_wly_quantity</th>\n",
              "      <th>itm_total_sales_value</th>\n",
              "      <th>3rw_itm_total_sales_value</th>\n",
              "      <th>itm_price</th>\n",
              "      <th>department</th>\n",
              "      <th>brand</th>\n",
              "      <th>basket_quantity</th>\n",
              "      <th>3rw_basket_quantity</th>\n",
              "      <th>total_sales_value</th>\n",
              "      <th>3rw_sales_value</th>\n",
              "      <th>frq_us_store_id</th>\n",
              "      <th>3rw_frq_us_store_id</th>\n",
              "      <th>avg_basket_sum</th>\n",
              "      <th>ui_total_quantity</th>\n",
              "      <th>3rw_ui_quantity</th>\n",
              "      <th>in_3_weeks</th>\n",
              "      <th>in_1_weeks</th>\n",
              "    </tr>\n",
              "  </thead>\n",
              "  <tbody>\n",
              "    <tr>\n",
              "      <th>0</th>\n",
              "      <td>1</td>\n",
              "      <td>1049998</td>\n",
              "      <td>1.0</td>\n",
              "      <td>436.0</td>\n",
              "      <td>436.0</td>\n",
              "      <td>20.0</td>\n",
              "      <td>2.0</td>\n",
              "      <td>0.619565</td>\n",
              "      <td>0.666667</td>\n",
              "      <td>1.098587</td>\n",
              "      <td>1.326667</td>\n",
              "      <td>1.773158</td>\n",
              "      <td>DRUG GM</td>\n",
              "      <td>National</td>\n",
              "      <td>16.75</td>\n",
              "      <td>19.666667</td>\n",
              "      <td>41.610109</td>\n",
              "      <td>44.786667</td>\n",
              "      <td>436</td>\n",
              "      <td>436.0</td>\n",
              "      <td>2.484186</td>\n",
              "      <td>0.271739</td>\n",
              "      <td>0.333333</td>\n",
              "      <td>1.0</td>\n",
              "      <td>0.0</td>\n",
              "    </tr>\n",
              "    <tr>\n",
              "      <th>1</th>\n",
              "      <td>1</td>\n",
              "      <td>900875</td>\n",
              "      <td>0.0</td>\n",
              "      <td>313.0</td>\n",
              "      <td>318.0</td>\n",
              "      <td>16.0</td>\n",
              "      <td>1.0</td>\n",
              "      <td>0.510870</td>\n",
              "      <td>0.666667</td>\n",
              "      <td>1.063152</td>\n",
              "      <td>1.526667</td>\n",
              "      <td>2.081064</td>\n",
              "      <td>GROCERY</td>\n",
              "      <td>National</td>\n",
              "      <td>16.75</td>\n",
              "      <td>19.666667</td>\n",
              "      <td>41.610109</td>\n",
              "      <td>44.786667</td>\n",
              "      <td>436</td>\n",
              "      <td>436.0</td>\n",
              "      <td>2.484186</td>\n",
              "      <td>0.097826</td>\n",
              "      <td>NaN</td>\n",
              "      <td>0.0</td>\n",
              "      <td>0.0</td>\n",
              "    </tr>\n",
              "    <tr>\n",
              "      <th>2</th>\n",
              "      <td>1</td>\n",
              "      <td>1127831</td>\n",
              "      <td>0.0</td>\n",
              "      <td>406.0</td>\n",
              "      <td>31862.0</td>\n",
              "      <td>112.0</td>\n",
              "      <td>32.0</td>\n",
              "      <td>81.565217</td>\n",
              "      <td>23.333333</td>\n",
              "      <td>181.095109</td>\n",
              "      <td>113.100000</td>\n",
              "      <td>2.220249</td>\n",
              "      <td>PRODUCE</td>\n",
              "      <td>National</td>\n",
              "      <td>16.75</td>\n",
              "      <td>19.666667</td>\n",
              "      <td>41.610109</td>\n",
              "      <td>44.786667</td>\n",
              "      <td>436</td>\n",
              "      <td>436.0</td>\n",
              "      <td>2.484186</td>\n",
              "      <td>NaN</td>\n",
              "      <td>NaN</td>\n",
              "      <td>NaN</td>\n",
              "      <td>NaN</td>\n",
              "    </tr>\n",
              "    <tr>\n",
              "      <th>3</th>\n",
              "      <td>1</td>\n",
              "      <td>852662</td>\n",
              "      <td>0.0</td>\n",
              "      <td>436.0</td>\n",
              "      <td>NaN</td>\n",
              "      <td>9.0</td>\n",
              "      <td>NaN</td>\n",
              "      <td>0.445652</td>\n",
              "      <td>NaN</td>\n",
              "      <td>0.701087</td>\n",
              "      <td>NaN</td>\n",
              "      <td>1.573171</td>\n",
              "      <td>DRUG GM</td>\n",
              "      <td>National</td>\n",
              "      <td>16.75</td>\n",
              "      <td>19.666667</td>\n",
              "      <td>41.610109</td>\n",
              "      <td>44.786667</td>\n",
              "      <td>436</td>\n",
              "      <td>436.0</td>\n",
              "      <td>2.484186</td>\n",
              "      <td>0.260870</td>\n",
              "      <td>NaN</td>\n",
              "      <td>0.0</td>\n",
              "      <td>0.0</td>\n",
              "    </tr>\n",
              "    <tr>\n",
              "      <th>4</th>\n",
              "      <td>1</td>\n",
              "      <td>1082185</td>\n",
              "      <td>1.0</td>\n",
              "      <td>367.0</td>\n",
              "      <td>406.0</td>\n",
              "      <td>113.0</td>\n",
              "      <td>105.0</td>\n",
              "      <td>298.097826</td>\n",
              "      <td>302.000000</td>\n",
              "      <td>286.356087</td>\n",
              "      <td>304.816667</td>\n",
              "      <td>0.960611</td>\n",
              "      <td>PRODUCE</td>\n",
              "      <td>National</td>\n",
              "      <td>16.75</td>\n",
              "      <td>19.666667</td>\n",
              "      <td>41.610109</td>\n",
              "      <td>44.786667</td>\n",
              "      <td>436</td>\n",
              "      <td>436.0</td>\n",
              "      <td>2.484186</td>\n",
              "      <td>0.423913</td>\n",
              "      <td>0.666667</td>\n",
              "      <td>1.0</td>\n",
              "      <td>1.0</td>\n",
              "    </tr>\n",
              "  </tbody>\n",
              "</table>\n",
              "</div>"
            ],
            "text/plain": [
              "   user_id  item_id  target  ...  3rw_ui_quantity  in_3_weeks  in_1_weeks\n",
              "0        1  1049998     1.0  ...         0.333333         1.0         0.0\n",
              "1        1   900875     0.0  ...              NaN         0.0         0.0\n",
              "2        1  1127831     0.0  ...              NaN         NaN         NaN\n",
              "3        1   852662     0.0  ...              NaN         0.0         0.0\n",
              "4        1  1082185     1.0  ...         0.666667         1.0         1.0\n",
              "\n",
              "[5 rows x 25 columns]"
            ]
          },
          "metadata": {
            "tags": []
          },
          "execution_count": 95
        }
      ]
    },
    {
      "cell_type": "code",
      "metadata": {
        "id": "FRw3Xe7QIyoA"
      },
      "source": [
        "X_val = targets_val_lvl_2.drop(columns=['user_id', 'item_id', 'target'])\n",
        "X_val[cat_feats] = X_val[cat_feats].astype('category')\n",
        "\n",
        "val_preds = lgb.predict_proba(X_val)[:, 1]"
      ],
      "execution_count": null,
      "outputs": []
    },
    {
      "cell_type": "code",
      "metadata": {
        "colab": {
          "base_uri": "https://localhost:8080/",
          "height": 215
        },
        "id": "-Bh5K6SRaRcc",
        "outputId": "bf7ca964-b88e-4f7a-f5e9-e1229cf9798c"
      },
      "source": [
        "X_val.head()"
      ],
      "execution_count": null,
      "outputs": [
        {
          "output_type": "execute_result",
          "data": {
            "text/html": [
              "<div>\n",
              "<style scoped>\n",
              "    .dataframe tbody tr th:only-of-type {\n",
              "        vertical-align: middle;\n",
              "    }\n",
              "\n",
              "    .dataframe tbody tr th {\n",
              "        vertical-align: top;\n",
              "    }\n",
              "\n",
              "    .dataframe thead th {\n",
              "        text-align: right;\n",
              "    }\n",
              "</style>\n",
              "<table border=\"1\" class=\"dataframe\">\n",
              "  <thead>\n",
              "    <tr style=\"text-align: right;\">\n",
              "      <th></th>\n",
              "      <th>frq_itm_store_id</th>\n",
              "      <th>3rw_frq_itm_store_id</th>\n",
              "      <th>qnt_itm_store_id</th>\n",
              "      <th>3rw_qnt_itm_store_id</th>\n",
              "      <th>wly_quantity</th>\n",
              "      <th>3rw_wly_quantity</th>\n",
              "      <th>itm_total_sales_value</th>\n",
              "      <th>3rw_itm_total_sales_value</th>\n",
              "      <th>itm_price</th>\n",
              "      <th>department</th>\n",
              "      <th>brand</th>\n",
              "      <th>basket_quantity</th>\n",
              "      <th>3rw_basket_quantity</th>\n",
              "      <th>total_sales_value</th>\n",
              "      <th>3rw_sales_value</th>\n",
              "      <th>frq_us_store_id</th>\n",
              "      <th>3rw_frq_us_store_id</th>\n",
              "      <th>avg_basket_sum</th>\n",
              "      <th>ui_total_quantity</th>\n",
              "      <th>3rw_ui_quantity</th>\n",
              "      <th>in_3_weeks</th>\n",
              "      <th>in_1_weeks</th>\n",
              "    </tr>\n",
              "  </thead>\n",
              "  <tbody>\n",
              "    <tr>\n",
              "      <th>0</th>\n",
              "      <td>436.0</td>\n",
              "      <td>436.0</td>\n",
              "      <td>20.0</td>\n",
              "      <td>2.0</td>\n",
              "      <td>0.619565</td>\n",
              "      <td>0.666667</td>\n",
              "      <td>1.098587</td>\n",
              "      <td>1.326667</td>\n",
              "      <td>1.773158</td>\n",
              "      <td>DRUG GM</td>\n",
              "      <td>National</td>\n",
              "      <td>16.75</td>\n",
              "      <td>19.666667</td>\n",
              "      <td>41.610109</td>\n",
              "      <td>44.786667</td>\n",
              "      <td>436</td>\n",
              "      <td>436.0</td>\n",
              "      <td>2.484186</td>\n",
              "      <td>0.271739</td>\n",
              "      <td>0.333333</td>\n",
              "      <td>1.0</td>\n",
              "      <td>0.0</td>\n",
              "    </tr>\n",
              "    <tr>\n",
              "      <th>1</th>\n",
              "      <td>313.0</td>\n",
              "      <td>318.0</td>\n",
              "      <td>16.0</td>\n",
              "      <td>1.0</td>\n",
              "      <td>0.510870</td>\n",
              "      <td>0.666667</td>\n",
              "      <td>1.063152</td>\n",
              "      <td>1.526667</td>\n",
              "      <td>2.081064</td>\n",
              "      <td>GROCERY</td>\n",
              "      <td>National</td>\n",
              "      <td>16.75</td>\n",
              "      <td>19.666667</td>\n",
              "      <td>41.610109</td>\n",
              "      <td>44.786667</td>\n",
              "      <td>436</td>\n",
              "      <td>436.0</td>\n",
              "      <td>2.484186</td>\n",
              "      <td>0.097826</td>\n",
              "      <td>NaN</td>\n",
              "      <td>0.0</td>\n",
              "      <td>0.0</td>\n",
              "    </tr>\n",
              "    <tr>\n",
              "      <th>2</th>\n",
              "      <td>406.0</td>\n",
              "      <td>31862.0</td>\n",
              "      <td>112.0</td>\n",
              "      <td>32.0</td>\n",
              "      <td>81.565217</td>\n",
              "      <td>23.333333</td>\n",
              "      <td>181.095109</td>\n",
              "      <td>113.100000</td>\n",
              "      <td>2.220249</td>\n",
              "      <td>PRODUCE</td>\n",
              "      <td>National</td>\n",
              "      <td>16.75</td>\n",
              "      <td>19.666667</td>\n",
              "      <td>41.610109</td>\n",
              "      <td>44.786667</td>\n",
              "      <td>436</td>\n",
              "      <td>436.0</td>\n",
              "      <td>2.484186</td>\n",
              "      <td>NaN</td>\n",
              "      <td>NaN</td>\n",
              "      <td>NaN</td>\n",
              "      <td>NaN</td>\n",
              "    </tr>\n",
              "    <tr>\n",
              "      <th>3</th>\n",
              "      <td>436.0</td>\n",
              "      <td>NaN</td>\n",
              "      <td>9.0</td>\n",
              "      <td>NaN</td>\n",
              "      <td>0.445652</td>\n",
              "      <td>NaN</td>\n",
              "      <td>0.701087</td>\n",
              "      <td>NaN</td>\n",
              "      <td>1.573171</td>\n",
              "      <td>DRUG GM</td>\n",
              "      <td>National</td>\n",
              "      <td>16.75</td>\n",
              "      <td>19.666667</td>\n",
              "      <td>41.610109</td>\n",
              "      <td>44.786667</td>\n",
              "      <td>436</td>\n",
              "      <td>436.0</td>\n",
              "      <td>2.484186</td>\n",
              "      <td>0.260870</td>\n",
              "      <td>NaN</td>\n",
              "      <td>0.0</td>\n",
              "      <td>0.0</td>\n",
              "    </tr>\n",
              "    <tr>\n",
              "      <th>4</th>\n",
              "      <td>367.0</td>\n",
              "      <td>406.0</td>\n",
              "      <td>113.0</td>\n",
              "      <td>105.0</td>\n",
              "      <td>298.097826</td>\n",
              "      <td>302.000000</td>\n",
              "      <td>286.356087</td>\n",
              "      <td>304.816667</td>\n",
              "      <td>0.960611</td>\n",
              "      <td>PRODUCE</td>\n",
              "      <td>National</td>\n",
              "      <td>16.75</td>\n",
              "      <td>19.666667</td>\n",
              "      <td>41.610109</td>\n",
              "      <td>44.786667</td>\n",
              "      <td>436</td>\n",
              "      <td>436.0</td>\n",
              "      <td>2.484186</td>\n",
              "      <td>0.423913</td>\n",
              "      <td>0.666667</td>\n",
              "      <td>1.0</td>\n",
              "      <td>1.0</td>\n",
              "    </tr>\n",
              "  </tbody>\n",
              "</table>\n",
              "</div>"
            ],
            "text/plain": [
              "  frq_itm_store_id 3rw_frq_itm_store_id  ...  in_3_weeks  in_1_weeks\n",
              "0            436.0                436.0  ...         1.0         0.0\n",
              "1            313.0                318.0  ...         0.0         0.0\n",
              "2            406.0              31862.0  ...         NaN         NaN\n",
              "3            436.0                  NaN  ...         0.0         0.0\n",
              "4            367.0                406.0  ...         1.0         1.0\n",
              "\n",
              "[5 rows x 22 columns]"
            ]
          },
          "metadata": {
            "tags": []
          },
          "execution_count": 97
        }
      ]
    },
    {
      "cell_type": "code",
      "metadata": {
        "colab": {
          "base_uri": "https://localhost:8080/"
        },
        "id": "PXn0zSfNbm9d",
        "outputId": "5a00028d-a579-46d0-c479-2c2f54882351"
      },
      "source": [
        "val_preds"
      ],
      "execution_count": null,
      "outputs": [
        {
          "output_type": "execute_result",
          "data": {
            "text/plain": [
              "array([9.91879571e-01, 2.01443294e-01, 2.90538696e-05, ...,\n",
              "       2.34671906e-05, 2.39534378e-05, 5.55166806e-02])"
            ]
          },
          "metadata": {
            "tags": []
          },
          "execution_count": 98
        }
      ]
    },
    {
      "cell_type": "code",
      "metadata": {
        "id": "nH3H1CqrKnjQ",
        "colab": {
          "base_uri": "https://localhost:8080/"
        },
        "outputId": "1223bda8-9a48-4978-bfde-6d281fb68510"
      },
      "source": [
        "k = 5\n",
        "targets_val_lvl_2_pred = targets_val_lvl_2.copy(deep=True)\n",
        "targets_val_lvl_2_pred['predict_proba'] = val_preds\n",
        "targets_val_lvl_2_pred = targets_val_lvl_2_pred[['user_id', 'item_id', 'predict_proba']]\n",
        "users = targets_val_lvl_2_pred['user_id'].unique()\n",
        "val_lvl_2_recommendations = pd.DataFrame(data = {'user_id': users})\n",
        "val_lvl_2_recommendations['candidates'] = 0\n",
        "\n",
        "def get_lvl_2_reccomendations(user_id, targets_val_lvl_2_pred):\n",
        "  tdf = targets_val_lvl_2_pred[targets_val_lvl_2_pred['user_id']==user_id]\n",
        "  tdf = tdf.drop(columns=['user_id'])\n",
        "  tdf = tdf.groupby(['item_id']).max()\n",
        "  tdf = tdf.sort_values(by='predict_proba', ascending=False)\n",
        "  tdf = tdf.index[:k].tolist()\n",
        "  return tdf\n",
        "\n",
        "print(get_lvl_2_reccomendations(2027, targets_val_lvl_2_pred))\n",
        "val_lvl_2_recommendations['candidates'] = val_lvl_2_recommendations['user_id'].apply(lambda x: get_lvl_2_reccomendations(x, targets_val_lvl_2_pred))"
      ],
      "execution_count": null,
      "outputs": [
        {
          "output_type": "stream",
          "text": [
            "[1068719, 961554, 1055646, 923746, 981760]\n"
          ],
          "name": "stdout"
        }
      ]
    },
    {
      "cell_type": "code",
      "metadata": {
        "colab": {
          "base_uri": "https://localhost:8080/"
        },
        "id": "iR0DONHwb1eI",
        "outputId": "ea7908e1-3185-460e-f331-47b01273a398"
      },
      "source": [
        "us_actual = set(actual_data_val_lvl_2.user_id.unique())\n",
        "len(us_actual)"
      ],
      "execution_count": null,
      "outputs": [
        {
          "output_type": "execute_result",
          "data": {
            "text/plain": [
              "2042"
            ]
          },
          "metadata": {
            "tags": []
          },
          "execution_count": 100
        }
      ]
    },
    {
      "cell_type": "code",
      "metadata": {
        "colab": {
          "base_uri": "https://localhost:8080/"
        },
        "id": "U4jxwfZFcDZF",
        "outputId": "72f9f327-5310-4b05-e56b-ac2e100a506c"
      },
      "source": [
        "us_rec = set(val_lvl_2_recommendations.user_id.unique())\n",
        "len(us_rec)"
      ],
      "execution_count": null,
      "outputs": [
        {
          "output_type": "execute_result",
          "data": {
            "text/plain": [
              "2042"
            ]
          },
          "metadata": {
            "tags": []
          },
          "execution_count": 101
        }
      ]
    },
    {
      "cell_type": "code",
      "metadata": {
        "colab": {
          "base_uri": "https://localhost:8080/"
        },
        "id": "PIo2qBMrctfH",
        "outputId": "faec3db9-d558-4241-b942-d436248d5ff5"
      },
      "source": [
        "us_actual == us_rec"
      ],
      "execution_count": null,
      "outputs": [
        {
          "output_type": "execute_result",
          "data": {
            "text/plain": [
              "True"
            ]
          },
          "metadata": {
            "tags": []
          },
          "execution_count": 102
        }
      ]
    },
    {
      "cell_type": "code",
      "metadata": {
        "colab": {
          "base_uri": "https://localhost:8080/"
        },
        "id": "bcUN3C2uK59P",
        "outputId": "9c534394-bce4-45a0-cf33-6a55f15fda19"
      },
      "source": [
        "mean, std = total_precision_at_k_pre(actual_data = actual_data_val_lvl_2, k=5, recommendations_table=val_lvl_2_recommendations)\n",
        "print(mean, ' +- ', std)"
      ],
      "execution_count": null,
      "outputs": [
        {
          "output_type": "stream",
          "text": [
            "0.3633512983831455  +-  0.29642544368594487\n"
          ],
          "name": "stdout"
        }
      ]
    },
    {
      "cell_type": "markdown",
      "metadata": {
        "id": "CgyOxu0db0nE"
      },
      "source": [
        "# Получили неплохое качество (смущает только разброс). Посмотрим, что это дает на лидерборде"
      ]
    },
    {
      "cell_type": "code",
      "metadata": {
        "colab": {
          "base_uri": "https://localhost:8080/",
          "height": 106
        },
        "id": "Wdi_w8e1dLn5",
        "outputId": "71ab98e4-c2b6-47a6-db88-4f1518954402"
      },
      "source": [
        "actual_data_lb = data_lb.groupby('user_id')['item_id'].unique().reset_index()\n",
        "actual_data_lb.columns=['user_id', 'actual']\n",
        "actual_data_lb.head(2)"
      ],
      "execution_count": null,
      "outputs": [
        {
          "output_type": "execute_result",
          "data": {
            "text/html": [
              "<div>\n",
              "<style scoped>\n",
              "    .dataframe tbody tr th:only-of-type {\n",
              "        vertical-align: middle;\n",
              "    }\n",
              "\n",
              "    .dataframe tbody tr th {\n",
              "        vertical-align: top;\n",
              "    }\n",
              "\n",
              "    .dataframe thead th {\n",
              "        text-align: right;\n",
              "    }\n",
              "</style>\n",
              "<table border=\"1\" class=\"dataframe\">\n",
              "  <thead>\n",
              "    <tr style=\"text-align: right;\">\n",
              "      <th></th>\n",
              "      <th>user_id</th>\n",
              "      <th>actual</th>\n",
              "    </tr>\n",
              "  </thead>\n",
              "  <tbody>\n",
              "    <tr>\n",
              "      <th>0</th>\n",
              "      <td>1</td>\n",
              "      <td>[880007, 883616, 931136, 938004, 940947, 94726...</td>\n",
              "    </tr>\n",
              "    <tr>\n",
              "      <th>1</th>\n",
              "      <td>2</td>\n",
              "      <td>[820165, 820291, 826784, 826835, 829009, 85784...</td>\n",
              "    </tr>\n",
              "  </tbody>\n",
              "</table>\n",
              "</div>"
            ],
            "text/plain": [
              "   user_id                                             actual\n",
              "0        1  [880007, 883616, 931136, 938004, 940947, 94726...\n",
              "1        2  [820165, 820291, 826784, 826835, 829009, 85784..."
            ]
          },
          "metadata": {
            "tags": []
          },
          "execution_count": 104
        }
      ]
    },
    {
      "cell_type": "code",
      "metadata": {
        "id": "GY39pSxyLmrO"
      },
      "source": [
        "df_val_lb = df_lb.copy(deep=True)  # Данные из модели первого уровня (обученные на всем датасете train)"
      ],
      "execution_count": null,
      "outputs": []
    },
    {
      "cell_type": "markdown",
      "metadata": {
        "id": "nfX5wIgFeTeI"
      },
      "source": [
        "Вариант - без переобучения модели второго уровня на всех данных датасета train"
      ]
    },
    {
      "cell_type": "code",
      "metadata": {
        "colab": {
          "base_uri": "https://localhost:8080/",
          "height": 195
        },
        "id": "eXE-2zrJYyhZ",
        "outputId": "9d70c89e-ae59-4e9d-a81c-6a45f836ae17"
      },
      "source": [
        "df_val_lb.head()"
      ],
      "execution_count": null,
      "outputs": [
        {
          "output_type": "execute_result",
          "data": {
            "text/html": [
              "<div>\n",
              "<style scoped>\n",
              "    .dataframe tbody tr th:only-of-type {\n",
              "        vertical-align: middle;\n",
              "    }\n",
              "\n",
              "    .dataframe tbody tr th {\n",
              "        vertical-align: top;\n",
              "    }\n",
              "\n",
              "    .dataframe thead th {\n",
              "        text-align: right;\n",
              "    }\n",
              "</style>\n",
              "<table border=\"1\" class=\"dataframe\">\n",
              "  <thead>\n",
              "    <tr style=\"text-align: right;\">\n",
              "      <th></th>\n",
              "      <th>user_id</th>\n",
              "      <th>item_id</th>\n",
              "    </tr>\n",
              "  </thead>\n",
              "  <tbody>\n",
              "    <tr>\n",
              "      <th>0</th>\n",
              "      <td>1</td>\n",
              "      <td>1049998</td>\n",
              "    </tr>\n",
              "    <tr>\n",
              "      <th>1</th>\n",
              "      <td>1</td>\n",
              "      <td>900875</td>\n",
              "    </tr>\n",
              "    <tr>\n",
              "      <th>2</th>\n",
              "      <td>1</td>\n",
              "      <td>1127831</td>\n",
              "    </tr>\n",
              "    <tr>\n",
              "      <th>3</th>\n",
              "      <td>1</td>\n",
              "      <td>852662</td>\n",
              "    </tr>\n",
              "    <tr>\n",
              "      <th>4</th>\n",
              "      <td>1</td>\n",
              "      <td>1082185</td>\n",
              "    </tr>\n",
              "  </tbody>\n",
              "</table>\n",
              "</div>"
            ],
            "text/plain": [
              "   user_id  item_id\n",
              "0        1  1049998\n",
              "1        1   900875\n",
              "2        1  1127831\n",
              "3        1   852662\n",
              "4        1  1082185"
            ]
          },
          "metadata": {
            "tags": []
          },
          "execution_count": 117
        }
      ]
    },
    {
      "cell_type": "code",
      "metadata": {
        "colab": {
          "base_uri": "https://localhost:8080/",
          "height": 195
        },
        "id": "QKaHzjRgfgsp",
        "outputId": "6d6a73b3-6968-4e69-b43e-c4c977d75740"
      },
      "source": [
        "data_lb_u.head()"
      ],
      "execution_count": null,
      "outputs": [
        {
          "output_type": "execute_result",
          "data": {
            "text/html": [
              "<div>\n",
              "<style scoped>\n",
              "    .dataframe tbody tr th:only-of-type {\n",
              "        vertical-align: middle;\n",
              "    }\n",
              "\n",
              "    .dataframe tbody tr th {\n",
              "        vertical-align: top;\n",
              "    }\n",
              "\n",
              "    .dataframe thead th {\n",
              "        text-align: right;\n",
              "    }\n",
              "</style>\n",
              "<table border=\"1\" class=\"dataframe\">\n",
              "  <thead>\n",
              "    <tr style=\"text-align: right;\">\n",
              "      <th></th>\n",
              "      <th>user_id</th>\n",
              "      <th>basket_id</th>\n",
              "      <th>day</th>\n",
              "      <th>item_id</th>\n",
              "      <th>quantity</th>\n",
              "      <th>sales_value</th>\n",
              "      <th>store_id</th>\n",
              "      <th>retail_disc</th>\n",
              "      <th>trans_time</th>\n",
              "      <th>week_no</th>\n",
              "      <th>coupon_disc</th>\n",
              "      <th>coupon_match_disc</th>\n",
              "    </tr>\n",
              "  </thead>\n",
              "  <tbody>\n",
              "    <tr>\n",
              "      <th>0</th>\n",
              "      <td>2375</td>\n",
              "      <td>26984851472</td>\n",
              "      <td>1</td>\n",
              "      <td>1004906</td>\n",
              "      <td>1</td>\n",
              "      <td>1.39</td>\n",
              "      <td>364</td>\n",
              "      <td>-0.60</td>\n",
              "      <td>1631</td>\n",
              "      <td>1</td>\n",
              "      <td>0.0</td>\n",
              "      <td>0.0</td>\n",
              "    </tr>\n",
              "    <tr>\n",
              "      <th>1</th>\n",
              "      <td>2375</td>\n",
              "      <td>26984851472</td>\n",
              "      <td>1</td>\n",
              "      <td>1033142</td>\n",
              "      <td>1</td>\n",
              "      <td>0.82</td>\n",
              "      <td>364</td>\n",
              "      <td>0.00</td>\n",
              "      <td>1631</td>\n",
              "      <td>1</td>\n",
              "      <td>0.0</td>\n",
              "      <td>0.0</td>\n",
              "    </tr>\n",
              "    <tr>\n",
              "      <th>2</th>\n",
              "      <td>2375</td>\n",
              "      <td>26984851472</td>\n",
              "      <td>1</td>\n",
              "      <td>1036325</td>\n",
              "      <td>1</td>\n",
              "      <td>0.99</td>\n",
              "      <td>364</td>\n",
              "      <td>-0.30</td>\n",
              "      <td>1631</td>\n",
              "      <td>1</td>\n",
              "      <td>0.0</td>\n",
              "      <td>0.0</td>\n",
              "    </tr>\n",
              "    <tr>\n",
              "      <th>3</th>\n",
              "      <td>2375</td>\n",
              "      <td>26984851472</td>\n",
              "      <td>1</td>\n",
              "      <td>1082185</td>\n",
              "      <td>1</td>\n",
              "      <td>1.21</td>\n",
              "      <td>364</td>\n",
              "      <td>0.00</td>\n",
              "      <td>1631</td>\n",
              "      <td>1</td>\n",
              "      <td>0.0</td>\n",
              "      <td>0.0</td>\n",
              "    </tr>\n",
              "    <tr>\n",
              "      <th>4</th>\n",
              "      <td>2375</td>\n",
              "      <td>26984851472</td>\n",
              "      <td>1</td>\n",
              "      <td>8160430</td>\n",
              "      <td>1</td>\n",
              "      <td>1.50</td>\n",
              "      <td>364</td>\n",
              "      <td>-0.39</td>\n",
              "      <td>1631</td>\n",
              "      <td>1</td>\n",
              "      <td>0.0</td>\n",
              "      <td>0.0</td>\n",
              "    </tr>\n",
              "  </tbody>\n",
              "</table>\n",
              "</div>"
            ],
            "text/plain": [
              "   user_id    basket_id  day  ...  week_no  coupon_disc  coupon_match_disc\n",
              "0     2375  26984851472    1  ...        1          0.0                0.0\n",
              "1     2375  26984851472    1  ...        1          0.0                0.0\n",
              "2     2375  26984851472    1  ...        1          0.0                0.0\n",
              "3     2375  26984851472    1  ...        1          0.0                0.0\n",
              "4     2375  26984851472    1  ...        1          0.0                0.0\n",
              "\n",
              "[5 rows x 12 columns]"
            ]
          },
          "metadata": {
            "tags": []
          },
          "execution_count": 122
        }
      ]
    },
    {
      "cell_type": "code",
      "metadata": {
        "colab": {
          "base_uri": "https://localhost:8080/"
        },
        "id": "EcbqEVpBhzY5",
        "outputId": "3c8326df-e99e-4ce9-fbfc-c28a22dbd12e"
      },
      "source": [
        "to_X_val_lb = df_val_lb.copy(deep = True)  # Берем все пары user-item из модели первого уровня\n",
        "print(to_X_val_lb.shape)\n",
        "\n",
        "items_feats_train_lb_ = items_feats_train_lb[items_feats_train_lb.item_id.isin(to_X_val_lb.item_id.values)]\n",
        "to_X_val_lb = to_X_val_lb.merge(items_feats_train_lb_, on='item_id', how='left')  # Добавляем items_features, натренированные на всем train\n",
        "print(to_X_val_lb.shape)\n",
        "\n",
        "users_feats_train_lb_ = users_feats_train_lb[users_feats_train_lb.user_id.isin(to_X_val_lb.user_id.values)]\n",
        "to_X_val_lb = to_X_val_lb.merge(users_feats_train_lb_, on='user_id', how='left')  # Добавляем users_features, натренированные на всем train\n",
        "print(to_X_val_lb.shape)"
      ],
      "execution_count": null,
      "outputs": [
        {
          "output_type": "stream",
          "text": [
            "(188500, 2)\n",
            "(188500, 13)\n",
            "(190200, 20)\n"
          ],
          "name": "stdout"
        }
      ]
    },
    {
      "cell_type": "markdown",
      "metadata": {
        "id": "2onc38e1jcUr"
      },
      "source": [
        "Прибавились записи по отсутствующему на train юзеру"
      ]
    },
    {
      "cell_type": "code",
      "metadata": {
        "id": "yylD5qupd5KA",
        "colab": {
          "base_uri": "https://localhost:8080/"
        },
        "outputId": "7e07832e-76a1-4083-93a6-839a1dc4c8c8"
      },
      "source": [
        "to_X_val_lb = merge_us_it(data_lb_u.copy(deep=True), hidden_weeks = 3, merge_to_data= to_X_val_lb.copy(deep=True))  # Хотя бля удобства работаем с объединенной таблицей, реально  тест (3 недели) скрыт\n",
        "print(to_X_val_lb.shape)"
      ],
      "execution_count": null,
      "outputs": [
        {
          "output_type": "stream",
          "text": [
            "/usr/local/lib/python3.6/dist-packages/ipykernel_launcher.py:2: SettingWithCopyWarning: \n",
            "A value is trying to be set on a copy of a slice from a DataFrame.\n",
            "Try using .loc[row_indexer,col_indexer] = value instead\n",
            "\n",
            "See the caveats in the documentation: https://pandas.pydata.org/pandas-docs/stable/user_guide/indexing.html#returning-a-view-versus-a-copy\n",
            "  \n",
            "/usr/local/lib/python3.6/dist-packages/ipykernel_launcher.py:5: SettingWithCopyWarning: \n",
            "A value is trying to be set on a copy of a slice from a DataFrame.\n",
            "Try using .loc[row_indexer,col_indexer] = value instead\n",
            "\n",
            "See the caveats in the documentation: https://pandas.pydata.org/pandas-docs/stable/user_guide/indexing.html#returning-a-view-versus-a-copy\n",
            "  \"\"\"\n",
            "/usr/local/lib/python3.6/dist-packages/pandas/core/indexing.py:1763: SettingWithCopyWarning: \n",
            "A value is trying to be set on a copy of a slice from a DataFrame.\n",
            "Try using .loc[row_indexer,col_indexer] = value instead\n",
            "\n",
            "See the caveats in the documentation: https://pandas.pydata.org/pandas-docs/stable/user_guide/indexing.html#returning-a-view-versus-a-copy\n",
            "  isetter(loc, value)\n",
            "/usr/local/lib/python3.6/dist-packages/ipykernel_launcher.py:2: SettingWithCopyWarning: \n",
            "A value is trying to be set on a copy of a slice from a DataFrame.\n",
            "Try using .loc[row_indexer,col_indexer] = value instead\n",
            "\n",
            "See the caveats in the documentation: https://pandas.pydata.org/pandas-docs/stable/user_guide/indexing.html#returning-a-view-versus-a-copy\n",
            "  \n",
            "/usr/local/lib/python3.6/dist-packages/ipykernel_launcher.py:5: SettingWithCopyWarning: \n",
            "A value is trying to be set on a copy of a slice from a DataFrame.\n",
            "Try using .loc[row_indexer,col_indexer] = value instead\n",
            "\n",
            "See the caveats in the documentation: https://pandas.pydata.org/pandas-docs/stable/user_guide/indexing.html#returning-a-view-versus-a-copy\n",
            "  \"\"\"\n",
            "/usr/local/lib/python3.6/dist-packages/pandas/core/indexing.py:1763: SettingWithCopyWarning: \n",
            "A value is trying to be set on a copy of a slice from a DataFrame.\n",
            "Try using .loc[row_indexer,col_indexer] = value instead\n",
            "\n",
            "See the caveats in the documentation: https://pandas.pydata.org/pandas-docs/stable/user_guide/indexing.html#returning-a-view-versus-a-copy\n",
            "  isetter(loc, value)\n"
          ],
          "name": "stderr"
        },
        {
          "output_type": "stream",
          "text": [
            "(190200, 24)\n"
          ],
          "name": "stdout"
        }
      ]
    },
    {
      "cell_type": "code",
      "metadata": {
        "colab": {
          "base_uri": "https://localhost:8080/",
          "height": 195
        },
        "id": "uhiuOJO1aWxN",
        "outputId": "6ec71c78-6253-450d-dd23-7d8b363fb682"
      },
      "source": [
        "targets_val_lb.head()"
      ],
      "execution_count": null,
      "outputs": [
        {
          "output_type": "execute_result",
          "data": {
            "text/html": [
              "<div>\n",
              "<style scoped>\n",
              "    .dataframe tbody tr th:only-of-type {\n",
              "        vertical-align: middle;\n",
              "    }\n",
              "\n",
              "    .dataframe tbody tr th {\n",
              "        vertical-align: top;\n",
              "    }\n",
              "\n",
              "    .dataframe thead th {\n",
              "        text-align: right;\n",
              "    }\n",
              "</style>\n",
              "<table border=\"1\" class=\"dataframe\">\n",
              "  <thead>\n",
              "    <tr style=\"text-align: right;\">\n",
              "      <th></th>\n",
              "      <th>user_id</th>\n",
              "      <th>item_id</th>\n",
              "      <th>target</th>\n",
              "    </tr>\n",
              "  </thead>\n",
              "  <tbody>\n",
              "    <tr>\n",
              "      <th>0</th>\n",
              "      <td>1</td>\n",
              "      <td>880007</td>\n",
              "      <td>1</td>\n",
              "    </tr>\n",
              "    <tr>\n",
              "      <th>1</th>\n",
              "      <td>1</td>\n",
              "      <td>883616</td>\n",
              "      <td>1</td>\n",
              "    </tr>\n",
              "    <tr>\n",
              "      <th>2</th>\n",
              "      <td>1</td>\n",
              "      <td>931136</td>\n",
              "      <td>1</td>\n",
              "    </tr>\n",
              "    <tr>\n",
              "      <th>3</th>\n",
              "      <td>1</td>\n",
              "      <td>938004</td>\n",
              "      <td>1</td>\n",
              "    </tr>\n",
              "    <tr>\n",
              "      <th>4</th>\n",
              "      <td>1</td>\n",
              "      <td>940947</td>\n",
              "      <td>1</td>\n",
              "    </tr>\n",
              "  </tbody>\n",
              "</table>\n",
              "</div>"
            ],
            "text/plain": [
              "   user_id  item_id  target\n",
              "0        1   880007       1\n",
              "1        1   883616       1\n",
              "2        1   931136       1\n",
              "3        1   938004       1\n",
              "4        1   940947       1"
            ]
          },
          "metadata": {
            "tags": []
          },
          "execution_count": 142
        }
      ]
    },
    {
      "cell_type": "code",
      "metadata": {
        "colab": {
          "base_uri": "https://localhost:8080/",
          "height": 215
        },
        "id": "_xXhFT-taZ16",
        "outputId": "c9add6fa-ac00-4573-9e29-7d4fbad3cc43"
      },
      "source": [
        "to_X_val_lb.head()"
      ],
      "execution_count": null,
      "outputs": [
        {
          "output_type": "execute_result",
          "data": {
            "text/html": [
              "<div>\n",
              "<style scoped>\n",
              "    .dataframe tbody tr th:only-of-type {\n",
              "        vertical-align: middle;\n",
              "    }\n",
              "\n",
              "    .dataframe tbody tr th {\n",
              "        vertical-align: top;\n",
              "    }\n",
              "\n",
              "    .dataframe thead th {\n",
              "        text-align: right;\n",
              "    }\n",
              "</style>\n",
              "<table border=\"1\" class=\"dataframe\">\n",
              "  <thead>\n",
              "    <tr style=\"text-align: right;\">\n",
              "      <th></th>\n",
              "      <th>user_id</th>\n",
              "      <th>item_id</th>\n",
              "      <th>frq_itm_store_id</th>\n",
              "      <th>3rw_frq_itm_store_id</th>\n",
              "      <th>qnt_itm_store_id</th>\n",
              "      <th>3rw_qnt_itm_store_id</th>\n",
              "      <th>wly_quantity</th>\n",
              "      <th>3rw_wly_quantity</th>\n",
              "      <th>itm_total_sales_value</th>\n",
              "      <th>3rw_itm_total_sales_value</th>\n",
              "      <th>itm_price</th>\n",
              "      <th>department</th>\n",
              "      <th>brand</th>\n",
              "      <th>basket_quantity</th>\n",
              "      <th>3rw_basket_quantity</th>\n",
              "      <th>total_sales_value</th>\n",
              "      <th>3rw_sales_value</th>\n",
              "      <th>frq_us_store_id</th>\n",
              "      <th>3rw_frq_us_store_id</th>\n",
              "      <th>avg_basket_sum</th>\n",
              "      <th>ui_total_quantity</th>\n",
              "      <th>3rw_ui_quantity</th>\n",
              "      <th>in_3_weeks</th>\n",
              "      <th>in_1_weeks</th>\n",
              "    </tr>\n",
              "  </thead>\n",
              "  <tbody>\n",
              "    <tr>\n",
              "      <th>0</th>\n",
              "      <td>1</td>\n",
              "      <td>1049998</td>\n",
              "      <td>436.0</td>\n",
              "      <td>436.0</td>\n",
              "      <td>21.0</td>\n",
              "      <td>2.0</td>\n",
              "      <td>0.631579</td>\n",
              "      <td>1.000000</td>\n",
              "      <td>1.126737</td>\n",
              "      <td>1.990000</td>\n",
              "      <td>1.784000</td>\n",
              "      <td>DRUG GM</td>\n",
              "      <td>National</td>\n",
              "      <td>16.726316</td>\n",
              "      <td>16.0</td>\n",
              "      <td>41.683263</td>\n",
              "      <td>43.926667</td>\n",
              "      <td>436.0</td>\n",
              "      <td>436.0</td>\n",
              "      <td>2.492077</td>\n",
              "      <td>0.284211</td>\n",
              "      <td>0.666667</td>\n",
              "      <td>1.0</td>\n",
              "      <td>1.0</td>\n",
              "    </tr>\n",
              "    <tr>\n",
              "      <th>1</th>\n",
              "      <td>1</td>\n",
              "      <td>900875</td>\n",
              "      <td>313.0</td>\n",
              "      <td>NaN</td>\n",
              "      <td>16.0</td>\n",
              "      <td>NaN</td>\n",
              "      <td>0.494737</td>\n",
              "      <td>NaN</td>\n",
              "      <td>1.029579</td>\n",
              "      <td>NaN</td>\n",
              "      <td>2.081064</td>\n",
              "      <td>GROCERY</td>\n",
              "      <td>National</td>\n",
              "      <td>16.726316</td>\n",
              "      <td>16.0</td>\n",
              "      <td>41.683263</td>\n",
              "      <td>43.926667</td>\n",
              "      <td>436.0</td>\n",
              "      <td>436.0</td>\n",
              "      <td>2.492077</td>\n",
              "      <td>0.094737</td>\n",
              "      <td>NaN</td>\n",
              "      <td>0.0</td>\n",
              "      <td>0.0</td>\n",
              "    </tr>\n",
              "    <tr>\n",
              "      <th>2</th>\n",
              "      <td>1</td>\n",
              "      <td>1127831</td>\n",
              "      <td>406.0</td>\n",
              "      <td>31862.0</td>\n",
              "      <td>112.0</td>\n",
              "      <td>14.0</td>\n",
              "      <td>79.189474</td>\n",
              "      <td>6.333333</td>\n",
              "      <td>176.237895</td>\n",
              "      <td>27.283333</td>\n",
              "      <td>2.225522</td>\n",
              "      <td>PRODUCE</td>\n",
              "      <td>National</td>\n",
              "      <td>16.726316</td>\n",
              "      <td>16.0</td>\n",
              "      <td>41.683263</td>\n",
              "      <td>43.926667</td>\n",
              "      <td>436.0</td>\n",
              "      <td>436.0</td>\n",
              "      <td>2.492077</td>\n",
              "      <td>NaN</td>\n",
              "      <td>NaN</td>\n",
              "      <td>NaN</td>\n",
              "      <td>NaN</td>\n",
              "    </tr>\n",
              "    <tr>\n",
              "      <th>3</th>\n",
              "      <td>1</td>\n",
              "      <td>852662</td>\n",
              "      <td>436.0</td>\n",
              "      <td>NaN</td>\n",
              "      <td>9.0</td>\n",
              "      <td>NaN</td>\n",
              "      <td>0.431579</td>\n",
              "      <td>NaN</td>\n",
              "      <td>0.678947</td>\n",
              "      <td>NaN</td>\n",
              "      <td>1.573171</td>\n",
              "      <td>DRUG GM</td>\n",
              "      <td>National</td>\n",
              "      <td>16.726316</td>\n",
              "      <td>16.0</td>\n",
              "      <td>41.683263</td>\n",
              "      <td>43.926667</td>\n",
              "      <td>436.0</td>\n",
              "      <td>436.0</td>\n",
              "      <td>2.492077</td>\n",
              "      <td>0.252632</td>\n",
              "      <td>NaN</td>\n",
              "      <td>0.0</td>\n",
              "      <td>0.0</td>\n",
              "    </tr>\n",
              "    <tr>\n",
              "      <th>4</th>\n",
              "      <td>1</td>\n",
              "      <td>1082185</td>\n",
              "      <td>367.0</td>\n",
              "      <td>367.0</td>\n",
              "      <td>113.0</td>\n",
              "      <td>107.0</td>\n",
              "      <td>298.778947</td>\n",
              "      <td>319.666667</td>\n",
              "      <td>287.273895</td>\n",
              "      <td>315.420000</td>\n",
              "      <td>0.961493</td>\n",
              "      <td>PRODUCE</td>\n",
              "      <td>National</td>\n",
              "      <td>16.726316</td>\n",
              "      <td>16.0</td>\n",
              "      <td>41.683263</td>\n",
              "      <td>43.926667</td>\n",
              "      <td>436.0</td>\n",
              "      <td>436.0</td>\n",
              "      <td>2.492077</td>\n",
              "      <td>0.421053</td>\n",
              "      <td>0.333333</td>\n",
              "      <td>1.0</td>\n",
              "      <td>1.0</td>\n",
              "    </tr>\n",
              "  </tbody>\n",
              "</table>\n",
              "</div>"
            ],
            "text/plain": [
              "   user_id  item_id  frq_itm_store_id  ...  3rw_ui_quantity  in_3_weeks  in_1_weeks\n",
              "0        1  1049998             436.0  ...         0.666667         1.0         1.0\n",
              "1        1   900875             313.0  ...              NaN         0.0         0.0\n",
              "2        1  1127831             406.0  ...              NaN         NaN         NaN\n",
              "3        1   852662             436.0  ...              NaN         0.0         0.0\n",
              "4        1  1082185             367.0  ...         0.333333         1.0         1.0\n",
              "\n",
              "[5 rows x 24 columns]"
            ]
          },
          "metadata": {
            "tags": []
          },
          "execution_count": 143
        }
      ]
    },
    {
      "cell_type": "code",
      "metadata": {
        "colab": {
          "base_uri": "https://localhost:8080/"
        },
        "id": "VZpESh57L1Af",
        "outputId": "5e151468-97c7-4223-dba4-22f3c372ca6d"
      },
      "source": [
        "X_val_lb = to_X_val_lb.drop(columns=['user_id', 'item_id'])\n",
        "X_val_lb[cat_feats] = X_val_lb[cat_feats].astype('category')\n",
        "\n",
        "val_preds_lb = lgb.predict_proba(X_val_lb)[:, 1]\n",
        "\n",
        "k = 5\n",
        "data_lb_pred = to_X_val_lb.copy(deep=True)\n",
        "data_lb_pred['predict_proba'] = val_preds_lb\n",
        "data_lb_pred = data_lb_pred[['user_id', 'item_id', 'predict_proba']]\n",
        "users = data_lb_pred['user_id'].unique()\n",
        "val_lvl_2_recommendations_lb = pd.DataFrame(data = {'user_id': users})\n",
        "val_lvl_2_recommendations_lb['candidates'] = 0\n",
        "\n",
        "print(get_lvl_2_reccomendations(2325, data_lb_pred))\n",
        "val_lvl_2_recommendations_lb['candidates'] = val_lvl_2_recommendations_lb['user_id'].apply(lambda x: get_lvl_2_reccomendations(x, data_lb_pred))"
      ],
      "execution_count": null,
      "outputs": [
        {
          "output_type": "stream",
          "text": [
            "[987562, 8090521, 5569230, 1081177, 1070015]\n"
          ],
          "name": "stdout"
        }
      ]
    },
    {
      "cell_type": "code",
      "metadata": {
        "colab": {
          "base_uri": "https://localhost:8080/"
        },
        "id": "XZmfMxkhUCdV",
        "outputId": "f263ab6f-3482-467a-bc29-4e2baf5e5c4e"
      },
      "source": [
        "mean, std = total_precision_at_k_pre(actual_data = actual_data_lb, k=5, recommendations_table=val_lvl_2_recommendations_lb)\n",
        "print(mean, ' +- ', std)"
      ],
      "execution_count": null,
      "outputs": [
        {
          "output_type": "stream",
          "text": [
            "0.32144373673036103  +-  0.2727286755848185\n"
          ],
          "name": "stdout"
        }
      ]
    },
    {
      "cell_type": "markdown",
      "metadata": {
        "id": "NUfZTjt0mBGW"
      },
      "source": [
        "# Результат 32% выше проходного порога. Переучивать модель не будем."
      ]
    },
    {
      "cell_type": "markdown",
      "metadata": {
        "id": "fYaf96Q3mLR2"
      },
      "source": [
        "Весь проект стандартное отклонение было очень большим. Так как задача не включала исследование этого вопроса, оставим пока это за скобками. Но настораживает. "
      ]
    },
    {
      "cell_type": "code",
      "metadata": {
        "id": "Xmp6JrfQmAEk"
      },
      "source": [
        ""
      ],
      "execution_count": null,
      "outputs": []
    },
    {
      "cell_type": "code",
      "metadata": {
        "id": "ezSkuVpDbzxJ",
        "colab": {
          "base_uri": "https://localhost:8080/"
        },
        "outputId": "bd4d0c6e-5035-4cb3-b61e-8d3df42dd88a"
      },
      "source": [
        "val_lvl_2_recommendations_lb.shape"
      ],
      "execution_count": null,
      "outputs": [
        {
          "output_type": "execute_result",
          "data": {
            "text/plain": [
              "(1885, 2)"
            ]
          },
          "metadata": {
            "tags": []
          },
          "execution_count": 147
        }
      ]
    },
    {
      "cell_type": "code",
      "metadata": {
        "colab": {
          "base_uri": "https://localhost:8080/"
        },
        "id": "FHfusA3EX3zC",
        "outputId": "58ddef7c-ae31-4230-f284-abd5889d15cd"
      },
      "source": [
        "data_lb.user_id.nunique()"
      ],
      "execution_count": null,
      "outputs": [
        {
          "output_type": "execute_result",
          "data": {
            "text/plain": [
              "1885"
            ]
          },
          "metadata": {
            "tags": []
          },
          "execution_count": 148
        }
      ]
    },
    {
      "cell_type": "code",
      "metadata": {
        "colab": {
          "base_uri": "https://localhost:8080/",
          "height": 343
        },
        "id": "BsCFCTEQl5UG",
        "outputId": "f138d0e1-67db-4339-8679-fc261f2e920b"
      },
      "source": [
        "val_lvl_2_recommendations_lb.head(10)"
      ],
      "execution_count": null,
      "outputs": [
        {
          "output_type": "execute_result",
          "data": {
            "text/html": [
              "<div>\n",
              "<style scoped>\n",
              "    .dataframe tbody tr th:only-of-type {\n",
              "        vertical-align: middle;\n",
              "    }\n",
              "\n",
              "    .dataframe tbody tr th {\n",
              "        vertical-align: top;\n",
              "    }\n",
              "\n",
              "    .dataframe thead th {\n",
              "        text-align: right;\n",
              "    }\n",
              "</style>\n",
              "<table border=\"1\" class=\"dataframe\">\n",
              "  <thead>\n",
              "    <tr style=\"text-align: right;\">\n",
              "      <th></th>\n",
              "      <th>user_id</th>\n",
              "      <th>candidates</th>\n",
              "    </tr>\n",
              "  </thead>\n",
              "  <tbody>\n",
              "    <tr>\n",
              "      <th>0</th>\n",
              "      <td>1</td>\n",
              "      <td>[995242, 961554, 9297615, 1074612, 1049998]</td>\n",
              "    </tr>\n",
              "    <tr>\n",
              "      <th>1</th>\n",
              "      <td>2</td>\n",
              "      <td>[916122, 1106523, 5569230, 1075368, 1133018]</td>\n",
              "    </tr>\n",
              "    <tr>\n",
              "      <th>2</th>\n",
              "      <td>3</td>\n",
              "      <td>[921345, 1092026, 1053690, 1022003, 1101173]</td>\n",
              "    </tr>\n",
              "    <tr>\n",
              "      <th>3</th>\n",
              "      <td>6</td>\n",
              "      <td>[995242, 948650, 840361, 845208, 1037863]</td>\n",
              "    </tr>\n",
              "    <tr>\n",
              "      <th>4</th>\n",
              "      <td>7</td>\n",
              "      <td>[961554, 860776, 1082185, 1106523, 13112721]</td>\n",
              "    </tr>\n",
              "    <tr>\n",
              "      <th>5</th>\n",
              "      <td>8</td>\n",
              "      <td>[1004906, 893501, 859075, 1005186, 1082185]</td>\n",
              "    </tr>\n",
              "    <tr>\n",
              "      <th>6</th>\n",
              "      <td>9</td>\n",
              "      <td>[995242, 1029743, 1106523, 1082185, 1098066]</td>\n",
              "    </tr>\n",
              "    <tr>\n",
              "      <th>7</th>\n",
              "      <td>10</td>\n",
              "      <td>[1106523, 1113588, 945779, 1012873, 1005186]</td>\n",
              "    </tr>\n",
              "    <tr>\n",
              "      <th>8</th>\n",
              "      <td>13</td>\n",
              "      <td>[1029743, 1082185, 826249, 857736, 951590]</td>\n",
              "    </tr>\n",
              "    <tr>\n",
              "      <th>9</th>\n",
              "      <td>14</td>\n",
              "      <td>[981760, 925205, 902377, 1029743, 1025611]</td>\n",
              "    </tr>\n",
              "  </tbody>\n",
              "</table>\n",
              "</div>"
            ],
            "text/plain": [
              "   user_id                                    candidates\n",
              "0        1   [995242, 961554, 9297615, 1074612, 1049998]\n",
              "1        2  [916122, 1106523, 5569230, 1075368, 1133018]\n",
              "2        3  [921345, 1092026, 1053690, 1022003, 1101173]\n",
              "3        6     [995242, 948650, 840361, 845208, 1037863]\n",
              "4        7  [961554, 860776, 1082185, 1106523, 13112721]\n",
              "5        8   [1004906, 893501, 859075, 1005186, 1082185]\n",
              "6        9  [995242, 1029743, 1106523, 1082185, 1098066]\n",
              "7       10  [1106523, 1113588, 945779, 1012873, 1005186]\n",
              "8       13    [1029743, 1082185, 826249, 857736, 951590]\n",
              "9       14    [981760, 925205, 902377, 1029743, 1025611]"
            ]
          },
          "metadata": {
            "tags": []
          },
          "execution_count": 149
        }
      ]
    },
    {
      "cell_type": "code",
      "metadata": {
        "id": "pSFZsNEql65y"
      },
      "source": [
        "val_lvl_2_recommendations_lb.to_csv(OBJECTS_PATH + 'test_recommendations.csv')"
      ],
      "execution_count": null,
      "outputs": []
    },
    {
      "cell_type": "code",
      "metadata": {
        "colab": {
          "base_uri": "https://localhost:8080/",
          "height": 35
        },
        "id": "vCKdblsOmwFo",
        "outputId": "67a370eb-0039-4ac3-8a92-bfdc71e51a8e"
      },
      "source": [
        "save_obj(val_lvl_2_recommendations_lb, 'test_recommendations')"
      ],
      "execution_count": null,
      "outputs": [
        {
          "output_type": "execute_result",
          "data": {
            "application/vnd.google.colaboratory.intrinsic+json": {
              "type": "string"
            },
            "text/plain": [
              "'gdrive/My Drive/AI/GB/RecSys/capstone/objects/test_recommendations.pkl'"
            ]
          },
          "metadata": {
            "tags": []
          },
          "execution_count": 151
        }
      ]
    },
    {
      "cell_type": "code",
      "metadata": {
        "id": "d8_PAdCam4JY"
      },
      "source": [
        ""
      ],
      "execution_count": null,
      "outputs": []
    }
  ]
}